{
 "cells": [
  {
   "cell_type": "markdown",
   "metadata": {},
   "source": [
    "# Lab 8 – Distances and PCA\n",
    "\n",
    "Name 1: Jimmy Pronchick  \n",
    "\n",
    "Class: CSCI 349 - Intro to Data Mining  \n",
    "Semester: Spring 2023\n",
    "Due: Monday, Feb. 20\n",
    "Instructor: Brian King"
   ]
  },
  {
   "cell_type": "markdown",
   "metadata": {},
   "source": [
    "\n",
    "# Objectives\n",
    "* Practice more `pandas`\n",
    "* Use chi-squared test to evaluate two categorical variables for independence\n",
    "* Learn about implementing distance matrices\n",
    "* Learn how to employ PCA\n",
    "* A bit more with visualizations\n",
    "\n",
    "# Partnerships\n",
    "I'm encouraging you to consider working with a partner. It's not required yet, but you are strongly encouraged to do so. If the material is complex to you, talking out what you are doing with a partner can have tremendous benefits. And, if you do, both partners must be listed in the top cell above.\n",
    "\n",
    "# Directions\n",
    "Work through this lab, and enter the answers to questions that are scattered throughout this lab. It is quite likely you'll need to add additional imports as you work through the lab. Just add them to the top cell if you use them. Most expected imports are added for you already.\n",
    "\n"
   ]
  },
  {
   "cell_type": "code",
   "execution_count": 83,
   "metadata": {},
   "outputs": [],
   "source": [
    "import numpy as np\n",
    "import pandas as pd\n",
    "import matplotlib as mpl\n",
    "import matplotlib.pyplot as plt\n",
    "import seaborn as sns\n",
    "from scipy.spatial.distance import pdist, squareform\n",
    "import scipy.stats as stats\n",
    "import plotly.express as px\n",
    "from scipy.stats import zscore\n",
    "from sklearn.metrics import pairwise_distances\n",
    "from sklearn.decomposition import PCA\n",
    "from sklearn.preprocessing import MinMaxScaler\n"
   ]
  },
  {
   "cell_type": "markdown",
   "metadata": {},
   "source": [
    "---\n",
    "**1)**\t[P] Set up a pandas data frame with the following 8 observations and 3 variables.\n",
    "\n",
    "```\n",
    "   test1      test2  test3\n",
    "A0     A  excellent     25\n",
    "A1     C       fair     32\n",
    "A2     C       good     60\n",
    "A3     B       fair     53\n",
    "A4     A       poor     23\n",
    "A5     B  excellent     37\n",
    "A6     C       good     45\n",
    "A7     B       good     49\n",
    "```\n",
    "\n",
    "Be sure to set the types of each variable as follows:\n",
    "* `test1`: Nominal, levels = { \"A\", \"B\", C\" }\n",
    "* `test2`: Ordinal, levels = { \"poor\", \"fair\", \"good\", \"excellent\" }\n",
    "* `test3`: Numeric\n",
    "\n",
    "Use `pd.Categorical` for the nominal and ordinal variables (and pay attention to the `ordered` parameter.) Name the data frame `df`. Set the `index` correctly to match the row names in the table above.\n",
    "\n",
    "Display the `df` data frame, and then show the output of `df.info()` to show the type of each variable in `df`."
   ]
  },
  {
   "cell_type": "code",
   "execution_count": 84,
   "metadata": {},
   "outputs": [
    {
     "name": "stdout",
     "output_type": "stream",
     "text": [
      "<class 'pandas.core.frame.DataFrame'>\n",
      "Index: 8 entries, A0 to A7\n",
      "Data columns (total 3 columns):\n",
      " #   Column  Non-Null Count  Dtype   \n",
      "---  ------  --------------  -----   \n",
      " 0   test1   8 non-null      category\n",
      " 1   test2   8 non-null      category\n",
      " 2   test3   8 non-null      int8    \n",
      "dtypes: category(2), int8(1)\n",
      "memory usage: 424.0+ bytes\n"
     ]
    },
    {
     "data": {
      "text/html": [
       "<div>\n",
       "<style scoped>\n",
       "    .dataframe tbody tr th:only-of-type {\n",
       "        vertical-align: middle;\n",
       "    }\n",
       "\n",
       "    .dataframe tbody tr th {\n",
       "        vertical-align: top;\n",
       "    }\n",
       "\n",
       "    .dataframe thead th {\n",
       "        text-align: right;\n",
       "    }\n",
       "</style>\n",
       "<table border=\"1\" class=\"dataframe\">\n",
       "  <thead>\n",
       "    <tr style=\"text-align: right;\">\n",
       "      <th></th>\n",
       "      <th>test1</th>\n",
       "      <th>test2</th>\n",
       "      <th>test3</th>\n",
       "    </tr>\n",
       "  </thead>\n",
       "  <tbody>\n",
       "    <tr>\n",
       "      <th>A0</th>\n",
       "      <td>A</td>\n",
       "      <td>excellent</td>\n",
       "      <td>25</td>\n",
       "    </tr>\n",
       "    <tr>\n",
       "      <th>A1</th>\n",
       "      <td>C</td>\n",
       "      <td>fair</td>\n",
       "      <td>32</td>\n",
       "    </tr>\n",
       "    <tr>\n",
       "      <th>A2</th>\n",
       "      <td>C</td>\n",
       "      <td>good</td>\n",
       "      <td>60</td>\n",
       "    </tr>\n",
       "    <tr>\n",
       "      <th>A3</th>\n",
       "      <td>B</td>\n",
       "      <td>fair</td>\n",
       "      <td>53</td>\n",
       "    </tr>\n",
       "    <tr>\n",
       "      <th>A4</th>\n",
       "      <td>A</td>\n",
       "      <td>poor</td>\n",
       "      <td>23</td>\n",
       "    </tr>\n",
       "    <tr>\n",
       "      <th>A5</th>\n",
       "      <td>B</td>\n",
       "      <td>excellent</td>\n",
       "      <td>37</td>\n",
       "    </tr>\n",
       "    <tr>\n",
       "      <th>A6</th>\n",
       "      <td>C</td>\n",
       "      <td>good</td>\n",
       "      <td>45</td>\n",
       "    </tr>\n",
       "    <tr>\n",
       "      <th>A7</th>\n",
       "      <td>B</td>\n",
       "      <td>good</td>\n",
       "      <td>49</td>\n",
       "    </tr>\n",
       "  </tbody>\n",
       "</table>\n",
       "</div>"
      ],
      "text/plain": [
       "   test1      test2  test3\n",
       "A0     A  excellent     25\n",
       "A1     C       fair     32\n",
       "A2     C       good     60\n",
       "A3     B       fair     53\n",
       "A4     A       poor     23\n",
       "A5     B  excellent     37\n",
       "A6     C       good     45\n",
       "A7     B       good     49"
      ]
     },
     "execution_count": 84,
     "metadata": {},
     "output_type": "execute_result"
    }
   ],
   "source": [
    "# ANSWER\n",
    "\n",
    "df = pd.DataFrame({\"test1\":pd.Categorical(['A','C','C','B','A','B','C','B'],categories=['A','B','C']),\n",
    "                  'test2':pd.Categorical(['excellent','fair','good','fair','poor','excellent','good','good'],\n",
    "                                          categories=['poor','fair','good','excellent'],ordered=True),\n",
    "                  'test3':pd.to_numeric([25,32,60,53,23,37,45,49],downcast='integer')},\n",
    "                  index=['A0','A1','A2','A3','A4','A5','A6','A7'])\n",
    "df.info()\n",
    "df"
   ]
  },
  {
   "cell_type": "markdown",
   "metadata": {},
   "source": [
    "---\n",
    "**2)**\t[MP] Show the output of `df.describe(include='all')`. What does the `include='all'` parameter do?"
   ]
  },
  {
   "cell_type": "code",
   "execution_count": 85,
   "metadata": {},
   "outputs": [
    {
     "data": {
      "text/html": [
       "<div>\n",
       "<style scoped>\n",
       "    .dataframe tbody tr th:only-of-type {\n",
       "        vertical-align: middle;\n",
       "    }\n",
       "\n",
       "    .dataframe tbody tr th {\n",
       "        vertical-align: top;\n",
       "    }\n",
       "\n",
       "    .dataframe thead th {\n",
       "        text-align: right;\n",
       "    }\n",
       "</style>\n",
       "<table border=\"1\" class=\"dataframe\">\n",
       "  <thead>\n",
       "    <tr style=\"text-align: right;\">\n",
       "      <th></th>\n",
       "      <th>test1</th>\n",
       "      <th>test2</th>\n",
       "      <th>test3</th>\n",
       "    </tr>\n",
       "  </thead>\n",
       "  <tbody>\n",
       "    <tr>\n",
       "      <th>count</th>\n",
       "      <td>8</td>\n",
       "      <td>8</td>\n",
       "      <td>8.000000</td>\n",
       "    </tr>\n",
       "    <tr>\n",
       "      <th>unique</th>\n",
       "      <td>3</td>\n",
       "      <td>4</td>\n",
       "      <td>NaN</td>\n",
       "    </tr>\n",
       "    <tr>\n",
       "      <th>top</th>\n",
       "      <td>B</td>\n",
       "      <td>good</td>\n",
       "      <td>NaN</td>\n",
       "    </tr>\n",
       "    <tr>\n",
       "      <th>freq</th>\n",
       "      <td>3</td>\n",
       "      <td>3</td>\n",
       "      <td>NaN</td>\n",
       "    </tr>\n",
       "    <tr>\n",
       "      <th>mean</th>\n",
       "      <td>NaN</td>\n",
       "      <td>NaN</td>\n",
       "      <td>40.500000</td>\n",
       "    </tr>\n",
       "    <tr>\n",
       "      <th>std</th>\n",
       "      <td>NaN</td>\n",
       "      <td>NaN</td>\n",
       "      <td>13.416408</td>\n",
       "    </tr>\n",
       "    <tr>\n",
       "      <th>min</th>\n",
       "      <td>NaN</td>\n",
       "      <td>NaN</td>\n",
       "      <td>23.000000</td>\n",
       "    </tr>\n",
       "    <tr>\n",
       "      <th>25%</th>\n",
       "      <td>NaN</td>\n",
       "      <td>NaN</td>\n",
       "      <td>30.250000</td>\n",
       "    </tr>\n",
       "    <tr>\n",
       "      <th>50%</th>\n",
       "      <td>NaN</td>\n",
       "      <td>NaN</td>\n",
       "      <td>41.000000</td>\n",
       "    </tr>\n",
       "    <tr>\n",
       "      <th>75%</th>\n",
       "      <td>NaN</td>\n",
       "      <td>NaN</td>\n",
       "      <td>50.000000</td>\n",
       "    </tr>\n",
       "    <tr>\n",
       "      <th>max</th>\n",
       "      <td>NaN</td>\n",
       "      <td>NaN</td>\n",
       "      <td>60.000000</td>\n",
       "    </tr>\n",
       "  </tbody>\n",
       "</table>\n",
       "</div>"
      ],
      "text/plain": [
       "       test1 test2      test3\n",
       "count      8     8   8.000000\n",
       "unique     3     4        NaN\n",
       "top        B  good        NaN\n",
       "freq       3     3        NaN\n",
       "mean     NaN   NaN  40.500000\n",
       "std      NaN   NaN  13.416408\n",
       "min      NaN   NaN  23.000000\n",
       "25%      NaN   NaN  30.250000\n",
       "50%      NaN   NaN  41.000000\n",
       "75%      NaN   NaN  50.000000\n",
       "max      NaN   NaN  60.000000"
      ]
     },
     "execution_count": 85,
     "metadata": {},
     "output_type": "execute_result"
    }
   ],
   "source": [
    "# ANSWER\n",
    "df.describe(include='all')\n"
   ]
  },
  {
   "cell_type": "markdown",
   "metadata": {},
   "source": [
    "**ANSWER:**\n",
    "setting include all for describe() also gives descriptions of the categorical variables.\n"
   ]
  },
  {
   "cell_type": "markdown",
   "metadata": {},
   "source": [
    "---\n",
    "**3)**\t[PM] Show the output of `df.test1.cat.categories`, and `df.test2.cat.categories`. What is this showing? Does it work for `df.test3.cat.categories`?"
   ]
  },
  {
   "cell_type": "code",
   "execution_count": 86,
   "metadata": {},
   "outputs": [
    {
     "data": {
      "text/plain": [
       "Index(['A', 'B', 'C'], dtype='object')"
      ]
     },
     "execution_count": 86,
     "metadata": {},
     "output_type": "execute_result"
    }
   ],
   "source": [
    "# ANSWER\n",
    "df.test1.cat.categories\n"
   ]
  },
  {
   "cell_type": "code",
   "execution_count": 87,
   "metadata": {},
   "outputs": [
    {
     "data": {
      "text/plain": [
       "Index(['poor', 'fair', 'good', 'excellent'], dtype='object')"
      ]
     },
     "execution_count": 87,
     "metadata": {},
     "output_type": "execute_result"
    }
   ],
   "source": [
    "df.test2.cat.categories\n",
    "# df.test3.cat.categories"
   ]
  },
  {
   "cell_type": "markdown",
   "metadata": {},
   "source": [
    "**ANSWER:** .cat.categories shows a list of the categories for a categorical. Test3 is not categorical so it cannot be accessed with .cat.\n"
   ]
  },
  {
   "cell_type": "markdown",
   "metadata": {},
   "source": [
    "---\n",
    "**4)**\t[PM] Show the output of `df.test1.cat.codes`, and `df.test2.cat.codes`. What is this showing?"
   ]
  },
  {
   "cell_type": "code",
   "execution_count": 88,
   "metadata": {},
   "outputs": [
    {
     "data": {
      "text/plain": [
       "A0    0\n",
       "A1    2\n",
       "A2    2\n",
       "A3    1\n",
       "A4    0\n",
       "A5    1\n",
       "A6    2\n",
       "A7    1\n",
       "dtype: int8"
      ]
     },
     "execution_count": 88,
     "metadata": {},
     "output_type": "execute_result"
    }
   ],
   "source": [
    "# ANSWER\n",
    "df.test1.cat.codes"
   ]
  },
  {
   "cell_type": "code",
   "execution_count": 89,
   "metadata": {},
   "outputs": [
    {
     "data": {
      "text/plain": [
       "A0    3\n",
       "A1    1\n",
       "A2    2\n",
       "A3    1\n",
       "A4    0\n",
       "A5    3\n",
       "A6    2\n",
       "A7    2\n",
       "dtype: int8"
      ]
     },
     "execution_count": 89,
     "metadata": {},
     "output_type": "execute_result"
    }
   ],
   "source": [
    "df.test2.cat.codes"
   ]
  },
  {
   "cell_type": "markdown",
   "metadata": {},
   "source": [
    "**ANSWER:**\n",
    ".cat.codes is showing the numeric order the categories are mapped to for each observation\n"
   ]
  },
  {
   "cell_type": "markdown",
   "metadata": {},
   "source": [
    "---\n",
    "**5)** [P] Report the counts of each level of the categorical variables."
   ]
  },
  {
   "cell_type": "code",
   "execution_count": 90,
   "metadata": {},
   "outputs": [
    {
     "data": {
      "text/plain": [
       "2    3\n",
       "1    3\n",
       "0    2\n",
       "dtype: int64"
      ]
     },
     "execution_count": 90,
     "metadata": {},
     "output_type": "execute_result"
    }
   ],
   "source": [
    "# ANSWER\n",
    "df.test1.cat.codes.value_counts()"
   ]
  },
  {
   "cell_type": "code",
   "execution_count": 91,
   "metadata": {},
   "outputs": [
    {
     "data": {
      "text/plain": [
       "2    3\n",
       "3    2\n",
       "1    2\n",
       "0    1\n",
       "dtype: int64"
      ]
     },
     "execution_count": 91,
     "metadata": {},
     "output_type": "execute_result"
    }
   ],
   "source": [
    "df.test2.cat.codes.value_counts()"
   ]
  },
  {
   "cell_type": "markdown",
   "metadata": {},
   "source": [
    "---\n",
    "**6)** [P] Report a cross tabulation (i.e. contingency table) between `test1` and `test2`. Include the margins (i.e. the sum of the rows and the columns) in your reported table (HINT: Look up pandas `crosstab()` function).\n",
    "\n",
    "Your results should look something like this:\n",
    "\n",
    "```\n",
    "test2  poor  fair  good  excellent  All\n",
    "test1\n",
    "A         1     0     0          1    2\n",
    "B         0     1     1          1    3\n",
    "C         0     1     2          0    3\n",
    "All       1     2     3          2    8\n",
    "```\n"
   ]
  },
  {
   "cell_type": "code",
   "execution_count": 92,
   "metadata": {},
   "outputs": [
    {
     "data": {
      "text/html": [
       "<div>\n",
       "<style scoped>\n",
       "    .dataframe tbody tr th:only-of-type {\n",
       "        vertical-align: middle;\n",
       "    }\n",
       "\n",
       "    .dataframe tbody tr th {\n",
       "        vertical-align: top;\n",
       "    }\n",
       "\n",
       "    .dataframe thead th {\n",
       "        text-align: right;\n",
       "    }\n",
       "</style>\n",
       "<table border=\"1\" class=\"dataframe\">\n",
       "  <thead>\n",
       "    <tr style=\"text-align: right;\">\n",
       "      <th>test2</th>\n",
       "      <th>poor</th>\n",
       "      <th>fair</th>\n",
       "      <th>good</th>\n",
       "      <th>excellent</th>\n",
       "      <th>All</th>\n",
       "    </tr>\n",
       "    <tr>\n",
       "      <th>test1</th>\n",
       "      <th></th>\n",
       "      <th></th>\n",
       "      <th></th>\n",
       "      <th></th>\n",
       "      <th></th>\n",
       "    </tr>\n",
       "  </thead>\n",
       "  <tbody>\n",
       "    <tr>\n",
       "      <th>A</th>\n",
       "      <td>1</td>\n",
       "      <td>0</td>\n",
       "      <td>0</td>\n",
       "      <td>1</td>\n",
       "      <td>2</td>\n",
       "    </tr>\n",
       "    <tr>\n",
       "      <th>B</th>\n",
       "      <td>0</td>\n",
       "      <td>1</td>\n",
       "      <td>1</td>\n",
       "      <td>1</td>\n",
       "      <td>3</td>\n",
       "    </tr>\n",
       "    <tr>\n",
       "      <th>C</th>\n",
       "      <td>0</td>\n",
       "      <td>1</td>\n",
       "      <td>2</td>\n",
       "      <td>0</td>\n",
       "      <td>3</td>\n",
       "    </tr>\n",
       "    <tr>\n",
       "      <th>All</th>\n",
       "      <td>1</td>\n",
       "      <td>2</td>\n",
       "      <td>3</td>\n",
       "      <td>2</td>\n",
       "      <td>8</td>\n",
       "    </tr>\n",
       "  </tbody>\n",
       "</table>\n",
       "</div>"
      ],
      "text/plain": [
       "test2  poor  fair  good  excellent  All\n",
       "test1                                  \n",
       "A         1     0     0          1    2\n",
       "B         0     1     1          1    3\n",
       "C         0     1     2          0    3\n",
       "All       1     2     3          2    8"
      ]
     },
     "execution_count": 92,
     "metadata": {},
     "output_type": "execute_result"
    }
   ],
   "source": [
    "# ANSWER\n",
    "\n",
    "pd.crosstab(df.test1,df.test2,margins=True)\n"
   ]
  },
  {
   "cell_type": "markdown",
   "metadata": {},
   "source": [
    "---\n",
    "**7)** [P] From the previous table, store the contingency table without the margins in a variable called `observed`"
   ]
  },
  {
   "cell_type": "code",
   "execution_count": 93,
   "metadata": {},
   "outputs": [
    {
     "data": {
      "text/html": [
       "<div>\n",
       "<style scoped>\n",
       "    .dataframe tbody tr th:only-of-type {\n",
       "        vertical-align: middle;\n",
       "    }\n",
       "\n",
       "    .dataframe tbody tr th {\n",
       "        vertical-align: top;\n",
       "    }\n",
       "\n",
       "    .dataframe thead th {\n",
       "        text-align: right;\n",
       "    }\n",
       "</style>\n",
       "<table border=\"1\" class=\"dataframe\">\n",
       "  <thead>\n",
       "    <tr style=\"text-align: right;\">\n",
       "      <th>test2</th>\n",
       "      <th>poor</th>\n",
       "      <th>fair</th>\n",
       "      <th>good</th>\n",
       "      <th>excellent</th>\n",
       "    </tr>\n",
       "    <tr>\n",
       "      <th>test1</th>\n",
       "      <th></th>\n",
       "      <th></th>\n",
       "      <th></th>\n",
       "      <th></th>\n",
       "    </tr>\n",
       "  </thead>\n",
       "  <tbody>\n",
       "    <tr>\n",
       "      <th>A</th>\n",
       "      <td>1</td>\n",
       "      <td>0</td>\n",
       "      <td>0</td>\n",
       "      <td>1</td>\n",
       "    </tr>\n",
       "    <tr>\n",
       "      <th>B</th>\n",
       "      <td>0</td>\n",
       "      <td>1</td>\n",
       "      <td>1</td>\n",
       "      <td>1</td>\n",
       "    </tr>\n",
       "    <tr>\n",
       "      <th>C</th>\n",
       "      <td>0</td>\n",
       "      <td>1</td>\n",
       "      <td>2</td>\n",
       "      <td>0</td>\n",
       "    </tr>\n",
       "  </tbody>\n",
       "</table>\n",
       "</div>"
      ],
      "text/plain": [
       "test2  poor  fair  good  excellent\n",
       "test1                             \n",
       "A         1     0     0          1\n",
       "B         0     1     1          1\n",
       "C         0     1     2          0"
      ]
     },
     "execution_count": 93,
     "metadata": {},
     "output_type": "execute_result"
    }
   ],
   "source": [
    "# ANSWER\n",
    "observed = pd.crosstab(df.test1,df.test2)\n",
    "observed\n"
   ]
  },
  {
   "cell_type": "markdown",
   "metadata": {},
   "source": [
    "---\n",
    "**8)** [P] Run a chi-squared test for independence using the contingency table from the previous step. Clearly report the chi2 statistic, the p value, and the degrees of freedom, and then use the p-value to clearly state whether `test1` and `test2` are independent in your Python code (no markdown)."
   ]
  },
  {
   "cell_type": "code",
   "execution_count": 94,
   "metadata": {},
   "outputs": [
    {
     "name": "stdout",
     "output_type": "stream",
     "text": [
      "chi2: 6.444\n",
      "p: 0.375\n",
      "dof: 6\n",
      "p=0.375 test1 and test are independent\n"
     ]
    }
   ],
   "source": [
    "# ANSWER\n",
    "c, p, dof, expected=stats.chi2_contingency(observed)\n",
    "print(\"chi2: {:.3f}\\np: {:.3f}\\ndof: {}\".format(c,p,dof))\n",
    "print(\"p={:.3f} test1 and test are independent\".format(p))"
   ]
  },
  {
   "cell_type": "markdown",
   "metadata": {},
   "source": [
    "---\n",
    "Now, you're going to explore some similarities between observations. Yes, this is a SMALL dataset! (Don't bother to explore large data until you can understand how they work on small, toy experimental data!)\n",
    "\n",
    "Before you can compute a pairwise distance matrix to report the distance between all pairs of observations, always remember that **you can only compute distances between strictly numeric data.** Therefore, you must convert your data to numeric types for ALL variables you want to include in your distance metric."
   ]
  },
  {
   "cell_type": "markdown",
   "metadata": {},
   "source": [
    "---\n",
    "**9)** Create a new data frame called `df_num` that represents a numeric version of the above. Do NOT do any rescaling of your variables yet!\n",
    "\n",
    "NOTE: If you do this from a dataframe that has the categorical variables set up properly, then this step is simple to do. The two choices I generally follow are either:\n",
    "\n",
    "   1. use the cat member of your categorical data, which stores a `CategoricalAccessor` object (look it up), or\n",
    "   2. use one of the encoders in the `sklearn.preprocessing` module.\n",
    "\n",
    "The first option is easier, and yet another reason why it's so important to take the time to preprocess your data as correctly and error-free as possible.\n",
    "\n",
    "If you do it correctly, your resulting dataframe should look something like this:\n",
    "```\n",
    "    test1  test2  test3\n",
    "A0      0      3     25\n",
    "A1      2      1     32\n",
    "A2      2      2     60\n",
    "A3      1      1     53\n",
    "A4      0      0     23\n",
    "A5      1      3     37\n",
    "A6      2      2     45\n",
    "A7      1      2     49\n",
    "```"
   ]
  },
  {
   "cell_type": "code",
   "execution_count": 95,
   "metadata": {},
   "outputs": [
    {
     "data": {
      "text/html": [
       "<div>\n",
       "<style scoped>\n",
       "    .dataframe tbody tr th:only-of-type {\n",
       "        vertical-align: middle;\n",
       "    }\n",
       "\n",
       "    .dataframe tbody tr th {\n",
       "        vertical-align: top;\n",
       "    }\n",
       "\n",
       "    .dataframe thead th {\n",
       "        text-align: right;\n",
       "    }\n",
       "</style>\n",
       "<table border=\"1\" class=\"dataframe\">\n",
       "  <thead>\n",
       "    <tr style=\"text-align: right;\">\n",
       "      <th></th>\n",
       "      <th>test1</th>\n",
       "      <th>test2</th>\n",
       "      <th>test3</th>\n",
       "    </tr>\n",
       "  </thead>\n",
       "  <tbody>\n",
       "    <tr>\n",
       "      <th>A0</th>\n",
       "      <td>0</td>\n",
       "      <td>3</td>\n",
       "      <td>25</td>\n",
       "    </tr>\n",
       "    <tr>\n",
       "      <th>A1</th>\n",
       "      <td>2</td>\n",
       "      <td>1</td>\n",
       "      <td>32</td>\n",
       "    </tr>\n",
       "    <tr>\n",
       "      <th>A2</th>\n",
       "      <td>2</td>\n",
       "      <td>2</td>\n",
       "      <td>60</td>\n",
       "    </tr>\n",
       "    <tr>\n",
       "      <th>A3</th>\n",
       "      <td>1</td>\n",
       "      <td>1</td>\n",
       "      <td>53</td>\n",
       "    </tr>\n",
       "    <tr>\n",
       "      <th>A4</th>\n",
       "      <td>0</td>\n",
       "      <td>0</td>\n",
       "      <td>23</td>\n",
       "    </tr>\n",
       "    <tr>\n",
       "      <th>A5</th>\n",
       "      <td>1</td>\n",
       "      <td>3</td>\n",
       "      <td>37</td>\n",
       "    </tr>\n",
       "    <tr>\n",
       "      <th>A6</th>\n",
       "      <td>2</td>\n",
       "      <td>2</td>\n",
       "      <td>45</td>\n",
       "    </tr>\n",
       "    <tr>\n",
       "      <th>A7</th>\n",
       "      <td>1</td>\n",
       "      <td>2</td>\n",
       "      <td>49</td>\n",
       "    </tr>\n",
       "  </tbody>\n",
       "</table>\n",
       "</div>"
      ],
      "text/plain": [
       "    test1  test2  test3\n",
       "A0      0      3     25\n",
       "A1      2      1     32\n",
       "A2      2      2     60\n",
       "A3      1      1     53\n",
       "A4      0      0     23\n",
       "A5      1      3     37\n",
       "A6      2      2     45\n",
       "A7      1      2     49"
      ]
     },
     "execution_count": 95,
     "metadata": {},
     "output_type": "execute_result"
    }
   ],
   "source": [
    "# ANSWER\n",
    "\n",
    "df_num = pd.DataFrame({'test1':df.test1.cat.codes,'test2':df.test2.cat.codes,'test3':df.test3},index=df.index)\n",
    "df_num\n",
    "\n"
   ]
  },
  {
   "cell_type": "markdown",
   "metadata": {},
   "source": [
    "---\n",
    "**10)** [P] As you learned in lecture, you absolutely must rescale your data to fall on a similar scale for most methods to be meaningful. There are different approaches to doing so. A standardized zscore is among the most common, but not necessarily always the best approach, especially when you are dealing with numeric representations of true categorical data. Rescaling your data to all fall between 0 and 1 is also a common approach, particularly when you have categorical data.\n",
    "\n",
    "Let's first try to rescale our data to all fall between the values of 0 and 1. Use the `MinMaxScaler` in `sklearn.preprocessing` to rescale all variables to fall between 0 and 1. Store the transformed data as a pandas data frame called `df_num_zeroone`. Your result should look as follows:\n",
    "\n",
    "```\n",
    "    test1     test2     test3\n",
    "A0    0.0  1.000000  0.054054\n",
    "A1    1.0  0.333333  0.243243\n",
    "A2    1.0  0.666667  1.000000\n",
    "A3    0.5  0.333333  0.810811\n",
    "A4    0.0  0.000000  0.000000\n",
    "A5    0.5  1.000000  0.378378\n",
    "A6    1.0  0.666667  0.594595\n",
    "A7    0.5  0.666667  0.702703\n",
    "```\n",
    "\n"
   ]
  },
  {
   "cell_type": "code",
   "execution_count": 96,
   "metadata": {},
   "outputs": [
    {
     "data": {
      "text/html": [
       "<div>\n",
       "<style scoped>\n",
       "    .dataframe tbody tr th:only-of-type {\n",
       "        vertical-align: middle;\n",
       "    }\n",
       "\n",
       "    .dataframe tbody tr th {\n",
       "        vertical-align: top;\n",
       "    }\n",
       "\n",
       "    .dataframe thead th {\n",
       "        text-align: right;\n",
       "    }\n",
       "</style>\n",
       "<table border=\"1\" class=\"dataframe\">\n",
       "  <thead>\n",
       "    <tr style=\"text-align: right;\">\n",
       "      <th></th>\n",
       "      <th>test1</th>\n",
       "      <th>test2</th>\n",
       "      <th>test3</th>\n",
       "    </tr>\n",
       "  </thead>\n",
       "  <tbody>\n",
       "    <tr>\n",
       "      <th>A0</th>\n",
       "      <td>0.0</td>\n",
       "      <td>1.000000</td>\n",
       "      <td>0.054054</td>\n",
       "    </tr>\n",
       "    <tr>\n",
       "      <th>A1</th>\n",
       "      <td>1.0</td>\n",
       "      <td>0.333333</td>\n",
       "      <td>0.243243</td>\n",
       "    </tr>\n",
       "    <tr>\n",
       "      <th>A2</th>\n",
       "      <td>1.0</td>\n",
       "      <td>0.666667</td>\n",
       "      <td>1.000000</td>\n",
       "    </tr>\n",
       "    <tr>\n",
       "      <th>A3</th>\n",
       "      <td>0.5</td>\n",
       "      <td>0.333333</td>\n",
       "      <td>0.810811</td>\n",
       "    </tr>\n",
       "    <tr>\n",
       "      <th>A4</th>\n",
       "      <td>0.0</td>\n",
       "      <td>0.000000</td>\n",
       "      <td>0.000000</td>\n",
       "    </tr>\n",
       "    <tr>\n",
       "      <th>A5</th>\n",
       "      <td>0.5</td>\n",
       "      <td>1.000000</td>\n",
       "      <td>0.378378</td>\n",
       "    </tr>\n",
       "    <tr>\n",
       "      <th>A6</th>\n",
       "      <td>1.0</td>\n",
       "      <td>0.666667</td>\n",
       "      <td>0.594595</td>\n",
       "    </tr>\n",
       "    <tr>\n",
       "      <th>A7</th>\n",
       "      <td>0.5</td>\n",
       "      <td>0.666667</td>\n",
       "      <td>0.702703</td>\n",
       "    </tr>\n",
       "  </tbody>\n",
       "</table>\n",
       "</div>"
      ],
      "text/plain": [
       "    test1     test2     test3\n",
       "A0    0.0  1.000000  0.054054\n",
       "A1    1.0  0.333333  0.243243\n",
       "A2    1.0  0.666667  1.000000\n",
       "A3    0.5  0.333333  0.810811\n",
       "A4    0.0  0.000000  0.000000\n",
       "A5    0.5  1.000000  0.378378\n",
       "A6    1.0  0.666667  0.594595\n",
       "A7    0.5  0.666667  0.702703"
      ]
     },
     "execution_count": 96,
     "metadata": {},
     "output_type": "execute_result"
    }
   ],
   "source": [
    "# ANSWER\n",
    "\n",
    "scaler=MinMaxScaler()\n",
    "\n",
    "df_num_zeroone = pd.DataFrame(scaler.fit_transform(df_num),index=df.index)\n",
    "df_num_zeroone.rename(columns={0: \"test1\", 1: \"test2\", 2: \"test3\"},inplace=True)\n",
    "df_num_zeroone"
   ]
  },
  {
   "cell_type": "markdown",
   "metadata": {},
   "source": [
    "---\n",
    "**11)**\tNotice the value of `test3`. It's OK, but there are times we have solid knowledge of what we expect our range to be. We can (and usually should) rescale our data using that knowledge. In the case of `test3`, suppose that you learned that the data must fall between 0 and 100.\n",
    "\n",
    "Reassign `test3` so that the min and max before rescaling are assuming to be between 0 and 100, respectively. (i.e. simply divide the original variable by 100!)"
   ]
  },
  {
   "cell_type": "code",
   "execution_count": 97,
   "metadata": {},
   "outputs": [
    {
     "data": {
      "text/html": [
       "<div>\n",
       "<style scoped>\n",
       "    .dataframe tbody tr th:only-of-type {\n",
       "        vertical-align: middle;\n",
       "    }\n",
       "\n",
       "    .dataframe tbody tr th {\n",
       "        vertical-align: top;\n",
       "    }\n",
       "\n",
       "    .dataframe thead th {\n",
       "        text-align: right;\n",
       "    }\n",
       "</style>\n",
       "<table border=\"1\" class=\"dataframe\">\n",
       "  <thead>\n",
       "    <tr style=\"text-align: right;\">\n",
       "      <th></th>\n",
       "      <th>test1</th>\n",
       "      <th>test2</th>\n",
       "      <th>test3</th>\n",
       "    </tr>\n",
       "  </thead>\n",
       "  <tbody>\n",
       "    <tr>\n",
       "      <th>A0</th>\n",
       "      <td>0.0</td>\n",
       "      <td>1.000000</td>\n",
       "      <td>0.25</td>\n",
       "    </tr>\n",
       "    <tr>\n",
       "      <th>A1</th>\n",
       "      <td>1.0</td>\n",
       "      <td>0.333333</td>\n",
       "      <td>0.32</td>\n",
       "    </tr>\n",
       "    <tr>\n",
       "      <th>A2</th>\n",
       "      <td>1.0</td>\n",
       "      <td>0.666667</td>\n",
       "      <td>0.60</td>\n",
       "    </tr>\n",
       "    <tr>\n",
       "      <th>A3</th>\n",
       "      <td>0.5</td>\n",
       "      <td>0.333333</td>\n",
       "      <td>0.53</td>\n",
       "    </tr>\n",
       "    <tr>\n",
       "      <th>A4</th>\n",
       "      <td>0.0</td>\n",
       "      <td>0.000000</td>\n",
       "      <td>0.23</td>\n",
       "    </tr>\n",
       "    <tr>\n",
       "      <th>A5</th>\n",
       "      <td>0.5</td>\n",
       "      <td>1.000000</td>\n",
       "      <td>0.37</td>\n",
       "    </tr>\n",
       "    <tr>\n",
       "      <th>A6</th>\n",
       "      <td>1.0</td>\n",
       "      <td>0.666667</td>\n",
       "      <td>0.45</td>\n",
       "    </tr>\n",
       "    <tr>\n",
       "      <th>A7</th>\n",
       "      <td>0.5</td>\n",
       "      <td>0.666667</td>\n",
       "      <td>0.49</td>\n",
       "    </tr>\n",
       "  </tbody>\n",
       "</table>\n",
       "</div>"
      ],
      "text/plain": [
       "    test1     test2  test3\n",
       "A0    0.0  1.000000   0.25\n",
       "A1    1.0  0.333333   0.32\n",
       "A2    1.0  0.666667   0.60\n",
       "A3    0.5  0.333333   0.53\n",
       "A4    0.0  0.000000   0.23\n",
       "A5    0.5  1.000000   0.37\n",
       "A6    1.0  0.666667   0.45\n",
       "A7    0.5  0.666667   0.49"
      ]
     },
     "execution_count": 97,
     "metadata": {},
     "output_type": "execute_result"
    }
   ],
   "source": [
    "# ANSWER\n",
    "\n",
    "df_num_zeroone= pd.DataFrame(scaler.fit_transform(df_num),index=df.index)\n",
    "df_num_zeroone.rename(columns={0: \"test1\", 1: \"test2\", 2: \"test3\"},inplace=True)\n",
    "df_num_zeroone.loc[:,'test3']=(df_num.loc[:,\"test3\"]/100.0)\n",
    "df_num_zeroone\n"
   ]
  },
  {
   "cell_type": "markdown",
   "metadata": {},
   "source": [
    "---\n",
    "**12)**\t[P] Compute a single distance matrix called `distmat_zeroone`. Use a standard Euclidean distance measure. Your reported result should be an 8x8 matrix with appropriately labeled rows and columns. (HINT – study the output of the distance matrix functions. They do not output a square matrix. As discussed in lecture you can use either `pairwise_distances` from scikit-learn, or the `pdist` and `squareform` functions in `scipy.spatial.distance`). Be sure to label the rows and columns to be the index from the input dataframe. Round it to 3 significant digits.\n",
    "\n",
    "Your result should look something like this...\n",
    "```\n",
    "       A0     A1     A2     A3     A4     A5     A6     A7\n",
    "A0  0.000  1.204  1.111  0.879  1.000  0.514  1.073  0.647\n",
    "A1  1.204  0.000  0.435  0.542  1.058  0.835  0.358  0.625\n",
    "A2  1.111  0.435  0.000  0.605  1.258  0.643  0.150  0.512\n",
    "A3  0.879  0.542  0.605  0.000  0.672  0.686  0.606  0.336\n",
    "A4  1.000  1.058  1.258  0.672  0.000  1.127  1.222  0.873\n",
    "A5  0.514  0.835  0.643  0.686  1.127  0.000  0.606  0.354\n",
    "A6  1.073  0.358  0.150  0.606  1.222  0.606  0.000  0.502\n",
    "A7  0.647  0.625  0.512  0.336  0.873  0.354  0.502  0.000\n",
    "```"
   ]
  },
  {
   "cell_type": "code",
   "execution_count": 98,
   "metadata": {},
   "outputs": [
    {
     "data": {
      "text/html": [
       "<div>\n",
       "<style scoped>\n",
       "    .dataframe tbody tr th:only-of-type {\n",
       "        vertical-align: middle;\n",
       "    }\n",
       "\n",
       "    .dataframe tbody tr th {\n",
       "        vertical-align: top;\n",
       "    }\n",
       "\n",
       "    .dataframe thead th {\n",
       "        text-align: right;\n",
       "    }\n",
       "</style>\n",
       "<table border=\"1\" class=\"dataframe\">\n",
       "  <thead>\n",
       "    <tr style=\"text-align: right;\">\n",
       "      <th></th>\n",
       "      <th>A0</th>\n",
       "      <th>A1</th>\n",
       "      <th>A2</th>\n",
       "      <th>A3</th>\n",
       "      <th>A4</th>\n",
       "      <th>A5</th>\n",
       "      <th>A6</th>\n",
       "      <th>A7</th>\n",
       "    </tr>\n",
       "  </thead>\n",
       "  <tbody>\n",
       "    <tr>\n",
       "      <th>A0</th>\n",
       "      <td>0.000</td>\n",
       "      <td>1.204</td>\n",
       "      <td>1.111</td>\n",
       "      <td>0.879</td>\n",
       "      <td>1.000</td>\n",
       "      <td>0.514</td>\n",
       "      <td>1.073</td>\n",
       "      <td>0.647</td>\n",
       "    </tr>\n",
       "    <tr>\n",
       "      <th>A1</th>\n",
       "      <td>1.204</td>\n",
       "      <td>0.000</td>\n",
       "      <td>0.435</td>\n",
       "      <td>0.542</td>\n",
       "      <td>1.058</td>\n",
       "      <td>0.835</td>\n",
       "      <td>0.358</td>\n",
       "      <td>0.625</td>\n",
       "    </tr>\n",
       "    <tr>\n",
       "      <th>A2</th>\n",
       "      <td>1.111</td>\n",
       "      <td>0.435</td>\n",
       "      <td>0.000</td>\n",
       "      <td>0.605</td>\n",
       "      <td>1.258</td>\n",
       "      <td>0.643</td>\n",
       "      <td>0.150</td>\n",
       "      <td>0.512</td>\n",
       "    </tr>\n",
       "    <tr>\n",
       "      <th>A3</th>\n",
       "      <td>0.879</td>\n",
       "      <td>0.542</td>\n",
       "      <td>0.605</td>\n",
       "      <td>0.000</td>\n",
       "      <td>0.672</td>\n",
       "      <td>0.686</td>\n",
       "      <td>0.606</td>\n",
       "      <td>0.336</td>\n",
       "    </tr>\n",
       "    <tr>\n",
       "      <th>A4</th>\n",
       "      <td>1.000</td>\n",
       "      <td>1.058</td>\n",
       "      <td>1.258</td>\n",
       "      <td>0.672</td>\n",
       "      <td>0.000</td>\n",
       "      <td>1.127</td>\n",
       "      <td>1.222</td>\n",
       "      <td>0.873</td>\n",
       "    </tr>\n",
       "    <tr>\n",
       "      <th>A5</th>\n",
       "      <td>0.514</td>\n",
       "      <td>0.835</td>\n",
       "      <td>0.643</td>\n",
       "      <td>0.686</td>\n",
       "      <td>1.127</td>\n",
       "      <td>0.000</td>\n",
       "      <td>0.606</td>\n",
       "      <td>0.354</td>\n",
       "    </tr>\n",
       "    <tr>\n",
       "      <th>A6</th>\n",
       "      <td>1.073</td>\n",
       "      <td>0.358</td>\n",
       "      <td>0.150</td>\n",
       "      <td>0.606</td>\n",
       "      <td>1.222</td>\n",
       "      <td>0.606</td>\n",
       "      <td>0.000</td>\n",
       "      <td>0.502</td>\n",
       "    </tr>\n",
       "    <tr>\n",
       "      <th>A7</th>\n",
       "      <td>0.647</td>\n",
       "      <td>0.625</td>\n",
       "      <td>0.512</td>\n",
       "      <td>0.336</td>\n",
       "      <td>0.873</td>\n",
       "      <td>0.354</td>\n",
       "      <td>0.502</td>\n",
       "      <td>0.000</td>\n",
       "    </tr>\n",
       "  </tbody>\n",
       "</table>\n",
       "</div>"
      ],
      "text/plain": [
       "       A0     A1     A2     A3     A4     A5     A6     A7\n",
       "A0  0.000  1.204  1.111  0.879  1.000  0.514  1.073  0.647\n",
       "A1  1.204  0.000  0.435  0.542  1.058  0.835  0.358  0.625\n",
       "A2  1.111  0.435  0.000  0.605  1.258  0.643  0.150  0.512\n",
       "A3  0.879  0.542  0.605  0.000  0.672  0.686  0.606  0.336\n",
       "A4  1.000  1.058  1.258  0.672  0.000  1.127  1.222  0.873\n",
       "A5  0.514  0.835  0.643  0.686  1.127  0.000  0.606  0.354\n",
       "A6  1.073  0.358  0.150  0.606  1.222  0.606  0.000  0.502\n",
       "A7  0.647  0.625  0.512  0.336  0.873  0.354  0.502  0.000"
      ]
     },
     "execution_count": 98,
     "metadata": {},
     "output_type": "execute_result"
    }
   ],
   "source": [
    "# ANSWER\n",
    "distmat_zeroone= pd.DataFrame(pairwise_distances(df_num_zeroone),index=df.index,columns=df.index)\n",
    "\n",
    "distmat_zeroone.applymap(lambda x:'{:.3f}'.format(x))\n"
   ]
  },
  {
   "cell_type": "markdown",
   "metadata": {},
   "source": [
    "---\n",
    "**13)**\t[P] Output the top three closest (i.e. most similar) pairs of observations. You MUST write Python code to report these results! Do not simply print out your distance matrix and tell me your answers! Consider that this may have been thousands of observations! Always generate reported answers in code!\n",
    "\n",
    "For each pair, output the pair of observations from the original dataframe and the distance between them.\n",
    "\n",
    "(HINT: I actaully found this easiest to do with the output of `pdist` with the `sorted` function.)\n",
    "\n",
    "Your first closest pair output might have output that looks something like this:\n",
    "\n",
    "```\n",
    "Closest: # 0 : ['A2', 'A6'] dist=0.150\n",
    "   test1 test2  test3\n",
    "A2     C  good     60\n",
    "A6     C  good     45\n",
    "```\n"
   ]
  },
  {
   "cell_type": "code",
   "execution_count": 174,
   "metadata": {},
   "outputs": [
    {
     "data": {
      "text/html": [
       "<div>\n",
       "<style scoped>\n",
       "    .dataframe tbody tr th:only-of-type {\n",
       "        vertical-align: middle;\n",
       "    }\n",
       "\n",
       "    .dataframe tbody tr th {\n",
       "        vertical-align: top;\n",
       "    }\n",
       "\n",
       "    .dataframe thead th {\n",
       "        text-align: right;\n",
       "    }\n",
       "</style>\n",
       "<table border=\"1\" class=\"dataframe\">\n",
       "  <thead>\n",
       "    <tr style=\"text-align: right;\">\n",
       "      <th></th>\n",
       "      <th>x</th>\n",
       "      <th>y</th>\n",
       "      <th>distance</th>\n",
       "    </tr>\n",
       "  </thead>\n",
       "  <tbody>\n",
       "    <tr>\n",
       "      <th>A2</th>\n",
       "      <td>A2</td>\n",
       "      <td>A6</td>\n",
       "      <td>0.150000</td>\n",
       "    </tr>\n",
       "    <tr>\n",
       "      <th>A7</th>\n",
       "      <td>A7</td>\n",
       "      <td>A3</td>\n",
       "      <td>0.335725</td>\n",
       "    </tr>\n",
       "    <tr>\n",
       "      <th>A7</th>\n",
       "      <td>A7</td>\n",
       "      <td>A5</td>\n",
       "      <td>0.354275</td>\n",
       "    </tr>\n",
       "  </tbody>\n",
       "</table>\n",
       "</div>"
      ],
      "text/plain": [
       "     x   y  distance\n",
       "A2  A2  A6  0.150000\n",
       "A7  A7  A3  0.335725\n",
       "A7  A7  A5  0.354275"
      ]
     },
     "execution_count": 174,
     "metadata": {},
     "output_type": "execute_result"
    }
   ],
   "source": [
    "# ANSWER:\n",
    "\n",
    "def sort_pdists(pdist):\n",
    "    distances = pdist.melt(value_vars=pdist.columns) #all 64 distances flattened\n",
    "\n",
    "    distances.set_index('A'+(distances.index%len(df.index)).astype('str'),inplace=True) #change index from 0-64 to A0-7\n",
    "\n",
    "    distances.rename(columns={'value':'distance','variable':'y'},inplace=True)\n",
    "    distances.insert(0,'x',distances.index.values)\n",
    "\n",
    "    return distances.where(distances.distance>0.01).sort_values(by='distance') #.01 tolerance for something weird going on with rounding\n",
    "\n",
    "distances_sorted = sort_pdists(distmat_zeroone)\n",
    "most_sim=distances_sorted.dropna().head(6)[::2]\n",
    "most_sim"
   ]
  },
  {
   "cell_type": "code",
   "execution_count": 100,
   "metadata": {},
   "outputs": [
    {
     "data": {
      "text/html": [
       "<div>\n",
       "<style scoped>\n",
       "    .dataframe tbody tr th:only-of-type {\n",
       "        vertical-align: middle;\n",
       "    }\n",
       "\n",
       "    .dataframe tbody tr th {\n",
       "        vertical-align: top;\n",
       "    }\n",
       "\n",
       "    .dataframe thead th {\n",
       "        text-align: right;\n",
       "    }\n",
       "</style>\n",
       "<table border=\"1\" class=\"dataframe\">\n",
       "  <thead>\n",
       "    <tr style=\"text-align: right;\">\n",
       "      <th></th>\n",
       "      <th>test1</th>\n",
       "      <th>test2</th>\n",
       "      <th>test3</th>\n",
       "    </tr>\n",
       "  </thead>\n",
       "  <tbody>\n",
       "    <tr>\n",
       "      <th>A2</th>\n",
       "      <td>C</td>\n",
       "      <td>good</td>\n",
       "      <td>60</td>\n",
       "    </tr>\n",
       "    <tr>\n",
       "      <th>A6</th>\n",
       "      <td>C</td>\n",
       "      <td>good</td>\n",
       "      <td>45</td>\n",
       "    </tr>\n",
       "    <tr>\n",
       "      <th>A7</th>\n",
       "      <td>B</td>\n",
       "      <td>good</td>\n",
       "      <td>49</td>\n",
       "    </tr>\n",
       "    <tr>\n",
       "      <th>A3</th>\n",
       "      <td>B</td>\n",
       "      <td>fair</td>\n",
       "      <td>53</td>\n",
       "    </tr>\n",
       "    <tr>\n",
       "      <th>A7</th>\n",
       "      <td>B</td>\n",
       "      <td>good</td>\n",
       "      <td>49</td>\n",
       "    </tr>\n",
       "    <tr>\n",
       "      <th>A5</th>\n",
       "      <td>B</td>\n",
       "      <td>excellent</td>\n",
       "      <td>37</td>\n",
       "    </tr>\n",
       "  </tbody>\n",
       "</table>\n",
       "</div>"
      ],
      "text/plain": [
       "   test1      test2  test3\n",
       "A2     C       good     60\n",
       "A6     C       good     45\n",
       "A7     B       good     49\n",
       "A3     B       fair     53\n",
       "A7     B       good     49\n",
       "A5     B  excellent     37"
      ]
     },
     "execution_count": 100,
     "metadata": {},
     "output_type": "execute_result"
    }
   ],
   "source": [
    "pd.concat([df.loc[most_sim.iloc[0,:2]],df.loc[most_sim.iloc[1,:2]],df.loc[most_sim.iloc[2,:2]]])"
   ]
  },
  {
   "cell_type": "markdown",
   "metadata": {},
   "source": [
    "---\n",
    "**14)**\t[P] Output the three observations that are *least similar*, with the two most distant observations output first. Again, for each pair, output the two observations, and the distance between them"
   ]
  },
  {
   "cell_type": "code",
   "execution_count": 101,
   "metadata": {},
   "outputs": [
    {
     "data": {
      "text/html": [
       "<div>\n",
       "<style scoped>\n",
       "    .dataframe tbody tr th:only-of-type {\n",
       "        vertical-align: middle;\n",
       "    }\n",
       "\n",
       "    .dataframe tbody tr th {\n",
       "        vertical-align: top;\n",
       "    }\n",
       "\n",
       "    .dataframe thead th {\n",
       "        text-align: right;\n",
       "    }\n",
       "</style>\n",
       "<table border=\"1\" class=\"dataframe\">\n",
       "  <thead>\n",
       "    <tr style=\"text-align: right;\">\n",
       "      <th></th>\n",
       "      <th>x</th>\n",
       "      <th>y</th>\n",
       "      <th>distance</th>\n",
       "    </tr>\n",
       "  </thead>\n",
       "  <tbody>\n",
       "    <tr>\n",
       "      <th>A1</th>\n",
       "      <td>A1</td>\n",
       "      <td>A0</td>\n",
       "      <td>1.203887</td>\n",
       "    </tr>\n",
       "    <tr>\n",
       "      <th>A4</th>\n",
       "      <td>A4</td>\n",
       "      <td>A6</td>\n",
       "      <td>1.221820</td>\n",
       "    </tr>\n",
       "    <tr>\n",
       "      <th>A2</th>\n",
       "      <td>A2</td>\n",
       "      <td>A4</td>\n",
       "      <td>1.257515</td>\n",
       "    </tr>\n",
       "  </tbody>\n",
       "</table>\n",
       "</div>"
      ],
      "text/plain": [
       "     x   y  distance\n",
       "A1  A1  A0  1.203887\n",
       "A4  A4  A6  1.221820\n",
       "A2  A2  A4  1.257515"
      ]
     },
     "execution_count": 101,
     "metadata": {},
     "output_type": "execute_result"
    }
   ],
   "source": [
    "# ANSWER\n",
    "\n",
    "\n",
    "least_sim=distances_sorted.dropna().tail(6)[::2]\n",
    "least_sim"
   ]
  },
  {
   "cell_type": "code",
   "execution_count": 102,
   "metadata": {},
   "outputs": [
    {
     "data": {
      "text/html": [
       "<div>\n",
       "<style scoped>\n",
       "    .dataframe tbody tr th:only-of-type {\n",
       "        vertical-align: middle;\n",
       "    }\n",
       "\n",
       "    .dataframe tbody tr th {\n",
       "        vertical-align: top;\n",
       "    }\n",
       "\n",
       "    .dataframe thead th {\n",
       "        text-align: right;\n",
       "    }\n",
       "</style>\n",
       "<table border=\"1\" class=\"dataframe\">\n",
       "  <thead>\n",
       "    <tr style=\"text-align: right;\">\n",
       "      <th></th>\n",
       "      <th>test1</th>\n",
       "      <th>test2</th>\n",
       "      <th>test3</th>\n",
       "    </tr>\n",
       "  </thead>\n",
       "  <tbody>\n",
       "    <tr>\n",
       "      <th>A1</th>\n",
       "      <td>C</td>\n",
       "      <td>fair</td>\n",
       "      <td>32</td>\n",
       "    </tr>\n",
       "    <tr>\n",
       "      <th>A0</th>\n",
       "      <td>A</td>\n",
       "      <td>excellent</td>\n",
       "      <td>25</td>\n",
       "    </tr>\n",
       "    <tr>\n",
       "      <th>A4</th>\n",
       "      <td>A</td>\n",
       "      <td>poor</td>\n",
       "      <td>23</td>\n",
       "    </tr>\n",
       "    <tr>\n",
       "      <th>A6</th>\n",
       "      <td>C</td>\n",
       "      <td>good</td>\n",
       "      <td>45</td>\n",
       "    </tr>\n",
       "    <tr>\n",
       "      <th>A2</th>\n",
       "      <td>C</td>\n",
       "      <td>good</td>\n",
       "      <td>60</td>\n",
       "    </tr>\n",
       "    <tr>\n",
       "      <th>A4</th>\n",
       "      <td>A</td>\n",
       "      <td>poor</td>\n",
       "      <td>23</td>\n",
       "    </tr>\n",
       "  </tbody>\n",
       "</table>\n",
       "</div>"
      ],
      "text/plain": [
       "   test1      test2  test3\n",
       "A1     C       fair     32\n",
       "A0     A  excellent     25\n",
       "A4     A       poor     23\n",
       "A6     C       good     45\n",
       "A2     C       good     60\n",
       "A4     A       poor     23"
      ]
     },
     "execution_count": 102,
     "metadata": {},
     "output_type": "execute_result"
    }
   ],
   "source": [
    "pd.concat([df.loc[least_sim.iloc[0,:2]],df.loc[least_sim.iloc[1,:2]],df.loc[least_sim.iloc[2,:2]]])"
   ]
  },
  {
   "cell_type": "markdown",
   "metadata": {},
   "source": [
    "---\n",
    "**15)**\t[P] Create a new data frame, `df_num_binarized`, that stores a *binarized* version for `test1` and `test2`. The variable `test3` is already numeric, scaled to fall between 0 and 1 already. So, once you've created `df_num_binarized`, then copy the variable `test3` from `df_num_zeroone` to `df_num_binarized`.\n",
    "\n",
    "(HINT: Remember, `pd.get_dummies` makes this quite easy to do, or you could use `OneHotEncoder` from `sklearn.preprocessing` and set `sparse=False, dtype=int`)\n",
    "\n",
    "Your first row might look something like the following:\n",
    "```\n",
    "    test1_A  test1_B  test1_C  test2_poor  test2_fair  test2_good  test2_excellent  test3\n",
    "A0        1        0        0           0           0           0                1   0.25\n",
    "```\n"
   ]
  },
  {
   "cell_type": "code",
   "execution_count": 103,
   "metadata": {},
   "outputs": [
    {
     "data": {
      "text/html": [
       "<div>\n",
       "<style scoped>\n",
       "    .dataframe tbody tr th:only-of-type {\n",
       "        vertical-align: middle;\n",
       "    }\n",
       "\n",
       "    .dataframe tbody tr th {\n",
       "        vertical-align: top;\n",
       "    }\n",
       "\n",
       "    .dataframe thead th {\n",
       "        text-align: right;\n",
       "    }\n",
       "</style>\n",
       "<table border=\"1\" class=\"dataframe\">\n",
       "  <thead>\n",
       "    <tr style=\"text-align: right;\">\n",
       "      <th></th>\n",
       "      <th>test3</th>\n",
       "      <th>test1_A</th>\n",
       "      <th>test1_B</th>\n",
       "      <th>test1_C</th>\n",
       "      <th>test2_poor</th>\n",
       "      <th>test2_fair</th>\n",
       "      <th>test2_good</th>\n",
       "      <th>test2_excellent</th>\n",
       "    </tr>\n",
       "  </thead>\n",
       "  <tbody>\n",
       "    <tr>\n",
       "      <th>A0</th>\n",
       "      <td>0.25</td>\n",
       "      <td>1</td>\n",
       "      <td>0</td>\n",
       "      <td>0</td>\n",
       "      <td>0</td>\n",
       "      <td>0</td>\n",
       "      <td>0</td>\n",
       "      <td>1</td>\n",
       "    </tr>\n",
       "    <tr>\n",
       "      <th>A1</th>\n",
       "      <td>0.32</td>\n",
       "      <td>0</td>\n",
       "      <td>0</td>\n",
       "      <td>1</td>\n",
       "      <td>0</td>\n",
       "      <td>1</td>\n",
       "      <td>0</td>\n",
       "      <td>0</td>\n",
       "    </tr>\n",
       "    <tr>\n",
       "      <th>A2</th>\n",
       "      <td>0.60</td>\n",
       "      <td>0</td>\n",
       "      <td>0</td>\n",
       "      <td>1</td>\n",
       "      <td>0</td>\n",
       "      <td>0</td>\n",
       "      <td>1</td>\n",
       "      <td>0</td>\n",
       "    </tr>\n",
       "    <tr>\n",
       "      <th>A3</th>\n",
       "      <td>0.53</td>\n",
       "      <td>0</td>\n",
       "      <td>1</td>\n",
       "      <td>0</td>\n",
       "      <td>0</td>\n",
       "      <td>1</td>\n",
       "      <td>0</td>\n",
       "      <td>0</td>\n",
       "    </tr>\n",
       "    <tr>\n",
       "      <th>A4</th>\n",
       "      <td>0.23</td>\n",
       "      <td>1</td>\n",
       "      <td>0</td>\n",
       "      <td>0</td>\n",
       "      <td>1</td>\n",
       "      <td>0</td>\n",
       "      <td>0</td>\n",
       "      <td>0</td>\n",
       "    </tr>\n",
       "    <tr>\n",
       "      <th>A5</th>\n",
       "      <td>0.37</td>\n",
       "      <td>0</td>\n",
       "      <td>1</td>\n",
       "      <td>0</td>\n",
       "      <td>0</td>\n",
       "      <td>0</td>\n",
       "      <td>0</td>\n",
       "      <td>1</td>\n",
       "    </tr>\n",
       "    <tr>\n",
       "      <th>A6</th>\n",
       "      <td>0.45</td>\n",
       "      <td>0</td>\n",
       "      <td>0</td>\n",
       "      <td>1</td>\n",
       "      <td>0</td>\n",
       "      <td>0</td>\n",
       "      <td>1</td>\n",
       "      <td>0</td>\n",
       "    </tr>\n",
       "    <tr>\n",
       "      <th>A7</th>\n",
       "      <td>0.49</td>\n",
       "      <td>0</td>\n",
       "      <td>1</td>\n",
       "      <td>0</td>\n",
       "      <td>0</td>\n",
       "      <td>0</td>\n",
       "      <td>1</td>\n",
       "      <td>0</td>\n",
       "    </tr>\n",
       "  </tbody>\n",
       "</table>\n",
       "</div>"
      ],
      "text/plain": [
       "    test3  test1_A  test1_B  test1_C  test2_poor  test2_fair  test2_good  \\\n",
       "A0   0.25        1        0        0           0           0           0   \n",
       "A1   0.32        0        0        1           0           1           0   \n",
       "A2   0.60        0        0        1           0           0           1   \n",
       "A3   0.53        0        1        0           0           1           0   \n",
       "A4   0.23        1        0        0           1           0           0   \n",
       "A5   0.37        0        1        0           0           0           0   \n",
       "A6   0.45        0        0        1           0           0           1   \n",
       "A7   0.49        0        1        0           0           0           1   \n",
       "\n",
       "    test2_excellent  \n",
       "A0                1  \n",
       "A1                0  \n",
       "A2                0  \n",
       "A3                0  \n",
       "A4                0  \n",
       "A5                1  \n",
       "A6                0  \n",
       "A7                0  "
      ]
     },
     "execution_count": 103,
     "metadata": {},
     "output_type": "execute_result"
    }
   ],
   "source": [
    "# ANSWER\n",
    "\n",
    "df_num_binarized = pd.DataFrame(pd.get_dummies(df),index=df.index)\n",
    "df_num_binarized[\"test3\"]=df_num_zeroone.test3\n",
    "df_num_binarized\n",
    "\n"
   ]
  },
  {
   "cell_type": "markdown",
   "metadata": {},
   "source": [
    "---\n",
    "**16)**\t[P] Now, compute `distmat_binarized` by computing the distance matrix for the df_binarized."
   ]
  },
  {
   "cell_type": "code",
   "execution_count": 104,
   "metadata": {},
   "outputs": [
    {
     "data": {
      "text/html": [
       "<div>\n",
       "<style scoped>\n",
       "    .dataframe tbody tr th:only-of-type {\n",
       "        vertical-align: middle;\n",
       "    }\n",
       "\n",
       "    .dataframe tbody tr th {\n",
       "        vertical-align: top;\n",
       "    }\n",
       "\n",
       "    .dataframe thead th {\n",
       "        text-align: right;\n",
       "    }\n",
       "</style>\n",
       "<table border=\"1\" class=\"dataframe\">\n",
       "  <thead>\n",
       "    <tr style=\"text-align: right;\">\n",
       "      <th></th>\n",
       "      <th>A0</th>\n",
       "      <th>A1</th>\n",
       "      <th>A2</th>\n",
       "      <th>A3</th>\n",
       "      <th>A4</th>\n",
       "      <th>A5</th>\n",
       "      <th>A6</th>\n",
       "      <th>A7</th>\n",
       "    </tr>\n",
       "  </thead>\n",
       "  <tbody>\n",
       "    <tr>\n",
       "      <th>A0</th>\n",
       "      <td>0.000</td>\n",
       "      <td>2.001</td>\n",
       "      <td>2.030</td>\n",
       "      <td>2.020</td>\n",
       "      <td>1.414</td>\n",
       "      <td>1.419</td>\n",
       "      <td>2.010</td>\n",
       "      <td>2.014</td>\n",
       "    </tr>\n",
       "    <tr>\n",
       "      <th>A1</th>\n",
       "      <td>2.001</td>\n",
       "      <td>0.000</td>\n",
       "      <td>1.442</td>\n",
       "      <td>1.430</td>\n",
       "      <td>2.002</td>\n",
       "      <td>2.001</td>\n",
       "      <td>1.420</td>\n",
       "      <td>2.007</td>\n",
       "    </tr>\n",
       "    <tr>\n",
       "      <th>A2</th>\n",
       "      <td>2.030</td>\n",
       "      <td>1.442</td>\n",
       "      <td>0.000</td>\n",
       "      <td>2.001</td>\n",
       "      <td>2.034</td>\n",
       "      <td>2.013</td>\n",
       "      <td>0.150</td>\n",
       "      <td>1.418</td>\n",
       "    </tr>\n",
       "    <tr>\n",
       "      <th>A3</th>\n",
       "      <td>2.020</td>\n",
       "      <td>1.430</td>\n",
       "      <td>2.001</td>\n",
       "      <td>0.000</td>\n",
       "      <td>2.022</td>\n",
       "      <td>1.423</td>\n",
       "      <td>2.002</td>\n",
       "      <td>1.415</td>\n",
       "    </tr>\n",
       "    <tr>\n",
       "      <th>A4</th>\n",
       "      <td>1.414</td>\n",
       "      <td>2.002</td>\n",
       "      <td>2.034</td>\n",
       "      <td>2.022</td>\n",
       "      <td>0.000</td>\n",
       "      <td>2.005</td>\n",
       "      <td>2.012</td>\n",
       "      <td>2.017</td>\n",
       "    </tr>\n",
       "    <tr>\n",
       "      <th>A5</th>\n",
       "      <td>1.419</td>\n",
       "      <td>2.001</td>\n",
       "      <td>2.013</td>\n",
       "      <td>1.423</td>\n",
       "      <td>2.005</td>\n",
       "      <td>0.000</td>\n",
       "      <td>2.002</td>\n",
       "      <td>1.419</td>\n",
       "    </tr>\n",
       "    <tr>\n",
       "      <th>A6</th>\n",
       "      <td>2.010</td>\n",
       "      <td>1.420</td>\n",
       "      <td>0.150</td>\n",
       "      <td>2.002</td>\n",
       "      <td>2.012</td>\n",
       "      <td>2.002</td>\n",
       "      <td>0.000</td>\n",
       "      <td>1.415</td>\n",
       "    </tr>\n",
       "    <tr>\n",
       "      <th>A7</th>\n",
       "      <td>2.014</td>\n",
       "      <td>2.007</td>\n",
       "      <td>1.418</td>\n",
       "      <td>1.415</td>\n",
       "      <td>2.017</td>\n",
       "      <td>1.419</td>\n",
       "      <td>1.415</td>\n",
       "      <td>0.000</td>\n",
       "    </tr>\n",
       "  </tbody>\n",
       "</table>\n",
       "</div>"
      ],
      "text/plain": [
       "       A0     A1     A2     A3     A4     A5     A6     A7\n",
       "A0  0.000  2.001  2.030  2.020  1.414  1.419  2.010  2.014\n",
       "A1  2.001  0.000  1.442  1.430  2.002  2.001  1.420  2.007\n",
       "A2  2.030  1.442  0.000  2.001  2.034  2.013  0.150  1.418\n",
       "A3  2.020  1.430  2.001  0.000  2.022  1.423  2.002  1.415\n",
       "A4  1.414  2.002  2.034  2.022  0.000  2.005  2.012  2.017\n",
       "A5  1.419  2.001  2.013  1.423  2.005  0.000  2.002  1.419\n",
       "A6  2.010  1.420  0.150  2.002  2.012  2.002  0.000  1.415\n",
       "A7  2.014  2.007  1.418  1.415  2.017  1.419  1.415  0.000"
      ]
     },
     "execution_count": 104,
     "metadata": {},
     "output_type": "execute_result"
    }
   ],
   "source": [
    "# ANSWER\n",
    "distmat_binarized= pd.DataFrame(pairwise_distances(df_num_binarized),index=df.index,columns=df.index)\n",
    "\n",
    "distmat_binarized.applymap(lambda x:'{:.3f}'.format(x))\n",
    "\n"
   ]
  },
  {
   "cell_type": "markdown",
   "metadata": {},
   "source": [
    "---\n",
    "**17)**\t[P] Report the three closest pairs, and the three most distant pairs from distmat_binarized"
   ]
  },
  {
   "cell_type": "code",
   "execution_count": 105,
   "metadata": {},
   "outputs": [
    {
     "name": "stdout",
     "output_type": "stream",
     "text": [
      "Closest Pairs:\n"
     ]
    },
    {
     "data": {
      "text/html": [
       "<div>\n",
       "<style scoped>\n",
       "    .dataframe tbody tr th:only-of-type {\n",
       "        vertical-align: middle;\n",
       "    }\n",
       "\n",
       "    .dataframe tbody tr th {\n",
       "        vertical-align: top;\n",
       "    }\n",
       "\n",
       "    .dataframe thead th {\n",
       "        text-align: right;\n",
       "    }\n",
       "</style>\n",
       "<table border=\"1\" class=\"dataframe\">\n",
       "  <thead>\n",
       "    <tr style=\"text-align: right;\">\n",
       "      <th></th>\n",
       "      <th>x</th>\n",
       "      <th>y</th>\n",
       "      <th>distance</th>\n",
       "    </tr>\n",
       "  </thead>\n",
       "  <tbody>\n",
       "    <tr>\n",
       "      <th>A2</th>\n",
       "      <td>A2</td>\n",
       "      <td>A6</td>\n",
       "      <td>0.150000</td>\n",
       "    </tr>\n",
       "    <tr>\n",
       "      <th>A4</th>\n",
       "      <td>A4</td>\n",
       "      <td>A0</td>\n",
       "      <td>1.414355</td>\n",
       "    </tr>\n",
       "    <tr>\n",
       "      <th>A7</th>\n",
       "      <td>A7</td>\n",
       "      <td>A3</td>\n",
       "      <td>1.414779</td>\n",
       "    </tr>\n",
       "  </tbody>\n",
       "</table>\n",
       "</div>"
      ],
      "text/plain": [
       "     x   y  distance\n",
       "A2  A2  A6  0.150000\n",
       "A4  A4  A0  1.414355\n",
       "A7  A7  A3  1.414779"
      ]
     },
     "execution_count": 105,
     "metadata": {},
     "output_type": "execute_result"
    }
   ],
   "source": [
    "# ANSWER\n",
    "\n",
    "distances_sorted = sort_pdists(distmat_binarized)\n",
    "most_sim=distances_sorted.dropna().head(6)[::2]\n",
    "print(\"Closest Pairs:\")\n",
    "most_sim"
   ]
  },
  {
   "cell_type": "code",
   "execution_count": 106,
   "metadata": {},
   "outputs": [
    {
     "data": {
      "text/html": [
       "<div>\n",
       "<style scoped>\n",
       "    .dataframe tbody tr th:only-of-type {\n",
       "        vertical-align: middle;\n",
       "    }\n",
       "\n",
       "    .dataframe tbody tr th {\n",
       "        vertical-align: top;\n",
       "    }\n",
       "\n",
       "    .dataframe thead th {\n",
       "        text-align: right;\n",
       "    }\n",
       "</style>\n",
       "<table border=\"1\" class=\"dataframe\">\n",
       "  <thead>\n",
       "    <tr style=\"text-align: right;\">\n",
       "      <th></th>\n",
       "      <th>test1</th>\n",
       "      <th>test2</th>\n",
       "      <th>test3</th>\n",
       "    </tr>\n",
       "  </thead>\n",
       "  <tbody>\n",
       "    <tr>\n",
       "      <th>A2</th>\n",
       "      <td>C</td>\n",
       "      <td>good</td>\n",
       "      <td>60</td>\n",
       "    </tr>\n",
       "    <tr>\n",
       "      <th>A6</th>\n",
       "      <td>C</td>\n",
       "      <td>good</td>\n",
       "      <td>45</td>\n",
       "    </tr>\n",
       "    <tr>\n",
       "      <th>A4</th>\n",
       "      <td>A</td>\n",
       "      <td>poor</td>\n",
       "      <td>23</td>\n",
       "    </tr>\n",
       "    <tr>\n",
       "      <th>A0</th>\n",
       "      <td>A</td>\n",
       "      <td>excellent</td>\n",
       "      <td>25</td>\n",
       "    </tr>\n",
       "    <tr>\n",
       "      <th>A7</th>\n",
       "      <td>B</td>\n",
       "      <td>good</td>\n",
       "      <td>49</td>\n",
       "    </tr>\n",
       "    <tr>\n",
       "      <th>A3</th>\n",
       "      <td>B</td>\n",
       "      <td>fair</td>\n",
       "      <td>53</td>\n",
       "    </tr>\n",
       "  </tbody>\n",
       "</table>\n",
       "</div>"
      ],
      "text/plain": [
       "   test1      test2  test3\n",
       "A2     C       good     60\n",
       "A6     C       good     45\n",
       "A4     A       poor     23\n",
       "A0     A  excellent     25\n",
       "A7     B       good     49\n",
       "A3     B       fair     53"
      ]
     },
     "execution_count": 106,
     "metadata": {},
     "output_type": "execute_result"
    }
   ],
   "source": [
    "pd.concat([df.loc[most_sim.iloc[0,:2]],df.loc[most_sim.iloc[1,:2]],df.loc[most_sim.iloc[2,:2]]])"
   ]
  },
  {
   "cell_type": "code",
   "execution_count": 107,
   "metadata": {},
   "outputs": [
    {
     "name": "stdout",
     "output_type": "stream",
     "text": [
      "Most Distant Pairs:\n"
     ]
    },
    {
     "data": {
      "text/html": [
       "<div>\n",
       "<style scoped>\n",
       "    .dataframe tbody tr th:only-of-type {\n",
       "        vertical-align: middle;\n",
       "    }\n",
       "\n",
       "    .dataframe tbody tr th {\n",
       "        vertical-align: top;\n",
       "    }\n",
       "\n",
       "    .dataframe thead th {\n",
       "        text-align: right;\n",
       "    }\n",
       "</style>\n",
       "<table border=\"1\" class=\"dataframe\">\n",
       "  <thead>\n",
       "    <tr style=\"text-align: right;\">\n",
       "      <th></th>\n",
       "      <th>x</th>\n",
       "      <th>y</th>\n",
       "      <th>distance</th>\n",
       "    </tr>\n",
       "  </thead>\n",
       "  <tbody>\n",
       "    <tr>\n",
       "      <th>A3</th>\n",
       "      <td>A3</td>\n",
       "      <td>A4</td>\n",
       "      <td>2.022375</td>\n",
       "    </tr>\n",
       "    <tr>\n",
       "      <th>A2</th>\n",
       "      <td>A2</td>\n",
       "      <td>A0</td>\n",
       "      <td>2.030394</td>\n",
       "    </tr>\n",
       "    <tr>\n",
       "      <th>A2</th>\n",
       "      <td>A2</td>\n",
       "      <td>A4</td>\n",
       "      <td>2.033937</td>\n",
       "    </tr>\n",
       "  </tbody>\n",
       "</table>\n",
       "</div>"
      ],
      "text/plain": [
       "     x   y  distance\n",
       "A3  A3  A4  2.022375\n",
       "A2  A2  A0  2.030394\n",
       "A2  A2  A4  2.033937"
      ]
     },
     "execution_count": 107,
     "metadata": {},
     "output_type": "execute_result"
    }
   ],
   "source": [
    "distances_sorted = sort_pdists(distmat_binarized)\n",
    "least_sim=distances_sorted.dropna().tail(6)[::2]\n",
    "print(\"Most Distant Pairs:\")\n",
    "least_sim"
   ]
  },
  {
   "cell_type": "code",
   "execution_count": 108,
   "metadata": {},
   "outputs": [
    {
     "data": {
      "text/html": [
       "<div>\n",
       "<style scoped>\n",
       "    .dataframe tbody tr th:only-of-type {\n",
       "        vertical-align: middle;\n",
       "    }\n",
       "\n",
       "    .dataframe tbody tr th {\n",
       "        vertical-align: top;\n",
       "    }\n",
       "\n",
       "    .dataframe thead th {\n",
       "        text-align: right;\n",
       "    }\n",
       "</style>\n",
       "<table border=\"1\" class=\"dataframe\">\n",
       "  <thead>\n",
       "    <tr style=\"text-align: right;\">\n",
       "      <th></th>\n",
       "      <th>test1</th>\n",
       "      <th>test2</th>\n",
       "      <th>test3</th>\n",
       "    </tr>\n",
       "  </thead>\n",
       "  <tbody>\n",
       "    <tr>\n",
       "      <th>A3</th>\n",
       "      <td>B</td>\n",
       "      <td>fair</td>\n",
       "      <td>53</td>\n",
       "    </tr>\n",
       "    <tr>\n",
       "      <th>A4</th>\n",
       "      <td>A</td>\n",
       "      <td>poor</td>\n",
       "      <td>23</td>\n",
       "    </tr>\n",
       "    <tr>\n",
       "      <th>A2</th>\n",
       "      <td>C</td>\n",
       "      <td>good</td>\n",
       "      <td>60</td>\n",
       "    </tr>\n",
       "    <tr>\n",
       "      <th>A0</th>\n",
       "      <td>A</td>\n",
       "      <td>excellent</td>\n",
       "      <td>25</td>\n",
       "    </tr>\n",
       "    <tr>\n",
       "      <th>A2</th>\n",
       "      <td>C</td>\n",
       "      <td>good</td>\n",
       "      <td>60</td>\n",
       "    </tr>\n",
       "    <tr>\n",
       "      <th>A4</th>\n",
       "      <td>A</td>\n",
       "      <td>poor</td>\n",
       "      <td>23</td>\n",
       "    </tr>\n",
       "  </tbody>\n",
       "</table>\n",
       "</div>"
      ],
      "text/plain": [
       "   test1      test2  test3\n",
       "A3     B       fair     53\n",
       "A4     A       poor     23\n",
       "A2     C       good     60\n",
       "A0     A  excellent     25\n",
       "A2     C       good     60\n",
       "A4     A       poor     23"
      ]
     },
     "execution_count": 108,
     "metadata": {},
     "output_type": "execute_result"
    }
   ],
   "source": [
    "pd.concat([df.loc[least_sim.iloc[0,:2]],df.loc[least_sim.iloc[1,:2]],df.loc[least_sim.iloc[2,:2]]])"
   ]
  },
  {
   "cell_type": "markdown",
   "metadata": {},
   "source": [
    "---\n",
    "**18)**\t[M] Take a moment and compare and contrast your results. Which method do you think have the better results? Why? Which variable do you think was the distinguishing player in affecting the different outcomes between both of the above approaches to transforming your data to numeric results? Summarize what would have been the best transformation to make for all three variables."
   ]
  },
  {
   "cell_type": "markdown",
   "metadata": {},
   "source": [
    "**ANSWER:**\n",
    "\n",
    "The zero-one normalization produced better results bc with binarization, you lose the ranking of the ordinal variables. Good and poor are just as different as good and excellent, which led to wonky results. The best transformation overall would be the min max normalization, although using binarization on test1 and minmax on test2 would be most ideal, since test1 is nominal, unordered."
   ]
  },
  {
   "cell_type": "markdown",
   "metadata": {},
   "source": [
    "---\n",
    "**19)**\t[P] Load in your next dataset using the following:\n",
    "\n",
    "`df_car_crashes = sns.load_dataset('car_crashes')`\n",
    "\n",
    "The dataset is directly downloaded from:\n",
    "[https://github.com/mwaskom/seaborn-data/blob/master/car_crashes.csv](https://github.com/mwaskom/seaborn-data/blob/master/car_crashes.csv)\n",
    "\n",
    "So, your first step with any new dataset is to understand your data. What are the variables? What does each observation represent? Sometimes, it's easy to figure out. Just Google! And, sometimes we need to make the best guess regarding our variables. For now, don't worry too much about specifics. This is a very simplified, highly aggregated dataset from much more extensive stats drawn from the [Insurance Institute for Highway Safety](https://www.iihs.org/iihs/topics/t/general-statistics/fatalityfacts/state-by-state-overview) (NOTE - this might make a great repository for some project?)"
   ]
  },
  {
   "cell_type": "code",
   "execution_count": 109,
   "metadata": {},
   "outputs": [],
   "source": [
    "# ANSWER\n",
    "\n",
    "df_car_crashes = sns.load_dataset('car_crashes')"
   ]
  },
  {
   "cell_type": "markdown",
   "metadata": {},
   "source": [
    "---\n",
    "**20)**\t[P] Preprocess your data. Minimally, you should move the state code to become the index for the dataframe, and then drop that column from your dataframe."
   ]
  },
  {
   "cell_type": "code",
   "execution_count": 110,
   "metadata": {},
   "outputs": [
    {
     "name": "stdout",
     "output_type": "stream",
     "text": [
      "<class 'pandas.core.frame.DataFrame'>\n",
      "Index: 51 entries, AL to WY\n",
      "Data columns (total 7 columns):\n",
      " #   Column          Non-Null Count  Dtype  \n",
      "---  ------          --------------  -----  \n",
      " 0   total           51 non-null     float64\n",
      " 1   speeding        51 non-null     float64\n",
      " 2   alcohol         51 non-null     float64\n",
      " 3   not_distracted  51 non-null     float64\n",
      " 4   no_previous     51 non-null     float64\n",
      " 5   ins_premium     51 non-null     float64\n",
      " 6   ins_losses      51 non-null     float64\n",
      "dtypes: float64(7)\n",
      "memory usage: 3.2+ KB\n"
     ]
    }
   ],
   "source": [
    "# ANSWER\n",
    "\n",
    "df_car_crashes=df_car_crashes.set_index('abbrev')\n",
    "df_car_crashes.info()"
   ]
  },
  {
   "cell_type": "code",
   "execution_count": 111,
   "metadata": {},
   "outputs": [
    {
     "name": "stdout",
     "output_type": "stream",
     "text": [
      "<class 'pandas.core.frame.DataFrame'>\n",
      "Index: 51 entries, AL to WY\n",
      "Data columns (total 7 columns):\n",
      " #   Column          Non-Null Count  Dtype  \n",
      "---  ------          --------------  -----  \n",
      " 0   total           51 non-null     float32\n",
      " 1   speeding        51 non-null     float32\n",
      " 2   alcohol         51 non-null     float32\n",
      " 3   not_distracted  51 non-null     float32\n",
      " 4   no_previous     51 non-null     float32\n",
      " 5   ins_premium     51 non-null     float32\n",
      " 6   ins_losses      51 non-null     float32\n",
      "dtypes: float32(7)\n",
      "memory usage: 1.8+ KB\n"
     ]
    }
   ],
   "source": [
    "df_car_crashes=df_car_crashes.apply(pd.to_numeric,downcast='float')\n",
    "df_car_crashes.info()"
   ]
  },
  {
   "cell_type": "markdown",
   "metadata": {},
   "source": [
    "---\n",
    "**21)**\t[P] Create a new dataframe called `df_car_crashes_zscore` that represents the zscore transformation for `df_car_crashes`. Again, show the first five rows.\n",
    "\n"
   ]
  },
  {
   "cell_type": "code",
   "execution_count": 112,
   "metadata": {},
   "outputs": [
    {
     "data": {
      "text/html": [
       "<div>\n",
       "<style scoped>\n",
       "    .dataframe tbody tr th:only-of-type {\n",
       "        vertical-align: middle;\n",
       "    }\n",
       "\n",
       "    .dataframe tbody tr th {\n",
       "        vertical-align: top;\n",
       "    }\n",
       "\n",
       "    .dataframe thead th {\n",
       "        text-align: right;\n",
       "    }\n",
       "</style>\n",
       "<table border=\"1\" class=\"dataframe\">\n",
       "  <thead>\n",
       "    <tr style=\"text-align: right;\">\n",
       "      <th></th>\n",
       "      <th>total</th>\n",
       "      <th>speeding</th>\n",
       "      <th>alcohol</th>\n",
       "      <th>not_distracted</th>\n",
       "      <th>no_previous</th>\n",
       "      <th>ins_premium</th>\n",
       "      <th>ins_losses</th>\n",
       "    </tr>\n",
       "    <tr>\n",
       "      <th>abbrev</th>\n",
       "      <th></th>\n",
       "      <th></th>\n",
       "      <th></th>\n",
       "      <th></th>\n",
       "      <th></th>\n",
       "      <th></th>\n",
       "      <th></th>\n",
       "    </tr>\n",
       "  </thead>\n",
       "  <tbody>\n",
       "    <tr>\n",
       "      <th>AL</th>\n",
       "      <td>0.737445</td>\n",
       "      <td>1.168148</td>\n",
       "      <td>0.439938</td>\n",
       "      <td>1.002301</td>\n",
       "      <td>0.277692</td>\n",
       "      <td>-0.580083</td>\n",
       "      <td>0.430513</td>\n",
       "    </tr>\n",
       "    <tr>\n",
       "      <th>AK</th>\n",
       "      <td>0.565935</td>\n",
       "      <td>1.212695</td>\n",
       "      <td>-0.211310</td>\n",
       "      <td>0.608532</td>\n",
       "      <td>0.807258</td>\n",
       "      <td>0.943258</td>\n",
       "      <td>-0.022901</td>\n",
       "    </tr>\n",
       "    <tr>\n",
       "      <th>AZ</th>\n",
       "      <td>0.688443</td>\n",
       "      <td>0.756709</td>\n",
       "      <td>0.187616</td>\n",
       "      <td>0.459357</td>\n",
       "      <td>1.033142</td>\n",
       "      <td>0.070875</td>\n",
       "      <td>-0.981779</td>\n",
       "    </tr>\n",
       "    <tr>\n",
       "      <th>AR</th>\n",
       "      <td>1.619498</td>\n",
       "      <td>-0.483613</td>\n",
       "      <td>0.547408</td>\n",
       "      <td>1.676052</td>\n",
       "      <td>1.951700</td>\n",
       "      <td>-0.337701</td>\n",
       "      <td>0.321125</td>\n",
       "    </tr>\n",
       "    <tr>\n",
       "      <th>CA</th>\n",
       "      <td>-0.928653</td>\n",
       "      <td>-0.399524</td>\n",
       "      <td>-0.891763</td>\n",
       "      <td>-0.594276</td>\n",
       "      <td>-0.891968</td>\n",
       "      <td>-0.048418</td>\n",
       "      <td>1.266177</td>\n",
       "    </tr>\n",
       "  </tbody>\n",
       "</table>\n",
       "</div>"
      ],
      "text/plain": [
       "           total  speeding   alcohol  not_distracted  no_previous  \\\n",
       "abbrev                                                              \n",
       "AL      0.737445  1.168148  0.439938        1.002301     0.277692   \n",
       "AK      0.565935  1.212695 -0.211310        0.608532     0.807258   \n",
       "AZ      0.688443  0.756709  0.187616        0.459357     1.033142   \n",
       "AR      1.619498 -0.483613  0.547408        1.676052     1.951700   \n",
       "CA     -0.928653 -0.399524 -0.891763       -0.594276    -0.891968   \n",
       "\n",
       "        ins_premium  ins_losses  \n",
       "abbrev                           \n",
       "AL        -0.580083    0.430513  \n",
       "AK         0.943258   -0.022901  \n",
       "AZ         0.070875   -0.981779  \n",
       "AR        -0.337701    0.321125  \n",
       "CA        -0.048418    1.266177  "
      ]
     },
     "execution_count": 112,
     "metadata": {},
     "output_type": "execute_result"
    }
   ],
   "source": [
    "# ANSWER\n",
    "df_car_crashes_zscore=pd.DataFrame(zscore(df_car_crashes),index=df_car_crashes.index)\n",
    "df_car_crashes_zscore.head(5)"
   ]
  },
  {
   "cell_type": "markdown",
   "metadata": {},
   "source": [
    "---\n",
    "**22)**\t[P] Create a distance matrix called `distmat_cars` based on the `df_car_crashes_zscore`. Display the entire distance matrix (which will likely be simplified visually due to its size)"
   ]
  },
  {
   "cell_type": "code",
   "execution_count": 113,
   "metadata": {},
   "outputs": [
    {
     "data": {
      "text/html": [
       "<div>\n",
       "<style scoped>\n",
       "    .dataframe tbody tr th:only-of-type {\n",
       "        vertical-align: middle;\n",
       "    }\n",
       "\n",
       "    .dataframe tbody tr th {\n",
       "        vertical-align: top;\n",
       "    }\n",
       "\n",
       "    .dataframe thead th {\n",
       "        text-align: right;\n",
       "    }\n",
       "</style>\n",
       "<table border=\"1\" class=\"dataframe\">\n",
       "  <thead>\n",
       "    <tr style=\"text-align: right;\">\n",
       "      <th>abbrev</th>\n",
       "      <th>AL</th>\n",
       "      <th>AK</th>\n",
       "      <th>AZ</th>\n",
       "      <th>AR</th>\n",
       "      <th>CA</th>\n",
       "      <th>CO</th>\n",
       "      <th>CT</th>\n",
       "      <th>DE</th>\n",
       "      <th>DC</th>\n",
       "      <th>FL</th>\n",
       "      <th>...</th>\n",
       "      <th>SD</th>\n",
       "      <th>TN</th>\n",
       "      <th>TX</th>\n",
       "      <th>UT</th>\n",
       "      <th>VT</th>\n",
       "      <th>VA</th>\n",
       "      <th>WA</th>\n",
       "      <th>WV</th>\n",
       "      <th>WI</th>\n",
       "      <th>WY</th>\n",
       "    </tr>\n",
       "    <tr>\n",
       "      <th>abbrev</th>\n",
       "      <th></th>\n",
       "      <th></th>\n",
       "      <th></th>\n",
       "      <th></th>\n",
       "      <th></th>\n",
       "      <th></th>\n",
       "      <th></th>\n",
       "      <th></th>\n",
       "      <th></th>\n",
       "      <th></th>\n",
       "      <th></th>\n",
       "      <th></th>\n",
       "      <th></th>\n",
       "      <th></th>\n",
       "      <th></th>\n",
       "      <th></th>\n",
       "      <th></th>\n",
       "      <th></th>\n",
       "      <th></th>\n",
       "      <th></th>\n",
       "      <th></th>\n",
       "    </tr>\n",
       "  </thead>\n",
       "  <tbody>\n",
       "    <tr>\n",
       "      <th>AL</th>\n",
       "      <td>0.000000</td>\n",
       "      <td>1.848559</td>\n",
       "      <td>1.875942</td>\n",
       "      <td>2.616265</td>\n",
       "      <td>3.450372</td>\n",
       "      <td>2.687192</td>\n",
       "      <td>4.022977</td>\n",
       "      <td>2.426744</td>\n",
       "      <td>6.627070</td>\n",
       "      <td>2.863217</td>\n",
       "      <td>...</td>\n",
       "      <td>2.272782</td>\n",
       "      <td>1.760396</td>\n",
       "      <td>1.768022</td>\n",
       "      <td>4.073530</td>\n",
       "      <td>2.984473</td>\n",
       "      <td>3.691474</td>\n",
       "      <td>4.099447</td>\n",
       "      <td>2.658679</td>\n",
       "      <td>3.882304</td>\n",
       "      <td>1.345666</td>\n",
       "    </tr>\n",
       "    <tr>\n",
       "      <th>AK</th>\n",
       "      <td>1.848559</td>\n",
       "      <td>0.000000</td>\n",
       "      <td>1.461454</td>\n",
       "      <td>2.961700</td>\n",
       "      <td>3.503615</td>\n",
       "      <td>2.674699</td>\n",
       "      <td>3.719860</td>\n",
       "      <td>1.305465</td>\n",
       "      <td>5.923340</td>\n",
       "      <td>2.014017</td>\n",
       "      <td>...</td>\n",
       "      <td>3.030764</td>\n",
       "      <td>2.612894</td>\n",
       "      <td>1.983290</td>\n",
       "      <td>3.820444</td>\n",
       "      <td>3.230915</td>\n",
       "      <td>3.939532</td>\n",
       "      <td>3.874398</td>\n",
       "      <td>2.759540</td>\n",
       "      <td>4.080096</td>\n",
       "      <td>1.794331</td>\n",
       "    </tr>\n",
       "    <tr>\n",
       "      <th>AZ</th>\n",
       "      <td>1.875942</td>\n",
       "      <td>1.461454</td>\n",
       "      <td>0.000000</td>\n",
       "      <td>2.592933</td>\n",
       "      <td>3.873069</td>\n",
       "      <td>2.690949</td>\n",
       "      <td>4.341409</td>\n",
       "      <td>2.322674</td>\n",
       "      <td>6.312294</td>\n",
       "      <td>2.471886</td>\n",
       "      <td>...</td>\n",
       "      <td>1.805917</td>\n",
       "      <td>2.413953</td>\n",
       "      <td>2.496229</td>\n",
       "      <td>3.638752</td>\n",
       "      <td>2.564600</td>\n",
       "      <td>3.910659</td>\n",
       "      <td>3.716797</td>\n",
       "      <td>3.094545</td>\n",
       "      <td>3.452450</td>\n",
       "      <td>1.165002</td>\n",
       "    </tr>\n",
       "    <tr>\n",
       "      <th>AR</th>\n",
       "      <td>2.616265</td>\n",
       "      <td>2.961700</td>\n",
       "      <td>2.592933</td>\n",
       "      <td>0.000000</td>\n",
       "      <td>4.773783</td>\n",
       "      <td>4.082043</td>\n",
       "      <td>5.511677</td>\n",
       "      <td>3.375631</td>\n",
       "      <td>7.648001</td>\n",
       "      <td>2.722795</td>\n",
       "      <td>...</td>\n",
       "      <td>2.756086</td>\n",
       "      <td>2.090210</td>\n",
       "      <td>2.858256</td>\n",
       "      <td>5.375719</td>\n",
       "      <td>4.012612</td>\n",
       "      <td>4.577666</td>\n",
       "      <td>5.500790</td>\n",
       "      <td>2.401244</td>\n",
       "      <td>5.215076</td>\n",
       "      <td>3.105415</td>\n",
       "    </tr>\n",
       "    <tr>\n",
       "      <th>CA</th>\n",
       "      <td>3.450372</td>\n",
       "      <td>3.503615</td>\n",
       "      <td>3.873069</td>\n",
       "      <td>4.773783</td>\n",
       "      <td>0.000000</td>\n",
       "      <td>1.382473</td>\n",
       "      <td>1.360401</td>\n",
       "      <td>2.801377</td>\n",
       "      <td>3.725441</td>\n",
       "      <td>3.294284</td>\n",
       "      <td>...</td>\n",
       "      <td>4.729624</td>\n",
       "      <td>2.984643</td>\n",
       "      <td>4.199246</td>\n",
       "      <td>2.525129</td>\n",
       "      <td>2.637784</td>\n",
       "      <td>1.211871</td>\n",
       "      <td>2.322342</td>\n",
       "      <td>5.589190</td>\n",
       "      <td>3.094339</td>\n",
       "      <td>3.392714</td>\n",
       "    </tr>\n",
       "    <tr>\n",
       "      <th>CO</th>\n",
       "      <td>2.687192</td>\n",
       "      <td>2.674699</td>\n",
       "      <td>2.690949</td>\n",
       "      <td>4.082043</td>\n",
       "      <td>1.382473</td>\n",
       "      <td>0.000000</td>\n",
       "      <td>2.171261</td>\n",
       "      <td>2.348937</td>\n",
       "      <td>4.294426</td>\n",
       "      <td>2.884757</td>\n",
       "      <td>...</td>\n",
       "      <td>3.599348</td>\n",
       "      <td>2.449727</td>\n",
       "      <td>3.623915</td>\n",
       "      <td>1.893114</td>\n",
       "      <td>1.579660</td>\n",
       "      <td>1.580230</td>\n",
       "      <td>1.824522</td>\n",
       "      <td>4.943274</td>\n",
       "      <td>2.114426</td>\n",
       "      <td>2.217198</td>\n",
       "    </tr>\n",
       "    <tr>\n",
       "      <th>CT</th>\n",
       "      <td>4.022977</td>\n",
       "      <td>3.719860</td>\n",
       "      <td>4.341409</td>\n",
       "      <td>5.511677</td>\n",
       "      <td>1.360401</td>\n",
       "      <td>2.171261</td>\n",
       "      <td>0.000000</td>\n",
       "      <td>2.792619</td>\n",
       "      <td>3.100788</td>\n",
       "      <td>3.490418</td>\n",
       "      <td>...</td>\n",
       "      <td>5.401468</td>\n",
       "      <td>3.816674</td>\n",
       "      <td>4.346224</td>\n",
       "      <td>3.070455</td>\n",
       "      <td>3.461110</td>\n",
       "      <td>2.371613</td>\n",
       "      <td>2.500124</td>\n",
       "      <td>5.938001</td>\n",
       "      <td>3.628320</td>\n",
       "      <td>3.899592</td>\n",
       "    </tr>\n",
       "    <tr>\n",
       "      <th>DE</th>\n",
       "      <td>2.426744</td>\n",
       "      <td>1.305465</td>\n",
       "      <td>2.322674</td>\n",
       "      <td>3.375631</td>\n",
       "      <td>2.801377</td>\n",
       "      <td>2.348937</td>\n",
       "      <td>2.792619</td>\n",
       "      <td>0.000000</td>\n",
       "      <td>5.106619</td>\n",
       "      <td>1.442845</td>\n",
       "      <td>...</td>\n",
       "      <td>3.827587</td>\n",
       "      <td>2.556844</td>\n",
       "      <td>2.171300</td>\n",
       "      <td>3.771261</td>\n",
       "      <td>3.324290</td>\n",
       "      <td>3.389056</td>\n",
       "      <td>3.571201</td>\n",
       "      <td>3.438088</td>\n",
       "      <td>4.037818</td>\n",
       "      <td>2.427114</td>\n",
       "    </tr>\n",
       "    <tr>\n",
       "      <th>DC</th>\n",
       "      <td>6.627070</td>\n",
       "      <td>5.923340</td>\n",
       "      <td>6.312294</td>\n",
       "      <td>7.648001</td>\n",
       "      <td>3.725441</td>\n",
       "      <td>4.294426</td>\n",
       "      <td>3.100788</td>\n",
       "      <td>5.106619</td>\n",
       "      <td>0.000000</td>\n",
       "      <td>5.343223</td>\n",
       "      <td>...</td>\n",
       "      <td>7.356392</td>\n",
       "      <td>6.230942</td>\n",
       "      <td>7.019399</td>\n",
       "      <td>3.805078</td>\n",
       "      <td>4.898792</td>\n",
       "      <td>3.999740</td>\n",
       "      <td>3.303523</td>\n",
       "      <td>8.418524</td>\n",
       "      <td>4.939871</td>\n",
       "      <td>6.196665</td>\n",
       "    </tr>\n",
       "    <tr>\n",
       "      <th>FL</th>\n",
       "      <td>2.863217</td>\n",
       "      <td>2.014017</td>\n",
       "      <td>2.471886</td>\n",
       "      <td>2.722795</td>\n",
       "      <td>3.294284</td>\n",
       "      <td>2.884757</td>\n",
       "      <td>3.490418</td>\n",
       "      <td>1.442845</td>\n",
       "      <td>5.343223</td>\n",
       "      <td>0.000000</td>\n",
       "      <td>...</td>\n",
       "      <td>3.696806</td>\n",
       "      <td>2.343909</td>\n",
       "      <td>2.622674</td>\n",
       "      <td>4.179509</td>\n",
       "      <td>3.396841</td>\n",
       "      <td>3.459389</td>\n",
       "      <td>3.962686</td>\n",
       "      <td>3.439624</td>\n",
       "      <td>4.436470</td>\n",
       "      <td>2.962916</td>\n",
       "    </tr>\n",
       "    <tr>\n",
       "      <th>GA</th>\n",
       "      <td>2.740439</td>\n",
       "      <td>2.609142</td>\n",
       "      <td>2.619278</td>\n",
       "      <td>3.132497</td>\n",
       "      <td>1.994627</td>\n",
       "      <td>1.592712</td>\n",
       "      <td>2.812662</td>\n",
       "      <td>2.197382</td>\n",
       "      <td>4.611878</td>\n",
       "      <td>1.878250</td>\n",
       "      <td>...</td>\n",
       "      <td>3.457118</td>\n",
       "      <td>1.848973</td>\n",
       "      <td>3.484814</td>\n",
       "      <td>2.800176</td>\n",
       "      <td>1.991736</td>\n",
       "      <td>1.741679</td>\n",
       "      <td>2.777024</td>\n",
       "      <td>4.447891</td>\n",
       "      <td>3.237933</td>\n",
       "      <td>2.680223</td>\n",
       "    </tr>\n",
       "    <tr>\n",
       "      <th>HI</th>\n",
       "      <td>1.967575</td>\n",
       "      <td>2.309612</td>\n",
       "      <td>2.090333</td>\n",
       "      <td>3.887437</td>\n",
       "      <td>4.367894</td>\n",
       "      <td>3.364956</td>\n",
       "      <td>4.523348</td>\n",
       "      <td>2.949538</td>\n",
       "      <td>6.947998</td>\n",
       "      <td>3.693017</td>\n",
       "      <td>...</td>\n",
       "      <td>2.599938</td>\n",
       "      <td>3.261208</td>\n",
       "      <td>2.117453</td>\n",
       "      <td>4.479970</td>\n",
       "      <td>3.571822</td>\n",
       "      <td>4.728124</td>\n",
       "      <td>4.265045</td>\n",
       "      <td>3.336821</td>\n",
       "      <td>3.832770</td>\n",
       "      <td>1.485756</td>\n",
       "    </tr>\n",
       "    <tr>\n",
       "      <th>ID</th>\n",
       "      <td>3.227303</td>\n",
       "      <td>3.462721</td>\n",
       "      <td>2.330031</td>\n",
       "      <td>4.160356</td>\n",
       "      <td>4.023485</td>\n",
       "      <td>2.745180</td>\n",
       "      <td>4.726892</td>\n",
       "      <td>4.006878</td>\n",
       "      <td>6.093581</td>\n",
       "      <td>4.130941</td>\n",
       "      <td>...</td>\n",
       "      <td>2.181769</td>\n",
       "      <td>3.440391</td>\n",
       "      <td>4.456028</td>\n",
       "      <td>2.685512</td>\n",
       "      <td>1.551591</td>\n",
       "      <td>3.638644</td>\n",
       "      <td>2.946004</td>\n",
       "      <td>5.210840</td>\n",
       "      <td>2.220161</td>\n",
       "      <td>2.207048</td>\n",
       "    </tr>\n",
       "    <tr>\n",
       "      <th>IL</th>\n",
       "      <td>2.648799</td>\n",
       "      <td>2.872699</td>\n",
       "      <td>2.779181</td>\n",
       "      <td>4.036791</td>\n",
       "      <td>1.416124</td>\n",
       "      <td>0.575336</td>\n",
       "      <td>2.256232</td>\n",
       "      <td>2.540638</td>\n",
       "      <td>4.370550</td>\n",
       "      <td>2.929698</td>\n",
       "      <td>...</td>\n",
       "      <td>3.451012</td>\n",
       "      <td>2.344501</td>\n",
       "      <td>3.624767</td>\n",
       "      <td>2.045405</td>\n",
       "      <td>1.378476</td>\n",
       "      <td>1.422768</td>\n",
       "      <td>1.823447</td>\n",
       "      <td>4.980795</td>\n",
       "      <td>2.162329</td>\n",
       "      <td>2.263061</td>\n",
       "    </tr>\n",
       "    <tr>\n",
       "      <th>IN</th>\n",
       "      <td>2.936805</td>\n",
       "      <td>3.210155</td>\n",
       "      <td>2.440773</td>\n",
       "      <td>3.699517</td>\n",
       "      <td>2.832515</td>\n",
       "      <td>1.789320</td>\n",
       "      <td>3.702964</td>\n",
       "      <td>3.339940</td>\n",
       "      <td>5.138253</td>\n",
       "      <td>3.256948</td>\n",
       "      <td>...</td>\n",
       "      <td>2.607172</td>\n",
       "      <td>2.552998</td>\n",
       "      <td>4.143568</td>\n",
       "      <td>2.150285</td>\n",
       "      <td>0.431526</td>\n",
       "      <td>2.248464</td>\n",
       "      <td>2.271576</td>\n",
       "      <td>5.075878</td>\n",
       "      <td>2.111961</td>\n",
       "      <td>2.300292</td>\n",
       "    </tr>\n",
       "    <tr>\n",
       "      <th>IA</th>\n",
       "      <td>3.114833</td>\n",
       "      <td>3.587012</td>\n",
       "      <td>2.842219</td>\n",
       "      <td>3.547224</td>\n",
       "      <td>3.017301</td>\n",
       "      <td>2.214124</td>\n",
       "      <td>4.043615</td>\n",
       "      <td>3.709853</td>\n",
       "      <td>5.452221</td>\n",
       "      <td>3.431343</td>\n",
       "      <td>...</td>\n",
       "      <td>2.760459</td>\n",
       "      <td>2.449759</td>\n",
       "      <td>4.408638</td>\n",
       "      <td>2.593951</td>\n",
       "      <td>1.109788</td>\n",
       "      <td>2.229273</td>\n",
       "      <td>2.815298</td>\n",
       "      <td>5.169456</td>\n",
       "      <td>2.639014</td>\n",
       "      <td>2.753406</td>\n",
       "    </tr>\n",
       "    <tr>\n",
       "      <th>KS</th>\n",
       "      <td>1.858608</td>\n",
       "      <td>2.173195</td>\n",
       "      <td>1.774256</td>\n",
       "      <td>2.804821</td>\n",
       "      <td>2.488592</td>\n",
       "      <td>1.447705</td>\n",
       "      <td>3.354811</td>\n",
       "      <td>2.326149</td>\n",
       "      <td>5.470177</td>\n",
       "      <td>2.440633</td>\n",
       "      <td>...</td>\n",
       "      <td>2.510956</td>\n",
       "      <td>1.426520</td>\n",
       "      <td>3.018528</td>\n",
       "      <td>2.764565</td>\n",
       "      <td>1.635965</td>\n",
       "      <td>2.319119</td>\n",
       "      <td>2.900155</td>\n",
       "      <td>3.936542</td>\n",
       "      <td>2.642380</td>\n",
       "      <td>1.552764</td>\n",
       "    </tr>\n",
       "    <tr>\n",
       "      <th>KY</th>\n",
       "      <td>1.951129</td>\n",
       "      <td>2.154966</td>\n",
       "      <td>1.855779</td>\n",
       "      <td>1.793132</td>\n",
       "      <td>3.376552</td>\n",
       "      <td>2.635520</td>\n",
       "      <td>4.080040</td>\n",
       "      <td>2.379312</td>\n",
       "      <td>6.165329</td>\n",
       "      <td>1.882937</td>\n",
       "      <td>...</td>\n",
       "      <td>2.495190</td>\n",
       "      <td>1.163669</td>\n",
       "      <td>2.642535</td>\n",
       "      <td>3.921383</td>\n",
       "      <td>2.720046</td>\n",
       "      <td>3.201370</td>\n",
       "      <td>3.962988</td>\n",
       "      <td>3.125623</td>\n",
       "      <td>3.815375</td>\n",
       "      <td>2.165642</td>\n",
       "    </tr>\n",
       "    <tr>\n",
       "      <th>LA</th>\n",
       "      <td>3.864433</td>\n",
       "      <td>3.260930</td>\n",
       "      <td>4.243512</td>\n",
       "      <td>4.014378</td>\n",
       "      <td>4.931876</td>\n",
       "      <td>4.790390</td>\n",
       "      <td>4.801947</td>\n",
       "      <td>2.755112</td>\n",
       "      <td>7.275689</td>\n",
       "      <td>3.124342</td>\n",
       "      <td>...</td>\n",
       "      <td>5.476430</td>\n",
       "      <td>3.904461</td>\n",
       "      <td>2.495853</td>\n",
       "      <td>6.434672</td>\n",
       "      <td>5.818144</td>\n",
       "      <td>5.553106</td>\n",
       "      <td>6.195012</td>\n",
       "      <td>3.135339</td>\n",
       "      <td>6.342526</td>\n",
       "      <td>4.357395</td>\n",
       "    </tr>\n",
       "    <tr>\n",
       "      <th>ME</th>\n",
       "      <td>2.803998</td>\n",
       "      <td>3.213492</td>\n",
       "      <td>2.324265</td>\n",
       "      <td>4.160980</td>\n",
       "      <td>3.400465</td>\n",
       "      <td>2.191438</td>\n",
       "      <td>4.083418</td>\n",
       "      <td>3.642062</td>\n",
       "      <td>5.661144</td>\n",
       "      <td>3.886650</td>\n",
       "      <td>...</td>\n",
       "      <td>2.282470</td>\n",
       "      <td>3.080945</td>\n",
       "      <td>4.117779</td>\n",
       "      <td>2.305619</td>\n",
       "      <td>1.128301</td>\n",
       "      <td>3.111324</td>\n",
       "      <td>2.438338</td>\n",
       "      <td>5.077069</td>\n",
       "      <td>1.876843</td>\n",
       "      <td>1.896015</td>\n",
       "    </tr>\n",
       "    <tr>\n",
       "      <th>MD</th>\n",
       "      <td>4.050022</td>\n",
       "      <td>3.809894</td>\n",
       "      <td>4.515303</td>\n",
       "      <td>5.093197</td>\n",
       "      <td>1.647736</td>\n",
       "      <td>2.550081</td>\n",
       "      <td>1.521527</td>\n",
       "      <td>2.716767</td>\n",
       "      <td>4.030791</td>\n",
       "      <td>3.302112</td>\n",
       "      <td>...</td>\n",
       "      <td>5.648360</td>\n",
       "      <td>3.474840</td>\n",
       "      <td>4.164078</td>\n",
       "      <td>3.915988</td>\n",
       "      <td>3.993253</td>\n",
       "      <td>2.514904</td>\n",
       "      <td>3.571909</td>\n",
       "      <td>5.628262</td>\n",
       "      <td>4.223813</td>\n",
       "      <td>4.141530</td>\n",
       "    </tr>\n",
       "    <tr>\n",
       "      <th>MA</th>\n",
       "      <td>5.453420</td>\n",
       "      <td>5.160132</td>\n",
       "      <td>5.288766</td>\n",
       "      <td>6.535540</td>\n",
       "      <td>2.506906</td>\n",
       "      <td>3.019168</td>\n",
       "      <td>2.347552</td>\n",
       "      <td>4.425745</td>\n",
       "      <td>1.789043</td>\n",
       "      <td>4.599359</td>\n",
       "      <td>...</td>\n",
       "      <td>6.061665</td>\n",
       "      <td>4.915531</td>\n",
       "      <td>6.086706</td>\n",
       "      <td>2.707846</td>\n",
       "      <td>3.469482</td>\n",
       "      <td>2.473351</td>\n",
       "      <td>2.036127</td>\n",
       "      <td>7.538069</td>\n",
       "      <td>3.510709</td>\n",
       "      <td>5.017776</td>\n",
       "    </tr>\n",
       "    <tr>\n",
       "      <th>MI</th>\n",
       "      <td>3.471271</td>\n",
       "      <td>2.994360</td>\n",
       "      <td>3.509289</td>\n",
       "      <td>4.352050</td>\n",
       "      <td>1.698430</td>\n",
       "      <td>2.010389</td>\n",
       "      <td>1.670509</td>\n",
       "      <td>2.110640</td>\n",
       "      <td>3.504421</td>\n",
       "      <td>2.157263</td>\n",
       "      <td>...</td>\n",
       "      <td>4.563138</td>\n",
       "      <td>2.958103</td>\n",
       "      <td>3.794287</td>\n",
       "      <td>3.018837</td>\n",
       "      <td>2.907516</td>\n",
       "      <td>2.116173</td>\n",
       "      <td>2.590439</td>\n",
       "      <td>5.085073</td>\n",
       "      <td>3.699237</td>\n",
       "      <td>3.446214</td>\n",
       "    </tr>\n",
       "    <tr>\n",
       "      <th>MN</th>\n",
       "      <td>4.735183</td>\n",
       "      <td>4.795405</td>\n",
       "      <td>4.670325</td>\n",
       "      <td>5.819223</td>\n",
       "      <td>2.042084</td>\n",
       "      <td>2.280417</td>\n",
       "      <td>2.658911</td>\n",
       "      <td>4.295743</td>\n",
       "      <td>3.168167</td>\n",
       "      <td>4.460124</td>\n",
       "      <td>...</td>\n",
       "      <td>5.187956</td>\n",
       "      <td>4.140718</td>\n",
       "      <td>5.710425</td>\n",
       "      <td>1.939448</td>\n",
       "      <td>2.442816</td>\n",
       "      <td>1.514164</td>\n",
       "      <td>1.649266</td>\n",
       "      <td>7.041151</td>\n",
       "      <td>2.601384</td>\n",
       "      <td>4.286404</td>\n",
       "    </tr>\n",
       "    <tr>\n",
       "      <th>MS</th>\n",
       "      <td>4.470256</td>\n",
       "      <td>4.270578</td>\n",
       "      <td>4.110102</td>\n",
       "      <td>4.692240</td>\n",
       "      <td>3.437689</td>\n",
       "      <td>3.078930</td>\n",
       "      <td>3.816565</td>\n",
       "      <td>3.612514</td>\n",
       "      <td>5.417047</td>\n",
       "      <td>3.701167</td>\n",
       "      <td>...</td>\n",
       "      <td>5.072581</td>\n",
       "      <td>3.417783</td>\n",
       "      <td>4.594207</td>\n",
       "      <td>4.310691</td>\n",
       "      <td>3.829553</td>\n",
       "      <td>3.268082</td>\n",
       "      <td>3.985916</td>\n",
       "      <td>5.837810</td>\n",
       "      <td>3.374649</td>\n",
       "      <td>3.950141</td>\n",
       "    </tr>\n",
       "    <tr>\n",
       "      <th>MO</th>\n",
       "      <td>1.086939</td>\n",
       "      <td>2.000188</td>\n",
       "      <td>2.032453</td>\n",
       "      <td>3.294652</td>\n",
       "      <td>2.593112</td>\n",
       "      <td>1.781582</td>\n",
       "      <td>3.141856</td>\n",
       "      <td>2.171346</td>\n",
       "      <td>5.764451</td>\n",
       "      <td>2.835552</td>\n",
       "      <td>...</td>\n",
       "      <td>2.640387</td>\n",
       "      <td>1.835812</td>\n",
       "      <td>2.236473</td>\n",
       "      <td>3.282298</td>\n",
       "      <td>2.329714</td>\n",
       "      <td>2.912129</td>\n",
       "      <td>3.171201</td>\n",
       "      <td>3.599079</td>\n",
       "      <td>3.020349</td>\n",
       "      <td>1.151658</td>\n",
       "    </tr>\n",
       "    <tr>\n",
       "      <th>MT</th>\n",
       "      <td>3.494755</td>\n",
       "      <td>3.874574</td>\n",
       "      <td>2.985648</td>\n",
       "      <td>3.963502</td>\n",
       "      <td>6.286038</td>\n",
       "      <td>5.169745</td>\n",
       "      <td>6.566770</td>\n",
       "      <td>4.646579</td>\n",
       "      <td>8.635002</td>\n",
       "      <td>4.679935</td>\n",
       "      <td>...</td>\n",
       "      <td>2.416251</td>\n",
       "      <td>4.295997</td>\n",
       "      <td>3.393748</td>\n",
       "      <td>6.083821</td>\n",
       "      <td>4.738011</td>\n",
       "      <td>6.275800</td>\n",
       "      <td>5.859396</td>\n",
       "      <td>3.636479</td>\n",
       "      <td>5.189070</td>\n",
       "      <td>3.125564</td>\n",
       "    </tr>\n",
       "    <tr>\n",
       "      <th>NE</th>\n",
       "      <td>3.307722</td>\n",
       "      <td>3.668479</td>\n",
       "      <td>2.927505</td>\n",
       "      <td>3.634204</td>\n",
       "      <td>2.980809</td>\n",
       "      <td>2.250106</td>\n",
       "      <td>3.813197</td>\n",
       "      <td>3.550277</td>\n",
       "      <td>5.170326</td>\n",
       "      <td>3.138947</td>\n",
       "      <td>...</td>\n",
       "      <td>2.936898</td>\n",
       "      <td>2.434623</td>\n",
       "      <td>4.264643</td>\n",
       "      <td>2.890587</td>\n",
       "      <td>1.339458</td>\n",
       "      <td>2.176171</td>\n",
       "      <td>2.679777</td>\n",
       "      <td>5.253256</td>\n",
       "      <td>2.568873</td>\n",
       "      <td>2.865232</td>\n",
       "    </tr>\n",
       "    <tr>\n",
       "      <th>NV</th>\n",
       "      <td>2.248852</td>\n",
       "      <td>1.565833</td>\n",
       "      <td>2.021378</td>\n",
       "      <td>3.406048</td>\n",
       "      <td>2.217568</td>\n",
       "      <td>1.521520</td>\n",
       "      <td>2.439825</td>\n",
       "      <td>1.037125</td>\n",
       "      <td>4.634382</td>\n",
       "      <td>1.637924</td>\n",
       "      <td>...</td>\n",
       "      <td>3.326173</td>\n",
       "      <td>2.265584</td>\n",
       "      <td>2.595977</td>\n",
       "      <td>2.900213</td>\n",
       "      <td>2.336402</td>\n",
       "      <td>2.625465</td>\n",
       "      <td>2.666985</td>\n",
       "      <td>3.912213</td>\n",
       "      <td>3.207778</td>\n",
       "      <td>1.986116</td>\n",
       "    </tr>\n",
       "    <tr>\n",
       "      <th>NH</th>\n",
       "      <td>3.706577</td>\n",
       "      <td>3.863496</td>\n",
       "      <td>3.575319</td>\n",
       "      <td>5.069694</td>\n",
       "      <td>2.025549</td>\n",
       "      <td>1.486772</td>\n",
       "      <td>2.706123</td>\n",
       "      <td>3.648531</td>\n",
       "      <td>3.929630</td>\n",
       "      <td>3.951091</td>\n",
       "      <td>...</td>\n",
       "      <td>4.023538</td>\n",
       "      <td>3.453310</td>\n",
       "      <td>4.822693</td>\n",
       "      <td>1.242723</td>\n",
       "      <td>1.341300</td>\n",
       "      <td>1.686579</td>\n",
       "      <td>0.999245</td>\n",
       "      <td>6.119078</td>\n",
       "      <td>1.665251</td>\n",
       "      <td>3.105043</td>\n",
       "    </tr>\n",
       "    <tr>\n",
       "      <th>NJ</th>\n",
       "      <td>5.352131</td>\n",
       "      <td>4.657829</td>\n",
       "      <td>5.230141</td>\n",
       "      <td>6.069845</td>\n",
       "      <td>2.768178</td>\n",
       "      <td>3.475273</td>\n",
       "      <td>2.134778</td>\n",
       "      <td>3.619033</td>\n",
       "      <td>2.179169</td>\n",
       "      <td>3.634154</td>\n",
       "      <td>...</td>\n",
       "      <td>6.362814</td>\n",
       "      <td>4.733901</td>\n",
       "      <td>5.470085</td>\n",
       "      <td>3.905327</td>\n",
       "      <td>4.356134</td>\n",
       "      <td>3.154822</td>\n",
       "      <td>3.342637</td>\n",
       "      <td>6.801718</td>\n",
       "      <td>4.751999</td>\n",
       "      <td>5.207633</td>\n",
       "    </tr>\n",
       "    <tr>\n",
       "      <th>NM</th>\n",
       "      <td>2.710779</td>\n",
       "      <td>2.482601</td>\n",
       "      <td>1.747059</td>\n",
       "      <td>2.587646</td>\n",
       "      <td>3.284483</td>\n",
       "      <td>2.254951</td>\n",
       "      <td>3.963412</td>\n",
       "      <td>2.525134</td>\n",
       "      <td>5.666832</td>\n",
       "      <td>2.150652</td>\n",
       "      <td>...</td>\n",
       "      <td>2.637339</td>\n",
       "      <td>1.922194</td>\n",
       "      <td>3.292759</td>\n",
       "      <td>3.350379</td>\n",
       "      <td>2.146539</td>\n",
       "      <td>2.939637</td>\n",
       "      <td>3.339742</td>\n",
       "      <td>4.062231</td>\n",
       "      <td>2.980716</td>\n",
       "      <td>2.141581</td>\n",
       "    </tr>\n",
       "    <tr>\n",
       "      <th>NY</th>\n",
       "      <td>4.241067</td>\n",
       "      <td>3.472039</td>\n",
       "      <td>4.115832</td>\n",
       "      <td>5.286360</td>\n",
       "      <td>2.134562</td>\n",
       "      <td>2.525314</td>\n",
       "      <td>1.402568</td>\n",
       "      <td>2.514226</td>\n",
       "      <td>2.725368</td>\n",
       "      <td>2.851929</td>\n",
       "      <td>...</td>\n",
       "      <td>5.338243</td>\n",
       "      <td>3.940503</td>\n",
       "      <td>4.393399</td>\n",
       "      <td>3.154522</td>\n",
       "      <td>3.527207</td>\n",
       "      <td>2.774802</td>\n",
       "      <td>2.597656</td>\n",
       "      <td>5.784861</td>\n",
       "      <td>3.969970</td>\n",
       "      <td>4.042974</td>\n",
       "    </tr>\n",
       "    <tr>\n",
       "      <th>NC</th>\n",
       "      <td>1.240410</td>\n",
       "      <td>2.276668</td>\n",
       "      <td>1.781326</td>\n",
       "      <td>3.167884</td>\n",
       "      <td>3.005854</td>\n",
       "      <td>1.983954</td>\n",
       "      <td>3.711126</td>\n",
       "      <td>2.742267</td>\n",
       "      <td>6.027567</td>\n",
       "      <td>3.128901</td>\n",
       "      <td>...</td>\n",
       "      <td>1.948967</td>\n",
       "      <td>1.937027</td>\n",
       "      <td>2.743189</td>\n",
       "      <td>3.102607</td>\n",
       "      <td>1.881427</td>\n",
       "      <td>3.026984</td>\n",
       "      <td>3.144146</td>\n",
       "      <td>3.763090</td>\n",
       "      <td>2.798840</td>\n",
       "      <td>0.965639</td>\n",
       "    </tr>\n",
       "    <tr>\n",
       "      <th>ND</th>\n",
       "      <td>3.890314</td>\n",
       "      <td>4.709645</td>\n",
       "      <td>3.884830</td>\n",
       "      <td>3.080660</td>\n",
       "      <td>6.754302</td>\n",
       "      <td>5.867464</td>\n",
       "      <td>7.307188</td>\n",
       "      <td>5.313225</td>\n",
       "      <td>9.499839</td>\n",
       "      <td>4.860228</td>\n",
       "      <td>...</td>\n",
       "      <td>2.870567</td>\n",
       "      <td>4.058068</td>\n",
       "      <td>3.818408</td>\n",
       "      <td>7.030391</td>\n",
       "      <td>5.370539</td>\n",
       "      <td>6.521633</td>\n",
       "      <td>6.888195</td>\n",
       "      <td>3.403958</td>\n",
       "      <td>6.246907</td>\n",
       "      <td>4.132499</td>\n",
       "    </tr>\n",
       "    <tr>\n",
       "      <th>OH</th>\n",
       "      <td>2.571284</td>\n",
       "      <td>3.237271</td>\n",
       "      <td>2.846455</td>\n",
       "      <td>3.806845</td>\n",
       "      <td>2.062510</td>\n",
       "      <td>1.403170</td>\n",
       "      <td>3.006351</td>\n",
       "      <td>3.111211</td>\n",
       "      <td>4.970356</td>\n",
       "      <td>3.207489</td>\n",
       "      <td>...</td>\n",
       "      <td>3.008980</td>\n",
       "      <td>2.113621</td>\n",
       "      <td>3.773061</td>\n",
       "      <td>2.433395</td>\n",
       "      <td>1.150318</td>\n",
       "      <td>1.617616</td>\n",
       "      <td>2.274646</td>\n",
       "      <td>4.972929</td>\n",
       "      <td>2.279745</td>\n",
       "      <td>2.322495</td>\n",
       "    </tr>\n",
       "    <tr>\n",
       "      <th>OK</th>\n",
       "      <td>1.862936</td>\n",
       "      <td>2.387339</td>\n",
       "      <td>2.898265</td>\n",
       "      <td>2.211916</td>\n",
       "      <td>3.817251</td>\n",
       "      <td>3.464228</td>\n",
       "      <td>4.358405</td>\n",
       "      <td>2.422355</td>\n",
       "      <td>7.070035</td>\n",
       "      <td>2.638960</td>\n",
       "      <td>...</td>\n",
       "      <td>3.614204</td>\n",
       "      <td>1.870577</td>\n",
       "      <td>1.710763</td>\n",
       "      <td>5.142844</td>\n",
       "      <td>4.155704</td>\n",
       "      <td>4.132564</td>\n",
       "      <td>5.158602</td>\n",
       "      <td>2.214235</td>\n",
       "      <td>5.031478</td>\n",
       "      <td>2.787489</td>\n",
       "    </tr>\n",
       "    <tr>\n",
       "      <th>OR</th>\n",
       "      <td>3.810394</td>\n",
       "      <td>3.647018</td>\n",
       "      <td>3.202878</td>\n",
       "      <td>4.971264</td>\n",
       "      <td>2.587825</td>\n",
       "      <td>1.657846</td>\n",
       "      <td>3.115736</td>\n",
       "      <td>3.552542</td>\n",
       "      <td>4.055564</td>\n",
       "      <td>3.820087</td>\n",
       "      <td>...</td>\n",
       "      <td>3.835613</td>\n",
       "      <td>3.599599</td>\n",
       "      <td>4.829134</td>\n",
       "      <td>1.091142</td>\n",
       "      <td>1.295079</td>\n",
       "      <td>2.273842</td>\n",
       "      <td>1.022188</td>\n",
       "      <td>6.031538</td>\n",
       "      <td>1.345338</td>\n",
       "      <td>2.938413</td>\n",
       "    </tr>\n",
       "    <tr>\n",
       "      <th>PA</th>\n",
       "      <td>1.220905</td>\n",
       "      <td>1.621449</td>\n",
       "      <td>2.302468</td>\n",
       "      <td>3.249592</td>\n",
       "      <td>3.815218</td>\n",
       "      <td>3.163196</td>\n",
       "      <td>4.088063</td>\n",
       "      <td>2.219743</td>\n",
       "      <td>6.799546</td>\n",
       "      <td>3.089771</td>\n",
       "      <td>...</td>\n",
       "      <td>3.160486</td>\n",
       "      <td>2.666025</td>\n",
       "      <td>1.392841</td>\n",
       "      <td>4.549810</td>\n",
       "      <td>3.805005</td>\n",
       "      <td>4.364386</td>\n",
       "      <td>4.549806</td>\n",
       "      <td>2.429253</td>\n",
       "      <td>4.478599</td>\n",
       "      <td>1.877227</td>\n",
       "    </tr>\n",
       "    <tr>\n",
       "      <th>RI</th>\n",
       "      <td>4.196825</td>\n",
       "      <td>3.701274</td>\n",
       "      <td>4.172927</td>\n",
       "      <td>5.395330</td>\n",
       "      <td>1.860928</td>\n",
       "      <td>2.315362</td>\n",
       "      <td>1.096656</td>\n",
       "      <td>2.774926</td>\n",
       "      <td>2.653771</td>\n",
       "      <td>3.125753</td>\n",
       "      <td>...</td>\n",
       "      <td>5.217107</td>\n",
       "      <td>3.864480</td>\n",
       "      <td>4.449817</td>\n",
       "      <td>2.970212</td>\n",
       "      <td>3.251505</td>\n",
       "      <td>2.441335</td>\n",
       "      <td>2.200508</td>\n",
       "      <td>5.981297</td>\n",
       "      <td>3.583398</td>\n",
       "      <td>3.947220</td>\n",
       "    </tr>\n",
       "    <tr>\n",
       "      <th>SC</th>\n",
       "      <td>3.510426</td>\n",
       "      <td>4.067595</td>\n",
       "      <td>3.673676</td>\n",
       "      <td>3.676638</td>\n",
       "      <td>6.732674</td>\n",
       "      <td>5.840733</td>\n",
       "      <td>7.019778</td>\n",
       "      <td>4.826270</td>\n",
       "      <td>9.420597</td>\n",
       "      <td>4.823475</td>\n",
       "      <td>...</td>\n",
       "      <td>3.252538</td>\n",
       "      <td>4.405594</td>\n",
       "      <td>2.984889</td>\n",
       "      <td>7.044899</td>\n",
       "      <td>5.693157</td>\n",
       "      <td>6.856409</td>\n",
       "      <td>6.880602</td>\n",
       "      <td>2.545397</td>\n",
       "      <td>6.392267</td>\n",
       "      <td>3.814222</td>\n",
       "    </tr>\n",
       "    <tr>\n",
       "      <th>SD</th>\n",
       "      <td>2.272782</td>\n",
       "      <td>3.030764</td>\n",
       "      <td>1.805917</td>\n",
       "      <td>2.756086</td>\n",
       "      <td>4.729624</td>\n",
       "      <td>3.599348</td>\n",
       "      <td>5.401468</td>\n",
       "      <td>3.827587</td>\n",
       "      <td>7.356392</td>\n",
       "      <td>3.696806</td>\n",
       "      <td>...</td>\n",
       "      <td>0.000000</td>\n",
       "      <td>2.763780</td>\n",
       "      <td>3.276498</td>\n",
       "      <td>4.352226</td>\n",
       "      <td>2.816778</td>\n",
       "      <td>4.470627</td>\n",
       "      <td>4.418741</td>\n",
       "      <td>3.570243</td>\n",
       "      <td>3.829554</td>\n",
       "      <td>1.926057</td>\n",
       "    </tr>\n",
       "    <tr>\n",
       "      <th>TN</th>\n",
       "      <td>1.760396</td>\n",
       "      <td>2.612894</td>\n",
       "      <td>2.413953</td>\n",
       "      <td>2.090210</td>\n",
       "      <td>2.984643</td>\n",
       "      <td>2.449727</td>\n",
       "      <td>3.816674</td>\n",
       "      <td>2.556844</td>\n",
       "      <td>6.230942</td>\n",
       "      <td>2.343909</td>\n",
       "      <td>...</td>\n",
       "      <td>2.763780</td>\n",
       "      <td>0.000000</td>\n",
       "      <td>2.529294</td>\n",
       "      <td>4.049046</td>\n",
       "      <td>2.746196</td>\n",
       "      <td>2.817993</td>\n",
       "      <td>3.991185</td>\n",
       "      <td>3.369988</td>\n",
       "      <td>3.706725</td>\n",
       "      <td>2.216253</td>\n",
       "    </tr>\n",
       "    <tr>\n",
       "      <th>TX</th>\n",
       "      <td>1.768022</td>\n",
       "      <td>1.983290</td>\n",
       "      <td>2.496229</td>\n",
       "      <td>2.858256</td>\n",
       "      <td>4.199246</td>\n",
       "      <td>3.623915</td>\n",
       "      <td>4.346224</td>\n",
       "      <td>2.171300</td>\n",
       "      <td>7.019399</td>\n",
       "      <td>2.622674</td>\n",
       "      <td>...</td>\n",
       "      <td>3.276498</td>\n",
       "      <td>2.529294</td>\n",
       "      <td>0.000000</td>\n",
       "      <td>5.209589</td>\n",
       "      <td>4.201931</td>\n",
       "      <td>4.635763</td>\n",
       "      <td>4.967710</td>\n",
       "      <td>1.982593</td>\n",
       "      <td>4.885596</td>\n",
       "      <td>2.368477</td>\n",
       "    </tr>\n",
       "    <tr>\n",
       "      <th>UT</th>\n",
       "      <td>4.073530</td>\n",
       "      <td>3.820444</td>\n",
       "      <td>3.638752</td>\n",
       "      <td>5.375719</td>\n",
       "      <td>2.525129</td>\n",
       "      <td>1.893114</td>\n",
       "      <td>3.070455</td>\n",
       "      <td>3.771261</td>\n",
       "      <td>3.805078</td>\n",
       "      <td>4.179509</td>\n",
       "      <td>...</td>\n",
       "      <td>4.352226</td>\n",
       "      <td>4.049046</td>\n",
       "      <td>5.209589</td>\n",
       "      <td>0.000000</td>\n",
       "      <td>1.817711</td>\n",
       "      <td>2.422996</td>\n",
       "      <td>1.247429</td>\n",
       "      <td>6.312553</td>\n",
       "      <td>2.160709</td>\n",
       "      <td>3.370680</td>\n",
       "    </tr>\n",
       "    <tr>\n",
       "      <th>VT</th>\n",
       "      <td>2.984473</td>\n",
       "      <td>3.230915</td>\n",
       "      <td>2.564600</td>\n",
       "      <td>4.012612</td>\n",
       "      <td>2.637784</td>\n",
       "      <td>1.579660</td>\n",
       "      <td>3.461110</td>\n",
       "      <td>3.324290</td>\n",
       "      <td>4.898792</td>\n",
       "      <td>3.396841</td>\n",
       "      <td>...</td>\n",
       "      <td>2.816778</td>\n",
       "      <td>2.746196</td>\n",
       "      <td>4.201931</td>\n",
       "      <td>1.817711</td>\n",
       "      <td>0.000000</td>\n",
       "      <td>2.148753</td>\n",
       "      <td>1.914058</td>\n",
       "      <td>5.241011</td>\n",
       "      <td>1.854834</td>\n",
       "      <td>2.294087</td>\n",
       "    </tr>\n",
       "    <tr>\n",
       "      <th>VA</th>\n",
       "      <td>3.691474</td>\n",
       "      <td>3.939532</td>\n",
       "      <td>3.910659</td>\n",
       "      <td>4.577666</td>\n",
       "      <td>1.211871</td>\n",
       "      <td>1.580230</td>\n",
       "      <td>2.371613</td>\n",
       "      <td>3.389056</td>\n",
       "      <td>3.999740</td>\n",
       "      <td>3.459389</td>\n",
       "      <td>...</td>\n",
       "      <td>4.470627</td>\n",
       "      <td>2.817993</td>\n",
       "      <td>4.635763</td>\n",
       "      <td>2.422996</td>\n",
       "      <td>2.148753</td>\n",
       "      <td>0.000000</td>\n",
       "      <td>2.300740</td>\n",
       "      <td>5.870214</td>\n",
       "      <td>2.782838</td>\n",
       "      <td>3.532372</td>\n",
       "    </tr>\n",
       "    <tr>\n",
       "      <th>WA</th>\n",
       "      <td>4.099447</td>\n",
       "      <td>3.874398</td>\n",
       "      <td>3.716797</td>\n",
       "      <td>5.500790</td>\n",
       "      <td>2.322342</td>\n",
       "      <td>1.824522</td>\n",
       "      <td>2.500124</td>\n",
       "      <td>3.571201</td>\n",
       "      <td>3.303523</td>\n",
       "      <td>3.962686</td>\n",
       "      <td>...</td>\n",
       "      <td>4.418741</td>\n",
       "      <td>3.991185</td>\n",
       "      <td>4.967710</td>\n",
       "      <td>1.247429</td>\n",
       "      <td>1.914058</td>\n",
       "      <td>2.300740</td>\n",
       "      <td>0.000000</td>\n",
       "      <td>6.353763</td>\n",
       "      <td>1.908689</td>\n",
       "      <td>3.364606</td>\n",
       "    </tr>\n",
       "    <tr>\n",
       "      <th>WV</th>\n",
       "      <td>2.658679</td>\n",
       "      <td>2.759540</td>\n",
       "      <td>3.094545</td>\n",
       "      <td>2.401244</td>\n",
       "      <td>5.589190</td>\n",
       "      <td>4.943274</td>\n",
       "      <td>5.938001</td>\n",
       "      <td>3.438088</td>\n",
       "      <td>8.418524</td>\n",
       "      <td>3.439624</td>\n",
       "      <td>...</td>\n",
       "      <td>3.570243</td>\n",
       "      <td>3.369988</td>\n",
       "      <td>1.982593</td>\n",
       "      <td>6.312553</td>\n",
       "      <td>5.241011</td>\n",
       "      <td>5.870214</td>\n",
       "      <td>6.353763</td>\n",
       "      <td>0.000000</td>\n",
       "      <td>6.204277</td>\n",
       "      <td>3.428472</td>\n",
       "    </tr>\n",
       "    <tr>\n",
       "      <th>WI</th>\n",
       "      <td>3.882304</td>\n",
       "      <td>4.080096</td>\n",
       "      <td>3.452450</td>\n",
       "      <td>5.215076</td>\n",
       "      <td>3.094339</td>\n",
       "      <td>2.114426</td>\n",
       "      <td>3.628320</td>\n",
       "      <td>4.037818</td>\n",
       "      <td>4.939871</td>\n",
       "      <td>4.436470</td>\n",
       "      <td>...</td>\n",
       "      <td>3.829554</td>\n",
       "      <td>3.706725</td>\n",
       "      <td>4.885596</td>\n",
       "      <td>2.160709</td>\n",
       "      <td>1.854834</td>\n",
       "      <td>2.782838</td>\n",
       "      <td>1.908689</td>\n",
       "      <td>6.204277</td>\n",
       "      <td>0.000000</td>\n",
       "      <td>2.891556</td>\n",
       "    </tr>\n",
       "    <tr>\n",
       "      <th>WY</th>\n",
       "      <td>1.345666</td>\n",
       "      <td>1.794331</td>\n",
       "      <td>1.165002</td>\n",
       "      <td>3.105415</td>\n",
       "      <td>3.392714</td>\n",
       "      <td>2.217198</td>\n",
       "      <td>3.899592</td>\n",
       "      <td>2.427114</td>\n",
       "      <td>6.196665</td>\n",
       "      <td>2.962916</td>\n",
       "      <td>...</td>\n",
       "      <td>1.926057</td>\n",
       "      <td>2.216253</td>\n",
       "      <td>2.368477</td>\n",
       "      <td>3.370680</td>\n",
       "      <td>2.294087</td>\n",
       "      <td>3.532372</td>\n",
       "      <td>3.364606</td>\n",
       "      <td>3.428472</td>\n",
       "      <td>2.891556</td>\n",
       "      <td>0.000000</td>\n",
       "    </tr>\n",
       "  </tbody>\n",
       "</table>\n",
       "<p>51 rows × 51 columns</p>\n",
       "</div>"
      ],
      "text/plain": [
       "abbrev        AL        AK        AZ        AR        CA        CO        CT  \\\n",
       "abbrev                                                                         \n",
       "AL      0.000000  1.848559  1.875942  2.616265  3.450372  2.687192  4.022977   \n",
       "AK      1.848559  0.000000  1.461454  2.961700  3.503615  2.674699  3.719860   \n",
       "AZ      1.875942  1.461454  0.000000  2.592933  3.873069  2.690949  4.341409   \n",
       "AR      2.616265  2.961700  2.592933  0.000000  4.773783  4.082043  5.511677   \n",
       "CA      3.450372  3.503615  3.873069  4.773783  0.000000  1.382473  1.360401   \n",
       "CO      2.687192  2.674699  2.690949  4.082043  1.382473  0.000000  2.171261   \n",
       "CT      4.022977  3.719860  4.341409  5.511677  1.360401  2.171261  0.000000   \n",
       "DE      2.426744  1.305465  2.322674  3.375631  2.801377  2.348937  2.792619   \n",
       "DC      6.627070  5.923340  6.312294  7.648001  3.725441  4.294426  3.100788   \n",
       "FL      2.863217  2.014017  2.471886  2.722795  3.294284  2.884757  3.490418   \n",
       "GA      2.740439  2.609142  2.619278  3.132497  1.994627  1.592712  2.812662   \n",
       "HI      1.967575  2.309612  2.090333  3.887437  4.367894  3.364956  4.523348   \n",
       "ID      3.227303  3.462721  2.330031  4.160356  4.023485  2.745180  4.726892   \n",
       "IL      2.648799  2.872699  2.779181  4.036791  1.416124  0.575336  2.256232   \n",
       "IN      2.936805  3.210155  2.440773  3.699517  2.832515  1.789320  3.702964   \n",
       "IA      3.114833  3.587012  2.842219  3.547224  3.017301  2.214124  4.043615   \n",
       "KS      1.858608  2.173195  1.774256  2.804821  2.488592  1.447705  3.354811   \n",
       "KY      1.951129  2.154966  1.855779  1.793132  3.376552  2.635520  4.080040   \n",
       "LA      3.864433  3.260930  4.243512  4.014378  4.931876  4.790390  4.801947   \n",
       "ME      2.803998  3.213492  2.324265  4.160980  3.400465  2.191438  4.083418   \n",
       "MD      4.050022  3.809894  4.515303  5.093197  1.647736  2.550081  1.521527   \n",
       "MA      5.453420  5.160132  5.288766  6.535540  2.506906  3.019168  2.347552   \n",
       "MI      3.471271  2.994360  3.509289  4.352050  1.698430  2.010389  1.670509   \n",
       "MN      4.735183  4.795405  4.670325  5.819223  2.042084  2.280417  2.658911   \n",
       "MS      4.470256  4.270578  4.110102  4.692240  3.437689  3.078930  3.816565   \n",
       "MO      1.086939  2.000188  2.032453  3.294652  2.593112  1.781582  3.141856   \n",
       "MT      3.494755  3.874574  2.985648  3.963502  6.286038  5.169745  6.566770   \n",
       "NE      3.307722  3.668479  2.927505  3.634204  2.980809  2.250106  3.813197   \n",
       "NV      2.248852  1.565833  2.021378  3.406048  2.217568  1.521520  2.439825   \n",
       "NH      3.706577  3.863496  3.575319  5.069694  2.025549  1.486772  2.706123   \n",
       "NJ      5.352131  4.657829  5.230141  6.069845  2.768178  3.475273  2.134778   \n",
       "NM      2.710779  2.482601  1.747059  2.587646  3.284483  2.254951  3.963412   \n",
       "NY      4.241067  3.472039  4.115832  5.286360  2.134562  2.525314  1.402568   \n",
       "NC      1.240410  2.276668  1.781326  3.167884  3.005854  1.983954  3.711126   \n",
       "ND      3.890314  4.709645  3.884830  3.080660  6.754302  5.867464  7.307188   \n",
       "OH      2.571284  3.237271  2.846455  3.806845  2.062510  1.403170  3.006351   \n",
       "OK      1.862936  2.387339  2.898265  2.211916  3.817251  3.464228  4.358405   \n",
       "OR      3.810394  3.647018  3.202878  4.971264  2.587825  1.657846  3.115736   \n",
       "PA      1.220905  1.621449  2.302468  3.249592  3.815218  3.163196  4.088063   \n",
       "RI      4.196825  3.701274  4.172927  5.395330  1.860928  2.315362  1.096656   \n",
       "SC      3.510426  4.067595  3.673676  3.676638  6.732674  5.840733  7.019778   \n",
       "SD      2.272782  3.030764  1.805917  2.756086  4.729624  3.599348  5.401468   \n",
       "TN      1.760396  2.612894  2.413953  2.090210  2.984643  2.449727  3.816674   \n",
       "TX      1.768022  1.983290  2.496229  2.858256  4.199246  3.623915  4.346224   \n",
       "UT      4.073530  3.820444  3.638752  5.375719  2.525129  1.893114  3.070455   \n",
       "VT      2.984473  3.230915  2.564600  4.012612  2.637784  1.579660  3.461110   \n",
       "VA      3.691474  3.939532  3.910659  4.577666  1.211871  1.580230  2.371613   \n",
       "WA      4.099447  3.874398  3.716797  5.500790  2.322342  1.824522  2.500124   \n",
       "WV      2.658679  2.759540  3.094545  2.401244  5.589190  4.943274  5.938001   \n",
       "WI      3.882304  4.080096  3.452450  5.215076  3.094339  2.114426  3.628320   \n",
       "WY      1.345666  1.794331  1.165002  3.105415  3.392714  2.217198  3.899592   \n",
       "\n",
       "abbrev        DE        DC        FL  ...        SD        TN        TX  \\\n",
       "abbrev                                ...                                 \n",
       "AL      2.426744  6.627070  2.863217  ...  2.272782  1.760396  1.768022   \n",
       "AK      1.305465  5.923340  2.014017  ...  3.030764  2.612894  1.983290   \n",
       "AZ      2.322674  6.312294  2.471886  ...  1.805917  2.413953  2.496229   \n",
       "AR      3.375631  7.648001  2.722795  ...  2.756086  2.090210  2.858256   \n",
       "CA      2.801377  3.725441  3.294284  ...  4.729624  2.984643  4.199246   \n",
       "CO      2.348937  4.294426  2.884757  ...  3.599348  2.449727  3.623915   \n",
       "CT      2.792619  3.100788  3.490418  ...  5.401468  3.816674  4.346224   \n",
       "DE      0.000000  5.106619  1.442845  ...  3.827587  2.556844  2.171300   \n",
       "DC      5.106619  0.000000  5.343223  ...  7.356392  6.230942  7.019399   \n",
       "FL      1.442845  5.343223  0.000000  ...  3.696806  2.343909  2.622674   \n",
       "GA      2.197382  4.611878  1.878250  ...  3.457118  1.848973  3.484814   \n",
       "HI      2.949538  6.947998  3.693017  ...  2.599938  3.261208  2.117453   \n",
       "ID      4.006878  6.093581  4.130941  ...  2.181769  3.440391  4.456028   \n",
       "IL      2.540638  4.370550  2.929698  ...  3.451012  2.344501  3.624767   \n",
       "IN      3.339940  5.138253  3.256948  ...  2.607172  2.552998  4.143568   \n",
       "IA      3.709853  5.452221  3.431343  ...  2.760459  2.449759  4.408638   \n",
       "KS      2.326149  5.470177  2.440633  ...  2.510956  1.426520  3.018528   \n",
       "KY      2.379312  6.165329  1.882937  ...  2.495190  1.163669  2.642535   \n",
       "LA      2.755112  7.275689  3.124342  ...  5.476430  3.904461  2.495853   \n",
       "ME      3.642062  5.661144  3.886650  ...  2.282470  3.080945  4.117779   \n",
       "MD      2.716767  4.030791  3.302112  ...  5.648360  3.474840  4.164078   \n",
       "MA      4.425745  1.789043  4.599359  ...  6.061665  4.915531  6.086706   \n",
       "MI      2.110640  3.504421  2.157263  ...  4.563138  2.958103  3.794287   \n",
       "MN      4.295743  3.168167  4.460124  ...  5.187956  4.140718  5.710425   \n",
       "MS      3.612514  5.417047  3.701167  ...  5.072581  3.417783  4.594207   \n",
       "MO      2.171346  5.764451  2.835552  ...  2.640387  1.835812  2.236473   \n",
       "MT      4.646579  8.635002  4.679935  ...  2.416251  4.295997  3.393748   \n",
       "NE      3.550277  5.170326  3.138947  ...  2.936898  2.434623  4.264643   \n",
       "NV      1.037125  4.634382  1.637924  ...  3.326173  2.265584  2.595977   \n",
       "NH      3.648531  3.929630  3.951091  ...  4.023538  3.453310  4.822693   \n",
       "NJ      3.619033  2.179169  3.634154  ...  6.362814  4.733901  5.470085   \n",
       "NM      2.525134  5.666832  2.150652  ...  2.637339  1.922194  3.292759   \n",
       "NY      2.514226  2.725368  2.851929  ...  5.338243  3.940503  4.393399   \n",
       "NC      2.742267  6.027567  3.128901  ...  1.948967  1.937027  2.743189   \n",
       "ND      5.313225  9.499839  4.860228  ...  2.870567  4.058068  3.818408   \n",
       "OH      3.111211  4.970356  3.207489  ...  3.008980  2.113621  3.773061   \n",
       "OK      2.422355  7.070035  2.638960  ...  3.614204  1.870577  1.710763   \n",
       "OR      3.552542  4.055564  3.820087  ...  3.835613  3.599599  4.829134   \n",
       "PA      2.219743  6.799546  3.089771  ...  3.160486  2.666025  1.392841   \n",
       "RI      2.774926  2.653771  3.125753  ...  5.217107  3.864480  4.449817   \n",
       "SC      4.826270  9.420597  4.823475  ...  3.252538  4.405594  2.984889   \n",
       "SD      3.827587  7.356392  3.696806  ...  0.000000  2.763780  3.276498   \n",
       "TN      2.556844  6.230942  2.343909  ...  2.763780  0.000000  2.529294   \n",
       "TX      2.171300  7.019399  2.622674  ...  3.276498  2.529294  0.000000   \n",
       "UT      3.771261  3.805078  4.179509  ...  4.352226  4.049046  5.209589   \n",
       "VT      3.324290  4.898792  3.396841  ...  2.816778  2.746196  4.201931   \n",
       "VA      3.389056  3.999740  3.459389  ...  4.470627  2.817993  4.635763   \n",
       "WA      3.571201  3.303523  3.962686  ...  4.418741  3.991185  4.967710   \n",
       "WV      3.438088  8.418524  3.439624  ...  3.570243  3.369988  1.982593   \n",
       "WI      4.037818  4.939871  4.436470  ...  3.829554  3.706725  4.885596   \n",
       "WY      2.427114  6.196665  2.962916  ...  1.926057  2.216253  2.368477   \n",
       "\n",
       "abbrev        UT        VT        VA        WA        WV        WI        WY  \n",
       "abbrev                                                                        \n",
       "AL      4.073530  2.984473  3.691474  4.099447  2.658679  3.882304  1.345666  \n",
       "AK      3.820444  3.230915  3.939532  3.874398  2.759540  4.080096  1.794331  \n",
       "AZ      3.638752  2.564600  3.910659  3.716797  3.094545  3.452450  1.165002  \n",
       "AR      5.375719  4.012612  4.577666  5.500790  2.401244  5.215076  3.105415  \n",
       "CA      2.525129  2.637784  1.211871  2.322342  5.589190  3.094339  3.392714  \n",
       "CO      1.893114  1.579660  1.580230  1.824522  4.943274  2.114426  2.217198  \n",
       "CT      3.070455  3.461110  2.371613  2.500124  5.938001  3.628320  3.899592  \n",
       "DE      3.771261  3.324290  3.389056  3.571201  3.438088  4.037818  2.427114  \n",
       "DC      3.805078  4.898792  3.999740  3.303523  8.418524  4.939871  6.196665  \n",
       "FL      4.179509  3.396841  3.459389  3.962686  3.439624  4.436470  2.962916  \n",
       "GA      2.800176  1.991736  1.741679  2.777024  4.447891  3.237933  2.680223  \n",
       "HI      4.479970  3.571822  4.728124  4.265045  3.336821  3.832770  1.485756  \n",
       "ID      2.685512  1.551591  3.638644  2.946004  5.210840  2.220161  2.207048  \n",
       "IL      2.045405  1.378476  1.422768  1.823447  4.980795  2.162329  2.263061  \n",
       "IN      2.150285  0.431526  2.248464  2.271576  5.075878  2.111961  2.300292  \n",
       "IA      2.593951  1.109788  2.229273  2.815298  5.169456  2.639014  2.753406  \n",
       "KS      2.764565  1.635965  2.319119  2.900155  3.936542  2.642380  1.552764  \n",
       "KY      3.921383  2.720046  3.201370  3.962988  3.125623  3.815375  2.165642  \n",
       "LA      6.434672  5.818144  5.553106  6.195012  3.135339  6.342526  4.357395  \n",
       "ME      2.305619  1.128301  3.111324  2.438338  5.077069  1.876843  1.896015  \n",
       "MD      3.915988  3.993253  2.514904  3.571909  5.628262  4.223813  4.141530  \n",
       "MA      2.707846  3.469482  2.473351  2.036127  7.538069  3.510709  5.017776  \n",
       "MI      3.018837  2.907516  2.116173  2.590439  5.085073  3.699237  3.446214  \n",
       "MN      1.939448  2.442816  1.514164  1.649266  7.041151  2.601384  4.286404  \n",
       "MS      4.310691  3.829553  3.268082  3.985916  5.837810  3.374649  3.950141  \n",
       "MO      3.282298  2.329714  2.912129  3.171201  3.599079  3.020349  1.151658  \n",
       "MT      6.083821  4.738011  6.275800  5.859396  3.636479  5.189070  3.125564  \n",
       "NE      2.890587  1.339458  2.176171  2.679777  5.253256  2.568873  2.865232  \n",
       "NV      2.900213  2.336402  2.625465  2.666985  3.912213  3.207778  1.986116  \n",
       "NH      1.242723  1.341300  1.686579  0.999245  6.119078  1.665251  3.105043  \n",
       "NJ      3.905327  4.356134  3.154822  3.342637  6.801718  4.751999  5.207633  \n",
       "NM      3.350379  2.146539  2.939637  3.339742  4.062231  2.980716  2.141581  \n",
       "NY      3.154522  3.527207  2.774802  2.597656  5.784861  3.969970  4.042974  \n",
       "NC      3.102607  1.881427  3.026984  3.144146  3.763090  2.798840  0.965639  \n",
       "ND      7.030391  5.370539  6.521633  6.888195  3.403958  6.246907  4.132499  \n",
       "OH      2.433395  1.150318  1.617616  2.274646  4.972929  2.279745  2.322495  \n",
       "OK      5.142844  4.155704  4.132564  5.158602  2.214235  5.031478  2.787489  \n",
       "OR      1.091142  1.295079  2.273842  1.022188  6.031538  1.345338  2.938413  \n",
       "PA      4.549810  3.805005  4.364386  4.549806  2.429253  4.478599  1.877227  \n",
       "RI      2.970212  3.251505  2.441335  2.200508  5.981297  3.583398  3.947220  \n",
       "SC      7.044899  5.693157  6.856409  6.880602  2.545397  6.392267  3.814222  \n",
       "SD      4.352226  2.816778  4.470627  4.418741  3.570243  3.829554  1.926057  \n",
       "TN      4.049046  2.746196  2.817993  3.991185  3.369988  3.706725  2.216253  \n",
       "TX      5.209589  4.201931  4.635763  4.967710  1.982593  4.885596  2.368477  \n",
       "UT      0.000000  1.817711  2.422996  1.247429  6.312553  2.160709  3.370680  \n",
       "VT      1.817711  0.000000  2.148753  1.914058  5.241011  1.854834  2.294087  \n",
       "VA      2.422996  2.148753  0.000000  2.300740  5.870214  2.782838  3.532372  \n",
       "WA      1.247429  1.914058  2.300740  0.000000  6.353763  1.908689  3.364606  \n",
       "WV      6.312553  5.241011  5.870214  6.353763  0.000000  6.204277  3.428472  \n",
       "WI      2.160709  1.854834  2.782838  1.908689  6.204277  0.000000  2.891556  \n",
       "WY      3.370680  2.294087  3.532372  3.364606  3.428472  2.891556  0.000000  \n",
       "\n",
       "[51 rows x 51 columns]"
      ]
     },
     "execution_count": 113,
     "metadata": {},
     "output_type": "execute_result"
    }
   ],
   "source": [
    "# ANSWER\n",
    "distmat_cars= pd.DataFrame(pairwise_distances(df_car_crashes_zscore),\n",
    "                           index=df_car_crashes.index,columns=df_car_crashes.index)\n",
    "distmat_cars"
   ]
  },
  {
   "cell_type": "markdown",
   "metadata": {},
   "source": [
    "---\n",
    "**23)**\t[P] An interesting way to suggest outliers is to take a distance matrix, aggregate the mean over each row or column, then sort the output in order. Why would this work? Because an observation that is an outlier should have a relatively high mean distance to all other observations! Do this, and output the list in descending order. (HINT: DC should be your largest outlier, listed first.)"
   ]
  },
  {
   "cell_type": "code",
   "execution_count": 114,
   "metadata": {},
   "outputs": [
    {
     "data": {
      "text/plain": [
       "abbrev\n",
       "DC    5.265665\n",
       "ND    5.257310\n",
       "SC    5.214264\n",
       "LA    4.767480\n",
       "MT    4.759816\n",
       "WV    4.512765\n",
       "NJ    4.310802\n",
       "MA    4.197514\n",
       "MS    4.048306\n",
       "AR    3.897634\n",
       "MD    3.749940\n",
       "MN    3.719807\n",
       "OK    3.618059\n",
       "HI    3.591754\n",
       "SD    3.585247\n",
       "TX    3.572109\n",
       "NY    3.531806\n",
       "CT    3.514075\n",
       "WI    3.468777\n",
       "ID    3.440898\n",
       "PA    3.440610\n",
       "UT    3.438145\n",
       "RI    3.434056\n",
       "WA    3.296993\n",
       "FL    3.205449\n",
       "VA    3.156358\n",
       "OR    3.130498\n",
       "CA    3.116880\n",
       "ME    3.105252\n",
       "NH    3.100905\n",
       "IA    3.098436\n",
       "AK    3.091304\n",
       "MI    3.072811\n",
       "NE    3.065207\n",
       "AL    3.033362\n",
       "DE    3.021971\n",
       "AZ    2.999865\n",
       "TN    2.965255\n",
       "KY    2.964332\n",
       "NM    2.914953\n",
       "IN    2.841386\n",
       "WY    2.839487\n",
       "VT    2.820077\n",
       "NC    2.777656\n",
       "OH    2.746863\n",
       "MO    2.734449\n",
       "GA    2.726648\n",
       "NV    2.627496\n",
       "CO    2.617432\n",
       "IL    2.602263\n",
       "KS    2.573618\n",
       "dtype: float32"
      ]
     },
     "execution_count": 114,
     "metadata": {},
     "output_type": "execute_result"
    }
   ],
   "source": [
    "# ANSWER\n",
    "distmat_cars.mean().sort_values(ascending=False)"
   ]
  },
  {
   "cell_type": "markdown",
   "metadata": {},
   "source": [
    "----\n",
    "**24)**\t[M] From this analysis, which 3 states seem to be the outliers?"
   ]
  },
  {
   "cell_type": "markdown",
   "metadata": {},
   "source": [
    "**ANSWER:**\n",
    "DC, North Dakota, and South Carolina\n"
   ]
  },
  {
   "cell_type": "markdown",
   "metadata": {},
   "source": [
    "---\n",
    "**25)**\t[P] OK. Let's explore the data visually. First, using the original, unscaled data frame `df_car_crashes`, create a scatter plot of insurance premiums vs. insurance losses, with total number of accidents as the size of the point. Create a label near to every point representing the two letter state code."
   ]
  },
  {
   "cell_type": "code",
   "execution_count": 115,
   "metadata": {},
   "outputs": [
    {
     "data": {
      "image/png": "[encoded data removed]",
      "text/plain": [
       "<Figure size 640x480 with 1 Axes>"
      ]
     },
     "metadata": {},
     "output_type": "display_data"
    }
   ],
   "source": [
    "# ANSWER\n",
    "\n",
    "sns.scatterplot(data=df_car_crashes,x=df_car_crashes.ins_premium,\n",
    "                y=df_car_crashes.ins_losses,size=df_car_crashes.total)\n",
    "\n",
    "for i in range(df_car_crashes.shape[0]):\n",
    " plt.text(x=df_car_crashes.ins_premium[i]+7,y=df_car_crashes.ins_losses[i]+2,s=df_car_crashes.index[i])\n",
    "        \n",
    "\n",
    "plt.show()\n",
    "\n"
   ]
  },
  {
   "cell_type": "markdown",
   "metadata": {},
   "source": [
    "---\n",
    "**26)** [P] Next, generate **two** plots that show some relationships between variables in the data. Try to use as many variables as you can without creating chaos! Don't just throw in multiple variables for the sake of showing them, only include them if it makes sense to do so. **Your aim is to derive meaning from your data. Good visualizations tell a story.** Strive to use at additional variables as size, as color, or even shape in your data so you can show more than just 2 variables on a single plot. Add titles, legends and label your axes as appropriate.\n",
    "\n",
    "After each plot, create a markdown cell and briefly draw conclusions from your plot."
   ]
  },
  {
   "cell_type": "code",
   "execution_count": 197,
   "metadata": {},
   "outputs": [
    {
     "data": {
      "text/plain": [
       "Text(0.5, 1.0, 'States with the Highest Premiums and Most DUIs')"
      ]
     },
     "execution_count": 197,
     "metadata": {},
     "output_type": "execute_result"
    },
    {
     "data": {
      "image/png": "[encoded data removed]",
      "text/plain": [
       "<Figure size 640x480 with 1 Axes>"
      ]
     },
     "metadata": {},
     "output_type": "display_data"
    }
   ],
   "source": [
    "# ANSWER\n",
    "sns.scatterplot(data=df_car_crashes,x=df_car_crashes.alcohol,\n",
    "                y=df_car_crashes.ins_premium,size=df_car_crashes.total)\n",
    "\n",
    "for i in range(df_car_crashes.shape[0]):\n",
    " plt.text(x=df_car_crashes.alcohol[i]-.4,y=df_car_crashes.ins_premium[i]+.2,s=df_car_crashes.index[i])\n",
    "plt.title(\"States with the Highest Premiums and Most DUIs\")"
   ]
  },
  {
   "cell_type": "markdown",
   "metadata": {},
   "source": [
    "**ANSWER:**\n",
    "Weirdly enough, some of the states with the lowest amount of recorded DUIs have the highest premiums, while the 3 states with the most DUIs have low premiums. The cost of living in DC, NJ, NY is much higher than MT, ND, and SC so that is a potential explanation.\n",
    "\n"
   ]
  },
  {
   "cell_type": "code",
   "execution_count": 207,
   "metadata": {
    "collapsed": false,
    "jupyter": {
     "outputs_hidden": false
    }
   },
   "outputs": [
    {
     "data": {
      "text/plain": [
       "Text(0.5, 1.0, 'States with the Worst Insurance Losses and Most First Time Accidents')"
      ]
     },
     "execution_count": 207,
     "metadata": {},
     "output_type": "execute_result"
    },
    {
     "data": {
      "image/png": "[encoded data removed]",
      "text/plain": [
       "<Figure size 567.75x500 with 1 Axes>"
      ]
     },
     "metadata": {},
     "output_type": "display_data"
    }
   ],
   "source": [
    "# ANSWER:\n",
    "sns.relplot(y=df_car_crashes.ins_losses,x=df_car_crashes.no_previous,\n",
    "            size=df_car_crashes.total)\n",
    "for i in range(df_car_crashes.shape[0]):\n",
    " plt.text(x=df_car_crashes.no_previous[i]-.4,y=df_car_crashes.ins_losses[i]+2,s=df_car_crashes.index[i])\n",
    "plt.title(\"States with the Worst Insurance Losses and Most First Time Accidents\")"
   ]
  },
  {
   "cell_type": "markdown",
   "metadata": {},
   "source": [
    "**ANSWER:**\n",
    "There doesn't seem to be much correlation between the no_previous and ins_losses variables like I hypothesized. It does seem that states with low accident totals have a small amount of first time accidents.\n",
    "\n"
   ]
  },
  {
   "cell_type": "markdown",
   "metadata": {},
   "source": [
    "**27)**\t [P] Now, we're going to look at the data visually, but use a PCA transformation to help give a better sense of trends and differences among our data.\n",
    "\n",
    "Run a full PCA on the zscore transformed data. Set `n_components` to be the number of variables in the original data. Be sure to fit the data to your PCA model, and then output the components, explained variance, and the explained variance ratio."
   ]
  },
  {
   "cell_type": "code",
   "execution_count": 118,
   "metadata": {},
   "outputs": [
    {
     "name": "stdout",
     "output_type": "stream",
     "text": [
      "Explained Variance: [4.094231   1.6095734  0.561614   0.35753977 0.28638542 0.2026331\n",
      " 0.02802381]\n",
      "Explained Variance Ratio: [0.5734217  0.22543043 0.07865742 0.05007559 0.04011    0.02837998\n",
      " 0.0039249 ]\n",
      "Components: [[ 0.47947082  0.3753472   0.45437643  0.4380329   0.4570342  -0.13083196\n",
      "  -0.06996052]\n",
      " [ 0.06893778  0.07658453  0.03345843  0.04237481  0.09612935  0.68522656\n",
      "   0.7125242 ]\n",
      " [-0.26908803  0.81826913  0.08293254 -0.12616797 -0.3179882   0.25614262\n",
      "  -0.26173535]\n",
      " [ 0.03895603 -0.36374933  0.1483435   0.17126532  0.03948156  0.656396\n",
      "  -0.61839867]\n",
      " [ 0.14597659 -0.02282778  0.35479817 -0.85646874  0.33611014  0.04214527\n",
      "  -0.06327147]\n",
      " [-0.16970523 -0.22479255  0.78376776  0.08510473 -0.50401175 -0.11577339\n",
      "   0.17805175]\n",
      " [ 0.8008248   0.01784773 -0.15285765 -0.14247839 -0.55875367  0.04126609\n",
      "  -0.02804956]]\n"
     ]
    }
   ],
   "source": [
    "# ANSWER\n",
    "pca = PCA(n_components=len(df_car_crashes.columns))\n",
    "pca.fit(df_car_crashes_zscore)\n",
    "print(\"Explained Variance: {}\".format(pca.explained_variance_))\n",
    "print(\"Explained Variance Ratio: {}\".format(pca.explained_variance_ratio_))\n",
    "print(\"Components: {}\".format(pca.components_))\n"
   ]
  },
  {
   "cell_type": "markdown",
   "metadata": {},
   "source": [
    "---\n",
    "**28)**\t[M] Use your intuition – what do the weights of the first couple of PCs suggest explains most of the variance in the data? Are there certain variables that seem to be more significant? Or are they all playing a role?"
   ]
  },
  {
   "cell_type": "markdown",
   "metadata": {},
   "source": [
    "**ANSWER:**\n",
    "The first component, which accounts for more than 50% of the variance alone, weights the variables somewhat equally, except for inspremium and inslosses, which are negatively weighted. Since they are weighted so low in the highest PC, I would say they are less significant in explaining variance."
   ]
  },
  {
   "cell_type": "markdown",
   "metadata": {},
   "source": [
    "---\n",
    "**29)** [P] Create a plot of the cumulative sum of the explained variance. How many components will get you to 90% of the explained variance?"
   ]
  },
  {
   "cell_type": "code",
   "execution_count": 119,
   "metadata": {},
   "outputs": [
    {
     "data": {
      "text/plain": [
       "Text(0.5, 0, 'Components')"
      ]
     },
     "execution_count": 119,
     "metadata": {},
     "output_type": "execute_result"
    },
    {
     "data": {
      "image/png": "[encoded data removed]",
      "text/plain": [
       "<Figure size 640x480 with 1 Axes>"
      ]
     },
     "metadata": {},
     "output_type": "display_data"
    }
   ],
   "source": [
    "# ANSWER\n",
    "sns.lineplot(pca.explained_variance_ratio_.cumsum())\n",
    "\n",
    "plt.plot(3,.927,'co')\n",
    "plt.text(x=3.1,y=.91,s='>90% with 3 components')\n",
    "plt.ylabel('Proportion of Explained Variance')\n",
    "plt.xlabel('Components')"
   ]
  },
  {
   "cell_type": "markdown",
   "metadata": {},
   "source": [
    "---\n",
    "**30)**\t[P] Transform the z_score transformed data using your PCA model (HINT: use the `transform` function of the pca object.)\n",
    "\n",
    "(NOTE: I often just store the transformed data temporarily as some arbitrary variable, X, to make it easier to manipulate the data for plotting and also use later.)"
   ]
  },
  {
   "cell_type": "code",
   "execution_count": 139,
   "metadata": {},
   "outputs": [
    {
     "data": {
      "text/html": [
       "<div>\n",
       "<style scoped>\n",
       "    .dataframe tbody tr th:only-of-type {\n",
       "        vertical-align: middle;\n",
       "    }\n",
       "\n",
       "    .dataframe tbody tr th {\n",
       "        vertical-align: top;\n",
       "    }\n",
       "\n",
       "    .dataframe thead th {\n",
       "        text-align: right;\n",
       "    }\n",
       "</style>\n",
       "<table border=\"1\" class=\"dataframe\">\n",
       "  <thead>\n",
       "    <tr style=\"text-align: right;\">\n",
       "      <th></th>\n",
       "      <th>Component 1</th>\n",
       "      <th>Component 2</th>\n",
       "      <th>Component 3</th>\n",
       "      <th>Component 4</th>\n",
       "      <th>Component 5</th>\n",
       "      <th>Component 6</th>\n",
       "      <th>Component 7</th>\n",
       "    </tr>\n",
       "    <tr>\n",
       "      <th>abbrev</th>\n",
       "      <th></th>\n",
       "      <th></th>\n",
       "      <th></th>\n",
       "      <th></th>\n",
       "      <th></th>\n",
       "      <th></th>\n",
       "      <th></th>\n",
       "    </tr>\n",
       "  </thead>\n",
       "  <tbody>\n",
       "    <tr>\n",
       "      <th>AL</th>\n",
       "      <td>1.603671</td>\n",
       "      <td>0.133449</td>\n",
       "      <td>0.317881</td>\n",
       "      <td>-0.795293</td>\n",
       "      <td>-0.579719</td>\n",
       "      <td>0.046222</td>\n",
       "      <td>0.210185</td>\n",
       "    </tr>\n",
       "    <tr>\n",
       "      <th>AK</th>\n",
       "      <td>1.144212</td>\n",
       "      <td>0.858234</td>\n",
       "      <td>0.736627</td>\n",
       "      <td>0.318987</td>\n",
       "      <td>-0.228701</td>\n",
       "      <td>-1.002625</td>\n",
       "      <td>0.008966</td>\n",
       "    </tr>\n",
       "    <tr>\n",
       "      <th>AZ</th>\n",
       "      <td>1.432172</td>\n",
       "      <td>-0.420506</td>\n",
       "      <td>0.338137</td>\n",
       "      <td>0.552513</td>\n",
       "      <td>0.168718</td>\n",
       "      <td>-0.804523</td>\n",
       "      <td>-0.076108</td>\n",
       "    </tr>\n",
       "    <tr>\n",
       "      <th>AR</th>\n",
       "      <td>2.491584</td>\n",
       "      <td>0.348968</td>\n",
       "      <td>-1.788747</td>\n",
       "      <td>0.264065</td>\n",
       "      <td>-0.372383</td>\n",
       "      <td>-0.481850</td>\n",
       "      <td>-0.147636</td>\n",
       "    </tr>\n",
       "    <tr>\n",
       "      <th>CA</th>\n",
       "      <td>-1.750639</td>\n",
       "      <td>0.633625</td>\n",
       "      <td>-0.136177</td>\n",
       "      <td>-0.974916</td>\n",
       "      <td>-0.315811</td>\n",
       "      <td>0.178510</td>\n",
       "      <td>-0.068958</td>\n",
       "    </tr>\n",
       "    <tr>\n",
       "      <th>CO</th>\n",
       "      <td>-0.925120</td>\n",
       "      <td>-0.154388</td>\n",
       "      <td>0.146176</td>\n",
       "      <td>-0.568096</td>\n",
       "      <td>0.116420</td>\n",
       "      <td>-0.240859</td>\n",
       "      <td>-0.098427</td>\n",
       "    </tr>\n",
       "    <tr>\n",
       "      <th>CT</th>\n",
       "      <td>-2.125360</td>\n",
       "      <td>1.370600</td>\n",
       "      <td>0.743077</td>\n",
       "      <td>-0.485554</td>\n",
       "      <td>-0.088337</td>\n",
       "      <td>0.486531</td>\n",
       "      <td>0.020256</td>\n",
       "    </tr>\n",
       "    <tr>\n",
       "      <th>DE</th>\n",
       "      <td>0.324658</td>\n",
       "      <td>1.574244</td>\n",
       "      <td>0.440982</td>\n",
       "      <td>0.338057</td>\n",
       "      <td>0.095481</td>\n",
       "      <td>-0.466100</td>\n",
       "      <td>-0.188961</td>\n",
       "    </tr>\n",
       "    <tr>\n",
       "      <th>DC</th>\n",
       "      <td>-4.635927</td>\n",
       "      <td>0.918997</td>\n",
       "      <td>0.720078</td>\n",
       "      <td>1.184313</td>\n",
       "      <td>-0.172554</td>\n",
       "      <td>-0.052799</td>\n",
       "      <td>-0.124806</td>\n",
       "    </tr>\n",
       "    <tr>\n",
       "      <th>FL</th>\n",
       "      <td>0.495689</td>\n",
       "      <td>1.435282</td>\n",
       "      <td>-0.661126</td>\n",
       "      <td>1.185136</td>\n",
       "      <td>-0.108007</td>\n",
       "      <td>-0.244305</td>\n",
       "      <td>-0.086714</td>\n",
       "    </tr>\n",
       "    <tr>\n",
       "      <th>GA</th>\n",
       "      <td>-0.525427</td>\n",
       "      <td>0.266688</td>\n",
       "      <td>-0.996973</td>\n",
       "      <td>0.224700</td>\n",
       "      <td>-0.396993</td>\n",
       "      <td>-0.216235</td>\n",
       "      <td>-0.085949</td>\n",
       "    </tr>\n",
       "    <tr>\n",
       "      <th>HI</th>\n",
       "      <td>1.928047</td>\n",
       "      <td>-0.210245</td>\n",
       "      <td>1.802469</td>\n",
       "      <td>-0.307750</td>\n",
       "      <td>0.474235</td>\n",
       "      <td>0.243974</td>\n",
       "      <td>-0.027264</td>\n",
       "    </tr>\n",
       "    <tr>\n",
       "      <th>ID</th>\n",
       "      <td>0.313123</td>\n",
       "      <td>-2.427597</td>\n",
       "      <td>0.346267</td>\n",
       "      <td>0.242471</td>\n",
       "      <td>0.156261</td>\n",
       "      <td>-0.601429</td>\n",
       "      <td>-0.179853</td>\n",
       "    </tr>\n",
       "    <tr>\n",
       "      <th>IL</th>\n",
       "      <td>-0.879340</td>\n",
       "      <td>-0.325337</td>\n",
       "      <td>0.030223</td>\n",
       "      <td>-0.510003</td>\n",
       "      <td>-0.104465</td>\n",
       "      <td>0.214890</td>\n",
       "      <td>-0.260829</td>\n",
       "    </tr>\n",
       "    <tr>\n",
       "      <th>IN</th>\n",
       "      <td>-0.395326</td>\n",
       "      <td>-1.517806</td>\n",
       "      <td>-0.480372</td>\n",
       "      <td>0.170787</td>\n",
       "      <td>-0.207525</td>\n",
       "      <td>-0.138441</td>\n",
       "      <td>-0.188620</td>\n",
       "    </tr>\n",
       "    <tr>\n",
       "      <th>IA</th>\n",
       "      <td>-0.350122</td>\n",
       "      <td>-1.606357</td>\n",
       "      <td>-1.143953</td>\n",
       "      <td>0.018727</td>\n",
       "      <td>-0.530035</td>\n",
       "      <td>-0.085099</td>\n",
       "      <td>0.013598</td>\n",
       "    </tr>\n",
       "    <tr>\n",
       "      <th>KS</th>\n",
       "      <td>0.268724</td>\n",
       "      <td>-0.388644</td>\n",
       "      <td>-0.487894</td>\n",
       "      <td>-0.360657</td>\n",
       "      <td>-0.000996</td>\n",
       "      <td>-0.428149</td>\n",
       "      <td>0.250526</td>\n",
       "    </tr>\n",
       "    <tr>\n",
       "      <th>KY</th>\n",
       "      <td>1.079427</td>\n",
       "      <td>0.167895</td>\n",
       "      <td>-1.079835</td>\n",
       "      <td>0.249861</td>\n",
       "      <td>-0.186248</td>\n",
       "      <td>-0.329689</td>\n",
       "      <td>0.644697</td>\n",
       "    </tr>\n",
       "    <tr>\n",
       "      <th>LA</th>\n",
       "      <td>1.879427</td>\n",
       "      <td>3.648217</td>\n",
       "      <td>0.044438</td>\n",
       "      <td>-0.119692</td>\n",
       "      <td>0.753572</td>\n",
       "      <td>-0.199459</td>\n",
       "      <td>-0.157203</td>\n",
       "    </tr>\n",
       "    <tr>\n",
       "      <th>ME</th>\n",
       "      <td>0.033165</td>\n",
       "      <td>-2.000911</td>\n",
       "      <td>0.533298</td>\n",
       "      <td>-0.086127</td>\n",
       "      <td>-0.098661</td>\n",
       "      <td>-0.174564</td>\n",
       "      <td>0.105598</td>\n",
       "    </tr>\n",
       "    <tr>\n",
       "      <th>MD</th>\n",
       "      <td>-1.708748</td>\n",
       "      <td>2.126421</td>\n",
       "      <td>-0.245392</td>\n",
       "      <td>-1.031567</td>\n",
       "      <td>0.350294</td>\n",
       "      <td>0.261180</td>\n",
       "      <td>-0.207411</td>\n",
       "    </tr>\n",
       "    <tr>\n",
       "      <th>MA</th>\n",
       "      <td>-3.651457</td>\n",
       "      <td>-0.025082</td>\n",
       "      <td>0.113215</td>\n",
       "      <td>0.426712</td>\n",
       "      <td>-0.063149</td>\n",
       "      <td>0.553208</td>\n",
       "      <td>0.012150</td>\n",
       "    </tr>\n",
       "    <tr>\n",
       "      <th>MI</th>\n",
       "      <td>-1.370703</td>\n",
       "      <td>1.191238</td>\n",
       "      <td>-0.186197</td>\n",
       "      <td>0.541027</td>\n",
       "      <td>-0.478532</td>\n",
       "      <td>0.226347</td>\n",
       "      <td>0.247314</td>\n",
       "    </tr>\n",
       "    <tr>\n",
       "      <th>MN</th>\n",
       "      <td>-2.909039</td>\n",
       "      <td>-0.903774</td>\n",
       "      <td>-0.364752</td>\n",
       "      <td>-0.368156</td>\n",
       "      <td>-0.166401</td>\n",
       "      <td>0.326086</td>\n",
       "      <td>-0.079623</td>\n",
       "    </tr>\n",
       "    <tr>\n",
       "      <th>MS</th>\n",
       "      <td>-0.864891</td>\n",
       "      <td>0.583746</td>\n",
       "      <td>-1.243685</td>\n",
       "      <td>-0.420312</td>\n",
       "      <td>2.747442</td>\n",
       "      <td>-0.112549</td>\n",
       "      <td>0.099182</td>\n",
       "    </tr>\n",
       "    <tr>\n",
       "      <th>MO</th>\n",
       "      <td>0.659733</td>\n",
       "      <td>0.003254</td>\n",
       "      <td>0.556189</td>\n",
       "      <td>-0.863878</td>\n",
       "      <td>-0.218925</td>\n",
       "      <td>0.263466</td>\n",
       "      <td>0.024158</td>\n",
       "    </tr>\n",
       "    <tr>\n",
       "      <th>MT</th>\n",
       "      <td>3.627924</td>\n",
       "      <td>-1.242991</td>\n",
       "      <td>1.161789</td>\n",
       "      <td>1.027459</td>\n",
       "      <td>0.743786</td>\n",
       "      <td>0.670637</td>\n",
       "      <td>-0.001845</td>\n",
       "    </tr>\n",
       "    <tr>\n",
       "      <th>NE</th>\n",
       "      <td>-0.467083</td>\n",
       "      <td>-1.309009</td>\n",
       "      <td>-1.151495</td>\n",
       "      <td>0.501489</td>\n",
       "      <td>-0.023242</td>\n",
       "      <td>0.576540</td>\n",
       "      <td>-0.164922</td>\n",
       "    </tr>\n",
       "    <tr>\n",
       "      <th>NV</th>\n",
       "      <td>-0.106028</td>\n",
       "      <td>0.689652</td>\n",
       "      <td>0.348203</td>\n",
       "      <td>0.339660</td>\n",
       "      <td>-0.084383</td>\n",
       "      <td>-0.217774</td>\n",
       "      <td>-0.259724</td>\n",
       "    </tr>\n",
       "    <tr>\n",
       "      <th>NH</th>\n",
       "      <td>-1.775362</td>\n",
       "      <td>-1.239019</td>\n",
       "      <td>0.243905</td>\n",
       "      <td>-0.333879</td>\n",
       "      <td>-0.154285</td>\n",
       "      <td>0.149904</td>\n",
       "      <td>0.045691</td>\n",
       "    </tr>\n",
       "    <tr>\n",
       "      <th>NJ</th>\n",
       "      <td>-3.018310</td>\n",
       "      <td>1.935869</td>\n",
       "      <td>-0.202882</td>\n",
       "      <td>1.084987</td>\n",
       "      <td>-0.175650</td>\n",
       "      <td>0.299146</td>\n",
       "      <td>0.210557</td>\n",
       "    </tr>\n",
       "    <tr>\n",
       "      <th>NM</th>\n",
       "      <td>0.469291</td>\n",
       "      <td>-0.384486</td>\n",
       "      <td>-0.970287</td>\n",
       "      <td>0.582330</td>\n",
       "      <td>0.760604</td>\n",
       "      <td>-0.558852</td>\n",
       "      <td>-0.060830</td>\n",
       "    </tr>\n",
       "    <tr>\n",
       "      <th>NY</th>\n",
       "      <td>-2.041785</td>\n",
       "      <td>1.538860</td>\n",
       "      <td>0.502944</td>\n",
       "      <td>0.797447</td>\n",
       "      <td>-0.191340</td>\n",
       "      <td>0.055756</td>\n",
       "      <td>0.199052</td>\n",
       "    </tr>\n",
       "    <tr>\n",
       "      <th>NC</th>\n",
       "      <td>0.816262</td>\n",
       "      <td>-0.793312</td>\n",
       "      <td>0.368252</td>\n",
       "      <td>-0.661200</td>\n",
       "      <td>-0.402007</td>\n",
       "      <td>0.095075</td>\n",
       "      <td>0.137858</td>\n",
       "    </tr>\n",
       "    <tr>\n",
       "      <th>ND</th>\n",
       "      <td>4.423620</td>\n",
       "      <td>-0.965715</td>\n",
       "      <td>-0.948542</td>\n",
       "      <td>0.775273</td>\n",
       "      <td>0.023569</td>\n",
       "      <td>1.222200</td>\n",
       "      <td>-0.185898</td>\n",
       "    </tr>\n",
       "    <tr>\n",
       "      <th>OH</th>\n",
       "      <td>-0.539149</td>\n",
       "      <td>-0.892626</td>\n",
       "      <td>-0.389892</td>\n",
       "      <td>-0.523138</td>\n",
       "      <td>-0.404637</td>\n",
       "      <td>0.600677</td>\n",
       "      <td>-0.021991</td>\n",
       "    </tr>\n",
       "    <tr>\n",
       "      <th>OK</th>\n",
       "      <td>1.893588</td>\n",
       "      <td>1.569755</td>\n",
       "      <td>-0.682062</td>\n",
       "      <td>-1.038087</td>\n",
       "      <td>-0.285300</td>\n",
       "      <td>-0.140813</td>\n",
       "      <td>-0.167974</td>\n",
       "    </tr>\n",
       "    <tr>\n",
       "      <th>OR</th>\n",
       "      <td>-1.559410</td>\n",
       "      <td>-1.407253</td>\n",
       "      <td>0.356474</td>\n",
       "      <td>0.205008</td>\n",
       "      <td>0.370711</td>\n",
       "      <td>-0.423845</td>\n",
       "      <td>0.092349</td>\n",
       "    </tr>\n",
       "    <tr>\n",
       "      <th>PA</th>\n",
       "      <td>1.814053</td>\n",
       "      <td>0.936589</td>\n",
       "      <td>1.097425</td>\n",
       "      <td>-0.903766</td>\n",
       "      <td>-0.416061</td>\n",
       "      <td>-0.285857</td>\n",
       "      <td>-0.001473</td>\n",
       "    </tr>\n",
       "    <tr>\n",
       "      <th>RI</th>\n",
       "      <td>-2.164484</td>\n",
       "      <td>1.119077</td>\n",
       "      <td>0.547331</td>\n",
       "      <td>0.555803</td>\n",
       "      <td>-0.093357</td>\n",
       "      <td>0.600640</td>\n",
       "      <td>0.065785</td>\n",
       "    </tr>\n",
       "    <tr>\n",
       "      <th>SC</th>\n",
       "      <td>4.672014</td>\n",
       "      <td>-0.019524</td>\n",
       "      <td>0.807444</td>\n",
       "      <td>0.529369</td>\n",
       "      <td>-0.013394</td>\n",
       "      <td>0.793270</td>\n",
       "      <td>0.101770</td>\n",
       "    </tr>\n",
       "    <tr>\n",
       "      <th>SD</th>\n",
       "      <td>2.147476</td>\n",
       "      <td>-1.684670</td>\n",
       "      <td>-0.046151</td>\n",
       "      <td>0.354682</td>\n",
       "      <td>-0.325454</td>\n",
       "      <td>0.041000</td>\n",
       "      <td>-0.001036</td>\n",
       "    </tr>\n",
       "    <tr>\n",
       "      <th>TN</th>\n",
       "      <td>0.954879</td>\n",
       "      <td>0.260777</td>\n",
       "      <td>-1.195367</td>\n",
       "      <td>-0.594569</td>\n",
       "      <td>-0.082671</td>\n",
       "      <td>0.333748</td>\n",
       "      <td>0.253928</td>\n",
       "    </tr>\n",
       "    <tr>\n",
       "      <th>TX</th>\n",
       "      <td>2.204309</td>\n",
       "      <td>1.432642</td>\n",
       "      <td>0.586286</td>\n",
       "      <td>-0.189819</td>\n",
       "      <td>0.059424</td>\n",
       "      <td>0.450637</td>\n",
       "      <td>-0.047766</td>\n",
       "    </tr>\n",
       "    <tr>\n",
       "      <th>UT</th>\n",
       "      <td>-1.985211</td>\n",
       "      <td>-1.283064</td>\n",
       "      <td>0.615428</td>\n",
       "      <td>-0.116365</td>\n",
       "      <td>-0.339627</td>\n",
       "      <td>-0.979613</td>\n",
       "      <td>-0.007981</td>\n",
       "    </tr>\n",
       "    <tr>\n",
       "      <th>VT</th>\n",
       "      <td>-0.630338</td>\n",
       "      <td>-1.504611</td>\n",
       "      <td>-0.146494</td>\n",
       "      <td>0.035878</td>\n",
       "      <td>-0.210385</td>\n",
       "      <td>-0.106305</td>\n",
       "      <td>-0.198325</td>\n",
       "    </tr>\n",
       "    <tr>\n",
       "      <th>VA</th>\n",
       "      <td>-1.797349</td>\n",
       "      <td>-0.177640</td>\n",
       "      <td>-0.988900</td>\n",
       "      <td>-0.734181</td>\n",
       "      <td>-0.231569</td>\n",
       "      <td>0.303000</td>\n",
       "      <td>-0.044200</td>\n",
       "    </tr>\n",
       "    <tr>\n",
       "      <th>WA</th>\n",
       "      <td>-2.096452</td>\n",
       "      <td>-0.958969</td>\n",
       "      <td>0.854118</td>\n",
       "      <td>0.277163</td>\n",
       "      <td>0.087963</td>\n",
       "      <td>0.041864</td>\n",
       "      <td>0.016137</td>\n",
       "    </tr>\n",
       "    <tr>\n",
       "      <th>WV</th>\n",
       "      <td>3.619129</td>\n",
       "      <td>1.485286</td>\n",
       "      <td>-0.054355</td>\n",
       "      <td>0.041550</td>\n",
       "      <td>-0.622526</td>\n",
       "      <td>-0.530780</td>\n",
       "      <td>0.136625</td>\n",
       "    </tr>\n",
       "    <tr>\n",
       "      <th>WI</th>\n",
       "      <td>-1.187447</td>\n",
       "      <td>-1.829767</td>\n",
       "      <td>0.522375</td>\n",
       "      <td>-0.486705</td>\n",
       "      <td>1.234005</td>\n",
       "      <td>0.044176</td>\n",
       "      <td>0.243181</td>\n",
       "    </tr>\n",
       "    <tr>\n",
       "      <th>WY</th>\n",
       "      <td>1.164326</td>\n",
       "      <td>-0.556064</td>\n",
       "      <td>0.710502</td>\n",
       "      <td>-0.351746</td>\n",
       "      <td>0.230846</td>\n",
       "      <td>-0.256171</td>\n",
       "      <td>0.002769</td>\n",
       "    </tr>\n",
       "  </tbody>\n",
       "</table>\n",
       "</div>"
      ],
      "text/plain": [
       "        Component 1  Component 2  Component 3  Component 4  Component 5  \\\n",
       "abbrev                                                                    \n",
       "AL         1.603671     0.133449     0.317881    -0.795293    -0.579719   \n",
       "AK         1.144212     0.858234     0.736627     0.318987    -0.228701   \n",
       "AZ         1.432172    -0.420506     0.338137     0.552513     0.168718   \n",
       "AR         2.491584     0.348968    -1.788747     0.264065    -0.372383   \n",
       "CA        -1.750639     0.633625    -0.136177    -0.974916    -0.315811   \n",
       "CO        -0.925120    -0.154388     0.146176    -0.568096     0.116420   \n",
       "CT        -2.125360     1.370600     0.743077    -0.485554    -0.088337   \n",
       "DE         0.324658     1.574244     0.440982     0.338057     0.095481   \n",
       "DC        -4.635927     0.918997     0.720078     1.184313    -0.172554   \n",
       "FL         0.495689     1.435282    -0.661126     1.185136    -0.108007   \n",
       "GA        -0.525427     0.266688    -0.996973     0.224700    -0.396993   \n",
       "HI         1.928047    -0.210245     1.802469    -0.307750     0.474235   \n",
       "ID         0.313123    -2.427597     0.346267     0.242471     0.156261   \n",
       "IL        -0.879340    -0.325337     0.030223    -0.510003    -0.104465   \n",
       "IN        -0.395326    -1.517806    -0.480372     0.170787    -0.207525   \n",
       "IA        -0.350122    -1.606357    -1.143953     0.018727    -0.530035   \n",
       "KS         0.268724    -0.388644    -0.487894    -0.360657    -0.000996   \n",
       "KY         1.079427     0.167895    -1.079835     0.249861    -0.186248   \n",
       "LA         1.879427     3.648217     0.044438    -0.119692     0.753572   \n",
       "ME         0.033165    -2.000911     0.533298    -0.086127    -0.098661   \n",
       "MD        -1.708748     2.126421    -0.245392    -1.031567     0.350294   \n",
       "MA        -3.651457    -0.025082     0.113215     0.426712    -0.063149   \n",
       "MI        -1.370703     1.191238    -0.186197     0.541027    -0.478532   \n",
       "MN        -2.909039    -0.903774    -0.364752    -0.368156    -0.166401   \n",
       "MS        -0.864891     0.583746    -1.243685    -0.420312     2.747442   \n",
       "MO         0.659733     0.003254     0.556189    -0.863878    -0.218925   \n",
       "MT         3.627924    -1.242991     1.161789     1.027459     0.743786   \n",
       "NE        -0.467083    -1.309009    -1.151495     0.501489    -0.023242   \n",
       "NV        -0.106028     0.689652     0.348203     0.339660    -0.084383   \n",
       "NH        -1.775362    -1.239019     0.243905    -0.333879    -0.154285   \n",
       "NJ        -3.018310     1.935869    -0.202882     1.084987    -0.175650   \n",
       "NM         0.469291    -0.384486    -0.970287     0.582330     0.760604   \n",
       "NY        -2.041785     1.538860     0.502944     0.797447    -0.191340   \n",
       "NC         0.816262    -0.793312     0.368252    -0.661200    -0.402007   \n",
       "ND         4.423620    -0.965715    -0.948542     0.775273     0.023569   \n",
       "OH        -0.539149    -0.892626    -0.389892    -0.523138    -0.404637   \n",
       "OK         1.893588     1.569755    -0.682062    -1.038087    -0.285300   \n",
       "OR        -1.559410    -1.407253     0.356474     0.205008     0.370711   \n",
       "PA         1.814053     0.936589     1.097425    -0.903766    -0.416061   \n",
       "RI        -2.164484     1.119077     0.547331     0.555803    -0.093357   \n",
       "SC         4.672014    -0.019524     0.807444     0.529369    -0.013394   \n",
       "SD         2.147476    -1.684670    -0.046151     0.354682    -0.325454   \n",
       "TN         0.954879     0.260777    -1.195367    -0.594569    -0.082671   \n",
       "TX         2.204309     1.432642     0.586286    -0.189819     0.059424   \n",
       "UT        -1.985211    -1.283064     0.615428    -0.116365    -0.339627   \n",
       "VT        -0.630338    -1.504611    -0.146494     0.035878    -0.210385   \n",
       "VA        -1.797349    -0.177640    -0.988900    -0.734181    -0.231569   \n",
       "WA        -2.096452    -0.958969     0.854118     0.277163     0.087963   \n",
       "WV         3.619129     1.485286    -0.054355     0.041550    -0.622526   \n",
       "WI        -1.187447    -1.829767     0.522375    -0.486705     1.234005   \n",
       "WY         1.164326    -0.556064     0.710502    -0.351746     0.230846   \n",
       "\n",
       "        Component 6  Component 7  \n",
       "abbrev                            \n",
       "AL         0.046222     0.210185  \n",
       "AK        -1.002625     0.008966  \n",
       "AZ        -0.804523    -0.076108  \n",
       "AR        -0.481850    -0.147636  \n",
       "CA         0.178510    -0.068958  \n",
       "CO        -0.240859    -0.098427  \n",
       "CT         0.486531     0.020256  \n",
       "DE        -0.466100    -0.188961  \n",
       "DC        -0.052799    -0.124806  \n",
       "FL        -0.244305    -0.086714  \n",
       "GA        -0.216235    -0.085949  \n",
       "HI         0.243974    -0.027264  \n",
       "ID        -0.601429    -0.179853  \n",
       "IL         0.214890    -0.260829  \n",
       "IN        -0.138441    -0.188620  \n",
       "IA        -0.085099     0.013598  \n",
       "KS        -0.428149     0.250526  \n",
       "KY        -0.329689     0.644697  \n",
       "LA        -0.199459    -0.157203  \n",
       "ME        -0.174564     0.105598  \n",
       "MD         0.261180    -0.207411  \n",
       "MA         0.553208     0.012150  \n",
       "MI         0.226347     0.247314  \n",
       "MN         0.326086    -0.079623  \n",
       "MS        -0.112549     0.099182  \n",
       "MO         0.263466     0.024158  \n",
       "MT         0.670637    -0.001845  \n",
       "NE         0.576540    -0.164922  \n",
       "NV        -0.217774    -0.259724  \n",
       "NH         0.149904     0.045691  \n",
       "NJ         0.299146     0.210557  \n",
       "NM        -0.558852    -0.060830  \n",
       "NY         0.055756     0.199052  \n",
       "NC         0.095075     0.137858  \n",
       "ND         1.222200    -0.185898  \n",
       "OH         0.600677    -0.021991  \n",
       "OK        -0.140813    -0.167974  \n",
       "OR        -0.423845     0.092349  \n",
       "PA        -0.285857    -0.001473  \n",
       "RI         0.600640     0.065785  \n",
       "SC         0.793270     0.101770  \n",
       "SD         0.041000    -0.001036  \n",
       "TN         0.333748     0.253928  \n",
       "TX         0.450637    -0.047766  \n",
       "UT        -0.979613    -0.007981  \n",
       "VT        -0.106305    -0.198325  \n",
       "VA         0.303000    -0.044200  \n",
       "WA         0.041864     0.016137  \n",
       "WV        -0.530780     0.136625  \n",
       "WI         0.044176     0.243181  \n",
       "WY        -0.256171     0.002769  "
      ]
     },
     "execution_count": 139,
     "metadata": {},
     "output_type": "execute_result"
    }
   ],
   "source": [
    "# ANSWER\n",
    "\n",
    "X=pd.DataFrame(pca.transform(df_car_crashes_zscore),index=df_car_crashes.index)\n",
    "X.columns+=1\n",
    "X=X.rename(columns= 'Component {}'.format)\n",
    "X"
   ]
  },
  {
   "cell_type": "markdown",
   "metadata": {},
   "source": [
    "---\n",
    "**31)**\t[P] Generate a 2D plot using the first two principal components as your x and y coordinates. Be sure to label each point, and label your axes as component 1 and component 2, respectively."
   ]
  },
  {
   "cell_type": "code",
   "execution_count": 143,
   "metadata": {},
   "outputs": [
    {
     "data": {
      "image/png": "[encoded data removed]",
      "text/plain": [
       "<Figure size 640x480 with 1 Axes>"
      ]
     },
     "metadata": {},
     "output_type": "display_data"
    }
   ],
   "source": [
    "# ANSWER\n",
    "sns.scatterplot(data=X,x=X.loc[:,'Component 1'],y=X.loc[:,'Component 2'])\n",
    "plt.ylabel('component 2')\n",
    "plt.xlabel('component 1')\n",
    "for i in range(X.shape[0]):\n",
    " plt.text(x=X.iloc[:,0][i]-.5,y=X.iloc[:,1][i]+.1,s=df_car_crashes.index[i])"
   ]
  },
  {
   "cell_type": "markdown",
   "metadata": {},
   "source": [
    "---\n",
    "**32)**\t[M] Compare the states you reported as potential outliers above to those that appear to be outliers from your plot. Do the same results seem to hold?"
   ]
  },
  {
   "cell_type": "markdown",
   "metadata": {},
   "source": [
    "**ANSWER:**\n",
    "DC, SC, and ND are all arguably shown as outliers still (along component 1), additionally LA is shown as a strong outlier in componenet 2\n",
    "\n",
    "\n"
   ]
  },
  {
   "cell_type": "markdown",
   "metadata": {},
   "source": [
    "---\n",
    "**33)**\t[P] Read how to generate a 3D scatterplot, and use it to generate a scatterplot of the first 3 components."
   ]
  },
  {
   "cell_type": "code",
   "execution_count": 208,
   "metadata": {},
   "outputs": [
    {
     "data": {
      "application/vnd.plotly.v1+json": {
       "config": {
        "plotlyServerURL": "https://plot.ly"
       },
       "data": [
        {
         "hovertemplate": "abbrev=AL<br>Component 1=%{x}<br>Component 2=%{y}<br>Component 3=%{z}<extra></extra>",
         "legendgroup": "AL",
         "marker": {
          "color": "#636efa",
          "symbol": "circle"
         },
         "mode": "markers",
         "name": "AL",
         "scene": "scene",
         "showlegend": true,
         "type": "scatter3d",
         "x": [
          1.6036713123321533
         ],
         "y": [
          0.1334492713212967
         ],
         "z": [
          0.3178808093070984
         ]
        },
        {
         "hovertemplate": "abbrev=AK<br>Component 1=%{x}<br>Component 2=%{y}<br>Component 3=%{z}<extra></extra>",
         "legendgroup": "AK",
         "marker": {
          "color": "#EF553B",
          "symbol": "circle"
         },
         "mode": "markers",
         "name": "AK",
         "scene": "scene",
         "showlegend": true,
         "type": "scatter3d",
         "x": [
          1.144212245941162
         ],
         "y": [
          0.8582335710525513
         ],
         "z": [
          0.7366265654563904
         ]
        },
        {
         "hovertemplate": "abbrev=AZ<br>Component 1=%{x}<br>Component 2=%{y}<br>Component 3=%{z}<extra></extra>",
         "legendgroup": "AZ",
         "marker": {
          "color": "#00cc96",
          "symbol": "circle"
         },
         "mode": "markers",
         "name": "AZ",
         "scene": "scene",
         "showlegend": true,
         "type": "scatter3d",
         "x": [
          1.4321722984313965
         ],
         "y": [
          -0.42050567269325256
         ],
         "z": [
          0.3381367027759552
         ]
        },
        {
         "hovertemplate": "abbrev=AR<br>Component 1=%{x}<br>Component 2=%{y}<br>Component 3=%{z}<extra></extra>",
         "legendgroup": "AR",
         "marker": {
          "color": "#ab63fa",
          "symbol": "circle"
         },
         "mode": "markers",
         "name": "AR",
         "scene": "scene",
         "showlegend": true,
         "type": "scatter3d",
         "x": [
          2.491583824157715
         ],
         "y": [
          0.34896838665008545
         ],
         "z": [
          -1.78874671459198
         ]
        },
        {
         "hovertemplate": "abbrev=CA<br>Component 1=%{x}<br>Component 2=%{y}<br>Component 3=%{z}<extra></extra>",
         "legendgroup": "CA",
         "marker": {
          "color": "#FFA15A",
          "symbol": "circle"
         },
         "mode": "markers",
         "name": "CA",
         "scene": "scene",
         "showlegend": true,
         "type": "scatter3d",
         "x": [
          -1.750638723373413
         ],
         "y": [
          0.6336248517036438
         ],
         "z": [
          -0.13617657124996185
         ]
        },
        {
         "hovertemplate": "abbrev=CO<br>Component 1=%{x}<br>Component 2=%{y}<br>Component 3=%{z}<extra></extra>",
         "legendgroup": "CO",
         "marker": {
          "color": "#19d3f3",
          "symbol": "circle"
         },
         "mode": "markers",
         "name": "CO",
         "scene": "scene",
         "showlegend": true,
         "type": "scatter3d",
         "x": [
          -0.9251202940940857
         ],
         "y": [
          -0.15438790619373322
         ],
         "z": [
          0.14617621898651123
         ]
        },
        {
         "hovertemplate": "abbrev=CT<br>Component 1=%{x}<br>Component 2=%{y}<br>Component 3=%{z}<extra></extra>",
         "legendgroup": "CT",
         "marker": {
          "color": "#FF6692",
          "symbol": "circle"
         },
         "mode": "markers",
         "name": "CT",
         "scene": "scene",
         "showlegend": true,
         "type": "scatter3d",
         "x": [
          -2.1253597736358643
         ],
         "y": [
          1.3705997467041016
         ],
         "z": [
          0.7430768609046936
         ]
        },
        {
         "hovertemplate": "abbrev=DE<br>Component 1=%{x}<br>Component 2=%{y}<br>Component 3=%{z}<extra></extra>",
         "legendgroup": "DE",
         "marker": {
          "color": "#B6E880",
          "symbol": "circle"
         },
         "mode": "markers",
         "name": "DE",
         "scene": "scene",
         "showlegend": true,
         "type": "scatter3d",
         "x": [
          0.3246580958366394
         ],
         "y": [
          1.5742443799972534
         ],
         "z": [
          0.44098183512687683
         ]
        },
        {
         "hovertemplate": "abbrev=DC<br>Component 1=%{x}<br>Component 2=%{y}<br>Component 3=%{z}<extra></extra>",
         "legendgroup": "DC",
         "marker": {
          "color": "#FF97FF",
          "symbol": "circle"
         },
         "mode": "markers",
         "name": "DC",
         "scene": "scene",
         "showlegend": true,
         "type": "scatter3d",
         "x": [
          -4.635926723480225
         ],
         "y": [
          0.9189966917037964
         ],
         "z": [
          0.7200777530670166
         ]
        },
        {
         "hovertemplate": "abbrev=FL<br>Component 1=%{x}<br>Component 2=%{y}<br>Component 3=%{z}<extra></extra>",
         "legendgroup": "FL",
         "marker": {
          "color": "#FECB52",
          "symbol": "circle"
         },
         "mode": "markers",
         "name": "FL",
         "scene": "scene",
         "showlegend": true,
         "type": "scatter3d",
         "x": [
          0.49568885564804077
         ],
         "y": [
          1.4352816343307495
         ],
         "z": [
          -0.6611255407333374
         ]
        },
        {
         "hovertemplate": "abbrev=GA<br>Component 1=%{x}<br>Component 2=%{y}<br>Component 3=%{z}<extra></extra>",
         "legendgroup": "GA",
         "marker": {
          "color": "#636efa",
          "symbol": "circle"
         },
         "mode": "markers",
         "name": "GA",
         "scene": "scene",
         "showlegend": true,
         "type": "scatter3d",
         "x": [
          -0.5254271626472473
         ],
         "y": [
          0.26668813824653625
         ],
         "z": [
          -0.9969732165336609
         ]
        },
        {
         "hovertemplate": "abbrev=HI<br>Component 1=%{x}<br>Component 2=%{y}<br>Component 3=%{z}<extra></extra>",
         "legendgroup": "HI",
         "marker": {
          "color": "#EF553B",
          "symbol": "circle"
         },
         "mode": "markers",
         "name": "HI",
         "scene": "scene",
         "showlegend": true,
         "type": "scatter3d",
         "x": [
          1.9280471801757812
         ],
         "y": [
          -0.2102453112602234
         ],
         "z": [
          1.8024686574935913
         ]
        },
        {
         "hovertemplate": "abbrev=ID<br>Component 1=%{x}<br>Component 2=%{y}<br>Component 3=%{z}<extra></extra>",
         "legendgroup": "ID",
         "marker": {
          "color": "#00cc96",
          "symbol": "circle"
         },
         "mode": "markers",
         "name": "ID",
         "scene": "scene",
         "showlegend": true,
         "type": "scatter3d",
         "x": [
          0.3131231963634491
         ],
         "y": [
          -2.4275972843170166
         ],
         "z": [
          0.34626710414886475
         ]
        },
        {
         "hovertemplate": "abbrev=IL<br>Component 1=%{x}<br>Component 2=%{y}<br>Component 3=%{z}<extra></extra>",
         "legendgroup": "IL",
         "marker": {
          "color": "#ab63fa",
          "symbol": "circle"
         },
         "mode": "markers",
         "name": "IL",
         "scene": "scene",
         "showlegend": true,
         "type": "scatter3d",
         "x": [
          -0.8793400526046753
         ],
         "y": [
          -0.3253369629383087
         ],
         "z": [
          0.03022259660065174
         ]
        },
        {
         "hovertemplate": "abbrev=IN<br>Component 1=%{x}<br>Component 2=%{y}<br>Component 3=%{z}<extra></extra>",
         "legendgroup": "IN",
         "marker": {
          "color": "#FFA15A",
          "symbol": "circle"
         },
         "mode": "markers",
         "name": "IN",
         "scene": "scene",
         "showlegend": true,
         "type": "scatter3d",
         "x": [
          -0.39532577991485596
         ],
         "y": [
          -1.5178061723709106
         ],
         "z": [
          -0.48037189245224
         ]
        },
        {
         "hovertemplate": "abbrev=IA<br>Component 1=%{x}<br>Component 2=%{y}<br>Component 3=%{z}<extra></extra>",
         "legendgroup": "IA",
         "marker": {
          "color": "#19d3f3",
          "symbol": "circle"
         },
         "mode": "markers",
         "name": "IA",
         "scene": "scene",
         "showlegend": true,
         "type": "scatter3d",
         "x": [
          -0.35012203454971313
         ],
         "y": [
          -1.6063567399978638
         ],
         "z": [
          -1.1439528465270996
         ]
        },
        {
         "hovertemplate": "abbrev=KS<br>Component 1=%{x}<br>Component 2=%{y}<br>Component 3=%{z}<extra></extra>",
         "legendgroup": "KS",
         "marker": {
          "color": "#FF6692",
          "symbol": "circle"
         },
         "mode": "markers",
         "name": "KS",
         "scene": "scene",
         "showlegend": true,
         "type": "scatter3d",
         "x": [
          0.26872387528419495
         ],
         "y": [
          -0.3886443078517914
         ],
         "z": [
          -0.4878940284252167
         ]
        },
        {
         "hovertemplate": "abbrev=KY<br>Component 1=%{x}<br>Component 2=%{y}<br>Component 3=%{z}<extra></extra>",
         "legendgroup": "KY",
         "marker": {
          "color": "#B6E880",
          "symbol": "circle"
         },
         "mode": "markers",
         "name": "KY",
         "scene": "scene",
         "showlegend": true,
         "type": "scatter3d",
         "x": [
          1.079426884651184
         ],
         "y": [
          0.16789458692073822
         ],
         "z": [
          -1.0798354148864746
         ]
        },
        {
         "hovertemplate": "abbrev=LA<br>Component 1=%{x}<br>Component 2=%{y}<br>Component 3=%{z}<extra></extra>",
         "legendgroup": "LA",
         "marker": {
          "color": "#FF97FF",
          "symbol": "circle"
         },
         "mode": "markers",
         "name": "LA",
         "scene": "scene",
         "showlegend": true,
         "type": "scatter3d",
         "x": [
          1.879427194595337
         ],
         "y": [
          3.64821720123291
         ],
         "z": [
          0.04443800449371338
         ]
        },
        {
         "hovertemplate": "abbrev=ME<br>Component 1=%{x}<br>Component 2=%{y}<br>Component 3=%{z}<extra></extra>",
         "legendgroup": "ME",
         "marker": {
          "color": "#FECB52",
          "symbol": "circle"
         },
         "mode": "markers",
         "name": "ME",
         "scene": "scene",
         "showlegend": true,
         "type": "scatter3d",
         "x": [
          0.033165350556373596
         ],
         "y": [
          -2.0009114742279053
         ],
         "z": [
          0.5332976579666138
         ]
        },
        {
         "hovertemplate": "abbrev=MD<br>Component 1=%{x}<br>Component 2=%{y}<br>Component 3=%{z}<extra></extra>",
         "legendgroup": "MD",
         "marker": {
          "color": "#636efa",
          "symbol": "circle"
         },
         "mode": "markers",
         "name": "MD",
         "scene": "scene",
         "showlegend": true,
         "type": "scatter3d",
         "x": [
          -1.7087477445602417
         ],
         "y": [
          2.1264214515686035
         ],
         "z": [
          -0.24539245665073395
         ]
        },
        {
         "hovertemplate": "abbrev=MA<br>Component 1=%{x}<br>Component 2=%{y}<br>Component 3=%{z}<extra></extra>",
         "legendgroup": "MA",
         "marker": {
          "color": "#EF553B",
          "symbol": "circle"
         },
         "mode": "markers",
         "name": "MA",
         "scene": "scene",
         "showlegend": true,
         "type": "scatter3d",
         "x": [
          -3.6514573097229004
         ],
         "y": [
          -0.025081705302000046
         ],
         "z": [
          0.11321477591991425
         ]
        },
        {
         "hovertemplate": "abbrev=MI<br>Component 1=%{x}<br>Component 2=%{y}<br>Component 3=%{z}<extra></extra>",
         "legendgroup": "MI",
         "marker": {
          "color": "#00cc96",
          "symbol": "circle"
         },
         "mode": "markers",
         "name": "MI",
         "scene": "scene",
         "showlegend": true,
         "type": "scatter3d",
         "x": [
          -1.3707026243209839
         ],
         "y": [
          1.1912384033203125
         ],
         "z": [
          -0.186197429895401
         ]
        },
        {
         "hovertemplate": "abbrev=MN<br>Component 1=%{x}<br>Component 2=%{y}<br>Component 3=%{z}<extra></extra>",
         "legendgroup": "MN",
         "marker": {
          "color": "#ab63fa",
          "symbol": "circle"
         },
         "mode": "markers",
         "name": "MN",
         "scene": "scene",
         "showlegend": true,
         "type": "scatter3d",
         "x": [
          -2.90903902053833
         ],
         "y": [
          -0.9037736058235168
         ],
         "z": [
          -0.3647516965866089
         ]
        },
        {
         "hovertemplate": "abbrev=MS<br>Component 1=%{x}<br>Component 2=%{y}<br>Component 3=%{z}<extra></extra>",
         "legendgroup": "MS",
         "marker": {
          "color": "#FFA15A",
          "symbol": "circle"
         },
         "mode": "markers",
         "name": "MS",
         "scene": "scene",
         "showlegend": true,
         "type": "scatter3d",
         "x": [
          -0.864890992641449
         ],
         "y": [
          0.5837460160255432
         ],
         "z": [
          -1.2436848878860474
         ]
        },
        {
         "hovertemplate": "abbrev=MO<br>Component 1=%{x}<br>Component 2=%{y}<br>Component 3=%{z}<extra></extra>",
         "legendgroup": "MO",
         "marker": {
          "color": "#19d3f3",
          "symbol": "circle"
         },
         "mode": "markers",
         "name": "MO",
         "scene": "scene",
         "showlegend": true,
         "type": "scatter3d",
         "x": [
          0.6597332954406738
         ],
         "y": [
          0.003253889735788107
         ],
         "z": [
          0.5561890006065369
         ]
        },
        {
         "hovertemplate": "abbrev=MT<br>Component 1=%{x}<br>Component 2=%{y}<br>Component 3=%{z}<extra></extra>",
         "legendgroup": "MT",
         "marker": {
          "color": "#FF6692",
          "symbol": "circle"
         },
         "mode": "markers",
         "name": "MT",
         "scene": "scene",
         "showlegend": true,
         "type": "scatter3d",
         "x": [
          3.6279239654541016
         ],
         "y": [
          -1.242991328239441
         ],
         "z": [
          1.1617885828018188
         ]
        },
        {
         "hovertemplate": "abbrev=NE<br>Component 1=%{x}<br>Component 2=%{y}<br>Component 3=%{z}<extra></extra>",
         "legendgroup": "NE",
         "marker": {
          "color": "#B6E880",
          "symbol": "circle"
         },
         "mode": "markers",
         "name": "NE",
         "scene": "scene",
         "showlegend": true,
         "type": "scatter3d",
         "x": [
          -0.4670828878879547
         ],
         "y": [
          -1.3090091943740845
         ],
         "z": [
          -1.1514948606491089
         ]
        },
        {
         "hovertemplate": "abbrev=NV<br>Component 1=%{x}<br>Component 2=%{y}<br>Component 3=%{z}<extra></extra>",
         "legendgroup": "NV",
         "marker": {
          "color": "#FF97FF",
          "symbol": "circle"
         },
         "mode": "markers",
         "name": "NV",
         "scene": "scene",
         "showlegend": true,
         "type": "scatter3d",
         "x": [
          -0.1060277447104454
         ],
         "y": [
          0.6896524429321289
         ],
         "z": [
          0.34820330142974854
         ]
        },
        {
         "hovertemplate": "abbrev=NH<br>Component 1=%{x}<br>Component 2=%{y}<br>Component 3=%{z}<extra></extra>",
         "legendgroup": "NH",
         "marker": {
          "color": "#FECB52",
          "symbol": "circle"
         },
         "mode": "markers",
         "name": "NH",
         "scene": "scene",
         "showlegend": true,
         "type": "scatter3d",
         "x": [
          -1.7753623723983765
         ],
         "y": [
          -1.2390185594558716
         ],
         "z": [
          0.24390454590320587
         ]
        },
        {
         "hovertemplate": "abbrev=NJ<br>Component 1=%{x}<br>Component 2=%{y}<br>Component 3=%{z}<extra></extra>",
         "legendgroup": "NJ",
         "marker": {
          "color": "#636efa",
          "symbol": "circle"
         },
         "mode": "markers",
         "name": "NJ",
         "scene": "scene",
         "showlegend": true,
         "type": "scatter3d",
         "x": [
          -3.0183095932006836
         ],
         "y": [
          1.9358694553375244
         ],
         "z": [
          -0.20288240909576416
         ]
        },
        {
         "hovertemplate": "abbrev=NM<br>Component 1=%{x}<br>Component 2=%{y}<br>Component 3=%{z}<extra></extra>",
         "legendgroup": "NM",
         "marker": {
          "color": "#EF553B",
          "symbol": "circle"
         },
         "mode": "markers",
         "name": "NM",
         "scene": "scene",
         "showlegend": true,
         "type": "scatter3d",
         "x": [
          0.4692913889884949
         ],
         "y": [
          -0.3844856321811676
         ],
         "z": [
          -0.9702873229980469
         ]
        },
        {
         "hovertemplate": "abbrev=NY<br>Component 1=%{x}<br>Component 2=%{y}<br>Component 3=%{z}<extra></extra>",
         "legendgroup": "NY",
         "marker": {
          "color": "#00cc96",
          "symbol": "circle"
         },
         "mode": "markers",
         "name": "NY",
         "scene": "scene",
         "showlegend": true,
         "type": "scatter3d",
         "x": [
          -2.0417845249176025
         ],
         "y": [
          1.5388602018356323
         ],
         "z": [
          0.5029439330101013
         ]
        },
        {
         "hovertemplate": "abbrev=NC<br>Component 1=%{x}<br>Component 2=%{y}<br>Component 3=%{z}<extra></extra>",
         "legendgroup": "NC",
         "marker": {
          "color": "#ab63fa",
          "symbol": "circle"
         },
         "mode": "markers",
         "name": "NC",
         "scene": "scene",
         "showlegend": true,
         "type": "scatter3d",
         "x": [
          0.8162622451782227
         ],
         "y": [
          -0.7933123111724854
         ],
         "z": [
          0.3682515621185303
         ]
        },
        {
         "hovertemplate": "abbrev=ND<br>Component 1=%{x}<br>Component 2=%{y}<br>Component 3=%{z}<extra></extra>",
         "legendgroup": "ND",
         "marker": {
          "color": "#FFA15A",
          "symbol": "circle"
         },
         "mode": "markers",
         "name": "ND",
         "scene": "scene",
         "showlegend": true,
         "type": "scatter3d",
         "x": [
          4.423619747161865
         ],
         "y": [
          -0.9657154083251953
         ],
         "z": [
          -0.9485422968864441
         ]
        },
        {
         "hovertemplate": "abbrev=OH<br>Component 1=%{x}<br>Component 2=%{y}<br>Component 3=%{z}<extra></extra>",
         "legendgroup": "OH",
         "marker": {
          "color": "#19d3f3",
          "symbol": "circle"
         },
         "mode": "markers",
         "name": "OH",
         "scene": "scene",
         "showlegend": true,
         "type": "scatter3d",
         "x": [
          -0.539149284362793
         ],
         "y": [
          -0.8926264643669128
         ],
         "z": [
          -0.38989219069480896
         ]
        },
        {
         "hovertemplate": "abbrev=OK<br>Component 1=%{x}<br>Component 2=%{y}<br>Component 3=%{z}<extra></extra>",
         "legendgroup": "OK",
         "marker": {
          "color": "#FF6692",
          "symbol": "circle"
         },
         "mode": "markers",
         "name": "OK",
         "scene": "scene",
         "showlegend": true,
         "type": "scatter3d",
         "x": [
          1.893587589263916
         ],
         "y": [
          1.56975519657135
         ],
         "z": [
          -0.6820619702339172
         ]
        },
        {
         "hovertemplate": "abbrev=OR<br>Component 1=%{x}<br>Component 2=%{y}<br>Component 3=%{z}<extra></extra>",
         "legendgroup": "OR",
         "marker": {
          "color": "#B6E880",
          "symbol": "circle"
         },
         "mode": "markers",
         "name": "OR",
         "scene": "scene",
         "showlegend": true,
         "type": "scatter3d",
         "x": [
          -1.5594104528427124
         ],
         "y": [
          -1.4072527885437012
         ],
         "z": [
          0.35647353529930115
         ]
        },
        {
         "hovertemplate": "abbrev=PA<br>Component 1=%{x}<br>Component 2=%{y}<br>Component 3=%{z}<extra></extra>",
         "legendgroup": "PA",
         "marker": {
          "color": "#FF97FF",
          "symbol": "circle"
         },
         "mode": "markers",
         "name": "PA",
         "scene": "scene",
         "showlegend": true,
         "type": "scatter3d",
         "x": [
          1.8140532970428467
         ],
         "y": [
          0.9365888237953186
         ],
         "z": [
          1.0974249839782715
         ]
        },
        {
         "hovertemplate": "abbrev=RI<br>Component 1=%{x}<br>Component 2=%{y}<br>Component 3=%{z}<extra></extra>",
         "legendgroup": "RI",
         "marker": {
          "color": "#FECB52",
          "symbol": "circle"
         },
         "mode": "markers",
         "name": "RI",
         "scene": "scene",
         "showlegend": true,
         "type": "scatter3d",
         "x": [
          -2.1644840240478516
         ],
         "y": [
          1.1190773248672485
         ],
         "z": [
          0.5473309755325317
         ]
        },
        {
         "hovertemplate": "abbrev=SC<br>Component 1=%{x}<br>Component 2=%{y}<br>Component 3=%{z}<extra></extra>",
         "legendgroup": "SC",
         "marker": {
          "color": "#636efa",
          "symbol": "circle"
         },
         "mode": "markers",
         "name": "SC",
         "scene": "scene",
         "showlegend": true,
         "type": "scatter3d",
         "x": [
          4.672014236450195
         ],
         "y": [
          -0.019523512572050095
         ],
         "z": [
          0.8074437975883484
         ]
        },
        {
         "hovertemplate": "abbrev=SD<br>Component 1=%{x}<br>Component 2=%{y}<br>Component 3=%{z}<extra></extra>",
         "legendgroup": "SD",
         "marker": {
          "color": "#EF553B",
          "symbol": "circle"
         },
         "mode": "markers",
         "name": "SD",
         "scene": "scene",
         "showlegend": true,
         "type": "scatter3d",
         "x": [
          2.1474764347076416
         ],
         "y": [
          -1.6846697330474854
         ],
         "z": [
          -0.046150874346494675
         ]
        },
        {
         "hovertemplate": "abbrev=TN<br>Component 1=%{x}<br>Component 2=%{y}<br>Component 3=%{z}<extra></extra>",
         "legendgroup": "TN",
         "marker": {
          "color": "#00cc96",
          "symbol": "circle"
         },
         "mode": "markers",
         "name": "TN",
         "scene": "scene",
         "showlegend": true,
         "type": "scatter3d",
         "x": [
          0.9548789262771606
         ],
         "y": [
          0.26077669858932495
         ],
         "z": [
          -1.1953669786453247
         ]
        },
        {
         "hovertemplate": "abbrev=TX<br>Component 1=%{x}<br>Component 2=%{y}<br>Component 3=%{z}<extra></extra>",
         "legendgroup": "TX",
         "marker": {
          "color": "#ab63fa",
          "symbol": "circle"
         },
         "mode": "markers",
         "name": "TX",
         "scene": "scene",
         "showlegend": true,
         "type": "scatter3d",
         "x": [
          2.2043087482452393
         ],
         "y": [
          1.4326421022415161
         ],
         "z": [
          0.5862855315208435
         ]
        },
        {
         "hovertemplate": "abbrev=UT<br>Component 1=%{x}<br>Component 2=%{y}<br>Component 3=%{z}<extra></extra>",
         "legendgroup": "UT",
         "marker": {
          "color": "#FFA15A",
          "symbol": "circle"
         },
         "mode": "markers",
         "name": "UT",
         "scene": "scene",
         "showlegend": true,
         "type": "scatter3d",
         "x": [
          -1.9852113723754883
         ],
         "y": [
          -1.283064365386963
         ],
         "z": [
          0.6154283285140991
         ]
        },
        {
         "hovertemplate": "abbrev=VT<br>Component 1=%{x}<br>Component 2=%{y}<br>Component 3=%{z}<extra></extra>",
         "legendgroup": "VT",
         "marker": {
          "color": "#19d3f3",
          "symbol": "circle"
         },
         "mode": "markers",
         "name": "VT",
         "scene": "scene",
         "showlegend": true,
         "type": "scatter3d",
         "x": [
          -0.6303375959396362
         ],
         "y": [
          -1.5046106576919556
         ],
         "z": [
          -0.14649401605129242
         ]
        },
        {
         "hovertemplate": "abbrev=VA<br>Component 1=%{x}<br>Component 2=%{y}<br>Component 3=%{z}<extra></extra>",
         "legendgroup": "VA",
         "marker": {
          "color": "#FF6692",
          "symbol": "circle"
         },
         "mode": "markers",
         "name": "VA",
         "scene": "scene",
         "showlegend": true,
         "type": "scatter3d",
         "x": [
          -1.797349452972412
         ],
         "y": [
          -0.17763957381248474
         ],
         "z": [
          -0.9888999462127686
         ]
        },
        {
         "hovertemplate": "abbrev=WA<br>Component 1=%{x}<br>Component 2=%{y}<br>Component 3=%{z}<extra></extra>",
         "legendgroup": "WA",
         "marker": {
          "color": "#B6E880",
          "symbol": "circle"
         },
         "mode": "markers",
         "name": "WA",
         "scene": "scene",
         "showlegend": true,
         "type": "scatter3d",
         "x": [
          -2.0964515209198
         ],
         "y": [
          -0.9589685201644897
         ],
         "z": [
          0.8541179895401001
         ]
        },
        {
         "hovertemplate": "abbrev=WV<br>Component 1=%{x}<br>Component 2=%{y}<br>Component 3=%{z}<extra></extra>",
         "legendgroup": "WV",
         "marker": {
          "color": "#FF97FF",
          "symbol": "circle"
         },
         "mode": "markers",
         "name": "WV",
         "scene": "scene",
         "showlegend": true,
         "type": "scatter3d",
         "x": [
          3.6191294193267822
         ],
         "y": [
          1.4852855205535889
         ],
         "z": [
          -0.05435487627983093
         ]
        },
        {
         "hovertemplate": "abbrev=WI<br>Component 1=%{x}<br>Component 2=%{y}<br>Component 3=%{z}<extra></extra>",
         "legendgroup": "WI",
         "marker": {
          "color": "#FECB52",
          "symbol": "circle"
         },
         "mode": "markers",
         "name": "WI",
         "scene": "scene",
         "showlegend": true,
         "type": "scatter3d",
         "x": [
          -1.1874470710754395
         ],
         "y": [
          -1.8297672271728516
         ],
         "z": [
          0.5223753452301025
         ]
        },
        {
         "hovertemplate": "abbrev=WY<br>Component 1=%{x}<br>Component 2=%{y}<br>Component 3=%{z}<extra></extra>",
         "legendgroup": "WY",
         "marker": {
          "color": "#636efa",
          "symbol": "circle"
         },
         "mode": "markers",
         "name": "WY",
         "scene": "scene",
         "showlegend": true,
         "type": "scatter3d",
         "x": [
          1.1643261909484863
         ],
         "y": [
          -0.5560639500617981
         ],
         "z": [
          0.7105023264884949
         ]
        }
       ],
       "layout": {
        "autosize": true,
        "legend": {
         "title": {
          "text": "abbrev"
         },
         "tracegroupgap": 0
        },
        "margin": {
         "t": 60
        },
        "scene": {
         "aspectmode": "auto",
         "aspectratio": {
          "x": 1.583508605329664,
          "y": 1.0336447731751468,
          "z": 0.6109536437511078
         },
         "domain": {
          "x": [
           0,
           1
          ],
          "y": [
           0,
           1
          ]
         },
         "xaxis": {
          "title": {
           "text": "Component 1"
          },
          "type": "linear"
         },
         "yaxis": {
          "title": {
           "text": "Component 2"
          },
          "type": "linear"
         },
         "zaxis": {
          "title": {
           "text": "Component 3"
          },
          "type": "linear"
         }
        },
        "template": {
         "data": {
          "bar": [
           {
            "error_x": {
             "color": "#2a3f5f"
            },
            "error_y": {
             "color": "#2a3f5f"
            },
            "marker": {
             "line": {
              "color": "#E5ECF6",
              "width": 0.5
             },
             "pattern": {
              "fillmode": "overlay",
              "size": 10,
              "solidity": 0.2
             }
            },
            "type": "bar"
           }
          ],
          "barpolar": [
           {
            "marker": {
             "line": {
              "color": "#E5ECF6",
              "width": 0.5
             },
             "pattern": {
              "fillmode": "overlay",
              "size": 10,
              "solidity": 0.2
             }
            },
            "type": "barpolar"
           }
          ],
          "carpet": [
           {
            "aaxis": {
             "endlinecolor": "#2a3f5f",
             "gridcolor": "white",
             "linecolor": "white",
             "minorgridcolor": "white",
             "startlinecolor": "#2a3f5f"
            },
            "baxis": {
             "endlinecolor": "#2a3f5f",
             "gridcolor": "white",
             "linecolor": "white",
             "minorgridcolor": "white",
             "startlinecolor": "#2a3f5f"
            },
            "type": "carpet"
           }
          ],
          "choropleth": [
           {
            "colorbar": {
             "outlinewidth": 0,
             "ticks": ""
            },
            "type": "choropleth"
           }
          ],
          "contour": [
           {
            "colorbar": {
             "outlinewidth": 0,
             "ticks": ""
            },
            "colorscale": [
             [
              0,
              "#0d0887"
             ],
             [
              0.1111111111111111,
              "#46039f"
             ],
             [
              0.2222222222222222,
              "#7201a8"
             ],
             [
              0.3333333333333333,
              "#9c179e"
             ],
             [
              0.4444444444444444,
              "#bd3786"
             ],
             [
              0.5555555555555556,
              "#d8576b"
             ],
             [
              0.6666666666666666,
              "#ed7953"
             ],
             [
              0.7777777777777778,
              "#fb9f3a"
             ],
             [
              0.8888888888888888,
              "#fdca26"
             ],
             [
              1,
              "#f0f921"
             ]
            ],
            "type": "contour"
           }
          ],
          "contourcarpet": [
           {
            "colorbar": {
             "outlinewidth": 0,
             "ticks": ""
            },
            "type": "contourcarpet"
           }
          ],
          "heatmap": [
           {
            "colorbar": {
             "outlinewidth": 0,
             "ticks": ""
            },
            "colorscale": [
             [
              0,
              "#0d0887"
             ],
             [
              0.1111111111111111,
              "#46039f"
             ],
             [
              0.2222222222222222,
              "#7201a8"
             ],
             [
              0.3333333333333333,
              "#9c179e"
             ],
             [
              0.4444444444444444,
              "#bd3786"
             ],
             [
              0.5555555555555556,
              "#d8576b"
             ],
             [
              0.6666666666666666,
              "#ed7953"
             ],
             [
              0.7777777777777778,
              "#fb9f3a"
             ],
             [
              0.8888888888888888,
              "#fdca26"
             ],
             [
              1,
              "#f0f921"
             ]
            ],
            "type": "heatmap"
           }
          ],
          "heatmapgl": [
           {
            "colorbar": {
             "outlinewidth": 0,
             "ticks": ""
            },
            "colorscale": [
             [
              0,
              "#0d0887"
             ],
             [
              0.1111111111111111,
              "#46039f"
             ],
             [
              0.2222222222222222,
              "#7201a8"
             ],
             [
              0.3333333333333333,
              "#9c179e"
             ],
             [
              0.4444444444444444,
              "#bd3786"
             ],
             [
              0.5555555555555556,
              "#d8576b"
             ],
             [
              0.6666666666666666,
              "#ed7953"
             ],
             [
              0.7777777777777778,
              "#fb9f3a"
             ],
             [
              0.8888888888888888,
              "#fdca26"
             ],
             [
              1,
              "#f0f921"
             ]
            ],
            "type": "heatmapgl"
           }
          ],
          "histogram": [
           {
            "marker": {
             "pattern": {
              "fillmode": "overlay",
              "size": 10,
              "solidity": 0.2
             }
            },
            "type": "histogram"
           }
          ],
          "histogram2d": [
           {
            "colorbar": {
             "outlinewidth": 0,
             "ticks": ""
            },
            "colorscale": [
             [
              0,
              "#0d0887"
             ],
             [
              0.1111111111111111,
              "#46039f"
             ],
             [
              0.2222222222222222,
              "#7201a8"
             ],
             [
              0.3333333333333333,
              "#9c179e"
             ],
             [
              0.4444444444444444,
              "#bd3786"
             ],
             [
              0.5555555555555556,
              "#d8576b"
             ],
             [
              0.6666666666666666,
              "#ed7953"
             ],
             [
              0.7777777777777778,
              "#fb9f3a"
             ],
             [
              0.8888888888888888,
              "#fdca26"
             ],
             [
              1,
              "#f0f921"
             ]
            ],
            "type": "histogram2d"
           }
          ],
          "histogram2dcontour": [
           {
            "colorbar": {
             "outlinewidth": 0,
             "ticks": ""
            },
            "colorscale": [
             [
              0,
              "#0d0887"
             ],
             [
              0.1111111111111111,
              "#46039f"
             ],
             [
              0.2222222222222222,
              "#7201a8"
             ],
             [
              0.3333333333333333,
              "#9c179e"
             ],
             [
              0.4444444444444444,
              "#bd3786"
             ],
             [
              0.5555555555555556,
              "#d8576b"
             ],
             [
              0.6666666666666666,
              "#ed7953"
             ],
             [
              0.7777777777777778,
              "#fb9f3a"
             ],
             [
              0.8888888888888888,
              "#fdca26"
             ],
             [
              1,
              "#f0f921"
             ]
            ],
            "type": "histogram2dcontour"
           }
          ],
          "mesh3d": [
           {
            "colorbar": {
             "outlinewidth": 0,
             "ticks": ""
            },
            "type": "mesh3d"
           }
          ],
          "parcoords": [
           {
            "line": {
             "colorbar": {
              "outlinewidth": 0,
              "ticks": ""
             }
            },
            "type": "parcoords"
           }
          ],
          "pie": [
           {
            "automargin": true,
            "type": "pie"
           }
          ],
          "scatter": [
           {
            "fillpattern": {
             "fillmode": "overlay",
             "size": 10,
             "solidity": 0.2
            },
            "type": "scatter"
           }
          ],
          "scatter3d": [
           {
            "line": {
             "colorbar": {
              "outlinewidth": 0,
              "ticks": ""
             }
            },
            "marker": {
             "colorbar": {
              "outlinewidth": 0,
              "ticks": ""
             }
            },
            "type": "scatter3d"
           }
          ],
          "scattercarpet": [
           {
            "marker": {
             "colorbar": {
              "outlinewidth": 0,
              "ticks": ""
             }
            },
            "type": "scattercarpet"
           }
          ],
          "scattergeo": [
           {
            "marker": {
             "colorbar": {
              "outlinewidth": 0,
              "ticks": ""
             }
            },
            "type": "scattergeo"
           }
          ],
          "scattergl": [
           {
            "marker": {
             "colorbar": {
              "outlinewidth": 0,
              "ticks": ""
             }
            },
            "type": "scattergl"
           }
          ],
          "scattermapbox": [
           {
            "marker": {
             "colorbar": {
              "outlinewidth": 0,
              "ticks": ""
             }
            },
            "type": "scattermapbox"
           }
          ],
          "scatterpolar": [
           {
            "marker": {
             "colorbar": {
              "outlinewidth": 0,
              "ticks": ""
             }
            },
            "type": "scatterpolar"
           }
          ],
          "scatterpolargl": [
           {
            "marker": {
             "colorbar": {
              "outlinewidth": 0,
              "ticks": ""
             }
            },
            "type": "scatterpolargl"
           }
          ],
          "scatterternary": [
           {
            "marker": {
             "colorbar": {
              "outlinewidth": 0,
              "ticks": ""
             }
            },
            "type": "scatterternary"
           }
          ],
          "surface": [
           {
            "colorbar": {
             "outlinewidth": 0,
             "ticks": ""
            },
            "colorscale": [
             [
              0,
              "#0d0887"
             ],
             [
              0.1111111111111111,
              "#46039f"
             ],
             [
              0.2222222222222222,
              "#7201a8"
             ],
             [
              0.3333333333333333,
              "#9c179e"
             ],
             [
              0.4444444444444444,
              "#bd3786"
             ],
             [
              0.5555555555555556,
              "#d8576b"
             ],
             [
              0.6666666666666666,
              "#ed7953"
             ],
             [
              0.7777777777777778,
              "#fb9f3a"
             ],
             [
              0.8888888888888888,
              "#fdca26"
             ],
             [
              1,
              "#f0f921"
             ]
            ],
            "type": "surface"
           }
          ],
          "table": [
           {
            "cells": {
             "fill": {
              "color": "#EBF0F8"
             },
             "line": {
              "color": "white"
             }
            },
            "header": {
             "fill": {
              "color": "#C8D4E3"
             },
             "line": {
              "color": "white"
             }
            },
            "type": "table"
           }
          ]
         },
         "layout": {
          "annotationdefaults": {
           "arrowcolor": "#2a3f5f",
           "arrowhead": 0,
           "arrowwidth": 1
          },
          "autotypenumbers": "strict",
          "coloraxis": {
           "colorbar": {
            "outlinewidth": 0,
            "ticks": ""
           }
          },
          "colorscale": {
           "diverging": [
            [
             0,
             "#8e0152"
            ],
            [
             0.1,
             "#c51b7d"
            ],
            [
             0.2,
             "#de77ae"
            ],
            [
             0.3,
             "#f1b6da"
            ],
            [
             0.4,
             "#fde0ef"
            ],
            [
             0.5,
             "#f7f7f7"
            ],
            [
             0.6,
             "#e6f5d0"
            ],
            [
             0.7,
             "#b8e186"
            ],
            [
             0.8,
             "#7fbc41"
            ],
            [
             0.9,
             "#4d9221"
            ],
            [
             1,
             "#276419"
            ]
           ],
           "sequential": [
            [
             0,
             "#0d0887"
            ],
            [
             0.1111111111111111,
             "#46039f"
            ],
            [
             0.2222222222222222,
             "#7201a8"
            ],
            [
             0.3333333333333333,
             "#9c179e"
            ],
            [
             0.4444444444444444,
             "#bd3786"
            ],
            [
             0.5555555555555556,
             "#d8576b"
            ],
            [
             0.6666666666666666,
             "#ed7953"
            ],
            [
             0.7777777777777778,
             "#fb9f3a"
            ],
            [
             0.8888888888888888,
             "#fdca26"
            ],
            [
             1,
             "#f0f921"
            ]
           ],
           "sequentialminus": [
            [
             0,
             "#0d0887"
            ],
            [
             0.1111111111111111,
             "#46039f"
            ],
            [
             0.2222222222222222,
             "#7201a8"
            ],
            [
             0.3333333333333333,
             "#9c179e"
            ],
            [
             0.4444444444444444,
             "#bd3786"
            ],
            [
             0.5555555555555556,
             "#d8576b"
            ],
            [
             0.6666666666666666,
             "#ed7953"
            ],
            [
             0.7777777777777778,
             "#fb9f3a"
            ],
            [
             0.8888888888888888,
             "#fdca26"
            ],
            [
             1,
             "#f0f921"
            ]
           ]
          },
          "colorway": [
           "#636efa",
           "#EF553B",
           "#00cc96",
           "#ab63fa",
           "#FFA15A",
           "#19d3f3",
           "#FF6692",
           "#B6E880",
           "#FF97FF",
           "#FECB52"
          ],
          "font": {
           "color": "#2a3f5f"
          },
          "geo": {
           "bgcolor": "white",
           "lakecolor": "white",
           "landcolor": "#E5ECF6",
           "showlakes": true,
           "showland": true,
           "subunitcolor": "white"
          },
          "hoverlabel": {
           "align": "left"
          },
          "hovermode": "closest",
          "mapbox": {
           "style": "light"
          },
          "paper_bgcolor": "white",
          "plot_bgcolor": "#E5ECF6",
          "polar": {
           "angularaxis": {
            "gridcolor": "white",
            "linecolor": "white",
            "ticks": ""
           },
           "bgcolor": "#E5ECF6",
           "radialaxis": {
            "gridcolor": "white",
            "linecolor": "white",
            "ticks": ""
           }
          },
          "scene": {
           "xaxis": {
            "backgroundcolor": "#E5ECF6",
            "gridcolor": "white",
            "gridwidth": 2,
            "linecolor": "white",
            "showbackground": true,
            "ticks": "",
            "zerolinecolor": "white"
           },
           "yaxis": {
            "backgroundcolor": "#E5ECF6",
            "gridcolor": "white",
            "gridwidth": 2,
            "linecolor": "white",
            "showbackground": true,
            "ticks": "",
            "zerolinecolor": "white"
           },
           "zaxis": {
            "backgroundcolor": "#E5ECF6",
            "gridcolor": "white",
            "gridwidth": 2,
            "linecolor": "white",
            "showbackground": true,
            "ticks": "",
            "zerolinecolor": "white"
           }
          },
          "shapedefaults": {
           "line": {
            "color": "#2a3f5f"
           }
          },
          "ternary": {
           "aaxis": {
            "gridcolor": "white",
            "linecolor": "white",
            "ticks": ""
           },
           "baxis": {
            "gridcolor": "white",
            "linecolor": "white",
            "ticks": ""
           },
           "bgcolor": "#E5ECF6",
           "caxis": {
            "gridcolor": "white",
            "linecolor": "white",
            "ticks": ""
           }
          },
          "title": {
           "x": 0.05
          },
          "xaxis": {
           "automargin": true,
           "gridcolor": "white",
           "linecolor": "white",
           "ticks": "",
           "title": {
            "standoff": 15
           },
           "zerolinecolor": "white",
           "zerolinewidth": 2
          },
          "yaxis": {
           "automargin": true,
           "gridcolor": "white",
           "linecolor": "white",
           "ticks": "",
           "title": {
            "standoff": 15
           },
           "zerolinecolor": "white",
           "zerolinewidth": 2
          }
         }
        }
       }
      },
      "image/png": "[encoded data removed]",
      "text/html": [
       "<div>                            <div id=\"bc37884a-f6e0-43e5-9898-64771213ff05\" class=\"plotly-graph-div\" style=\"height:525px; width:100%;\"></div>            <script type=\"text/javascript\">                require([\"plotly\"], function(Plotly) {                    window.PLOTLYENV=window.PLOTLYENV || {};                                    if (document.getElementById(\"bc37884a-f6e0-43e5-9898-64771213ff05\")) {                    Plotly.newPlot(                        \"bc37884a-f6e0-43e5-9898-64771213ff05\",                        [{\"hovertemplate\":\"abbrev=AL<br>Component 1=%{x}<br>Component 2=%{y}<br>Component 3=%{z}<extra></extra>\",\"legendgroup\":\"AL\",\"marker\":{\"color\":\"#636efa\",\"symbol\":\"circle\"},\"mode\":\"markers\",\"name\":\"AL\",\"scene\":\"scene\",\"showlegend\":true,\"x\":[1.6036713123321533],\"y\":[0.1334492713212967],\"z\":[0.3178808093070984],\"type\":\"scatter3d\"},{\"hovertemplate\":\"abbrev=AK<br>Component 1=%{x}<br>Component 2=%{y}<br>Component 3=%{z}<extra></extra>\",\"legendgroup\":\"AK\",\"marker\":{\"color\":\"#EF553B\",\"symbol\":\"circle\"},\"mode\":\"markers\",\"name\":\"AK\",\"scene\":\"scene\",\"showlegend\":true,\"x\":[1.144212245941162],\"y\":[0.8582335710525513],\"z\":[0.7366265654563904],\"type\":\"scatter3d\"},{\"hovertemplate\":\"abbrev=AZ<br>Component 1=%{x}<br>Component 2=%{y}<br>Component 3=%{z}<extra></extra>\",\"legendgroup\":\"AZ\",\"marker\":{\"color\":\"#00cc96\",\"symbol\":\"circle\"},\"mode\":\"markers\",\"name\":\"AZ\",\"scene\":\"scene\",\"showlegend\":true,\"x\":[1.4321722984313965],\"y\":[-0.42050567269325256],\"z\":[0.3381367027759552],\"type\":\"scatter3d\"},{\"hovertemplate\":\"abbrev=AR<br>Component 1=%{x}<br>Component 2=%{y}<br>Component 3=%{z}<extra></extra>\",\"legendgroup\":\"AR\",\"marker\":{\"color\":\"#ab63fa\",\"symbol\":\"circle\"},\"mode\":\"markers\",\"name\":\"AR\",\"scene\":\"scene\",\"showlegend\":true,\"x\":[2.491583824157715],\"y\":[0.34896838665008545],\"z\":[-1.78874671459198],\"type\":\"scatter3d\"},{\"hovertemplate\":\"abbrev=CA<br>Component 1=%{x}<br>Component 2=%{y}<br>Component 3=%{z}<extra></extra>\",\"legendgroup\":\"CA\",\"marker\":{\"color\":\"#FFA15A\",\"symbol\":\"circle\"},\"mode\":\"markers\",\"name\":\"CA\",\"scene\":\"scene\",\"showlegend\":true,\"x\":[-1.750638723373413],\"y\":[0.6336248517036438],\"z\":[-0.13617657124996185],\"type\":\"scatter3d\"},{\"hovertemplate\":\"abbrev=CO<br>Component 1=%{x}<br>Component 2=%{y}<br>Component 3=%{z}<extra></extra>\",\"legendgroup\":\"CO\",\"marker\":{\"color\":\"#19d3f3\",\"symbol\":\"circle\"},\"mode\":\"markers\",\"name\":\"CO\",\"scene\":\"scene\",\"showlegend\":true,\"x\":[-0.9251202940940857],\"y\":[-0.15438790619373322],\"z\":[0.14617621898651123],\"type\":\"scatter3d\"},{\"hovertemplate\":\"abbrev=CT<br>Component 1=%{x}<br>Component 2=%{y}<br>Component 3=%{z}<extra></extra>\",\"legendgroup\":\"CT\",\"marker\":{\"color\":\"#FF6692\",\"symbol\":\"circle\"},\"mode\":\"markers\",\"name\":\"CT\",\"scene\":\"scene\",\"showlegend\":true,\"x\":[-2.1253597736358643],\"y\":[1.3705997467041016],\"z\":[0.7430768609046936],\"type\":\"scatter3d\"},{\"hovertemplate\":\"abbrev=DE<br>Component 1=%{x}<br>Component 2=%{y}<br>Component 3=%{z}<extra></extra>\",\"legendgroup\":\"DE\",\"marker\":{\"color\":\"#B6E880\",\"symbol\":\"circle\"},\"mode\":\"markers\",\"name\":\"DE\",\"scene\":\"scene\",\"showlegend\":true,\"x\":[0.3246580958366394],\"y\":[1.5742443799972534],\"z\":[0.44098183512687683],\"type\":\"scatter3d\"},{\"hovertemplate\":\"abbrev=DC<br>Component 1=%{x}<br>Component 2=%{y}<br>Component 3=%{z}<extra></extra>\",\"legendgroup\":\"DC\",\"marker\":{\"color\":\"#FF97FF\",\"symbol\":\"circle\"},\"mode\":\"markers\",\"name\":\"DC\",\"scene\":\"scene\",\"showlegend\":true,\"x\":[-4.635926723480225],\"y\":[0.9189966917037964],\"z\":[0.7200777530670166],\"type\":\"scatter3d\"},{\"hovertemplate\":\"abbrev=FL<br>Component 1=%{x}<br>Component 2=%{y}<br>Component 3=%{z}<extra></extra>\",\"legendgroup\":\"FL\",\"marker\":{\"color\":\"#FECB52\",\"symbol\":\"circle\"},\"mode\":\"markers\",\"name\":\"FL\",\"scene\":\"scene\",\"showlegend\":true,\"x\":[0.49568885564804077],\"y\":[1.4352816343307495],\"z\":[-0.6611255407333374],\"type\":\"scatter3d\"},{\"hovertemplate\":\"abbrev=GA<br>Component 1=%{x}<br>Component 2=%{y}<br>Component 3=%{z}<extra></extra>\",\"legendgroup\":\"GA\",\"marker\":{\"color\":\"#636efa\",\"symbol\":\"circle\"},\"mode\":\"markers\",\"name\":\"GA\",\"scene\":\"scene\",\"showlegend\":true,\"x\":[-0.5254271626472473],\"y\":[0.26668813824653625],\"z\":[-0.9969732165336609],\"type\":\"scatter3d\"},{\"hovertemplate\":\"abbrev=HI<br>Component 1=%{x}<br>Component 2=%{y}<br>Component 3=%{z}<extra></extra>\",\"legendgroup\":\"HI\",\"marker\":{\"color\":\"#EF553B\",\"symbol\":\"circle\"},\"mode\":\"markers\",\"name\":\"HI\",\"scene\":\"scene\",\"showlegend\":true,\"x\":[1.9280471801757812],\"y\":[-0.2102453112602234],\"z\":[1.8024686574935913],\"type\":\"scatter3d\"},{\"hovertemplate\":\"abbrev=ID<br>Component 1=%{x}<br>Component 2=%{y}<br>Component 3=%{z}<extra></extra>\",\"legendgroup\":\"ID\",\"marker\":{\"color\":\"#00cc96\",\"symbol\":\"circle\"},\"mode\":\"markers\",\"name\":\"ID\",\"scene\":\"scene\",\"showlegend\":true,\"x\":[0.3131231963634491],\"y\":[-2.4275972843170166],\"z\":[0.34626710414886475],\"type\":\"scatter3d\"},{\"hovertemplate\":\"abbrev=IL<br>Component 1=%{x}<br>Component 2=%{y}<br>Component 3=%{z}<extra></extra>\",\"legendgroup\":\"IL\",\"marker\":{\"color\":\"#ab63fa\",\"symbol\":\"circle\"},\"mode\":\"markers\",\"name\":\"IL\",\"scene\":\"scene\",\"showlegend\":true,\"x\":[-0.8793400526046753],\"y\":[-0.3253369629383087],\"z\":[0.03022259660065174],\"type\":\"scatter3d\"},{\"hovertemplate\":\"abbrev=IN<br>Component 1=%{x}<br>Component 2=%{y}<br>Component 3=%{z}<extra></extra>\",\"legendgroup\":\"IN\",\"marker\":{\"color\":\"#FFA15A\",\"symbol\":\"circle\"},\"mode\":\"markers\",\"name\":\"IN\",\"scene\":\"scene\",\"showlegend\":true,\"x\":[-0.39532577991485596],\"y\":[-1.5178061723709106],\"z\":[-0.48037189245224],\"type\":\"scatter3d\"},{\"hovertemplate\":\"abbrev=IA<br>Component 1=%{x}<br>Component 2=%{y}<br>Component 3=%{z}<extra></extra>\",\"legendgroup\":\"IA\",\"marker\":{\"color\":\"#19d3f3\",\"symbol\":\"circle\"},\"mode\":\"markers\",\"name\":\"IA\",\"scene\":\"scene\",\"showlegend\":true,\"x\":[-0.35012203454971313],\"y\":[-1.6063567399978638],\"z\":[-1.1439528465270996],\"type\":\"scatter3d\"},{\"hovertemplate\":\"abbrev=KS<br>Component 1=%{x}<br>Component 2=%{y}<br>Component 3=%{z}<extra></extra>\",\"legendgroup\":\"KS\",\"marker\":{\"color\":\"#FF6692\",\"symbol\":\"circle\"},\"mode\":\"markers\",\"name\":\"KS\",\"scene\":\"scene\",\"showlegend\":true,\"x\":[0.26872387528419495],\"y\":[-0.3886443078517914],\"z\":[-0.4878940284252167],\"type\":\"scatter3d\"},{\"hovertemplate\":\"abbrev=KY<br>Component 1=%{x}<br>Component 2=%{y}<br>Component 3=%{z}<extra></extra>\",\"legendgroup\":\"KY\",\"marker\":{\"color\":\"#B6E880\",\"symbol\":\"circle\"},\"mode\":\"markers\",\"name\":\"KY\",\"scene\":\"scene\",\"showlegend\":true,\"x\":[1.079426884651184],\"y\":[0.16789458692073822],\"z\":[-1.0798354148864746],\"type\":\"scatter3d\"},{\"hovertemplate\":\"abbrev=LA<br>Component 1=%{x}<br>Component 2=%{y}<br>Component 3=%{z}<extra></extra>\",\"legendgroup\":\"LA\",\"marker\":{\"color\":\"#FF97FF\",\"symbol\":\"circle\"},\"mode\":\"markers\",\"name\":\"LA\",\"scene\":\"scene\",\"showlegend\":true,\"x\":[1.879427194595337],\"y\":[3.64821720123291],\"z\":[0.04443800449371338],\"type\":\"scatter3d\"},{\"hovertemplate\":\"abbrev=ME<br>Component 1=%{x}<br>Component 2=%{y}<br>Component 3=%{z}<extra></extra>\",\"legendgroup\":\"ME\",\"marker\":{\"color\":\"#FECB52\",\"symbol\":\"circle\"},\"mode\":\"markers\",\"name\":\"ME\",\"scene\":\"scene\",\"showlegend\":true,\"x\":[0.033165350556373596],\"y\":[-2.0009114742279053],\"z\":[0.5332976579666138],\"type\":\"scatter3d\"},{\"hovertemplate\":\"abbrev=MD<br>Component 1=%{x}<br>Component 2=%{y}<br>Component 3=%{z}<extra></extra>\",\"legendgroup\":\"MD\",\"marker\":{\"color\":\"#636efa\",\"symbol\":\"circle\"},\"mode\":\"markers\",\"name\":\"MD\",\"scene\":\"scene\",\"showlegend\":true,\"x\":[-1.7087477445602417],\"y\":[2.1264214515686035],\"z\":[-0.24539245665073395],\"type\":\"scatter3d\"},{\"hovertemplate\":\"abbrev=MA<br>Component 1=%{x}<br>Component 2=%{y}<br>Component 3=%{z}<extra></extra>\",\"legendgroup\":\"MA\",\"marker\":{\"color\":\"#EF553B\",\"symbol\":\"circle\"},\"mode\":\"markers\",\"name\":\"MA\",\"scene\":\"scene\",\"showlegend\":true,\"x\":[-3.6514573097229004],\"y\":[-0.025081705302000046],\"z\":[0.11321477591991425],\"type\":\"scatter3d\"},{\"hovertemplate\":\"abbrev=MI<br>Component 1=%{x}<br>Component 2=%{y}<br>Component 3=%{z}<extra></extra>\",\"legendgroup\":\"MI\",\"marker\":{\"color\":\"#00cc96\",\"symbol\":\"circle\"},\"mode\":\"markers\",\"name\":\"MI\",\"scene\":\"scene\",\"showlegend\":true,\"x\":[-1.3707026243209839],\"y\":[1.1912384033203125],\"z\":[-0.186197429895401],\"type\":\"scatter3d\"},{\"hovertemplate\":\"abbrev=MN<br>Component 1=%{x}<br>Component 2=%{y}<br>Component 3=%{z}<extra></extra>\",\"legendgroup\":\"MN\",\"marker\":{\"color\":\"#ab63fa\",\"symbol\":\"circle\"},\"mode\":\"markers\",\"name\":\"MN\",\"scene\":\"scene\",\"showlegend\":true,\"x\":[-2.90903902053833],\"y\":[-0.9037736058235168],\"z\":[-0.3647516965866089],\"type\":\"scatter3d\"},{\"hovertemplate\":\"abbrev=MS<br>Component 1=%{x}<br>Component 2=%{y}<br>Component 3=%{z}<extra></extra>\",\"legendgroup\":\"MS\",\"marker\":{\"color\":\"#FFA15A\",\"symbol\":\"circle\"},\"mode\":\"markers\",\"name\":\"MS\",\"scene\":\"scene\",\"showlegend\":true,\"x\":[-0.864890992641449],\"y\":[0.5837460160255432],\"z\":[-1.2436848878860474],\"type\":\"scatter3d\"},{\"hovertemplate\":\"abbrev=MO<br>Component 1=%{x}<br>Component 2=%{y}<br>Component 3=%{z}<extra></extra>\",\"legendgroup\":\"MO\",\"marker\":{\"color\":\"#19d3f3\",\"symbol\":\"circle\"},\"mode\":\"markers\",\"name\":\"MO\",\"scene\":\"scene\",\"showlegend\":true,\"x\":[0.6597332954406738],\"y\":[0.003253889735788107],\"z\":[0.5561890006065369],\"type\":\"scatter3d\"},{\"hovertemplate\":\"abbrev=MT<br>Component 1=%{x}<br>Component 2=%{y}<br>Component 3=%{z}<extra></extra>\",\"legendgroup\":\"MT\",\"marker\":{\"color\":\"#FF6692\",\"symbol\":\"circle\"},\"mode\":\"markers\",\"name\":\"MT\",\"scene\":\"scene\",\"showlegend\":true,\"x\":[3.6279239654541016],\"y\":[-1.242991328239441],\"z\":[1.1617885828018188],\"type\":\"scatter3d\"},{\"hovertemplate\":\"abbrev=NE<br>Component 1=%{x}<br>Component 2=%{y}<br>Component 3=%{z}<extra></extra>\",\"legendgroup\":\"NE\",\"marker\":{\"color\":\"#B6E880\",\"symbol\":\"circle\"},\"mode\":\"markers\",\"name\":\"NE\",\"scene\":\"scene\",\"showlegend\":true,\"x\":[-0.4670828878879547],\"y\":[-1.3090091943740845],\"z\":[-1.1514948606491089],\"type\":\"scatter3d\"},{\"hovertemplate\":\"abbrev=NV<br>Component 1=%{x}<br>Component 2=%{y}<br>Component 3=%{z}<extra></extra>\",\"legendgroup\":\"NV\",\"marker\":{\"color\":\"#FF97FF\",\"symbol\":\"circle\"},\"mode\":\"markers\",\"name\":\"NV\",\"scene\":\"scene\",\"showlegend\":true,\"x\":[-0.1060277447104454],\"y\":[0.6896524429321289],\"z\":[0.34820330142974854],\"type\":\"scatter3d\"},{\"hovertemplate\":\"abbrev=NH<br>Component 1=%{x}<br>Component 2=%{y}<br>Component 3=%{z}<extra></extra>\",\"legendgroup\":\"NH\",\"marker\":{\"color\":\"#FECB52\",\"symbol\":\"circle\"},\"mode\":\"markers\",\"name\":\"NH\",\"scene\":\"scene\",\"showlegend\":true,\"x\":[-1.7753623723983765],\"y\":[-1.2390185594558716],\"z\":[0.24390454590320587],\"type\":\"scatter3d\"},{\"hovertemplate\":\"abbrev=NJ<br>Component 1=%{x}<br>Component 2=%{y}<br>Component 3=%{z}<extra></extra>\",\"legendgroup\":\"NJ\",\"marker\":{\"color\":\"#636efa\",\"symbol\":\"circle\"},\"mode\":\"markers\",\"name\":\"NJ\",\"scene\":\"scene\",\"showlegend\":true,\"x\":[-3.0183095932006836],\"y\":[1.9358694553375244],\"z\":[-0.20288240909576416],\"type\":\"scatter3d\"},{\"hovertemplate\":\"abbrev=NM<br>Component 1=%{x}<br>Component 2=%{y}<br>Component 3=%{z}<extra></extra>\",\"legendgroup\":\"NM\",\"marker\":{\"color\":\"#EF553B\",\"symbol\":\"circle\"},\"mode\":\"markers\",\"name\":\"NM\",\"scene\":\"scene\",\"showlegend\":true,\"x\":[0.4692913889884949],\"y\":[-0.3844856321811676],\"z\":[-0.9702873229980469],\"type\":\"scatter3d\"},{\"hovertemplate\":\"abbrev=NY<br>Component 1=%{x}<br>Component 2=%{y}<br>Component 3=%{z}<extra></extra>\",\"legendgroup\":\"NY\",\"marker\":{\"color\":\"#00cc96\",\"symbol\":\"circle\"},\"mode\":\"markers\",\"name\":\"NY\",\"scene\":\"scene\",\"showlegend\":true,\"x\":[-2.0417845249176025],\"y\":[1.5388602018356323],\"z\":[0.5029439330101013],\"type\":\"scatter3d\"},{\"hovertemplate\":\"abbrev=NC<br>Component 1=%{x}<br>Component 2=%{y}<br>Component 3=%{z}<extra></extra>\",\"legendgroup\":\"NC\",\"marker\":{\"color\":\"#ab63fa\",\"symbol\":\"circle\"},\"mode\":\"markers\",\"name\":\"NC\",\"scene\":\"scene\",\"showlegend\":true,\"x\":[0.8162622451782227],\"y\":[-0.7933123111724854],\"z\":[0.3682515621185303],\"type\":\"scatter3d\"},{\"hovertemplate\":\"abbrev=ND<br>Component 1=%{x}<br>Component 2=%{y}<br>Component 3=%{z}<extra></extra>\",\"legendgroup\":\"ND\",\"marker\":{\"color\":\"#FFA15A\",\"symbol\":\"circle\"},\"mode\":\"markers\",\"name\":\"ND\",\"scene\":\"scene\",\"showlegend\":true,\"x\":[4.423619747161865],\"y\":[-0.9657154083251953],\"z\":[-0.9485422968864441],\"type\":\"scatter3d\"},{\"hovertemplate\":\"abbrev=OH<br>Component 1=%{x}<br>Component 2=%{y}<br>Component 3=%{z}<extra></extra>\",\"legendgroup\":\"OH\",\"marker\":{\"color\":\"#19d3f3\",\"symbol\":\"circle\"},\"mode\":\"markers\",\"name\":\"OH\",\"scene\":\"scene\",\"showlegend\":true,\"x\":[-0.539149284362793],\"y\":[-0.8926264643669128],\"z\":[-0.38989219069480896],\"type\":\"scatter3d\"},{\"hovertemplate\":\"abbrev=OK<br>Component 1=%{x}<br>Component 2=%{y}<br>Component 3=%{z}<extra></extra>\",\"legendgroup\":\"OK\",\"marker\":{\"color\":\"#FF6692\",\"symbol\":\"circle\"},\"mode\":\"markers\",\"name\":\"OK\",\"scene\":\"scene\",\"showlegend\":true,\"x\":[1.893587589263916],\"y\":[1.56975519657135],\"z\":[-0.6820619702339172],\"type\":\"scatter3d\"},{\"hovertemplate\":\"abbrev=OR<br>Component 1=%{x}<br>Component 2=%{y}<br>Component 3=%{z}<extra></extra>\",\"legendgroup\":\"OR\",\"marker\":{\"color\":\"#B6E880\",\"symbol\":\"circle\"},\"mode\":\"markers\",\"name\":\"OR\",\"scene\":\"scene\",\"showlegend\":true,\"x\":[-1.5594104528427124],\"y\":[-1.4072527885437012],\"z\":[0.35647353529930115],\"type\":\"scatter3d\"},{\"hovertemplate\":\"abbrev=PA<br>Component 1=%{x}<br>Component 2=%{y}<br>Component 3=%{z}<extra></extra>\",\"legendgroup\":\"PA\",\"marker\":{\"color\":\"#FF97FF\",\"symbol\":\"circle\"},\"mode\":\"markers\",\"name\":\"PA\",\"scene\":\"scene\",\"showlegend\":true,\"x\":[1.8140532970428467],\"y\":[0.9365888237953186],\"z\":[1.0974249839782715],\"type\":\"scatter3d\"},{\"hovertemplate\":\"abbrev=RI<br>Component 1=%{x}<br>Component 2=%{y}<br>Component 3=%{z}<extra></extra>\",\"legendgroup\":\"RI\",\"marker\":{\"color\":\"#FECB52\",\"symbol\":\"circle\"},\"mode\":\"markers\",\"name\":\"RI\",\"scene\":\"scene\",\"showlegend\":true,\"x\":[-2.1644840240478516],\"y\":[1.1190773248672485],\"z\":[0.5473309755325317],\"type\":\"scatter3d\"},{\"hovertemplate\":\"abbrev=SC<br>Component 1=%{x}<br>Component 2=%{y}<br>Component 3=%{z}<extra></extra>\",\"legendgroup\":\"SC\",\"marker\":{\"color\":\"#636efa\",\"symbol\":\"circle\"},\"mode\":\"markers\",\"name\":\"SC\",\"scene\":\"scene\",\"showlegend\":true,\"x\":[4.672014236450195],\"y\":[-0.019523512572050095],\"z\":[0.8074437975883484],\"type\":\"scatter3d\"},{\"hovertemplate\":\"abbrev=SD<br>Component 1=%{x}<br>Component 2=%{y}<br>Component 3=%{z}<extra></extra>\",\"legendgroup\":\"SD\",\"marker\":{\"color\":\"#EF553B\",\"symbol\":\"circle\"},\"mode\":\"markers\",\"name\":\"SD\",\"scene\":\"scene\",\"showlegend\":true,\"x\":[2.1474764347076416],\"y\":[-1.6846697330474854],\"z\":[-0.046150874346494675],\"type\":\"scatter3d\"},{\"hovertemplate\":\"abbrev=TN<br>Component 1=%{x}<br>Component 2=%{y}<br>Component 3=%{z}<extra></extra>\",\"legendgroup\":\"TN\",\"marker\":{\"color\":\"#00cc96\",\"symbol\":\"circle\"},\"mode\":\"markers\",\"name\":\"TN\",\"scene\":\"scene\",\"showlegend\":true,\"x\":[0.9548789262771606],\"y\":[0.26077669858932495],\"z\":[-1.1953669786453247],\"type\":\"scatter3d\"},{\"hovertemplate\":\"abbrev=TX<br>Component 1=%{x}<br>Component 2=%{y}<br>Component 3=%{z}<extra></extra>\",\"legendgroup\":\"TX\",\"marker\":{\"color\":\"#ab63fa\",\"symbol\":\"circle\"},\"mode\":\"markers\",\"name\":\"TX\",\"scene\":\"scene\",\"showlegend\":true,\"x\":[2.2043087482452393],\"y\":[1.4326421022415161],\"z\":[0.5862855315208435],\"type\":\"scatter3d\"},{\"hovertemplate\":\"abbrev=UT<br>Component 1=%{x}<br>Component 2=%{y}<br>Component 3=%{z}<extra></extra>\",\"legendgroup\":\"UT\",\"marker\":{\"color\":\"#FFA15A\",\"symbol\":\"circle\"},\"mode\":\"markers\",\"name\":\"UT\",\"scene\":\"scene\",\"showlegend\":true,\"x\":[-1.9852113723754883],\"y\":[-1.283064365386963],\"z\":[0.6154283285140991],\"type\":\"scatter3d\"},{\"hovertemplate\":\"abbrev=VT<br>Component 1=%{x}<br>Component 2=%{y}<br>Component 3=%{z}<extra></extra>\",\"legendgroup\":\"VT\",\"marker\":{\"color\":\"#19d3f3\",\"symbol\":\"circle\"},\"mode\":\"markers\",\"name\":\"VT\",\"scene\":\"scene\",\"showlegend\":true,\"x\":[-0.6303375959396362],\"y\":[-1.5046106576919556],\"z\":[-0.14649401605129242],\"type\":\"scatter3d\"},{\"hovertemplate\":\"abbrev=VA<br>Component 1=%{x}<br>Component 2=%{y}<br>Component 3=%{z}<extra></extra>\",\"legendgroup\":\"VA\",\"marker\":{\"color\":\"#FF6692\",\"symbol\":\"circle\"},\"mode\":\"markers\",\"name\":\"VA\",\"scene\":\"scene\",\"showlegend\":true,\"x\":[-1.797349452972412],\"y\":[-0.17763957381248474],\"z\":[-0.9888999462127686],\"type\":\"scatter3d\"},{\"hovertemplate\":\"abbrev=WA<br>Component 1=%{x}<br>Component 2=%{y}<br>Component 3=%{z}<extra></extra>\",\"legendgroup\":\"WA\",\"marker\":{\"color\":\"#B6E880\",\"symbol\":\"circle\"},\"mode\":\"markers\",\"name\":\"WA\",\"scene\":\"scene\",\"showlegend\":true,\"x\":[-2.0964515209198],\"y\":[-0.9589685201644897],\"z\":[0.8541179895401001],\"type\":\"scatter3d\"},{\"hovertemplate\":\"abbrev=WV<br>Component 1=%{x}<br>Component 2=%{y}<br>Component 3=%{z}<extra></extra>\",\"legendgroup\":\"WV\",\"marker\":{\"color\":\"#FF97FF\",\"symbol\":\"circle\"},\"mode\":\"markers\",\"name\":\"WV\",\"scene\":\"scene\",\"showlegend\":true,\"x\":[3.6191294193267822],\"y\":[1.4852855205535889],\"z\":[-0.05435487627983093],\"type\":\"scatter3d\"},{\"hovertemplate\":\"abbrev=WI<br>Component 1=%{x}<br>Component 2=%{y}<br>Component 3=%{z}<extra></extra>\",\"legendgroup\":\"WI\",\"marker\":{\"color\":\"#FECB52\",\"symbol\":\"circle\"},\"mode\":\"markers\",\"name\":\"WI\",\"scene\":\"scene\",\"showlegend\":true,\"x\":[-1.1874470710754395],\"y\":[-1.8297672271728516],\"z\":[0.5223753452301025],\"type\":\"scatter3d\"},{\"hovertemplate\":\"abbrev=WY<br>Component 1=%{x}<br>Component 2=%{y}<br>Component 3=%{z}<extra></extra>\",\"legendgroup\":\"WY\",\"marker\":{\"color\":\"#636efa\",\"symbol\":\"circle\"},\"mode\":\"markers\",\"name\":\"WY\",\"scene\":\"scene\",\"showlegend\":true,\"x\":[1.1643261909484863],\"y\":[-0.5560639500617981],\"z\":[0.7105023264884949],\"type\":\"scatter3d\"}],                        {\"template\":{\"data\":{\"histogram2dcontour\":[{\"type\":\"histogram2dcontour\",\"colorbar\":{\"outlinewidth\":0,\"ticks\":\"\"},\"colorscale\":[[0.0,\"#0d0887\"],[0.1111111111111111,\"#46039f\"],[0.2222222222222222,\"#7201a8\"],[0.3333333333333333,\"#9c179e\"],[0.4444444444444444,\"#bd3786\"],[0.5555555555555556,\"#d8576b\"],[0.6666666666666666,\"#ed7953\"],[0.7777777777777778,\"#fb9f3a\"],[0.8888888888888888,\"#fdca26\"],[1.0,\"#f0f921\"]]}],\"choropleth\":[{\"type\":\"choropleth\",\"colorbar\":{\"outlinewidth\":0,\"ticks\":\"\"}}],\"histogram2d\":[{\"type\":\"histogram2d\",\"colorbar\":{\"outlinewidth\":0,\"ticks\":\"\"},\"colorscale\":[[0.0,\"#0d0887\"],[0.1111111111111111,\"#46039f\"],[0.2222222222222222,\"#7201a8\"],[0.3333333333333333,\"#9c179e\"],[0.4444444444444444,\"#bd3786\"],[0.5555555555555556,\"#d8576b\"],[0.6666666666666666,\"#ed7953\"],[0.7777777777777778,\"#fb9f3a\"],[0.8888888888888888,\"#fdca26\"],[1.0,\"#f0f921\"]]}],\"heatmap\":[{\"type\":\"heatmap\",\"colorbar\":{\"outlinewidth\":0,\"ticks\":\"\"},\"colorscale\":[[0.0,\"#0d0887\"],[0.1111111111111111,\"#46039f\"],[0.2222222222222222,\"#7201a8\"],[0.3333333333333333,\"#9c179e\"],[0.4444444444444444,\"#bd3786\"],[0.5555555555555556,\"#d8576b\"],[0.6666666666666666,\"#ed7953\"],[0.7777777777777778,\"#fb9f3a\"],[0.8888888888888888,\"#fdca26\"],[1.0,\"#f0f921\"]]}],\"heatmapgl\":[{\"type\":\"heatmapgl\",\"colorbar\":{\"outlinewidth\":0,\"ticks\":\"\"},\"colorscale\":[[0.0,\"#0d0887\"],[0.1111111111111111,\"#46039f\"],[0.2222222222222222,\"#7201a8\"],[0.3333333333333333,\"#9c179e\"],[0.4444444444444444,\"#bd3786\"],[0.5555555555555556,\"#d8576b\"],[0.6666666666666666,\"#ed7953\"],[0.7777777777777778,\"#fb9f3a\"],[0.8888888888888888,\"#fdca26\"],[1.0,\"#f0f921\"]]}],\"contourcarpet\":[{\"type\":\"contourcarpet\",\"colorbar\":{\"outlinewidth\":0,\"ticks\":\"\"}}],\"contour\":[{\"type\":\"contour\",\"colorbar\":{\"outlinewidth\":0,\"ticks\":\"\"},\"colorscale\":[[0.0,\"#0d0887\"],[0.1111111111111111,\"#46039f\"],[0.2222222222222222,\"#7201a8\"],[0.3333333333333333,\"#9c179e\"],[0.4444444444444444,\"#bd3786\"],[0.5555555555555556,\"#d8576b\"],[0.6666666666666666,\"#ed7953\"],[0.7777777777777778,\"#fb9f3a\"],[0.8888888888888888,\"#fdca26\"],[1.0,\"#f0f921\"]]}],\"surface\":[{\"type\":\"surface\",\"colorbar\":{\"outlinewidth\":0,\"ticks\":\"\"},\"colorscale\":[[0.0,\"#0d0887\"],[0.1111111111111111,\"#46039f\"],[0.2222222222222222,\"#7201a8\"],[0.3333333333333333,\"#9c179e\"],[0.4444444444444444,\"#bd3786\"],[0.5555555555555556,\"#d8576b\"],[0.6666666666666666,\"#ed7953\"],[0.7777777777777778,\"#fb9f3a\"],[0.8888888888888888,\"#fdca26\"],[1.0,\"#f0f921\"]]}],\"mesh3d\":[{\"type\":\"mesh3d\",\"colorbar\":{\"outlinewidth\":0,\"ticks\":\"\"}}],\"scatter\":[{\"fillpattern\":{\"fillmode\":\"overlay\",\"size\":10,\"solidity\":0.2},\"type\":\"scatter\"}],\"parcoords\":[{\"type\":\"parcoords\",\"line\":{\"colorbar\":{\"outlinewidth\":0,\"ticks\":\"\"}}}],\"scatterpolargl\":[{\"type\":\"scatterpolargl\",\"marker\":{\"colorbar\":{\"outlinewidth\":0,\"ticks\":\"\"}}}],\"bar\":[{\"error_x\":{\"color\":\"#2a3f5f\"},\"error_y\":{\"color\":\"#2a3f5f\"},\"marker\":{\"line\":{\"color\":\"#E5ECF6\",\"width\":0.5},\"pattern\":{\"fillmode\":\"overlay\",\"size\":10,\"solidity\":0.2}},\"type\":\"bar\"}],\"scattergeo\":[{\"type\":\"scattergeo\",\"marker\":{\"colorbar\":{\"outlinewidth\":0,\"ticks\":\"\"}}}],\"scatterpolar\":[{\"type\":\"scatterpolar\",\"marker\":{\"colorbar\":{\"outlinewidth\":0,\"ticks\":\"\"}}}],\"histogram\":[{\"marker\":{\"pattern\":{\"fillmode\":\"overlay\",\"size\":10,\"solidity\":0.2}},\"type\":\"histogram\"}],\"scattergl\":[{\"type\":\"scattergl\",\"marker\":{\"colorbar\":{\"outlinewidth\":0,\"ticks\":\"\"}}}],\"scatter3d\":[{\"type\":\"scatter3d\",\"line\":{\"colorbar\":{\"outlinewidth\":0,\"ticks\":\"\"}},\"marker\":{\"colorbar\":{\"outlinewidth\":0,\"ticks\":\"\"}}}],\"scattermapbox\":[{\"type\":\"scattermapbox\",\"marker\":{\"colorbar\":{\"outlinewidth\":0,\"ticks\":\"\"}}}],\"scatterternary\":[{\"type\":\"scatterternary\",\"marker\":{\"colorbar\":{\"outlinewidth\":0,\"ticks\":\"\"}}}],\"scattercarpet\":[{\"type\":\"scattercarpet\",\"marker\":{\"colorbar\":{\"outlinewidth\":0,\"ticks\":\"\"}}}],\"carpet\":[{\"aaxis\":{\"endlinecolor\":\"#2a3f5f\",\"gridcolor\":\"white\",\"linecolor\":\"white\",\"minorgridcolor\":\"white\",\"startlinecolor\":\"#2a3f5f\"},\"baxis\":{\"endlinecolor\":\"#2a3f5f\",\"gridcolor\":\"white\",\"linecolor\":\"white\",\"minorgridcolor\":\"white\",\"startlinecolor\":\"#2a3f5f\"},\"type\":\"carpet\"}],\"table\":[{\"cells\":{\"fill\":{\"color\":\"#EBF0F8\"},\"line\":{\"color\":\"white\"}},\"header\":{\"fill\":{\"color\":\"#C8D4E3\"},\"line\":{\"color\":\"white\"}},\"type\":\"table\"}],\"barpolar\":[{\"marker\":{\"line\":{\"color\":\"#E5ECF6\",\"width\":0.5},\"pattern\":{\"fillmode\":\"overlay\",\"size\":10,\"solidity\":0.2}},\"type\":\"barpolar\"}],\"pie\":[{\"automargin\":true,\"type\":\"pie\"}]},\"layout\":{\"autotypenumbers\":\"strict\",\"colorway\":[\"#636efa\",\"#EF553B\",\"#00cc96\",\"#ab63fa\",\"#FFA15A\",\"#19d3f3\",\"#FF6692\",\"#B6E880\",\"#FF97FF\",\"#FECB52\"],\"font\":{\"color\":\"#2a3f5f\"},\"hovermode\":\"closest\",\"hoverlabel\":{\"align\":\"left\"},\"paper_bgcolor\":\"white\",\"plot_bgcolor\":\"#E5ECF6\",\"polar\":{\"bgcolor\":\"#E5ECF6\",\"angularaxis\":{\"gridcolor\":\"white\",\"linecolor\":\"white\",\"ticks\":\"\"},\"radialaxis\":{\"gridcolor\":\"white\",\"linecolor\":\"white\",\"ticks\":\"\"}},\"ternary\":{\"bgcolor\":\"#E5ECF6\",\"aaxis\":{\"gridcolor\":\"white\",\"linecolor\":\"white\",\"ticks\":\"\"},\"baxis\":{\"gridcolor\":\"white\",\"linecolor\":\"white\",\"ticks\":\"\"},\"caxis\":{\"gridcolor\":\"white\",\"linecolor\":\"white\",\"ticks\":\"\"}},\"coloraxis\":{\"colorbar\":{\"outlinewidth\":0,\"ticks\":\"\"}},\"colorscale\":{\"sequential\":[[0.0,\"#0d0887\"],[0.1111111111111111,\"#46039f\"],[0.2222222222222222,\"#7201a8\"],[0.3333333333333333,\"#9c179e\"],[0.4444444444444444,\"#bd3786\"],[0.5555555555555556,\"#d8576b\"],[0.6666666666666666,\"#ed7953\"],[0.7777777777777778,\"#fb9f3a\"],[0.8888888888888888,\"#fdca26\"],[1.0,\"#f0f921\"]],\"sequentialminus\":[[0.0,\"#0d0887\"],[0.1111111111111111,\"#46039f\"],[0.2222222222222222,\"#7201a8\"],[0.3333333333333333,\"#9c179e\"],[0.4444444444444444,\"#bd3786\"],[0.5555555555555556,\"#d8576b\"],[0.6666666666666666,\"#ed7953\"],[0.7777777777777778,\"#fb9f3a\"],[0.8888888888888888,\"#fdca26\"],[1.0,\"#f0f921\"]],\"diverging\":[[0,\"#8e0152\"],[0.1,\"#c51b7d\"],[0.2,\"#de77ae\"],[0.3,\"#f1b6da\"],[0.4,\"#fde0ef\"],[0.5,\"#f7f7f7\"],[0.6,\"#e6f5d0\"],[0.7,\"#b8e186\"],[0.8,\"#7fbc41\"],[0.9,\"#4d9221\"],[1,\"#276419\"]]},\"xaxis\":{\"gridcolor\":\"white\",\"linecolor\":\"white\",\"ticks\":\"\",\"title\":{\"standoff\":15},\"zerolinecolor\":\"white\",\"automargin\":true,\"zerolinewidth\":2},\"yaxis\":{\"gridcolor\":\"white\",\"linecolor\":\"white\",\"ticks\":\"\",\"title\":{\"standoff\":15},\"zerolinecolor\":\"white\",\"automargin\":true,\"zerolinewidth\":2},\"scene\":{\"xaxis\":{\"backgroundcolor\":\"#E5ECF6\",\"gridcolor\":\"white\",\"linecolor\":\"white\",\"showbackground\":true,\"ticks\":\"\",\"zerolinecolor\":\"white\",\"gridwidth\":2},\"yaxis\":{\"backgroundcolor\":\"#E5ECF6\",\"gridcolor\":\"white\",\"linecolor\":\"white\",\"showbackground\":true,\"ticks\":\"\",\"zerolinecolor\":\"white\",\"gridwidth\":2},\"zaxis\":{\"backgroundcolor\":\"#E5ECF6\",\"gridcolor\":\"white\",\"linecolor\":\"white\",\"showbackground\":true,\"ticks\":\"\",\"zerolinecolor\":\"white\",\"gridwidth\":2}},\"shapedefaults\":{\"line\":{\"color\":\"#2a3f5f\"}},\"annotationdefaults\":{\"arrowcolor\":\"#2a3f5f\",\"arrowhead\":0,\"arrowwidth\":1},\"geo\":{\"bgcolor\":\"white\",\"landcolor\":\"#E5ECF6\",\"subunitcolor\":\"white\",\"showland\":true,\"showlakes\":true,\"lakecolor\":\"white\"},\"title\":{\"x\":0.05},\"mapbox\":{\"style\":\"light\"}}},\"scene\":{\"domain\":{\"x\":[0.0,1.0],\"y\":[0.0,1.0]},\"xaxis\":{\"title\":{\"text\":\"Component 1\"}},\"yaxis\":{\"title\":{\"text\":\"Component 2\"}},\"zaxis\":{\"title\":{\"text\":\"Component 3\"}}},\"legend\":{\"title\":{\"text\":\"abbrev\"},\"tracegroupgap\":0},\"margin\":{\"t\":60}},                        {\"responsive\": true}                    ).then(function(){\n",
       "                            \n",
       "var gd = document.getElementById('bc37884a-f6e0-43e5-9898-64771213ff05');\n",
       "var x = new MutationObserver(function (mutations, observer) {{\n",
       "        var display = window.getComputedStyle(gd).display;\n",
       "        if (!display || display === 'none') {{\n",
       "            console.log([gd, 'removed!']);\n",
       "            Plotly.purge(gd);\n",
       "            observer.disconnect();\n",
       "        }}\n",
       "}});\n",
       "\n",
       "// Listen for the removal of the full notebook cells\n",
       "var notebookContainer = gd.closest('#notebook-container');\n",
       "if (notebookContainer) {{\n",
       "    x.observe(notebookContainer, {childList: true});\n",
       "}}\n",
       "\n",
       "// Listen for the clearing of the current output cell\n",
       "var outputEl = gd.closest('.output');\n",
       "if (outputEl) {{\n",
       "    x.observe(outputEl, {childList: true});\n",
       "}}\n",
       "\n",
       "                        })                };                });            </script>        </div>"
      ]
     },
     "metadata": {},
     "output_type": "display_data"
    }
   ],
   "source": [
    "# ANSWER\n",
    "#finally using plotly\n",
    "fig = px.scatter_3d(X, x='Component 1', y='Component 2', z='Component 3',color=X.index)\n",
    "fig.show()\n"
   ]
  },
  {
   "cell_type": "markdown",
   "metadata": {},
   "source": [
    "---\n",
    "**34)**\t[M] Do the same outliers still stand out?"
   ]
  },
  {
   "cell_type": "markdown",
   "metadata": {},
   "source": [
    "**ANSWER:**\n",
    "\n",
    "\n"
   ]
  },
  {
   "cell_type": "markdown",
   "metadata": {},
   "source": [
    "the same outliers along components 1 & 2 stand out, but now AR and HI appear as outliers along component 3."
   ]
  },
  {
   "cell_type": "code",
   "execution_count": null,
   "metadata": {},
   "outputs": [],
   "source": []
  }
 ],
 "metadata": {
  "kernelspec": {
   "display_name": "Python 3 (ipykernel)",
   "language": "python",
   "name": "python3"
  },
  "language_info": {
   "codemirror_mode": {
    "name": "ipython",
    "version": 3
   },
   "file_extension": ".py",
   "mimetype": "text/x-python",
   "name": "python",
   "nbconvert_exporter": "python",
   "pygments_lexer": "ipython3",
   "version": "3.9.16"
  },
  "toc-autonumbering": false,
  "toc-showcode": false,
  "toc-showmarkdowntxt": false,
  "toc-showtags": false
 },
 "nbformat": 4,
 "nbformat_minor": 4
}
