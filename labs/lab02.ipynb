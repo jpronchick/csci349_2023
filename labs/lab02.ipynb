{
 "cells": [
  {
   "cell_type": "markdown",
   "id": "6d2c053b-85ed-43ae-956c-eeb208e1b0c4",
   "metadata": {},
   "source": [
    "# Lab 02 - Numpy\n",
    "\n",
    "Name: Jimmy Pronchick  \n",
    "Class: CSCI349 2023SP - Intro to Data Mining  \n",
    "Instructor: Brian King"
   ]
  },
  {
   "cell_type": "code",
   "execution_count": 4,
   "id": "8b999e04-bea9-4f4d-bcd5-a16ca9d1bb4f",
   "metadata": {},
   "outputs": [
    {
     "name": "stdout",
     "output_type": "stream",
     "text": [
      "3.9.16 (main, Jan 11 2023, 16:16:36) [MSC v.1916 64 bit (AMD64)]\n",
      "numpy: 1.23.5\n"
     ]
    }
   ],
   "source": [
    "#setup\n",
    "import sys\n",
    "import numpy as np\n",
    "print(sys.version)\n",
    "print(\"numpy: \" + np.__version__)"
   ]
  },
  {
   "cell_type": "markdown",
   "id": "da464edb-d773-429b-893f-955ca2cc4948",
   "metadata": {},
   "source": [
    "1)[P] Create a 100000x 75 matrix of zeros, stored as X.Then,print out the shapeof the matrix, the base data type, the individual item size in the array, and the total size of the array in bytes(as an integer). Also, print out the total sizein megabyteswith 3 significant digits."
   ]
  },
  {
   "cell_type": "code",
   "execution_count": 29,
   "id": "32c39b99-884a-449d-aef9-e4577b4ed58d",
   "metadata": {},
   "outputs": [
    {
     "name": "stdout",
     "output_type": "stream",
     "text": [
      "7500000\n",
      "(100000, 75)\n",
      "float64\n",
      "8\n",
      "60000000\n",
      "60.000 mb\n"
     ]
    }
   ],
   "source": [
    "X = np.zeros((100000,75))\n",
    "print(X.size)\n",
    "print(X.shape)\n",
    "print(X.dtype)\n",
    "print(X.itemsize)\n",
    "print(X.itemsize*X.size)\n",
    "print(\"%.3f mb\"%((X.itemsize*X.size)/1000000))"
   ]
  },
  {
   "cell_type": "markdown",
   "id": "bdf5ac49-4b90-44a4-9679-aedd22d16122",
   "metadata": {},
   "source": [
    "2)[P] Resize X to have the same number ofelements, but with 100 columns.Show the shape. Show the number of bytes (whichshould be the same as the previous answer)"
   ]
  },
  {
   "cell_type": "code",
   "execution_count": 31,
   "id": "d0171fc8-4232-474d-9e5a-d7c8ec7602ec",
   "metadata": {},
   "outputs": [
    {
     "name": "stdout",
     "output_type": "stream",
     "text": [
      "(100000, 75)\n",
      "60000000\n"
     ]
    }
   ],
   "source": [
    "np.reshape(X,(75000,100))\n",
    "print(X.shape)\n",
    "print(X.itemsize*X.size)"
   ]
  },
  {
   "cell_type": "markdown",
   "id": "1b8bb101-0f8c-484f-aec9-11734db6f22c",
   "metadata": {},
   "source": [
    "3)[P] Redo #1, but use a base datatype of 16-bit integers."
   ]
  },
  {
   "cell_type": "code",
   "execution_count": 33,
   "id": "3477cc4d-5fe6-4d27-9db7-dec90f718fce",
   "metadata": {},
   "outputs": [
    {
     "name": "stdout",
     "output_type": "stream",
     "text": [
      "7500000\n",
      "(100000, 75)\n",
      "int16\n",
      "2\n",
      "15000000\n",
      "15.000 mb\n"
     ]
    }
   ],
   "source": [
    "X = np.zeros((100000,75),np.int16)\n",
    "print(X.size)\n",
    "print(X.shape)\n",
    "print(X.dtype)\n",
    "print(X.itemsize)\n",
    "print(X.itemsize*X.size)\n",
    "print(\"%.3f mb\"%((X.itemsize*X.size)/1000000))"
   ]
  },
  {
   "cell_type": "markdown",
   "id": "092643ad-6e14-42a4-8a4b-e201eef8b55e",
   "metadata": {},
   "source": [
    "4)[P] How many dimensions does X have? Answer using the appropriate property of np.ndarrayobjects."
   ]
  },
  {
   "cell_type": "code",
   "execution_count": 37,
   "id": "9ec372ff-fc2d-46eb-875c-afed32792d64",
   "metadata": {},
   "outputs": [
    {
     "data": {
      "text/plain": [
       "2"
      ]
     },
     "execution_count": 37,
     "metadata": {},
     "output_type": "execute_result"
    }
   ],
   "source": [
    "X.ndim"
   ]
  },
  {
   "cell_type": "markdown",
   "id": "e80fd86f-41c4-427f-8d10-74b013d61c08",
   "metadata": {},
   "source": [
    "[P] Enter the following Python list in your cell: str_nums = ['2.14', '-9.300', '42']Convert this to a numpyarray named X. What is the base type? Show the contents of X.We want numeric representation. So, convert Xto an array of single precision floating point numbers. (HINT: use astype). Show Xagain."
   ]
  },
  {
   "cell_type": "code",
   "execution_count": 43,
   "id": "88bdf5be-b9a6-4e31-abb9-986706b56be4",
   "metadata": {},
   "outputs": [
    {
     "name": "stdout",
     "output_type": "stream",
     "text": [
      "<U6\n",
      "['2.14' '-9.300' '42']\n"
     ]
    },
    {
     "data": {
      "text/plain": [
       "array([ 2.14, -9.3 , 42.  ], dtype=float32)"
      ]
     },
     "execution_count": 43,
     "metadata": {},
     "output_type": "execute_result"
    }
   ],
   "source": [
    "str_nums = ['2.14', '-9.300', '42']\n",
    "X = np.asarray(str_nums)\n",
    "print(X.dtype)\n",
    "print(X)\n",
    "X.astype(np.single)"
   ]
  },
  {
   "cell_type": "markdown",
   "id": "08e5a068-0ca1-426e-bdc0-45b833ca9a87",
   "metadata": {},
   "source": [
    "6)[P] Copy the three definitions above forthe Python listsdays, scores_1, and scores_2. Create a numpyarray called scoresthat has scores_1as the first row and scores_2as the second row using np.concatenate. Then, change daysinto a np.arrayfrom the list days. Show the contents of scoresand days, and output their shape. "
   ]
  },
  {
   "cell_type": "code",
   "execution_count": 248,
   "id": "934142eb-4c44-47db-b9d2-b562343344fd",
   "metadata": {},
   "outputs": [],
   "source": [
    "days = [\"Mon\",\"Tue\",\"Wed\",\"Thu\",\"Fri\"]\n",
    "scores_1 = [9.5, 8.75, 8, 10, 7.75]\n",
    "scores_2 = [9, 8, 9.5, 8.75, 7.25]"
   ]
  },
  {
   "cell_type": "code",
   "execution_count": 249,
   "id": "f4b38b5d-bc40-42e0-92a5-92eea018ec2a",
   "metadata": {},
   "outputs": [
    {
     "name": "stdout",
     "output_type": "stream",
     "text": [
      "[[ 9.5   8.75  8.   10.    7.75]\n",
      " [ 9.    8.    9.5   8.75  7.25]]\n",
      "(2, 5)\n",
      "['Mon' 'Tue' 'Wed' 'Thu' 'Fri']\n"
     ]
    },
    {
     "data": {
      "text/plain": [
       "(5,)"
      ]
     },
     "execution_count": 249,
     "metadata": {},
     "output_type": "execute_result"
    }
   ],
   "source": [
    "scores = np.reshape(np.concatenate((scores_1, scores_2)),(2,5))\n",
    "daysNP= np.asarray(days)\n",
    "print(scores)\n",
    "print(scores.shape)\n",
    "print(daysNP)\n",
    "daysNP.shape"
   ]
  },
  {
   "cell_type": "markdown",
   "id": "43a9475f-2791-4091-93b2-8887e0308d3b",
   "metadata": {},
   "source": [
    "[P] Repeat the previous problem with the creation of scores fromthe Python lists scores_1and scores_2, but now doit with np.vstack. The array should be identical."
   ]
  },
  {
   "cell_type": "code",
   "execution_count": 250,
   "id": "868c087d-9ed6-4c36-b16d-3a7ee13debd5",
   "metadata": {},
   "outputs": [
    {
     "name": "stdout",
     "output_type": "stream",
     "text": [
      "(2, 5)\n"
     ]
    },
    {
     "data": {
      "text/plain": [
       "array([[ 9.5 ,  8.75,  8.  , 10.  ,  7.75],\n",
       "       [ 9.  ,  8.  ,  9.5 ,  8.75,  7.25]])"
      ]
     },
     "execution_count": 250,
     "metadata": {},
     "output_type": "execute_result"
    }
   ],
   "source": [
    "scoresV = np.vstack((scores_1,scores_2))\n",
    "print(scoresV.shape)\n",
    "scoresV"
   ]
  },
  {
   "cell_type": "markdown",
   "id": "02824c17-a4a2-480b-a2c8-616ed3abc623",
   "metadata": {},
   "source": [
    "8)[P/M] Compare the result of the expression days == \"Fri\" if the variable days was a Python list as entered above, vs. days being a numpyarray.  What is the differencein the result? In general, how does numpy deal with standard comparison operators?"
   ]
  },
  {
   "cell_type": "code",
   "execution_count": 251,
   "id": "e027ae0b-3ca8-4e79-8fad-42071e5e77d8",
   "metadata": {},
   "outputs": [
    {
     "name": "stdout",
     "output_type": "stream",
     "text": [
      "False\n",
      "[False False False False  True]\n"
     ]
    }
   ],
   "source": [
    "print(days==\"Fri\")\n",
    "print(daysNP==\"Fri\")"
   ]
  },
  {
   "cell_type": "markdown",
   "id": "f98de5ff-0fa8-4734-a7c1-924b416ffc56",
   "metadata": {},
   "source": [
    "The ndarray applies the comparison operator to each element in the array, while with a python list, one comparison is made between the whole list and the string. In general, numpy applies comparison operators element-wise throughout arrays."
   ]
  },
  {
   "cell_type": "markdown",
   "id": "56d9a172-c67a-4338-ab28-4f4b215eb9c0",
   "metadata": {},
   "source": [
    "9)[P] The scores array represents quizzes that are out of 10 pts. Show the scores array scaled to be out of 100 pts (but do not change scores itself.)"
   ]
  },
  {
   "cell_type": "code",
   "execution_count": 252,
   "id": "b7242565-2569-4764-8a3c-92d450710063",
   "metadata": {},
   "outputs": [
    {
     "data": {
      "text/plain": [
       "array([[ 95. ,  87.5,  80. , 100. ,  77.5],\n",
       "       [ 90. ,  80. ,  95. ,  87.5,  72.5]])"
      ]
     },
     "execution_count": 252,
     "metadata": {},
     "output_type": "execute_result"
    }
   ],
   "source": [
    "scores * 10.0"
   ]
  },
  {
   "cell_type": "markdown",
   "id": "e9bb160c-523f-4579-ad5b-31665633d4f9",
   "metadata": {},
   "source": [
    "10)[P] Select the scores that fell on Tuesday."
   ]
  },
  {
   "cell_type": "code",
   "execution_count": 253,
   "id": "28f0b819-6000-4572-a3de-835acabfca6b",
   "metadata": {},
   "outputs": [
    {
     "data": {
      "text/plain": [
       "array([[8.75],\n",
       "       [8.  ]])"
      ]
     },
     "execution_count": 253,
     "metadata": {},
     "output_type": "execute_result"
    }
   ],
   "source": [
    "scores[:,daysNP==\"Tue\"]"
   ]
  },
  {
   "cell_type": "markdown",
   "id": "7cc8cde5-c8a7-4cfe-bf6b-838ce3b1c247",
   "metadata": {},
   "source": [
    "11)[P] Select all of the scores that are NOT on Tuesday(Hint –look up the ~operator)"
   ]
  },
  {
   "cell_type": "code",
   "execution_count": 254,
   "id": "987b7432-d889-43ad-81c3-171b65d0d8a5",
   "metadata": {},
   "outputs": [
    {
     "data": {
      "text/plain": [
       "array([[ 9.5 ,  8.  , 10.  ,  7.75],\n",
       "       [ 9.  ,  9.5 ,  8.75,  7.25]])"
      ]
     },
     "execution_count": 254,
     "metadata": {},
     "output_type": "execute_result"
    }
   ],
   "source": [
    "scores[:,~(daysNP==\"Tue\")]"
   ]
  },
  {
   "cell_type": "markdown",
   "id": "54bd50ae-0658-4cd8-8cbb-8bf76b1f62cf",
   "metadata": {},
   "source": [
    "12)[P] Select the scores that were on Tuesday or Thursday"
   ]
  },
  {
   "cell_type": "code",
   "execution_count": 255,
   "id": "3984f24b-5551-488e-b3c7-f6c8c367ff27",
   "metadata": {},
   "outputs": [
    {
     "data": {
      "text/plain": [
       "array([[ 8.75, 10.  ],\n",
       "       [ 8.  ,  8.75]])"
      ]
     },
     "execution_count": 255,
     "metadata": {},
     "output_type": "execute_result"
    }
   ],
   "source": [
    "scores[:,(daysNP==\"Tue\")|(daysNP==\"Thu\")]"
   ]
  },
  {
   "cell_type": "markdown",
   "id": "4762f5db-db74-445f-8f64-7e15cc50d77d",
   "metadata": {},
   "source": [
    "13)[P] Show the minimum and maximum scores for the entire array of scores"
   ]
  },
  {
   "cell_type": "code",
   "execution_count": 256,
   "id": "a7339b32-9438-470d-af99-e58cd119437d",
   "metadata": {},
   "outputs": [
    {
     "name": "stdout",
     "output_type": "stream",
     "text": [
      "min = 7.25\n",
      "max = 10.0\n"
     ]
    }
   ],
   "source": [
    "print(\"min = {}\".format(scores.min()))\n",
    "print(\"max = {}\".format(scores.max()))"
   ]
  },
  {
   "cell_type": "markdown",
   "id": "3830b375-a05f-458b-b9d1-e820a1dfbd0b",
   "metadata": {},
   "source": [
    "14)[P] Show the maximumscores for each week as a new array. The result should have the samedimensions (hint –use the keepdimsparameterof np.max). Your result should be something like:"
   ]
  },
  {
   "cell_type": "code",
   "execution_count": 257,
   "id": "05c0655d-f653-48fd-adab-b1e6af1d224b",
   "metadata": {},
   "outputs": [
    {
     "data": {
      "text/plain": [
       "array([[10. ],\n",
       "       [ 9.5]])"
      ]
     },
     "execution_count": 257,
     "metadata": {},
     "output_type": "execute_result"
    }
   ],
   "source": [
    "scores.max(axis=1,keepdims=True)"
   ]
  },
  {
   "cell_type": "markdown",
   "id": "e92a87f6-a7a5-4016-bffa-5bcfe487a77c",
   "metadata": {},
   "source": [
    "15)[P] Report the day that the maximumscore occurred each week. (HINT: use argmaxand use that result to index days.)"
   ]
  },
  {
   "cell_type": "code",
   "execution_count": 258,
   "id": "0b2b02f1-a495-44de-83d5-024aaaf37f0e",
   "metadata": {},
   "outputs": [
    {
     "data": {
      "text/plain": [
       "array([['Thu'],\n",
       "       ['Wed']], dtype='<U3')"
      ]
     },
     "execution_count": 258,
     "metadata": {},
     "output_type": "execute_result"
    }
   ],
   "source": [
    "daysNP[np.argmax(scores,axis=1,keepdims=True)]"
   ]
  },
  {
   "cell_type": "markdown",
   "id": "15ac76aa-f7f9-4811-8322-fd9d305b0869",
   "metadata": {},
   "source": [
    "16)[P] Report the meanof the scores of each week"
   ]
  },
  {
   "cell_type": "code",
   "execution_count": 259,
   "id": "fc042d3c-1054-4fdb-a786-e0dd509c5e13",
   "metadata": {},
   "outputs": [
    {
     "data": {
      "text/plain": [
       "array([[8.8],\n",
       "       [8.5]])"
      ]
     },
     "execution_count": 259,
     "metadata": {},
     "output_type": "execute_result"
    }
   ],
   "source": [
    "scores.mean(axis=1,keepdims=True)"
   ]
  },
  {
   "cell_type": "markdown",
   "id": "e7a504b5-7ff1-4524-b3a9-bea44d8846e4",
   "metadata": {},
   "source": [
    "17)[P] Suppose the lowest score was dropped from each week. Report the meanof each week, but without the minimum scorefor that week."
   ]
  },
  {
   "cell_type": "code",
   "execution_count": 272,
   "id": "8e39b7c7-a456-4a8a-b4e5-e5897be7d405",
   "metadata": {},
   "outputs": [
    {
     "name": "stdout",
     "output_type": "stream",
     "text": [
      "[[ 9.5   8.75  8.   10.  ]\n",
      " [ 9.    8.    9.5   8.75]]\n"
     ]
    },
    {
     "data": {
      "text/plain": [
       "array([[9.0625],\n",
       "       [8.8125]])"
      ]
     },
     "execution_count": 272,
     "metadata": {},
     "output_type": "execute_result"
    }
   ],
   "source": [
    "#return scores with lowest scores each week dropped\n",
    "scoresDropped = np.reshape(scores[np.where(scores>scores.min(axis=1,keepdims=True))],(2,4))\n",
    "print(scoresDropped)\n",
    "\n",
    "#calculate mean with new array\n",
    "scoresDropped.mean(axis=1,keepdims=True)"
   ]
  },
  {
   "cell_type": "markdown",
   "id": "b71737f0-9f77-47f6-a523-03c3577a1134",
   "metadata": {},
   "source": [
    "18)[P] Show the number of scores that were > 9 each week as an array."
   ]
  },
  {
   "cell_type": "code",
   "execution_count": 271,
   "id": "64468ac6-4ad4-4b3b-9a15-f344407e6438",
   "metadata": {},
   "outputs": [
    {
     "data": {
      "text/plain": [
       "array([[2],\n",
       "       [1]])"
      ]
     },
     "execution_count": 271,
     "metadata": {},
     "output_type": "execute_result"
    }
   ],
   "source": [
    "np.where(scores>9,1,0).sum(axis=1,keepdims=True)"
   ]
  },
  {
   "cell_type": "markdown",
   "id": "d4b5ace0-c3d5-422e-a939-c94628926b25",
   "metadata": {},
   "source": [
    "Copy and paste this code into a cell:"
   ]
  },
  {
   "cell_type": "code",
   "execution_count": 274,
   "id": "943601bc-409e-4c4a-9a71-ac0bb15105fe",
   "metadata": {},
   "outputs": [
    {
     "data": {
      "text/plain": [
       "array([[48, 84, 39, 54, 77],\n",
       "       [25, 16, 50, 24, 27],\n",
       "       [31, 44, 31, 27, 59],\n",
       "       [93, 70, 81, 74, 48],\n",
       "       [51, 77, 38, 35, 39],\n",
       "       [68, 12,  1, 76, 81],\n",
       "       [ 4,  3, 20, 13, 66],\n",
       "       [76, 82, 15, 72, 61],\n",
       "       [47, 29, 82, 88, 14],\n",
       "       [97, 13, 70, 96, 32]])"
      ]
     },
     "execution_count": 274,
     "metadata": {},
     "output_type": "execute_result"
    }
   ],
   "source": [
    "np.random.seed(1234)\n",
    "X = np.random.randint(1,100,50).reshape((10,5))\n",
    "X"
   ]
  },
  {
   "cell_type": "markdown",
   "id": "f4838cce-886b-4e90-b8ed-c0f63e456b41",
   "metadata": {},
   "source": [
    "19)[P] Select the first row of X"
   ]
  },
  {
   "cell_type": "code",
   "execution_count": 276,
   "id": "234d532a-8c7c-4675-8544-42f45ccaa92e",
   "metadata": {},
   "outputs": [
    {
     "data": {
      "text/plain": [
       "array([48, 84, 39, 54, 77])"
      ]
     },
     "execution_count": 276,
     "metadata": {},
     "output_type": "execute_result"
    }
   ],
   "source": [
    "X[0,:]"
   ]
  },
  {
   "cell_type": "markdown",
   "id": "cacf4c3d-b053-414c-a86c-79746063155e",
   "metadata": {},
   "source": [
    "20)[P] Select the last column of X"
   ]
  },
  {
   "cell_type": "code",
   "execution_count": 292,
   "id": "093f5fea-6b56-4db3-a6f7-adf6f4c35932",
   "metadata": {},
   "outputs": [
    {
     "data": {
      "text/plain": [
       "array([[77],\n",
       "       [27],\n",
       "       [59],\n",
       "       [48],\n",
       "       [39],\n",
       "       [81],\n",
       "       [66],\n",
       "       [61],\n",
       "       [14],\n",
       "       [32]])"
      ]
     },
     "execution_count": 292,
     "metadata": {},
     "output_type": "execute_result"
    }
   ],
   "source": [
    "X[:,-1:]"
   ]
  },
  {
   "cell_type": "markdown",
   "id": "b4f6e3c7-7173-42c0-ae7e-ac09460f11ad",
   "metadata": {},
   "source": [
    "21)[P] Select the first AND last column of X"
   ]
  },
  {
   "cell_type": "code",
   "execution_count": 289,
   "id": "a2e1f341-c994-492f-8894-83c8355c3e60",
   "metadata": {},
   "outputs": [
    {
     "data": {
      "text/plain": [
       "array([[48, 77],\n",
       "       [25, 27],\n",
       "       [31, 59],\n",
       "       [93, 48],\n",
       "       [51, 39],\n",
       "       [68, 81],\n",
       "       [ 4, 66],\n",
       "       [76, 61],\n",
       "       [47, 14],\n",
       "       [97, 32]])"
      ]
     },
     "execution_count": 289,
     "metadata": {},
     "output_type": "execute_result"
    }
   ],
   "source": [
    "X[:,0:5:4]"
   ]
  },
  {
   "cell_type": "markdown",
   "id": "97c8f0fb-a074-4843-a6b4-a7a01b525b17",
   "metadata": {},
   "source": [
    "22)[P] Select every other row of X"
   ]
  },
  {
   "cell_type": "code",
   "execution_count": 293,
   "id": "805518ae-bb62-49b5-94f9-2b00907c9a6a",
   "metadata": {},
   "outputs": [
    {
     "data": {
      "text/plain": [
       "array([[48, 84, 39, 54, 77],\n",
       "       [31, 44, 31, 27, 59],\n",
       "       [51, 77, 38, 35, 39],\n",
       "       [ 4,  3, 20, 13, 66],\n",
       "       [47, 29, 82, 88, 14]])"
      ]
     },
     "execution_count": 293,
     "metadata": {},
     "output_type": "execute_result"
    }
   ],
   "source": [
    "X[0:10:2]"
   ]
  },
  {
   "cell_type": "markdown",
   "id": "ebeea155-b109-43ce-ad28-7294c1869366",
   "metadata": {},
   "source": [
    "23)[P] Show the transpose of X, but don't change X itself"
   ]
  },
  {
   "cell_type": "code",
   "execution_count": 311,
   "id": "03bd99e6-2eda-4e2b-809a-b9ad9ffa3a74",
   "metadata": {},
   "outputs": [
    {
     "data": {
      "text/plain": [
       "array([[49, 25, 31, 93, 51, 68,  4, 76, 47, 97],\n",
       "       [84, 16, 44, 70, 77, 12,  3, 82, 29, 13],\n",
       "       [39, 50, 31, 81, 38,  1, 20, 15, 82, 70],\n",
       "       [54, 24, 27, 74, 35, 76, 13, 72, 88, 96],\n",
       "       [77, 27, 59, 48, 39, 81, 66, 61, 14, 32]])"
      ]
     },
     "execution_count": 311,
     "metadata": {},
     "output_type": "execute_result"
    }
   ],
   "source": [
    "X.T\n",
    "#accidently reran this cell after incrementing the first value so 0,0 is 49 instead of 48"
   ]
  },
  {
   "cell_type": "markdown",
   "id": "8597d6bf-e7bd-4af2-9ecb-b37b0b1bfba1",
   "metadata": {},
   "source": [
    "24)[P] Select the first column of X and set the result to new variable Y."
   ]
  },
  {
   "cell_type": "code",
   "execution_count": 306,
   "id": "5866a068-cfe2-45de-9502-03d7bbae9df0",
   "metadata": {},
   "outputs": [
    {
     "data": {
      "text/plain": [
       "array([[48],\n",
       "       [25],\n",
       "       [31],\n",
       "       [93],\n",
       "       [51],\n",
       "       [68],\n",
       "       [ 4],\n",
       "       [76],\n",
       "       [47],\n",
       "       [97]])"
      ]
     },
     "execution_count": 306,
     "metadata": {},
     "output_type": "execute_result"
    }
   ],
   "source": [
    "Y = X[:,0:1]\n",
    "Y"
   ]
  },
  {
   "cell_type": "markdown",
   "id": "6bf3297d-e83e-4c90-bb00-7cce7c2a8fdf",
   "metadata": {},
   "source": [
    "25)[P] Increment the first value of Y, then show the corresponding value of X. Did both values in X and Y change?THIS IS AN IMPORTANT OBSERVATION WHEN DEALING WITH SELECTING DATA!"
   ]
  },
  {
   "cell_type": "code",
   "execution_count": 307,
   "id": "3a10c192-cf14-4ae5-8f00-69090af2937f",
   "metadata": {},
   "outputs": [
    {
     "data": {
      "text/plain": [
       "49"
      ]
     },
     "execution_count": 307,
     "metadata": {},
     "output_type": "execute_result"
    }
   ],
   "source": [
    "Y[0] +=1\n",
    "X[0,0]"
   ]
  },
  {
   "cell_type": "markdown",
   "id": "6e66ad65-00da-4d34-b7b5-55d870bdd70d",
   "metadata": {},
   "source": [
    "26)[P] Repeat exercise 23, but ensure that Y is assigned a copyof the selected data. Increment the first value of Y again and ensure that the corresponding value of X did not change."
   ]
  },
  {
   "cell_type": "code",
   "execution_count": 316,
   "id": "8ae2cabd-84af-4c00-9acc-f683037b062d",
   "metadata": {},
   "outputs": [
    {
     "name": "stdout",
     "output_type": "stream",
     "text": [
      "[[50 25 31 93 51 68  4 76 47 97]\n",
      " [84 16 44 70 77 12  3 82 29 13]\n",
      " [39 50 31 81 38  1 20 15 82 70]\n",
      " [54 24 27 74 35 76 13 72 88 96]\n",
      " [77 27 59 48 39 81 66 61 14 32]]\n"
     ]
    },
    {
     "data": {
      "text/plain": [
       "array([[49, 84, 39, 54, 77],\n",
       "       [25, 16, 50, 24, 27],\n",
       "       [31, 44, 31, 27, 59],\n",
       "       [93, 70, 81, 74, 48],\n",
       "       [51, 77, 38, 35, 39],\n",
       "       [68, 12,  1, 76, 81],\n",
       "       [ 4,  3, 20, 13, 66],\n",
       "       [76, 82, 15, 72, 61],\n",
       "       [47, 29, 82, 88, 14],\n",
       "       [97, 13, 70, 96, 32]])"
      ]
     },
     "execution_count": 316,
     "metadata": {},
     "output_type": "execute_result"
    }
   ],
   "source": [
    "Y = np.copy(X.T)\n",
    "Y[0,0]+=1\n",
    "print(Y)\n",
    "X"
   ]
  },
  {
   "cell_type": "markdown",
   "id": "687f3da2-36cb-4305-9fec-2c0bee763ea5",
   "metadata": {},
   "source": [
    "27)[P] Create an array that contains the sequence ofnumbers 0, 0.1, 0.2, ... 9.8, 9.9 using arange, as a 10x10 matrix, stored as X.(HINT: Use np.arange)"
   ]
  },
  {
   "cell_type": "code",
   "execution_count": 336,
   "id": "3362aa8f-cc49-4bcc-86c0-36c8d47795db",
   "metadata": {},
   "outputs": [
    {
     "data": {
      "text/plain": [
       "array([[0. , 0.1, 0.2, 0.3, 0.4, 0.5, 0.6, 0.7, 0.8, 0.9],\n",
       "       [1. , 1.1, 1.2, 1.3, 1.4, 1.5, 1.6, 1.7, 1.8, 1.9],\n",
       "       [2. , 2.1, 2.2, 2.3, 2.4, 2.5, 2.6, 2.7, 2.8, 2.9],\n",
       "       [3. , 3.1, 3.2, 3.3, 3.4, 3.5, 3.6, 3.7, 3.8, 3.9],\n",
       "       [4. , 4.1, 4.2, 4.3, 4.4, 4.5, 4.6, 4.7, 4.8, 4.9],\n",
       "       [5. , 5.1, 5.2, 5.3, 5.4, 5.5, 5.6, 5.7, 5.8, 5.9],\n",
       "       [6. , 6.1, 6.2, 6.3, 6.4, 6.5, 6.6, 6.7, 6.8, 6.9],\n",
       "       [7. , 7.1, 7.2, 7.3, 7.4, 7.5, 7.6, 7.7, 7.8, 7.9],\n",
       "       [8. , 8.1, 8.2, 8.3, 8.4, 8.5, 8.6, 8.7, 8.8, 8.9],\n",
       "       [9. , 9.1, 9.2, 9.3, 9.4, 9.5, 9.6, 9.7, 9.8, 9.9]])"
      ]
     },
     "execution_count": 336,
     "metadata": {},
     "output_type": "execute_result"
    }
   ],
   "source": [
    "X= np.arange(0.0, 10.0, 0.1).reshape(10,10)\n",
    "X"
   ]
  },
  {
   "cell_type": "markdown",
   "id": "a873ca77-2438-4b4c-925b-7928786c8998",
   "metadata": {},
   "source": [
    "28)[P] Set the RNG seed to 1234. Then create an array X of 100 uniformly distributed numbers, with all values between 1.0 and 10.0.Then, show the mean, the median, the minimum and maximum values of X."
   ]
  },
  {
   "cell_type": "code",
   "execution_count": 3,
   "id": "ef07383e-fd50-479f-9eab-b18bd58445ac",
   "metadata": {},
   "outputs": [
    {
     "name": "stdout",
     "output_type": "stream",
     "text": [
      "[1.         1.09090909 1.18181818 1.27272727 1.36363636 1.45454545\n",
      " 1.54545455 1.63636364 1.72727273 1.81818182]\n",
      "Median: 5.5\n",
      "Min: 1.0\n",
      "Max: 10.0\n"
     ]
    }
   ],
   "source": [
    "np.random.seed(1234)\n",
    "X = np.linspace(1.0, 10.0, 100)\n",
    "print(X[:10])\n",
    "print(\"Median: {}\".format(np.median(X)))\n",
    "print(\"Min: {}\".format(X.min()))\n",
    "print(\"Max: {}\".format(X.max()))"
   ]
  },
  {
   "cell_type": "markdown",
   "id": "2a482cb2-e91e-4899-9adf-1d0e9831b5a7",
   "metadata": {},
   "source": [
    "29)[M] Define what is meant by a normal distribution. What are the parameters of a normal distribution? "
   ]
  },
  {
   "cell_type": "markdown",
   "id": "3a22d05f-0a9a-405d-966a-d95a25aba78a",
   "metadata": {},
   "source": [
    "A normal distribution is a statistical probability distribuition where the observations are clustered symmetrically around the mean value. There are less observations further from the mean value. The parameters of a normal distribution are the mean and standard deviation."
   ]
  },
  {
   "cell_type": "markdown",
   "id": "9047eb94-7672-47ec-a396-204bd247cbbd",
   "metadata": {},
   "source": [
    "30)[M] In simple terms, using a normal distribution, what does the Law of Large Numberstell us? "
   ]
  },
  {
   "cell_type": "markdown",
   "id": "a1b55292-24bd-4b1e-b6d3-ab74205ab036",
   "metadata": {},
   "source": [
    "The law of large numbers tells us that as the sample size grows, the sample increasingly resembles a normal distribution (aka the average of the population)."
   ]
  },
  {
   "cell_type": "markdown",
   "id": "72ea5ed7-3de2-48f7-ac05-03131b77d2d3",
   "metadata": {},
   "source": [
    "31)[P] Write a function called test_normal_dist. The purpose of this function is to evaluate the law of large numbers. It should have four parameters:mu= mean of distribution sd= standard deviation vec_length= length of the vector to generate randomly from a normal distribution,with mu and sd as parameters num_trials= number of times to repeat the experiment \n",
    "The function should behave as follows. First, initialize the seed value to 1234,before your loop. Then, loop for num_trials, generating vec_lengthnumbers from a normal distribution. Compute the meanof that vector,then compute its deviation(absolute value of the observed mean -expected mean). This should be repeated for all trials. Return the averageof this deviation over all trials."
   ]
  },
  {
   "cell_type": "code",
   "execution_count": 31,
   "id": "a50e0329-e622-4f9a-9629-620ce26ef66b",
   "metadata": {},
   "outputs": [],
   "source": [
    "def test_normal_dist(mu,sd,vec_length, num_trials):\n",
    "    np.random.seed(1234)\n",
    "    deviation = 0.0\n",
    "    i=0\n",
    "    while i<num_trials:\n",
    "        i+=1\n",
    "        my_dist = np.random.normal(mu,sd,vec_length)\n",
    "        vec_mean = my_dist.mean()\n",
    "        deviation += np.abs(vec_mean) - mu \n",
    "    return deviation/num_trials"
   ]
  },
  {
   "cell_type": "markdown",
   "id": "c688d9ef-bfdf-493e-99ba-3b0a7fb2c658",
   "metadata": {},
   "source": [
    "32)[P] Use test_normal_dist to obtain the deviation for vector lengths of 10, 100, 1000, 10000, and 100000. Use a fixed number of trials of 100 for each experiment. Reportthe results as a numpyarray with two dimensions. the first being the vector length, and the second being the average deviation resulting from your test_normal_distfunction."
   ]
  },
  {
   "cell_type": "code",
   "execution_count": 47,
   "id": "809d9b0c-54c4-4b5d-b1eb-bd6bc33053e9",
   "metadata": {},
   "outputs": [
    {
     "data": {
      "text/plain": [
       "array([[    10.        ,      0.03148116],\n",
       "       [   100.        ,      0.03225292],\n",
       "       [  1000.        ,      0.00197142],\n",
       "       [ 10000.        ,     -0.00062523],\n",
       "       [100000.        ,      0.00014231]])"
      ]
     },
     "execution_count": 47,
     "metadata": {},
     "output_type": "execute_result"
    }
   ],
   "source": [
    "results = []\n",
    "vec_length = 10\n",
    "while vec_length <1000000:\n",
    "    results.append(vec_length)\n",
    "    results.append(test_normal_dist(10,2,vec_length,100))\n",
    "    vec_length *=10\n",
    "\n",
    "#numpy was determined to put everything in scientific notation, line below stops that\n",
    "#https://stackoverflow.com/questions/9777783/suppress-scientific-notation-in-numpy-when-creating-array-from-nested-list\n",
    "np.set_printoptions(suppress=True)\n",
    "#deviation decreases as vector length increases\n",
    "np.reshape((np.asarray(results)), (5,2))"
   ]
  }
 ],
 "metadata": {
  "kernelspec": {
   "display_name": "Python 3 (ipykernel)",
   "language": "python",
   "name": "python3"
  },
  "language_info": {
   "codemirror_mode": {
    "name": "ipython",
    "version": 3
   },
   "file_extension": ".py",
   "mimetype": "text/x-python",
   "name": "python",
   "nbconvert_exporter": "python",
   "pygments_lexer": "ipython3",
   "version": "3.9.16"
  }
 },
 "nbformat": 4,
 "nbformat_minor": 5
}
