{
 "cells": [
  {
   "cell_type": "markdown",
   "id": "033ded2b-6e36-44fd-96f9-1747a0291ffb",
   "metadata": {},
   "source": [
    "# Lab 03 - Pandas I\n",
    "\n",
    "Name: Jimmy Pronchick  \n",
    "Class: CSCI349 2023SP - Intro to Data Mining  \n",
    "Instructor: Brian King"
   ]
  },
  {
   "cell_type": "code",
   "execution_count": 373,
   "id": "941fb281-7963-4161-bf39-d90345f6d381",
   "metadata": {},
   "outputs": [],
   "source": [
    "import sys\n",
    "import numpy as np\n",
    "import pandas as pd"
   ]
  },
  {
   "cell_type": "markdown",
   "id": "c10c689f-0e1a-43bc-bb73-7c93de8c02c3",
   "metadata": {},
   "source": [
    "1)[P]Report the Python, Numpy and Pandas version numbers."
   ]
  },
  {
   "cell_type": "code",
   "execution_count": 2,
   "id": "ed9e21ab-c6c5-4cf3-8f19-79eed4f3ed26",
   "metadata": {},
   "outputs": [
    {
     "data": {
      "text/plain": [
       "'3.9.16 (main, Jan 11 2023, 16:16:36) [MSC v.1916 64 bit (AMD64)]'"
      ]
     },
     "execution_count": 2,
     "metadata": {},
     "output_type": "execute_result"
    }
   ],
   "source": [
    "sys.version"
   ]
  },
  {
   "cell_type": "code",
   "execution_count": 3,
   "id": "51cba8ab-3695-4c57-8eae-2e1aeeb581f6",
   "metadata": {},
   "outputs": [
    {
     "data": {
      "text/plain": [
       "'1.23.5'"
      ]
     },
     "execution_count": 3,
     "metadata": {},
     "output_type": "execute_result"
    }
   ],
   "source": [
    "np.__version__"
   ]
  },
  {
   "cell_type": "code",
   "execution_count": 4,
   "id": "5e3b79d4-2a95-4f72-a050-681d0b80481b",
   "metadata": {},
   "outputs": [
    {
     "data": {
      "text/plain": [
       "'1.5.2'"
      ]
     },
     "execution_count": 4,
     "metadata": {},
     "output_type": "execute_result"
    }
   ],
   "source": [
    "pd.__version__"
   ]
  },
  {
   "cell_type": "markdown",
   "id": "a09cbc76-2abd-4a68-89dd-8dd67910efbe",
   "metadata": {},
   "source": [
    "2)[P] Now, show the result of pd.show_versions(). Write a comment in the cell about what this shows."
   ]
  },
  {
   "cell_type": "code",
   "execution_count": 6,
   "id": "82f5ef44-df96-40d4-ad8b-d1c51a7c316b",
   "metadata": {},
   "outputs": [
    {
     "name": "stdout",
     "output_type": "stream",
     "text": [
      "\n",
      "INSTALLED VERSIONS\n",
      "------------------\n",
      "commit           : 8dab54d6573f7186ff0c3b6364d5e4dd635ff3e7\n",
      "python           : 3.9.16.final.0\n",
      "python-bits      : 64\n",
      "OS               : Windows\n",
      "OS-release       : 10\n",
      "Version          : 10.0.22000\n",
      "machine          : AMD64\n",
      "processor        : Intel64 Family 6 Model 142 Stepping 11, GenuineIntel\n",
      "byteorder        : little\n",
      "LC_ALL           : None\n",
      "LANG             : None\n",
      "LOCALE           : English_United States.1252\n",
      "\n",
      "pandas           : 1.5.2\n",
      "numpy            : 1.23.5\n",
      "pytz             : 2022.7\n",
      "dateutil         : 2.8.2\n",
      "setuptools       : 65.6.3\n",
      "pip              : 22.3.1\n",
      "Cython           : None\n",
      "pytest           : None\n",
      "hypothesis       : None\n",
      "sphinx           : None\n",
      "blosc            : None\n",
      "feather          : None\n",
      "xlsxwriter       : None\n",
      "lxml.etree       : 4.9.1\n",
      "html5lib         : None\n",
      "pymysql          : None\n",
      "psycopg2         : None\n",
      "jinja2           : 3.1.2\n",
      "IPython          : 8.7.0\n",
      "pandas_datareader: None\n",
      "bs4              : 4.11.1\n",
      "bottleneck       : 1.3.5\n",
      "brotli           : \n",
      "fastparquet      : None\n",
      "fsspec           : None\n",
      "gcsfs            : None\n",
      "matplotlib       : 3.6.2\n",
      "numba            : None\n",
      "numexpr          : 2.8.4\n",
      "odfpy            : None\n",
      "openpyxl         : None\n",
      "pandas_gbq       : None\n",
      "pyarrow          : None\n",
      "pyreadstat       : None\n",
      "pyxlsb           : None\n",
      "s3fs             : None\n",
      "scipy            : 1.9.3\n",
      "snappy           : None\n",
      "sqlalchemy       : None\n",
      "tables           : None\n",
      "tabulate         : None\n",
      "xarray           : None\n",
      "xlrd             : None\n",
      "xlwt             : None\n",
      "zstandard        : None\n",
      "tzdata           : None\n"
     ]
    }
   ],
   "source": [
    "#shows the version of all the libraries installed in this env\n",
    "pd.show_versions()"
   ]
  },
  {
   "cell_type": "markdown",
   "id": "b73ec194-b071-4068-843b-10a779f91314",
   "metadata": {},
   "source": [
    "3)[M] Explain the relationship between numpy and pandas. How are they tied together? How are they different? What core functionality does pandas add to numpy?"
   ]
  },
  {
   "cell_type": "markdown",
   "id": "70cafa30-2a72-44f1-b01f-57a742001283",
   "metadata": {},
   "source": [
    "\" pandas is designed for working with tabular or heterogeneous data. NumPy, by contrast, is best suited for working with homogeneously typed numerical array data.\"\n",
    "\n",
    "https://www.oreilly.com/library/view/python-for-data/9781098104023/ch05.html"
   ]
  },
  {
   "cell_type": "markdown",
   "id": "6c388760-1049-431b-a152-02399a8a08cd",
   "metadata": {},
   "source": [
    "4)[M] Compare and contrast Series and DataFrame."
   ]
  },
  {
   "cell_type": "markdown",
   "id": "536ddcb9-f948-4d33-bf90-b642a96d9c41",
   "metadata": {},
   "source": [
    "Series is a one-dimensional labeled array capable of holding any data type (integers, strings, floating point numbers, Python objects, etc.). A DataFrame is two-dimensional and can hold multiple Series. A Series must contain all the same type of data while a DataFrame can have different types."
   ]
  },
  {
   "cell_type": "markdown",
   "id": "8eab6e2f-1ec9-494d-b04b-891169223ba8",
   "metadata": {},
   "source": [
    "5)[M] What are the data typesthat can be used to create a Seriesobject in pandas?"
   ]
  },
  {
   "cell_type": "markdown",
   "id": "0910626c-34a4-4668-91ca-4e75e2144429",
   "metadata": {},
   "source": [
    "Python list, dictionary, one dimensional ndarray. Must be one dimensional."
   ]
  },
  {
   "cell_type": "markdown",
   "id": "4d109c09-aa2c-470c-90f0-3f65149596b7",
   "metadata": {},
   "source": [
    "6)[M] What are the data structures that can be used to create a DataFrameobject in pandas?"
   ]
  },
  {
   "cell_type": "markdown",
   "id": "906ca1a6-aa93-455e-a547-de5c390e7c8c",
   "metadata": {},
   "source": [
    "A Series, python dictionary (of multiple Series possibly), a scalar, ndarray"
   ]
  },
  {
   "cell_type": "markdown",
   "id": "5ce35330-526a-4374-bb8c-e70db8463d01",
   "metadata": {},
   "source": [
    "7)[M] When creating a Seriesobject, what role does the indexparameter play? Does the index always need to be specified? If not, what happens?"
   ]
  },
  {
   "cell_type": "markdown",
   "id": "4300aadc-9db2-4000-892f-8e1c90ecea05",
   "metadata": {},
   "source": [
    "If the data in the Series object is an ndarray, the index needs to match the length of the data parameter. If the index is not specified it will default to the range of the data."
   ]
  },
  {
   "cell_type": "markdown",
   "id": "515b3806-f20a-4652-ad82-f19905deb265",
   "metadata": {},
   "source": [
    "8)[P] Create a numpy array of 10 random 8-bit integers in the range [10,20) using numpy's randintfunction. Print the type of x, and show x. "
   ]
  },
  {
   "cell_type": "code",
   "execution_count": 18,
   "id": "9dd69d06-f10f-442b-85c3-75593894d0d8",
   "metadata": {},
   "outputs": [
    {
     "name": "stdout",
     "output_type": "stream",
     "text": [
      "<class 'numpy.ndarray'>\n"
     ]
    },
    {
     "data": {
      "text/plain": [
       "array([13, 15, 16, 13, 12, 19, 17, 13, 19, 13], dtype=int8)"
      ]
     },
     "execution_count": 18,
     "metadata": {},
     "output_type": "execute_result"
    }
   ],
   "source": [
    "x = np.random.randint(10,20,10, dtype=np.int8)\n",
    "print(type(x))\n",
    "x"
   ]
  },
  {
   "cell_type": "markdown",
   "id": "f4e20e40-69f1-48c2-98fa-6e1e538b01aa",
   "metadata": {},
   "source": [
    "Then in a subsequent cell, wrap x in a pandas Seriesobject called x2, with an index of 0, 10, 20, 30, ..., 90. Show the type and the contents of x2."
   ]
  },
  {
   "cell_type": "code",
   "execution_count": 22,
   "id": "4a823d3b-3557-4d0b-a80b-5065fd00cab8",
   "metadata": {},
   "outputs": [
    {
     "name": "stdout",
     "output_type": "stream",
     "text": [
      "<class 'pandas.core.series.Series'>\n"
     ]
    },
    {
     "data": {
      "text/plain": [
       "0     13\n",
       "10    15\n",
       "20    16\n",
       "30    13\n",
       "40    12\n",
       "50    19\n",
       "60    17\n",
       "70    13\n",
       "80    19\n",
       "90    13\n",
       "dtype: int8"
      ]
     },
     "execution_count": 22,
     "metadata": {},
     "output_type": "execute_result"
    }
   ],
   "source": [
    "sIndex = [0,10,20,30,40,50,60,70,80,90]\n",
    "x2 = pd.Series(x, index=sIndex)\n",
    "print(type(x2))\n",
    "x2"
   ]
  },
  {
   "cell_type": "markdown",
   "id": "deafb137-3b63-448f-a641-770b3bcbcfd4",
   "metadata": {},
   "source": [
    "9)[P] Create a DataFrameobject called df_xthat has x2 as the first variablewith the name of \"x2\", and an additional variablenamed \"x3\"that is 10 random floating point numbersin the range [100,200). Show the types of your dataframe using print(df_x.dtypes), and show the contents of your dataframe. Your index should remain as 0, 10, 20, ... , 90."
   ]
  },
  {
   "cell_type": "code",
   "execution_count": 31,
   "id": "69cd19ec-db8a-46ed-8af9-b303e20f7df8",
   "metadata": {},
   "outputs": [
    {
     "name": "stdout",
     "output_type": "stream",
     "text": [
      "x2       int8\n",
      "x3    float64\n",
      "dtype: object\n"
     ]
    },
    {
     "data": {
      "text/html": [
       "<div>\n",
       "<style scoped>\n",
       "    .dataframe tbody tr th:only-of-type {\n",
       "        vertical-align: middle;\n",
       "    }\n",
       "\n",
       "    .dataframe tbody tr th {\n",
       "        vertical-align: top;\n",
       "    }\n",
       "\n",
       "    .dataframe thead th {\n",
       "        text-align: right;\n",
       "    }\n",
       "</style>\n",
       "<table border=\"1\" class=\"dataframe\">\n",
       "  <thead>\n",
       "    <tr style=\"text-align: right;\">\n",
       "      <th></th>\n",
       "      <th>x2</th>\n",
       "      <th>x3</th>\n",
       "    </tr>\n",
       "  </thead>\n",
       "  <tbody>\n",
       "    <tr>\n",
       "      <th>0</th>\n",
       "      <td>13</td>\n",
       "      <td>122.538224</td>\n",
       "    </tr>\n",
       "    <tr>\n",
       "      <th>10</th>\n",
       "      <td>15</td>\n",
       "      <td>126.890922</td>\n",
       "    </tr>\n",
       "    <tr>\n",
       "      <th>20</th>\n",
       "      <td>16</td>\n",
       "      <td>166.014771</td>\n",
       "    </tr>\n",
       "    <tr>\n",
       "      <th>30</th>\n",
       "      <td>13</td>\n",
       "      <td>185.775025</td>\n",
       "    </tr>\n",
       "    <tr>\n",
       "      <th>40</th>\n",
       "      <td>12</td>\n",
       "      <td>127.975981</td>\n",
       "    </tr>\n",
       "    <tr>\n",
       "      <th>50</th>\n",
       "      <td>19</td>\n",
       "      <td>127.888835</td>\n",
       "    </tr>\n",
       "    <tr>\n",
       "      <th>60</th>\n",
       "      <td>17</td>\n",
       "      <td>143.670597</td>\n",
       "    </tr>\n",
       "    <tr>\n",
       "      <th>70</th>\n",
       "      <td>13</td>\n",
       "      <td>156.469973</td>\n",
       "    </tr>\n",
       "    <tr>\n",
       "      <th>80</th>\n",
       "      <td>19</td>\n",
       "      <td>116.189114</td>\n",
       "    </tr>\n",
       "    <tr>\n",
       "      <th>90</th>\n",
       "      <td>13</td>\n",
       "      <td>163.507490</td>\n",
       "    </tr>\n",
       "  </tbody>\n",
       "</table>\n",
       "</div>"
      ],
      "text/plain": [
       "    x2          x3\n",
       "0   13  122.538224\n",
       "10  15  126.890922\n",
       "20  16  166.014771\n",
       "30  13  185.775025\n",
       "40  12  127.975981\n",
       "50  19  127.888835\n",
       "60  17  143.670597\n",
       "70  13  156.469973\n",
       "80  19  116.189114\n",
       "90  13  163.507490"
      ]
     },
     "execution_count": 31,
     "metadata": {},
     "output_type": "execute_result"
    }
   ],
   "source": [
    "x3 = np.random.uniform(100,200,10)\n",
    "df_x = pd.DataFrame({\"x2\":x2,\"x3\":pd.Series(x3, index=sIndex)})\n",
    "print(df_x.dtypes)\n",
    "df_x"
   ]
  },
  {
   "cell_type": "markdown",
   "id": "81bd07b6-2e9a-42b3-8856-6ef5ed1bad61",
   "metadata": {},
   "source": [
    "10)[M] Consider the copy()method of a DataFrameobject. What is this method for? Explain the difference between a shallow copy and a deep copy of a DataFrame? Why would I use a shallow copy?"
   ]
  },
  {
   "cell_type": "markdown",
   "id": "bcf2dd72-91ae-4c1a-b334-66efcd7d72f3",
   "metadata": {},
   "source": [
    "DataFrame.copy() creates a duplicate Df with the same data and indices. A deep copy of a DataFrame will stay the same even when the original is modified, and the original will not reflect changes made to a deep copy. A shallow copy is the opposite, when the original changes the shallow changes and vice versa. A shallow copy is a less expensive operation, so it would make sense to only use a deep copy when you need the Dfs to change distinctly."
   ]
  },
  {
   "cell_type": "code",
   "execution_count": 32,
   "id": "bf315efd-310f-4b7d-aa41-3020ba91ae26",
   "metadata": {},
   "outputs": [],
   "source": [
    "days = [\"Mon\",\"Tue\",\"Wed\",\"Thu\",\"Fri\"]\n",
    "scores_1 = [9.5, 8.75, 8, 10, 7.75]\n",
    "scores_2 = [9, 8, 10, 8.75, 7.25]"
   ]
  },
  {
   "cell_type": "markdown",
   "id": "f5007961-51b1-4869-b3ac-0050b60ad274",
   "metadata": {},
   "source": [
    "11)[P] Convert scores_1and scores_2into two Seriesobjects. Use daysas your index.  You should name each Series object using the name parameter as \"week_1\", and \"week_2\". Do not show the result, only store the variables."
   ]
  },
  {
   "cell_type": "code",
   "execution_count": 37,
   "id": "b791ff1a-4550-4ba9-bece-e4c12a3b15f7",
   "metadata": {},
   "outputs": [],
   "source": [
    "scores_1 = pd.Series(scores_1,index=days, name=\"week_1\")\n",
    "scores_2 = pd.Series(scores_2,index=days, name=\"week_2\")"
   ]
  },
  {
   "cell_type": "markdown",
   "id": "326df347-4fec-4dce-a249-4dc07b849c36",
   "metadata": {},
   "source": [
    "12)[P] Create a pandas DataFramecalled scoresthat represents the above data. Show your data frame. Your results should be arranged as shown below:"
   ]
  },
  {
   "cell_type": "code",
   "execution_count": 100,
   "id": "d88756d9-4926-45a7-a2a6-9359c94f6e48",
   "metadata": {},
   "outputs": [
    {
     "data": {
      "text/html": [
       "<div>\n",
       "<style scoped>\n",
       "    .dataframe tbody tr th:only-of-type {\n",
       "        vertical-align: middle;\n",
       "    }\n",
       "\n",
       "    .dataframe tbody tr th {\n",
       "        vertical-align: top;\n",
       "    }\n",
       "\n",
       "    .dataframe thead th {\n",
       "        text-align: right;\n",
       "    }\n",
       "</style>\n",
       "<table border=\"1\" class=\"dataframe\">\n",
       "  <thead>\n",
       "    <tr style=\"text-align: right;\">\n",
       "      <th></th>\n",
       "      <th>Mon</th>\n",
       "      <th>Tue</th>\n",
       "      <th>Wed</th>\n",
       "      <th>Thu</th>\n",
       "      <th>Fri</th>\n",
       "    </tr>\n",
       "  </thead>\n",
       "  <tbody>\n",
       "    <tr>\n",
       "      <th>Week 1</th>\n",
       "      <td>9.5</td>\n",
       "      <td>8.75</td>\n",
       "      <td>8.0</td>\n",
       "      <td>10.00</td>\n",
       "      <td>7.75</td>\n",
       "    </tr>\n",
       "    <tr>\n",
       "      <th>Week 2</th>\n",
       "      <td>9.0</td>\n",
       "      <td>8.00</td>\n",
       "      <td>10.0</td>\n",
       "      <td>8.75</td>\n",
       "      <td>7.25</td>\n",
       "    </tr>\n",
       "  </tbody>\n",
       "</table>\n",
       "</div>"
      ],
      "text/plain": [
       "        Mon   Tue   Wed    Thu   Fri\n",
       "Week 1  9.5  8.75   8.0  10.00  7.75\n",
       "Week 2  9.0  8.00  10.0   8.75  7.25"
      ]
     },
     "execution_count": 100,
     "metadata": {},
     "output_type": "execute_result"
    }
   ],
   "source": [
    "scores = (pd.DataFrame({\"Week 1\": scores_1, \"Week 2\":scores_2})).T\n",
    "scores"
   ]
  },
  {
   "cell_type": "markdown",
   "id": "27b3730a-8956-4026-96da-54eb628d46f9",
   "metadata": {},
   "source": [
    "13)[P] Use the pd.concatfunctionto add the following data to the end of scores. [8.5,8,9.75,9,8.25]. The row label on the new week is \"week_3\". Show your updated data frame. It should look like the following:"
   ]
  },
  {
   "cell_type": "code",
   "execution_count": 101,
   "id": "e19be9c8-8a50-4945-b884-5416bf8f324e",
   "metadata": {},
   "outputs": [
    {
     "data": {
      "text/html": [
       "<div>\n",
       "<style scoped>\n",
       "    .dataframe tbody tr th:only-of-type {\n",
       "        vertical-align: middle;\n",
       "    }\n",
       "\n",
       "    .dataframe tbody tr th {\n",
       "        vertical-align: top;\n",
       "    }\n",
       "\n",
       "    .dataframe thead th {\n",
       "        text-align: right;\n",
       "    }\n",
       "</style>\n",
       "<table border=\"1\" class=\"dataframe\">\n",
       "  <thead>\n",
       "    <tr style=\"text-align: right;\">\n",
       "      <th></th>\n",
       "      <th>Mon</th>\n",
       "      <th>Tue</th>\n",
       "      <th>Wed</th>\n",
       "      <th>Thu</th>\n",
       "      <th>Fri</th>\n",
       "    </tr>\n",
       "  </thead>\n",
       "  <tbody>\n",
       "    <tr>\n",
       "      <th>Week 1</th>\n",
       "      <td>9.5</td>\n",
       "      <td>8.75</td>\n",
       "      <td>8.00</td>\n",
       "      <td>10.00</td>\n",
       "      <td>7.75</td>\n",
       "    </tr>\n",
       "    <tr>\n",
       "      <th>Week 2</th>\n",
       "      <td>9.0</td>\n",
       "      <td>8.00</td>\n",
       "      <td>10.00</td>\n",
       "      <td>8.75</td>\n",
       "      <td>7.25</td>\n",
       "    </tr>\n",
       "    <tr>\n",
       "      <th>Week 3</th>\n",
       "      <td>8.5</td>\n",
       "      <td>8.00</td>\n",
       "      <td>9.75</td>\n",
       "      <td>9.00</td>\n",
       "      <td>8.25</td>\n",
       "    </tr>\n",
       "  </tbody>\n",
       "</table>\n",
       "</div>"
      ],
      "text/plain": [
       "        Mon   Tue    Wed    Thu   Fri\n",
       "Week 1  9.5  8.75   8.00  10.00  7.75\n",
       "Week 2  9.0  8.00  10.00   8.75  7.25\n",
       "Week 3  8.5  8.00   9.75   9.00  8.25"
      ]
     },
     "execution_count": 101,
     "metadata": {},
     "output_type": "execute_result"
    }
   ],
   "source": [
    "next_week  = pd.Series([8.5,8,9.75,9,8.25], index=days,name=\"Week 3\")\n",
    "\n",
    "scores = pd.concat([scores, pd.DataFrame({\"Week 3\":next_week}).T])\n",
    "scores"
   ]
  },
  {
   "cell_type": "markdown",
   "id": "47eb7700-cae9-46e6-b27d-ff9df34f6acf",
   "metadata": {},
   "source": [
    "14)[M] numpyand pandas have an ENORMOUS number of ways for selecting data. At first, the flexibility will confuse and drive you nuts. In time, it becomes amazing and intuitive (with less nuts.) From their 10 minute tutorial:Write yourself a quick one sentence reference for each access method listed above, with one example for each using the scoresDataFrame."
   ]
  },
  {
   "cell_type": "code",
   "execution_count": 102,
   "id": "955b2e3d-7b5a-48ed-856a-6854b04a404c",
   "metadata": {},
   "outputs": [
    {
     "data": {
      "text/plain": [
       "8.75"
      ]
     },
     "execution_count": 102,
     "metadata": {},
     "output_type": "execute_result"
    }
   ],
   "source": [
    "# .at: Access a single value for a row/column label pair. SINGLE VALUE. label means use row and col names \n",
    "scores.at[\"Week 1\",\"Tue\"]"
   ]
  },
  {
   "cell_type": "code",
   "execution_count": 103,
   "id": "3db6856b-bc9e-4353-8379-15b9eea90c8d",
   "metadata": {},
   "outputs": [
    {
     "data": {
      "text/plain": [
       "8.75"
      ]
     },
     "execution_count": 103,
     "metadata": {},
     "output_type": "execute_result"
    }
   ],
   "source": [
    "# .iat: Access a single value for a row/column pair by integer position. at but index instead of names\n",
    "scores.iat[0,1]"
   ]
  },
  {
   "cell_type": "code",
   "execution_count": 104,
   "id": "5c04b7c1-20c2-4f81-9303-3e65b0f4e0fa",
   "metadata": {},
   "outputs": [
    {
     "data": {
      "text/plain": [
       "Mon     9.00\n",
       "Tue     8.00\n",
       "Wed    10.00\n",
       "Thu     8.75\n",
       "Fri     7.25\n",
       "Name: Week 2, dtype: float64"
      ]
     },
     "execution_count": 104,
     "metadata": {},
     "output_type": "execute_result"
    }
   ],
   "source": [
    "# .loc: Access a group of rows and columns by label(s). .at but whole row or col\n",
    "scores.loc[\"Week 2\",:]"
   ]
  },
  {
   "cell_type": "code",
   "execution_count": 105,
   "id": "3f7489e9-10c2-46fd-814b-8f97be62d5ef",
   "metadata": {},
   "outputs": [
    {
     "data": {
      "text/plain": [
       "Mon    8.50\n",
       "Tue    8.00\n",
       "Wed    9.75\n",
       "Thu    9.00\n",
       "Fri    8.25\n",
       "Name: Week 3, dtype: float64"
      ]
     },
     "execution_count": 105,
     "metadata": {},
     "output_type": "execute_result"
    }
   ],
   "source": [
    "# .iloc: Access a group of rows and columns by integer position(s).\n",
    "scores.iloc[2]"
   ]
  },
  {
   "cell_type": "code",
   "execution_count": 67,
   "id": "409fde2a-132b-4e7c-92de-22bd33b67563",
   "metadata": {},
   "outputs": [
    {
     "data": {
      "text/plain": [
       "Mon     9.50\n",
       "Tue     8.75\n",
       "Wed     8.00\n",
       "Thu    10.00\n",
       "Fri     7.75\n",
       "Name: Week 1, dtype: float64"
      ]
     },
     "execution_count": 67,
     "metadata": {},
     "output_type": "execute_result"
    }
   ],
   "source": [
    "scores.iloc[0]"
   ]
  },
  {
   "cell_type": "code",
   "execution_count": 68,
   "id": "294fd4fa-91eb-42de-9ad5-55bb71531bee",
   "metadata": {},
   "outputs": [
    {
     "data": {
      "text/html": [
       "<div>\n",
       "<style scoped>\n",
       "    .dataframe tbody tr th:only-of-type {\n",
       "        vertical-align: middle;\n",
       "    }\n",
       "\n",
       "    .dataframe tbody tr th {\n",
       "        vertical-align: top;\n",
       "    }\n",
       "\n",
       "    .dataframe thead th {\n",
       "        text-align: right;\n",
       "    }\n",
       "</style>\n",
       "<table border=\"1\" class=\"dataframe\">\n",
       "  <thead>\n",
       "    <tr style=\"text-align: right;\">\n",
       "      <th></th>\n",
       "      <th>Mon</th>\n",
       "      <th>Tue</th>\n",
       "      <th>Wed</th>\n",
       "      <th>Thu</th>\n",
       "      <th>Fri</th>\n",
       "    </tr>\n",
       "  </thead>\n",
       "  <tbody>\n",
       "    <tr>\n",
       "      <th>Week 1</th>\n",
       "      <td>9.5</td>\n",
       "      <td>8.75</td>\n",
       "      <td>8.0</td>\n",
       "      <td>10.0</td>\n",
       "      <td>7.75</td>\n",
       "    </tr>\n",
       "  </tbody>\n",
       "</table>\n",
       "</div>"
      ],
      "text/plain": [
       "        Mon   Tue  Wed   Thu   Fri\n",
       "Week 1  9.5  8.75  8.0  10.0  7.75"
      ]
     },
     "execution_count": 68,
     "metadata": {},
     "output_type": "execute_result"
    }
   ],
   "source": [
    "scores.iloc[0:1]"
   ]
  },
  {
   "cell_type": "code",
   "execution_count": 69,
   "id": "9480b7ad-4397-4ff9-b894-b5c0bc02ea67",
   "metadata": {},
   "outputs": [
    {
     "data": {
      "text/html": [
       "<div>\n",
       "<style scoped>\n",
       "    .dataframe tbody tr th:only-of-type {\n",
       "        vertical-align: middle;\n",
       "    }\n",
       "\n",
       "    .dataframe tbody tr th {\n",
       "        vertical-align: top;\n",
       "    }\n",
       "\n",
       "    .dataframe thead th {\n",
       "        text-align: right;\n",
       "    }\n",
       "</style>\n",
       "<table border=\"1\" class=\"dataframe\">\n",
       "  <thead>\n",
       "    <tr style=\"text-align: right;\">\n",
       "      <th></th>\n",
       "      <th>Mon</th>\n",
       "    </tr>\n",
       "  </thead>\n",
       "  <tbody>\n",
       "    <tr>\n",
       "      <th>Week 1</th>\n",
       "      <td>9.5</td>\n",
       "    </tr>\n",
       "    <tr>\n",
       "      <th>Week 2</th>\n",
       "      <td>9.0</td>\n",
       "    </tr>\n",
       "  </tbody>\n",
       "</table>\n",
       "</div>"
      ],
      "text/plain": [
       "        Mon\n",
       "Week 1  9.5\n",
       "Week 2  9.0"
      ]
     },
     "execution_count": 69,
     "metadata": {},
     "output_type": "execute_result"
    }
   ],
   "source": [
    "scores.iloc[:,0:1]"
   ]
  },
  {
   "cell_type": "code",
   "execution_count": 70,
   "id": "d5bfb909-ad90-465c-970b-61b6e78a278d",
   "metadata": {},
   "outputs": [
    {
     "data": {
      "text/html": [
       "<div>\n",
       "<style scoped>\n",
       "    .dataframe tbody tr th:only-of-type {\n",
       "        vertical-align: middle;\n",
       "    }\n",
       "\n",
       "    .dataframe tbody tr th {\n",
       "        vertical-align: top;\n",
       "    }\n",
       "\n",
       "    .dataframe thead th {\n",
       "        text-align: right;\n",
       "    }\n",
       "</style>\n",
       "<table border=\"1\" class=\"dataframe\">\n",
       "  <thead>\n",
       "    <tr style=\"text-align: right;\">\n",
       "      <th></th>\n",
       "      <th>Mon</th>\n",
       "      <th>Tue</th>\n",
       "      <th>Wed</th>\n",
       "      <th>Thu</th>\n",
       "      <th>Fri</th>\n",
       "    </tr>\n",
       "  </thead>\n",
       "  <tbody>\n",
       "    <tr>\n",
       "      <th>Week 1</th>\n",
       "      <td>9.5</td>\n",
       "      <td>8.75</td>\n",
       "      <td>8.0</td>\n",
       "      <td>10.0</td>\n",
       "      <td>7.75</td>\n",
       "    </tr>\n",
       "  </tbody>\n",
       "</table>\n",
       "</div>"
      ],
      "text/plain": [
       "        Mon   Tue  Wed   Thu   Fri\n",
       "Week 1  9.5  8.75  8.0  10.0  7.75"
      ]
     },
     "execution_count": 70,
     "metadata": {},
     "output_type": "execute_result"
    }
   ],
   "source": [
    "scores[0:1]"
   ]
  },
  {
   "cell_type": "code",
   "execution_count": 72,
   "id": "6674767f-2141-43d0-9025-0d8f0271727f",
   "metadata": {},
   "outputs": [
    {
     "data": {
      "text/plain": [
       "Week 1    9.5\n",
       "Week 2    9.0\n",
       "Name: Mon, dtype: float64"
      ]
     },
     "execution_count": 72,
     "metadata": {},
     "output_type": "execute_result"
    }
   ],
   "source": [
    "scores.Mon"
   ]
  },
  {
   "cell_type": "code",
   "execution_count": 73,
   "id": "65e14387-aa4d-4910-9134-e48d5a13afac",
   "metadata": {},
   "outputs": [
    {
     "data": {
      "text/plain": [
       "Week 1    9.5\n",
       "Week 2    9.0\n",
       "Name: Mon, dtype: float64"
      ]
     },
     "execution_count": 73,
     "metadata": {},
     "output_type": "execute_result"
    }
   ],
   "source": [
    "scores[\"Mon\"]"
   ]
  },
  {
   "cell_type": "code",
   "execution_count": 74,
   "id": "5b53e359-46f2-4e72-8710-79fc71cffee8",
   "metadata": {},
   "outputs": [
    {
     "data": {
      "text/plain": [
       "Week 1    9.5\n",
       "Week 2    9.0\n",
       "Name: Mon, dtype: float64"
      ]
     },
     "execution_count": 74,
     "metadata": {},
     "output_type": "execute_result"
    }
   ],
   "source": [
    "scores.loc[:,\"Mon\"]"
   ]
  },
  {
   "cell_type": "code",
   "execution_count": 75,
   "id": "a01c436e-8bf5-4105-9f7b-96f4b458c2c9",
   "metadata": {},
   "outputs": [
    {
     "data": {
      "text/html": [
       "<div>\n",
       "<style scoped>\n",
       "    .dataframe tbody tr th:only-of-type {\n",
       "        vertical-align: middle;\n",
       "    }\n",
       "\n",
       "    .dataframe tbody tr th {\n",
       "        vertical-align: top;\n",
       "    }\n",
       "\n",
       "    .dataframe thead th {\n",
       "        text-align: right;\n",
       "    }\n",
       "</style>\n",
       "<table border=\"1\" class=\"dataframe\">\n",
       "  <thead>\n",
       "    <tr style=\"text-align: right;\">\n",
       "      <th></th>\n",
       "      <th>Mon</th>\n",
       "    </tr>\n",
       "  </thead>\n",
       "  <tbody>\n",
       "    <tr>\n",
       "      <th>Week 1</th>\n",
       "      <td>9.5</td>\n",
       "    </tr>\n",
       "    <tr>\n",
       "      <th>Week 2</th>\n",
       "      <td>9.0</td>\n",
       "    </tr>\n",
       "  </tbody>\n",
       "</table>\n",
       "</div>"
      ],
      "text/plain": [
       "        Mon\n",
       "Week 1  9.5\n",
       "Week 2  9.0"
      ]
     },
     "execution_count": 75,
     "metadata": {},
     "output_type": "execute_result"
    }
   ],
   "source": [
    "scores.loc[:,[\"Mon\"]]"
   ]
  },
  {
   "cell_type": "markdown",
   "id": "c09233ab-d430-4cc7-9496-52243bd292f3",
   "metadata": {},
   "source": [
    "for reference: very important\n",
    "\n",
    "Be careful, because many of these may appear to return the same result, but the actual pandas type represented is entirelydifferent. (For example, scores.iloc[0]returns a Series. scores.iloc[0:1]returns a DataFrame.) "
   ]
  },
  {
   "cell_type": "markdown",
   "id": "601da977-4894-4ebf-b102-fb2ea3fed272",
   "metadata": {},
   "source": [
    "15)[P] Show at least twodifferent techniques to select scores for Tuesday using the string\"Tue\"as a Series"
   ]
  },
  {
   "cell_type": "code",
   "execution_count": 109,
   "id": "13d1363a-d25b-44db-af17-15bfd52b2a2f",
   "metadata": {},
   "outputs": [
    {
     "data": {
      "text/plain": [
       "Week 1    8.75\n",
       "Week 2    8.00\n",
       "Week 3    8.00\n",
       "Name: Tue, dtype: float64"
      ]
     },
     "execution_count": 109,
     "metadata": {},
     "output_type": "execute_result"
    }
   ],
   "source": [
    "scores[\"Tue\"]"
   ]
  },
  {
   "cell_type": "code",
   "execution_count": 108,
   "id": "4eb5df24-c3b2-40a0-8e1f-d5a296761b66",
   "metadata": {},
   "outputs": [
    {
     "data": {
      "text/plain": [
       "Week 1    8.75\n",
       "Week 2    8.00\n",
       "Week 3    8.00\n",
       "Name: Tue, dtype: float64"
      ]
     },
     "execution_count": 108,
     "metadata": {},
     "output_type": "execute_result"
    }
   ],
   "source": [
    "scores.loc[:,\"Tue\"]"
   ]
  },
  {
   "cell_type": "markdown",
   "id": "383a07ef-3bbf-4cba-b85d-257fc5a0e40b",
   "metadata": {},
   "source": [
    "16)[P] Show how to retrieve the scores for Tuesday using the named attribute Tue"
   ]
  },
  {
   "cell_type": "code",
   "execution_count": 110,
   "id": "7b7faeb0-6dd7-41c7-b23b-5d0ee574e1dc",
   "metadata": {},
   "outputs": [
    {
     "data": {
      "text/plain": [
       "Week 1    8.75\n",
       "Week 2    8.00\n",
       "Week 3    8.00\n",
       "Name: Tue, dtype: float64"
      ]
     },
     "execution_count": 110,
     "metadata": {},
     "output_type": "execute_result"
    }
   ],
   "source": [
    "scores.Tue"
   ]
  },
  {
   "cell_type": "markdown",
   "id": "5edcc176-506a-41d1-9d1e-56f1f8fb4e71",
   "metadata": {},
   "source": [
    "17)[P] Show at least three techniques to select scores for Wednesdayusing an integer.The return type can be either a DataFrameor a Series."
   ]
  },
  {
   "cell_type": "code",
   "execution_count": 111,
   "id": "6108909c-ebcd-4b82-9cb8-8081e35a44f5",
   "metadata": {},
   "outputs": [
    {
     "data": {
      "text/plain": [
       "Week 1     8.00\n",
       "Week 2    10.00\n",
       "Week 3     9.75\n",
       "Name: Wed, dtype: float64"
      ]
     },
     "execution_count": 111,
     "metadata": {},
     "output_type": "execute_result"
    }
   ],
   "source": [
    "scores.iloc[:,2]"
   ]
  },
  {
   "cell_type": "code",
   "execution_count": 112,
   "id": "12971cfe-8a72-44ba-aed6-b62c19e31aaf",
   "metadata": {},
   "outputs": [
    {
     "data": {
      "text/html": [
       "<div>\n",
       "<style scoped>\n",
       "    .dataframe tbody tr th:only-of-type {\n",
       "        vertical-align: middle;\n",
       "    }\n",
       "\n",
       "    .dataframe tbody tr th {\n",
       "        vertical-align: top;\n",
       "    }\n",
       "\n",
       "    .dataframe thead th {\n",
       "        text-align: right;\n",
       "    }\n",
       "</style>\n",
       "<table border=\"1\" class=\"dataframe\">\n",
       "  <thead>\n",
       "    <tr style=\"text-align: right;\">\n",
       "      <th></th>\n",
       "      <th>Wed</th>\n",
       "    </tr>\n",
       "  </thead>\n",
       "  <tbody>\n",
       "    <tr>\n",
       "      <th>Week 1</th>\n",
       "      <td>8.00</td>\n",
       "    </tr>\n",
       "    <tr>\n",
       "      <th>Week 2</th>\n",
       "      <td>10.00</td>\n",
       "    </tr>\n",
       "    <tr>\n",
       "      <th>Week 3</th>\n",
       "      <td>9.75</td>\n",
       "    </tr>\n",
       "  </tbody>\n",
       "</table>\n",
       "</div>"
      ],
      "text/plain": [
       "          Wed\n",
       "Week 1   8.00\n",
       "Week 2  10.00\n",
       "Week 3   9.75"
      ]
     },
     "execution_count": 112,
     "metadata": {},
     "output_type": "execute_result"
    }
   ],
   "source": [
    "scores.iloc[:,2:3]"
   ]
  },
  {
   "cell_type": "code",
   "execution_count": 370,
   "id": "07d340ed-26c5-46e3-b414-3c088ae4c9b3",
   "metadata": {},
   "outputs": [
    {
     "data": {
      "text/html": [
       "<div>\n",
       "<style scoped>\n",
       "    .dataframe tbody tr th:only-of-type {\n",
       "        vertical-align: middle;\n",
       "    }\n",
       "\n",
       "    .dataframe tbody tr th {\n",
       "        vertical-align: top;\n",
       "    }\n",
       "\n",
       "    .dataframe thead th {\n",
       "        text-align: right;\n",
       "    }\n",
       "</style>\n",
       "<table border=\"1\" class=\"dataframe\">\n",
       "  <thead>\n",
       "    <tr style=\"text-align: right;\">\n",
       "      <th></th>\n",
       "      <th>Wed</th>\n",
       "    </tr>\n",
       "  </thead>\n",
       "  <tbody>\n",
       "    <tr>\n",
       "      <th>Week 1</th>\n",
       "      <td>8.00</td>\n",
       "    </tr>\n",
       "    <tr>\n",
       "      <th>Week 2</th>\n",
       "      <td>10.00</td>\n",
       "    </tr>\n",
       "    <tr>\n",
       "      <th>Week 3</th>\n",
       "      <td>9.75</td>\n",
       "    </tr>\n",
       "  </tbody>\n",
       "</table>\n",
       "</div>"
      ],
      "text/plain": [
       "          Wed\n",
       "Week 1   8.00\n",
       "Week 2  10.00\n",
       "Week 3   9.75"
      ]
     },
     "execution_count": 370,
     "metadata": {},
     "output_type": "execute_result"
    }
   ],
   "source": [
    "scores.iloc[[0,1,2],[2]]"
   ]
  },
  {
   "cell_type": "markdown",
   "id": "1df233f5-202e-4a0e-a889-c23d8ac53a31",
   "metadata": {},
   "source": [
    "18)[P] Select the data for the first week using the string \"week_1\". Your result should return a Seriesrepresenting the scores for week 1."
   ]
  },
  {
   "cell_type": "code",
   "execution_count": 152,
   "id": "c678a49c-b9e5-4fe5-a95b-4283ba7eecc4",
   "metadata": {},
   "outputs": [
    {
     "data": {
      "text/plain": [
       "Mon     9.50\n",
       "Tue     8.75\n",
       "Wed     8.00\n",
       "Thu    10.00\n",
       "Fri     7.75\n",
       "Name: Week 1, dtype: float64"
      ]
     },
     "execution_count": 152,
     "metadata": {},
     "output_type": "execute_result"
    }
   ],
   "source": [
    "scores.loc[\"Week 1\"]"
   ]
  },
  {
   "cell_type": "markdown",
   "id": "661af73f-c48b-4b56-ab9e-611812af2f49",
   "metadata": {},
   "source": [
    "19)[P] Select the data for the first week using the string \"week_1\". Your result should return a DataFrame, representing the subset of the scoresDataFramefor week 1 only."
   ]
  },
  {
   "cell_type": "code",
   "execution_count": 156,
   "id": "57d446ff-f6d4-4f47-b974-92c5fafc5f87",
   "metadata": {},
   "outputs": [
    {
     "data": {
      "text/html": [
       "<div>\n",
       "<style scoped>\n",
       "    .dataframe tbody tr th:only-of-type {\n",
       "        vertical-align: middle;\n",
       "    }\n",
       "\n",
       "    .dataframe tbody tr th {\n",
       "        vertical-align: top;\n",
       "    }\n",
       "\n",
       "    .dataframe thead th {\n",
       "        text-align: right;\n",
       "    }\n",
       "</style>\n",
       "<table border=\"1\" class=\"dataframe\">\n",
       "  <thead>\n",
       "    <tr style=\"text-align: right;\">\n",
       "      <th></th>\n",
       "      <th>Mon</th>\n",
       "      <th>Tue</th>\n",
       "      <th>Wed</th>\n",
       "      <th>Thu</th>\n",
       "      <th>Fri</th>\n",
       "    </tr>\n",
       "  </thead>\n",
       "  <tbody>\n",
       "    <tr>\n",
       "      <th>Week 1</th>\n",
       "      <td>9.5</td>\n",
       "      <td>8.75</td>\n",
       "      <td>8.0</td>\n",
       "      <td>10.0</td>\n",
       "      <td>7.75</td>\n",
       "    </tr>\n",
       "  </tbody>\n",
       "</table>\n",
       "</div>"
      ],
      "text/plain": [
       "        Mon   Tue  Wed   Thu   Fri\n",
       "Week 1  9.5  8.75  8.0  10.0  7.75"
      ]
     },
     "execution_count": 156,
     "metadata": {},
     "output_type": "execute_result"
    }
   ],
   "source": [
    "scores.loc[:\"Week 1\"]"
   ]
  },
  {
   "cell_type": "markdown",
   "id": "8210a6f5-e8ba-4246-be47-61be27385b16",
   "metadata": {},
   "source": [
    "20)[P] Select the data for the first week using a slice"
   ]
  },
  {
   "cell_type": "code",
   "execution_count": 158,
   "id": "b5a4584b-46ef-4bd9-a190-12569bee6516",
   "metadata": {},
   "outputs": [
    {
     "data": {
      "text/html": [
       "<div>\n",
       "<style scoped>\n",
       "    .dataframe tbody tr th:only-of-type {\n",
       "        vertical-align: middle;\n",
       "    }\n",
       "\n",
       "    .dataframe tbody tr th {\n",
       "        vertical-align: top;\n",
       "    }\n",
       "\n",
       "    .dataframe thead th {\n",
       "        text-align: right;\n",
       "    }\n",
       "</style>\n",
       "<table border=\"1\" class=\"dataframe\">\n",
       "  <thead>\n",
       "    <tr style=\"text-align: right;\">\n",
       "      <th></th>\n",
       "      <th>Mon</th>\n",
       "      <th>Tue</th>\n",
       "      <th>Wed</th>\n",
       "      <th>Thu</th>\n",
       "      <th>Fri</th>\n",
       "    </tr>\n",
       "  </thead>\n",
       "  <tbody>\n",
       "    <tr>\n",
       "      <th>Week 1</th>\n",
       "      <td>9.5</td>\n",
       "      <td>8.75</td>\n",
       "      <td>8.0</td>\n",
       "      <td>10.0</td>\n",
       "      <td>7.75</td>\n",
       "    </tr>\n",
       "  </tbody>\n",
       "</table>\n",
       "</div>"
      ],
      "text/plain": [
       "        Mon   Tue  Wed   Thu   Fri\n",
       "Week 1  9.5  8.75  8.0  10.0  7.75"
      ]
     },
     "execution_count": 158,
     "metadata": {},
     "output_type": "execute_result"
    }
   ],
   "source": [
    "scores[:1]"
   ]
  },
  {
   "cell_type": "markdown",
   "id": "d2284d15-416c-42b7-a703-a6c68a133972",
   "metadata": {},
   "source": [
    "21)[P] Use .ilocto select Monday andFriday of the first andthird week.Your result should be a DataFramethat looksas follows:"
   ]
  },
  {
   "cell_type": "code",
   "execution_count": 160,
   "id": "adef2d5d-02f3-4dea-ae35-a90c19920dec",
   "metadata": {},
   "outputs": [
    {
     "data": {
      "text/html": [
       "<div>\n",
       "<style scoped>\n",
       "    .dataframe tbody tr th:only-of-type {\n",
       "        vertical-align: middle;\n",
       "    }\n",
       "\n",
       "    .dataframe tbody tr th {\n",
       "        vertical-align: top;\n",
       "    }\n",
       "\n",
       "    .dataframe thead th {\n",
       "        text-align: right;\n",
       "    }\n",
       "</style>\n",
       "<table border=\"1\" class=\"dataframe\">\n",
       "  <thead>\n",
       "    <tr style=\"text-align: right;\">\n",
       "      <th></th>\n",
       "      <th>Mon</th>\n",
       "      <th>Fri</th>\n",
       "    </tr>\n",
       "  </thead>\n",
       "  <tbody>\n",
       "    <tr>\n",
       "      <th>Week 1</th>\n",
       "      <td>9.5</td>\n",
       "      <td>7.75</td>\n",
       "    </tr>\n",
       "    <tr>\n",
       "      <th>Week 3</th>\n",
       "      <td>8.5</td>\n",
       "      <td>8.25</td>\n",
       "    </tr>\n",
       "  </tbody>\n",
       "</table>\n",
       "</div>"
      ],
      "text/plain": [
       "        Mon   Fri\n",
       "Week 1  9.5  7.75\n",
       "Week 3  8.5  8.25"
      ]
     },
     "execution_count": 160,
     "metadata": {},
     "output_type": "execute_result"
    }
   ],
   "source": [
    "scores.iloc[::2,::4]"
   ]
  },
  {
   "cell_type": "markdown",
   "id": "65b05eca-b90c-4b19-8c29-fbc7fa304893",
   "metadata": {},
   "source": [
    "22)[P] Repeat the previous exercise, but usethe.locselector. You should have the same result."
   ]
  },
  {
   "cell_type": "code",
   "execution_count": 162,
   "id": "7537fadd-2ab8-414b-bf86-d07425b46d3f",
   "metadata": {},
   "outputs": [
    {
     "data": {
      "text/html": [
       "<div>\n",
       "<style scoped>\n",
       "    .dataframe tbody tr th:only-of-type {\n",
       "        vertical-align: middle;\n",
       "    }\n",
       "\n",
       "    .dataframe tbody tr th {\n",
       "        vertical-align: top;\n",
       "    }\n",
       "\n",
       "    .dataframe thead th {\n",
       "        text-align: right;\n",
       "    }\n",
       "</style>\n",
       "<table border=\"1\" class=\"dataframe\">\n",
       "  <thead>\n",
       "    <tr style=\"text-align: right;\">\n",
       "      <th></th>\n",
       "      <th>Mon</th>\n",
       "      <th>Fri</th>\n",
       "    </tr>\n",
       "  </thead>\n",
       "  <tbody>\n",
       "    <tr>\n",
       "      <th>Week 1</th>\n",
       "      <td>9.5</td>\n",
       "      <td>7.75</td>\n",
       "    </tr>\n",
       "    <tr>\n",
       "      <th>Week 3</th>\n",
       "      <td>8.5</td>\n",
       "      <td>8.25</td>\n",
       "    </tr>\n",
       "  </tbody>\n",
       "</table>\n",
       "</div>"
      ],
      "text/plain": [
       "        Mon   Fri\n",
       "Week 1  9.5  7.75\n",
       "Week 3  8.5  8.25"
      ]
     },
     "execution_count": 162,
     "metadata": {},
     "output_type": "execute_result"
    }
   ],
   "source": [
    "scores.loc[\"Week 1\":\"Week 3\":2, \"Mon\":\"Fri\":4]"
   ]
  },
  {
   "cell_type": "markdown",
   "id": "63755207-0c64-400c-bae5-d3a39f0edb91",
   "metadata": {},
   "source": [
    "23)[P] Report the mean score for each day"
   ]
  },
  {
   "cell_type": "code",
   "execution_count": 178,
   "id": "bbfd47b5-5a01-4e7b-b264-19e39b64c96d",
   "metadata": {},
   "outputs": [
    {
     "data": {
      "text/plain": [
       "Mon    9.00\n",
       "Tue    8.25\n",
       "Wed    9.25\n",
       "Thu    9.25\n",
       "Fri    7.75\n",
       "dtype: float64"
      ]
     },
     "execution_count": 178,
     "metadata": {},
     "output_type": "execute_result"
    }
   ],
   "source": [
    "scores.mean(0)"
   ]
  },
  {
   "cell_type": "markdown",
   "id": "1c4f6b7b-a1e5-400a-b401-9eab9eb8d284",
   "metadata": {},
   "source": [
    "24)[P] Report the mean score for each week"
   ]
  },
  {
   "cell_type": "code",
   "execution_count": 175,
   "id": "8914a8a0-1bb5-4c53-ac91-c5bb47c6045b",
   "metadata": {},
   "outputs": [
    {
     "data": {
      "text/plain": [
       "Week 1    8.8\n",
       "Week 2    8.6\n",
       "Week 3    8.7\n",
       "dtype: float64"
      ]
     },
     "execution_count": 175,
     "metadata": {},
     "output_type": "execute_result"
    }
   ],
   "source": [
    "scores.mean(1)"
   ]
  },
  {
   "cell_type": "markdown",
   "id": "9d0b8ad8-7500-42b7-bfdb-a5987a44d07e",
   "metadata": {},
   "source": [
    "25)[P] For each week, report how much each day's score for that week differed from the mean for the week.Your result should be one DataFramethat looks like this:"
   ]
  },
  {
   "cell_type": "code",
   "execution_count": 364,
   "id": "9bc92f0d-df8e-41b9-afb8-2a85d1be9509",
   "metadata": {},
   "outputs": [
    {
     "data": {
      "text/html": [
       "<div>\n",
       "<style scoped>\n",
       "    .dataframe tbody tr th:only-of-type {\n",
       "        vertical-align: middle;\n",
       "    }\n",
       "\n",
       "    .dataframe tbody tr th {\n",
       "        vertical-align: top;\n",
       "    }\n",
       "\n",
       "    .dataframe thead th {\n",
       "        text-align: right;\n",
       "    }\n",
       "</style>\n",
       "<table border=\"1\" class=\"dataframe\">\n",
       "  <thead>\n",
       "    <tr style=\"text-align: right;\">\n",
       "      <th></th>\n",
       "      <th>Mon</th>\n",
       "      <th>Tue</th>\n",
       "      <th>Wed</th>\n",
       "      <th>Thu</th>\n",
       "      <th>Fri</th>\n",
       "    </tr>\n",
       "  </thead>\n",
       "  <tbody>\n",
       "    <tr>\n",
       "      <th>Week 1</th>\n",
       "      <td>0.7</td>\n",
       "      <td>-0.05</td>\n",
       "      <td>-0.80</td>\n",
       "      <td>1.20</td>\n",
       "      <td>-1.05</td>\n",
       "    </tr>\n",
       "    <tr>\n",
       "      <th>Week 2</th>\n",
       "      <td>0.4</td>\n",
       "      <td>-0.60</td>\n",
       "      <td>1.40</td>\n",
       "      <td>0.15</td>\n",
       "      <td>-1.35</td>\n",
       "    </tr>\n",
       "    <tr>\n",
       "      <th>Week 3</th>\n",
       "      <td>-0.2</td>\n",
       "      <td>-0.70</td>\n",
       "      <td>1.05</td>\n",
       "      <td>0.30</td>\n",
       "      <td>-0.45</td>\n",
       "    </tr>\n",
       "  </tbody>\n",
       "</table>\n",
       "</div>"
      ],
      "text/plain": [
       "        Mon   Tue   Wed   Thu   Fri\n",
       "Week 1  0.7 -0.05 -0.80  1.20 -1.05\n",
       "Week 2  0.4 -0.60  1.40  0.15 -1.35\n",
       "Week 3 -0.2 -0.70  1.05  0.30 -0.45"
      ]
     },
     "execution_count": 364,
     "metadata": {},
     "output_type": "execute_result"
    }
   ],
   "source": [
    "scores.apply(lambda x: x - scores.mean(1))"
   ]
  },
  {
   "cell_type": "markdown",
   "id": "7d82e3db-448d-4396-ac8d-3222ee62073c",
   "metadata": {},
   "source": [
    "26)[P] Report the maximum score for each week. Your result should be a Series."
   ]
  },
  {
   "cell_type": "code",
   "execution_count": 181,
   "id": "c372ebf0-7351-447b-bf92-657350fcde09",
   "metadata": {},
   "outputs": [
    {
     "data": {
      "text/plain": [
       "Week 1    10.00\n",
       "Week 2    10.00\n",
       "Week 3     9.75\n",
       "dtype: float64"
      ]
     },
     "execution_count": 181,
     "metadata": {},
     "output_type": "execute_result"
    }
   ],
   "source": [
    "scores.max(1)"
   ]
  },
  {
   "cell_type": "markdown",
   "id": "1eedc32b-246b-44da-a47b-d74433ccdfe8",
   "metadata": {},
   "source": [
    "27)[P] For each week, report which day had the largest score. (Again, you should be reporting your result as a Series.And hint, idxmax()is pretty cool.)"
   ]
  },
  {
   "cell_type": "code",
   "execution_count": 223,
   "id": "04119592-24d1-4b8b-9320-c128e41b6d87",
   "metadata": {},
   "outputs": [
    {
     "data": {
      "text/plain": [
       "Week 1    Thu\n",
       "Week 2    Wed\n",
       "Week 3    Wed\n",
       "dtype: object"
      ]
     },
     "execution_count": 223,
     "metadata": {},
     "output_type": "execute_result"
    }
   ],
   "source": [
    "scores.idxmax(1)"
   ]
  },
  {
   "cell_type": "markdown",
   "id": "5142c2f1-fb4f-4ee5-9da0-9ba926907413",
   "metadata": {},
   "source": [
    "28)[P] Report the week that had the highest total quiz score. Your answer should only be the name of the week from the index."
   ]
  },
  {
   "cell_type": "code",
   "execution_count": 228,
   "id": "e572e467-3f9f-456b-a360-127ec6b9bce3",
   "metadata": {},
   "outputs": [
    {
     "data": {
      "text/plain": [
       "'Week 1'"
      ]
     },
     "execution_count": 228,
     "metadata": {},
     "output_type": "execute_result"
    }
   ],
   "source": [
    "scores.sum(1).idxmax()"
   ]
  },
  {
   "cell_type": "markdown",
   "id": "9aa98551-5afa-427d-8338-aeee0b9c471f",
   "metadata": {},
   "source": [
    "29)[P] How many days over the entire dataset had a score >= 9.25?"
   ]
  },
  {
   "cell_type": "code",
   "execution_count": 365,
   "id": "2e68c3ad-877a-4ddb-9f91-d5af97dfd714",
   "metadata": {},
   "outputs": [
    {
     "data": {
      "text/plain": [
       "4"
      ]
     },
     "execution_count": 365,
     "metadata": {},
     "output_type": "execute_result"
    }
   ],
   "source": [
    "# .count excludes Nan, .size includes nan\n",
    "scores.where(scores>=9.25).count().sum()"
   ]
  },
  {
   "cell_type": "markdown",
   "id": "721c2385-2f2a-4b07-a734-5f2c30b888fa",
   "metadata": {},
   "source": [
    "30)[P] Report the number of days of each week that had a score >= 9.25. Your answer should be a Seriesthat looks like the following:"
   ]
  },
  {
   "cell_type": "code",
   "execution_count": 243,
   "id": "93a5931d-2f51-4f1d-98cf-12f1436e86d2",
   "metadata": {},
   "outputs": [
    {
     "data": {
      "text/plain": [
       "Week 1    2\n",
       "Week 2    1\n",
       "Week 3    1\n",
       "dtype: int64"
      ]
     },
     "execution_count": 243,
     "metadata": {},
     "output_type": "execute_result"
    }
   ],
   "source": [
    "scores.where(scores>=9.25).count(1)"
   ]
  },
  {
   "cell_type": "markdown",
   "id": "a1af37e0-08b5-4085-baa2-4f28e7b7aada",
   "metadata": {},
   "source": [
    "31)[P] Report the average score for each week with the lowest score for each week dropped.(REMEMBER –NEVER hard code magic numbers. Your solution should work for any number of weeks, and any number of days per week!)"
   ]
  },
  {
   "cell_type": "code",
   "execution_count": 348,
   "id": "ec225e51-e685-4888-825a-5e3401ca1750",
   "metadata": {},
   "outputs": [
    {
     "name": "stdout",
     "output_type": "stream",
     "text": [
      "         Mon    Tue   Wed   Thu    Fri\n",
      "Week 1  True   True  True  True  False\n",
      "Week 2  True   True  True  True  False\n",
      "Week 3  True  False  True  True   True\n"
     ]
    },
    {
     "data": {
      "text/plain": [
       "Week 1    9.0625\n",
       "Week 2    8.9375\n",
       "Week 3    8.8750\n",
       "dtype: float64"
      ]
     },
     "execution_count": 348,
     "metadata": {},
     "output_type": "execute_result"
    }
   ],
   "source": [
    "cond = scores.T>scores.T.min()\n",
    "print(cond.T)\n",
    "scores.where(cond.T).mean(1)"
   ]
  },
  {
   "cell_type": "markdown",
   "id": "cfa3b429-871f-412b-afb7-89eb28b956f6",
   "metadata": {},
   "source": [
    "32)[P] Report the scores rescaled to fall between 0 and 100, instead of 0 to 10 as they are now."
   ]
  },
  {
   "cell_type": "code",
   "execution_count": 264,
   "id": "6e3a7ea4-7033-47dc-9ec3-dd3dcedab08a",
   "metadata": {},
   "outputs": [
    {
     "data": {
      "text/html": [
       "<div>\n",
       "<style scoped>\n",
       "    .dataframe tbody tr th:only-of-type {\n",
       "        vertical-align: middle;\n",
       "    }\n",
       "\n",
       "    .dataframe tbody tr th {\n",
       "        vertical-align: top;\n",
       "    }\n",
       "\n",
       "    .dataframe thead th {\n",
       "        text-align: right;\n",
       "    }\n",
       "</style>\n",
       "<table border=\"1\" class=\"dataframe\">\n",
       "  <thead>\n",
       "    <tr style=\"text-align: right;\">\n",
       "      <th></th>\n",
       "      <th>Mon</th>\n",
       "      <th>Tue</th>\n",
       "      <th>Wed</th>\n",
       "      <th>Thu</th>\n",
       "      <th>Fri</th>\n",
       "    </tr>\n",
       "  </thead>\n",
       "  <tbody>\n",
       "    <tr>\n",
       "      <th>Week 1</th>\n",
       "      <td>95.0</td>\n",
       "      <td>87.5</td>\n",
       "      <td>80.0</td>\n",
       "      <td>100.0</td>\n",
       "      <td>77.5</td>\n",
       "    </tr>\n",
       "    <tr>\n",
       "      <th>Week 2</th>\n",
       "      <td>90.0</td>\n",
       "      <td>80.0</td>\n",
       "      <td>100.0</td>\n",
       "      <td>87.5</td>\n",
       "      <td>72.5</td>\n",
       "    </tr>\n",
       "    <tr>\n",
       "      <th>Week 3</th>\n",
       "      <td>85.0</td>\n",
       "      <td>80.0</td>\n",
       "      <td>97.5</td>\n",
       "      <td>90.0</td>\n",
       "      <td>82.5</td>\n",
       "    </tr>\n",
       "  </tbody>\n",
       "</table>\n",
       "</div>"
      ],
      "text/plain": [
       "         Mon   Tue    Wed    Thu   Fri\n",
       "Week 1  95.0  87.5   80.0  100.0  77.5\n",
       "Week 2  90.0  80.0  100.0   87.5  72.5\n",
       "Week 3  85.0  80.0   97.5   90.0  82.5"
      ]
     },
     "execution_count": 264,
     "metadata": {},
     "output_type": "execute_result"
    }
   ],
   "source": [
    "scores*10"
   ]
  },
  {
   "cell_type": "markdown",
   "id": "71d11b0f-9590-499b-b378-78eb223be8a5",
   "metadata": {},
   "source": [
    "33)[P] How would you convert your scores DataFrameto a Numpy array? Demonstrate it by showing the type of your conversion using Python's typefunction."
   ]
  },
  {
   "cell_type": "code",
   "execution_count": 267,
   "id": "5db69065-fe76-4729-bcca-225527390434",
   "metadata": {},
   "outputs": [
    {
     "data": {
      "text/plain": [
       "numpy.ndarray"
      ]
     },
     "execution_count": 267,
     "metadata": {},
     "output_type": "execute_result"
    }
   ],
   "source": [
    "scoresArray = np.asarray(scores)\n",
    "type(scoresArray)"
   ]
  }
 ],
 "metadata": {
  "kernelspec": {
   "display_name": "Python 3 (ipykernel)",
   "language": "python",
   "name": "python3"
  },
  "language_info": {
   "codemirror_mode": {
    "name": "ipython",
    "version": 3
   },
   "file_extension": ".py",
   "mimetype": "text/x-python",
   "name": "python",
   "nbconvert_exporter": "python",
   "pygments_lexer": "ipython3",
   "version": "3.9.16"
  }
 },
 "nbformat": 4,
 "nbformat_minor": 5
}
