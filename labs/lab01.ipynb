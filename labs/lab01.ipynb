{
 "cells": [
  {
   "cell_type": "markdown",
   "id": "843cc7f0-8e84-4e4e-8411-8dc834d541ee",
   "metadata": {},
   "source": [
    "# Lab 01 - Getting Started\n",
    "\n",
    "Name: Jimmy Pronchick  \n",
    "Class: CSCI349 2023SP - Intro to Data Mining  \n",
    "Instructor: Brian King"
   ]
  },
  {
   "cell_type": "code",
   "execution_count": 1,
   "id": "9ae15326-c63a-4abb-bf0e-aa57fa2bdfad",
   "metadata": {},
   "outputs": [],
   "source": [
    "import sys"
   ]
  },
  {
   "cell_type": "markdown",
   "id": "ce295fdd-57a5-4503-8cce-683d59c7744e",
   "metadata": {},
   "source": [
    "2. [M] Did you read the syllabus? All of it? Do you understand and agree to abide by the cheating rules? Write a sentence clearly indicating your commitment to not cheating.\n",
    "\n",
    "I understand and agree to abide by the cheating rules outlined in the syllabus."
   ]
  },
  {
   "cell_type": "markdown",
   "id": "23300fd4-ef72-4ab9-8a0e-0a61d1487341",
   "metadata": {},
   "source": [
    "3.[M] What are you hoping to get out of this course?\n",
    "\n",
    "I'm especially interested in machine learning applications in natural language processing, but I'm hoping to gain a deeper understanding of how ML algorithms work and why certain algorithms are better suited for certain applications. My main goals for the course are to learn to speak intelligently about ML and to develop ideas for projects to explore in grad school (and learn the tools to do so)."
   ]
  },
  {
   "cell_type": "markdown",
   "id": "12b6115c-5ab4-4743-80e4-4571605202b8",
   "metadata": {},
   "source": [
    "4.[P] Print the Python version (available in syspackage)"
   ]
  },
  {
   "cell_type": "code",
   "execution_count": 2,
   "id": "d89280b1-1259-4ca4-a2be-02283a884ac1",
   "metadata": {},
   "outputs": [
    {
     "name": "stdout",
     "output_type": "stream",
     "text": [
      "3.9.16 (main, Jan 11 2023, 16:16:36) [MSC v.1916 64 bit (AMD64)]\n"
     ]
    }
   ],
   "source": [
    "print(sys.version)"
   ]
  },
  {
   "cell_type": "markdown",
   "id": "ad8b2b7f-99b2-445d-91da-484835f95f86",
   "metadata": {},
   "source": [
    "5.[P] Create a Python list of 10000 random integers in the range 1to 100 using the randompackage. Name the list x_list."
   ]
  },
  {
   "cell_type": "code",
   "execution_count": 3,
   "id": "6b169db8-d588-48c8-ae7c-1f9ecbeaa944",
   "metadata": {},
   "outputs": [
    {
     "name": "stdout",
     "output_type": "stream",
     "text": [
      "[78, 40, 58, 65, 47, 68, 39, 57, 50, 29, 64, 51, 38, 77, 71, 29, 57, 97, 48, 60, 36, 48, 42, 24, 63, 12, 49, 26, 42, 94, 9, 56, 14, 22, 82, 91, 87, 25, 70, 94, 92, 12, 95, 41, 79, 44, 77, 90, 98, 7, 43, 35, 96, 59, 19, 96, 12, 7, 89, 84, 98, 17, 19, 43, 65, 77, 71, 4, 17, 95, 3, 34, 68, 11, 41, 41, 98, 93, 12, 41, 90, 23, 88, 2, 61, 5, 61, 30, 9, 80, 75, 95, 91, 67, 55, 7, 17, 23, 18, 35, 59, 6, 17, 41, 9, 89, 58, 98, 19, 93, 89, 100, 38, 19, 93, 74, 59, 63, 23, 49, 71, 75, 20, 42, 63, 72, 99, 6, 4, 61, 4, 39, 39, 29, 2, 28, 74, 46, 95, 5, 46, 53, 9, 77, 95, 71, 25, 70, 55, 88, 21, 33, 9, 65, 36, 6, 37, 26, 61, 50, 87, 33, 26, 25, 74, 93, 95, 100, 20, 93, 95, 19, 28, 82, 76, 52, 42, 19, 79, 62, 70, 42, 2, 86, 27, 66, 32, 94, 22, 47, 12, 23, 29, 52, 66, 22, 26, 50, 97, 20, 9, 60, 84, 40, 73, 89, 78, 32, 30, 91, 21, 44, 63, 6, 26, 11, 87, 74, 63, 34, 67, 84, 64, 24, 26, 35, 77, 12, 49, 76, 52, 45, 43, 31, 18, 33, 7, 10, 32, 26, 32, 72, 87, 85, 16, 62, 43, 13, 24, 21, 38, 48, 3, 81, 96, 76, 5, 72, 37, 47, 85, 7, 66, 29, 33, 13, 70, 65, 46, 31, 65, 98, 24, 73, 40, 92, 89, 47, 3, 70, 99, 72, 84, 86, 91, 3, 76, 36, 54, 99, 1, 57, 75, 29, 100, 55, 68, 1, 50, 63, 83, 3, 29, 69, 32, 9, 53, 87, 92, 88, 28, 62, 9, 56, 24, 34, 74, 26, 31, 5, 61, 81, 53, 89, 74, 48, 30, 53, 12, 2, 54, 23, 97, 27, 39, 25, 1, 27, 40, 68, 89, 98, 46, 84, 82, 6, 83, 15, 61, 38, 86, 28, 76, 92, 42, 77, 77, 5, 76, 83, 40, 86, 51, 57, 27, 20, 29, 83, 36, 18, 99, 26, 46, 53, 80, 83, 94, 15, 74, 83, 86, 6, 53, 7, 84, 72, 92, 55, 47, 10, 47, 47, 53, 8, 33, 90, 94, 58, 17, 26, 83, 35, 45, 87, 91, 20, 75, 72, 13, 84, 69, 40, 67, 73, 74, 31, 73, 10, 38, 54, 92, 14, 96, 33, 49, 44, 19, 37, 16, 42, 47, 25, 41, 74, 80, 44, 37, 44, 64, 40, 15, 94, 100, 11, 39, 8, 49, 22, 44, 81, 50, 21, 49, 26, 52, 4, 76, 30, 23, 24, 66, 95, 36, 85, 68, 37, 53, 19, 81, 22, 98, 4, 25, 40, 85, 12, 40, 63, 39, 69, 67, 97, 84, 1, 88, 30, 81, 52, 81, 86, 76, 98, 10, 98, 41, 30, 2, 47, 16, 84, 12, 40, 65, 33, 86, 7, 73, 82, 26, 19, 61, 59, 28, 41, 57, 79, 45, 3, 36, 77, 35, 45, 93, 19, 70, 11, 13, 37, 21, 39, 62, 51, 6, 74, 87, 4, 81, 9, 58, 10, 31, 34, 71, 11, 54, 21, 13, 90, 50, 100, 73, 34, 69, 94, 64, 24, 23, 87, 29, 7, 38, 17, 17, 77, 42, 66, 48, 39, 59, 88, 74, 4, 17, 11, 65, 85, 36, 15, 83, 54, 48, 47, 61, 40, 82, 58, 77, 23, 62, 22, 8, 69, 34, 36, 9, 68, 60, 62, 89, 57, 32, 84, 93, 5, 67, 87, 40, 71, 7, 70, 4, 95, 50, 37, 42, 33, 46, 50, 5, 35, 35, 73, 45, 20, 57, 53, 2, 43, 49, 88, 64, 6, 42, 43, 18, 70, 47, 98, 14, 25, 5, 70, 14, 85, 18, 80, 65, 4, 56, 47, 2, 54, 77, 43, 15, 70, 77, 84, 66, 88, 11, 44, 54, 12, 14, 93, 29, 13, 2, 62, 38, 84, 12, 79, 70, 39, 73, 64, 45, 67, 53, 20, 60, 90, 5, 11, 81, 14, 95, 50, 31, 10, 3, 90, 61, 68, 40, 62, 23, 70, 23, 48, 18, 13, 77, 94, 93, 24, 17, 30, 1, 86, 36, 27, 1, 10, 43, 6, 88, 55, 40, 13, 70, 78, 83, 9, 46, 28, 67, 17, 79, 88, 55, 79, 10, 15, 13, 76, 75, 83, 82, 63, 90, 57, 38, 65, 55, 71, 65, 38, 70, 39, 98, 69, 4, 39, 26, 20, 12, 25, 12, 95, 26, 83, 60, 88, 100, 97, 8, 77, 97, 46, 92, 37, 85, 57, 19, 66, 95, 54, 18, 100, 88, 68, 72, 68, 27, 70, 44, 87, 96, 5, 70, 71, 90, 29, 73, 5, 21, 25, 80, 33, 19, 87, 6, 41, 58, 74, 88, 89, 15, 13, 19, 16, 8, 93, 42, 42, 80, 89, 90, 50, 44, 38, 60, 61, 88, 65, 70, 99, 20, 51, 10, 82, 46, 62, 71, 24, 80, 14, 51, 98, 26, 42, 20, 71, 62, 20, 99, 87, 93, 40, 28, 67, 15, 66, 72, 78, 21, 74, 47, 4, 1, 78, 67, 60, 42, 88, 3, 51, 28, 13, 91, 2, 52, 30, 84, 32, 9, 82, 75, 95, 61, 99, 51, 7, 42, 65, 12, 38, 84, 68, 6, 97, 38, 77, 23, 5, 38, 9, 24, 41, 55, 20, 50, 19, 79, 4, 4, 75, 22, 39, 54, 17, 92, 68, 84, 64, 51, 91, 55, 96, 40, 67, 11, 20, 28, 61, 3, 86, 71, 86, 59, 45, 77, 68, 6, 35, 53, 47, 97, 6, 28, 63, 21, 77, 21, 53, 19, 10, 83, 80, 19, 40, 61, 88, 2, 38, 88, 87, 57, 75, 74, 49, 85, 96, 18, 40, 97, 11, 97, 93, 12, 15, 55, 79, 24, 6, 54, 31, 39, 95, 78, 12, 49, 88, 73, 92, 28, 79, 59, 9, 88, 53, 38, 27, 94, 93, 56, 84]\n"
     ]
    }
   ],
   "source": [
    "import random\n",
    "\n",
    "x_list = []\n",
    "i=0\n",
    "while i<1000:\n",
    "    x_list.append(random.randint(1,100));\n",
    "    i+=1\n",
    "print(x_list)"
   ]
  },
  {
   "cell_type": "markdown",
   "id": "15f87019-4c00-4fef-957c-0dcb39f5115c",
   "metadata": {},
   "source": [
    "6.[P] What is the minimum valueof x_list? What is the maxvalue? What is the mode? "
   ]
  },
  {
   "cell_type": "code",
   "execution_count": 4,
   "id": "ed0238e8-d9d7-4ebc-a290-319194ee54f6",
   "metadata": {},
   "outputs": [
    {
     "name": "stdout",
     "output_type": "stream",
     "text": [
      "The minimum value of x_list is 1.\n",
      "The maximum value of x_list is 100.\n",
      "The mode of x_list is 40.\n"
     ]
    }
   ],
   "source": [
    "from statistics import mode\n",
    "\n",
    "print(\"The minimum value of x_list is {}.\".format(min(x_list)))\n",
    "print(\"The maximum value of x_list is {}.\".format(max(x_list)))\n",
    "print(\"The mode of x_list is {}.\".format(mode(x_list)))"
   ]
  },
  {
   "cell_type": "markdown",
   "id": "4eb7e7fb-daa8-498c-b295-1d5eca09b4ac",
   "metadata": {},
   "source": [
    "7.[P] Write a function to take a list of numbersas a parameter, and return the average of the list. Then, use your function to report the average valueof x_list,printed as a float with 2 places of precision."
   ]
  },
  {
   "cell_type": "code",
   "execution_count": 5,
   "id": "fac000b3-fa61-4f22-8cfd-f9bed66a1e1f",
   "metadata": {},
   "outputs": [
    {
     "name": "stdout",
     "output_type": "stream",
     "text": [
      "50.40\n"
     ]
    }
   ],
   "source": [
    "def avgList(num_list):\n",
    "    sum = 0.0\n",
    "    for item in num_list:\n",
    "        sum+=item\n",
    "    return (sum/len(num_list))\n",
    "print(\"%.2f\"%avgList(x_list));"
   ]
  },
  {
   "cell_type": "markdown",
   "id": "0b24b04a-69c2-4b36-b1e8-c40a856a89b1",
   "metadata": {},
   "source": [
    "8.[P] Create a list called x_hist that represents a histogram, i.e. a distribution of the numerical data, of x_list. Each entry in x_hist should contain the frequency of data over a bin width of 10. So,for example,x_hist[0]represents the frequency of numbers between 1-10, x_hist[1]is the frequency of numbers between 11-20, and so on.Be sure to print x_histat the end.(Do NOT use numpy!)"
   ]
  },
  {
   "cell_type": "code",
   "execution_count": 6,
   "id": "1253c329-59c9-45b7-9498-bed5a0f71f5b",
   "metadata": {},
   "outputs": [
    {
     "name": "stdout",
     "output_type": "stream",
     "text": [
      "[104, 105, 100, 100, 99, 81, 104, 100, 112, 95]\n"
     ]
    }
   ],
   "source": [
    "x_hist = []\n",
    "for i in range(1,11):\n",
    "    bin_max = i*10\n",
    "    bin_width = 10\n",
    "    x_hist.append(len([num for num in x_list if (num <= bin_max and num > bin_max-bin_width)]))\n",
    "print(x_hist)"
   ]
  },
  {
   "cell_type": "markdown",
   "id": "d81c7c78-3f7b-4eec-808c-8ff4c07fb56e",
   "metadata": {},
   "source": [
    "9.[M] What is numpy? What are its strengths? Does it have any weaknesses?\n",
    "\n",
    "Numpy is a Python library optimized for data science. It works well with large amounts of dense data due to its support of multi-dimensional arrays. Numpy arrays are useful when you have a large amount of data of all the same type. If you are looking to analyze a mixed dataset, a regular python list will work better, since ndarray hold data of all the same type."
   ]
  },
  {
   "cell_type": "markdown",
   "id": "c0d21c81-de9c-4e72-a2ee-6600aea13ffe",
   "metadata": {},
   "source": [
    "10.[P] Import the numpypackage as np and print the numpyversion"
   ]
  },
  {
   "cell_type": "code",
   "execution_count": 7,
   "id": "76028fea-79bd-496a-8cf2-ffd3f9c1d468",
   "metadata": {},
   "outputs": [
    {
     "name": "stdout",
     "output_type": "stream",
     "text": [
      "1.23.5\n"
     ]
    }
   ],
   "source": [
    "import numpy as np\n",
    "print(np.__version__)"
   ]
  },
  {
   "cell_type": "markdown",
   "id": "1a842ab0-f47c-4194-bb9d-228f31ae6333",
   "metadata": {},
   "source": [
    "11.[M] What is the primary object type in numpy? Can it store data of different types? Discuss.\n",
    "\n",
    "The primary object type in numpy is the homogenous multidimensional array (or ndarray). The data in the array must all be the same type. Technically, different types of data can be stored in an ndarray if they are stored as the object dtype."
   ]
  },
  {
   "cell_type": "markdown",
   "id": "ec6356c9-f2de-4aa1-a7b1-8d6ba9c6614f",
   "metadata": {},
   "source": [
    "12.[M] Discuss the types of data available in numpy. You need not list every type. Just generalize, and discuss how the type system is different than the built-in types intand floatin Python.\n",
    "\n",
    "Numpy can handle standard Python data types in addition to its own types such as numpy.int32, numpy.int16, and numpy.float64."
   ]
  },
  {
   "cell_type": "markdown",
   "id": "71177851-46a7-4386-9db7-0d88b4b05564",
   "metadata": {},
   "source": [
    "13.[P] Research how to use numpyto compute the same resultas problem 8 above. (HINT: np.histogram)"
   ]
  },
  {
   "cell_type": "code",
   "execution_count": 8,
   "id": "31208f09-0472-4c1b-98e1-c75f55441e01",
   "metadata": {},
   "outputs": [
    {
     "name": "stdout",
     "output_type": "stream",
     "text": [
      "[104 105 100 100  99  81 104 100 112  95]\n"
     ]
    }
   ],
   "source": [
    "np_hist, bin_edges = (np.histogram(x_list))\n",
    "print(np_hist)"
   ]
  },
  {
   "cell_type": "markdown",
   "id": "011c23dd-de43-42e0-b3d5-67149a758a3c",
   "metadata": {},
   "source": [
    "14.[P]Create a numpyarray from x_list. Reassign it as x_list. Show the contentsof the first 20 entries."
   ]
  },
  {
   "cell_type": "code",
   "execution_count": 9,
   "id": "247f7ab4-08dd-4789-bb06-63af46bbfcef",
   "metadata": {},
   "outputs": [
    {
     "name": "stdout",
     "output_type": "stream",
     "text": [
      "[78 40 58 65 47 68 39 57 50 29 64 51 38 77 71 29 57 97 48 60]\n"
     ]
    }
   ],
   "source": [
    "x_list = np.asarray(x_list)\n",
    "print(x_list[:20])"
   ]
  },
  {
   "cell_type": "markdown",
   "id": "4c728847-40ed-45dc-9915-70245526d0a3",
   "metadata": {},
   "source": [
    "15.[P] Redo the previous exercise, but set the data type of each value to 'float32'"
   ]
  },
  {
   "cell_type": "code",
   "execution_count": 10,
   "id": "ccc314f7-18ee-4b8a-8397-e2bc2cbae1cd",
   "metadata": {},
   "outputs": [
    {
     "name": "stdout",
     "output_type": "stream",
     "text": [
      "[78. 40. 58. 65. 47. 68. 39. 57. 50. 29. 64. 51. 38. 77. 71. 29. 57. 97.\n",
      " 48. 60.]\n"
     ]
    }
   ],
   "source": [
    "x_list = np.asarray(x_list,dtype=np.float32)\n",
    "print(x_list[:20])"
   ]
  },
  {
   "cell_type": "markdown",
   "id": "17841953-50b5-4a6e-b644-908a7bf15bd3",
   "metadata": {},
   "source": [
    "16.[P] Create a length 10 integer array filled with zeros"
   ]
  },
  {
   "cell_type": "code",
   "execution_count": 11,
   "id": "a0139fad-0d06-4ab7-841c-c37677e0e49f",
   "metadata": {},
   "outputs": [
    {
     "name": "stdout",
     "output_type": "stream",
     "text": [
      "[0 0 0 0 0 0 0 0 0 0]\n"
     ]
    }
   ],
   "source": [
    "zero_array = np.zeros(10).astype(int)\n",
    "print(zero_array)"
   ]
  },
  {
   "cell_type": "markdown",
   "id": "76484f7a-6e08-4b96-98b0-966d6da66ec9",
   "metadata": {},
   "source": [
    "17.[P] Create a float array of 3 rows and 4 columns, all initialized to one."
   ]
  },
  {
   "cell_type": "code",
   "execution_count": 12,
   "id": "693a268a-5837-4277-b7c4-adbc9545de34",
   "metadata": {},
   "outputs": [
    {
     "name": "stdout",
     "output_type": "stream",
     "text": [
      "[[1. 1. 1. 1.]\n",
      " [1. 1. 1. 1.]\n",
      " [1. 1. 1. 1.]]\n"
     ]
    }
   ],
   "source": [
    "one_array = np.ones((3,4),float)\n",
    "print(one_array)"
   ]
  },
  {
   "cell_type": "markdown",
   "id": "1c154e0f-26b2-4480-876e-614ed4b180fd",
   "metadata": {},
   "source": [
    "18.[P] Create an array of 20 values, evenly spaced between 1 and 3 (HINT –look at np.linspace)"
   ]
  },
  {
   "cell_type": "code",
   "execution_count": 13,
   "id": "c2208b6a-8f9d-4561-b675-7eed9558860f",
   "metadata": {},
   "outputs": [
    {
     "name": "stdout",
     "output_type": "stream",
     "text": [
      "[1.         1.10526316 1.21052632 1.31578947 1.42105263 1.52631579\n",
      " 1.63157895 1.73684211 1.84210526 1.94736842 2.05263158 2.15789474\n",
      " 2.26315789 2.36842105 2.47368421 2.57894737 2.68421053 2.78947368\n",
      " 2.89473684 3.        ]\n"
     ]
    }
   ],
   "source": [
    "print(np.linspace(1,3,20))"
   ]
  },
  {
   "cell_type": "markdown",
   "id": "03c29f79-0791-4ac0-b512-2fcb1fca6188",
   "metadata": {},
   "source": [
    "19.[P] Set the numpyrandom seed to the value 12345, then create a 10x5 array of random integers on the interval [10, 50), assigned to x_mat"
   ]
  },
  {
   "cell_type": "code",
   "execution_count": 14,
   "id": "e5fa8c15-72aa-4109-a978-1314083724f4",
   "metadata": {},
   "outputs": [
    {
     "name": "stdout",
     "output_type": "stream",
     "text": [
      "[[44 47 39 11 46]\n",
      " [47 44 39 11 24]\n",
      " [37 26 19 21 23]\n",
      " [20 27 28 48 17]\n",
      " [49 33 39 41 43]\n",
      " [37 33 46 10 13]\n",
      " [15 25 21 24 27]\n",
      " [15 44 18 15 44]\n",
      " [15 29 22 24 26]\n",
      " [37 48 34 42 15]]\n"
     ]
    }
   ],
   "source": [
    "np.random.seed(12345)\n",
    "x_mat=np.random.randint(10,50, size=(10, 5))\n",
    "print(x_mat)"
   ]
  },
  {
   "cell_type": "markdown",
   "id": "cf96c166-8533-408e-916a-6749b24d090b",
   "metadata": {},
   "source": [
    "20.[P] Use slicing to select and show the first and last row of x_mat"
   ]
  },
  {
   "cell_type": "code",
   "execution_count": 15,
   "id": "7a8ab63b-1f23-40fa-b486-d02b1bee49b8",
   "metadata": {},
   "outputs": [
    {
     "name": "stdout",
     "output_type": "stream",
     "text": [
      "[[44 47 39 11 46]\n",
      " [37 48 34 42 15]]\n"
     ]
    }
   ],
   "source": [
    "print(x_mat[0:10:9])"
   ]
  },
  {
   "cell_type": "markdown",
   "id": "6807de72-3b85-4b2e-82e5-d40fbf80a12f",
   "metadata": {},
   "source": [
    "21.[P] Now, show the first, third and fifth column of x_mat"
   ]
  },
  {
   "cell_type": "code",
   "execution_count": 16,
   "id": "fc6c3d76-1805-43b0-ae3a-02e811dcfa6e",
   "metadata": {},
   "outputs": [
    {
     "name": "stdout",
     "output_type": "stream",
     "text": [
      "[[44 39 46]\n",
      " [47 39 24]\n",
      " [37 19 23]\n",
      " [20 28 17]\n",
      " [49 39 43]\n",
      " [37 46 13]\n",
      " [15 21 27]\n",
      " [15 18 44]\n",
      " [15 22 26]\n",
      " [37 34 15]]\n"
     ]
    }
   ],
   "source": [
    "print(x_mat[:,0:5:2])"
   ]
  },
  {
   "cell_type": "markdown",
   "id": "61c25127-e4c6-4ea2-ba19-8f5a0fd1a12e",
   "metadata": {},
   "source": [
    "22.[P] Show the sum of each row. Your output should appear like this:"
   ]
  },
  {
   "cell_type": "code",
   "execution_count": 17,
   "id": "060bf158-e727-4f34-b2ae-4342d029c905",
   "metadata": {},
   "outputs": [
    {
     "name": "stdout",
     "output_type": "stream",
     "text": [
      "0 187\n",
      "1 165\n",
      "2 126\n",
      "3 140\n",
      "4 205\n",
      "5 139\n",
      "6 112\n",
      "7 136\n",
      "8 116\n",
      "9 176\n"
     ]
    }
   ],
   "source": [
    "for i in range(0,10):\n",
    "    print(\"{} {}\".format(i,x_mat[i].sum()))"
   ]
  },
  {
   "cell_type": "code",
   "execution_count": null,
   "id": "3480c4e6-5be3-4c16-ba28-146d4f59d37f",
   "metadata": {},
   "outputs": [],
   "source": []
  }
 ],
 "metadata": {
  "kernelspec": {
   "display_name": "Python 3 (ipykernel)",
   "language": "python",
   "name": "python3"
  },
  "language_info": {
   "codemirror_mode": {
    "name": "ipython",
    "version": 3
   },
   "file_extension": ".py",
   "mimetype": "text/x-python",
   "name": "python",
   "nbconvert_exporter": "python",
   "pygments_lexer": "ipython3",
   "version": "3.9.16"
  }
 },
 "nbformat": 4,
 "nbformat_minor": 5
}
