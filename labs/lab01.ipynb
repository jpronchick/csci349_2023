{
 "cells": [
  {
   "cell_type": "markdown",
   "id": "843cc7f0-8e84-4e4e-8411-8dc834d541ee",
   "metadata": {},
   "source": [
    "# Lab 01 - Getting Started\n",
    "\n",
    "Name: Jimmy Pronchick  \n",
    "Class: CSCI349 2023SP - Intro to Data Mining  \n",
    "Instructor: Brian King"
   ]
  },
  {
   "cell_type": "code",
   "execution_count": 2,
   "id": "9ae15326-c63a-4abb-bf0e-aa57fa2bdfad",
   "metadata": {},
   "outputs": [],
   "source": [
    "import sys"
   ]
  },
  {
   "cell_type": "markdown",
   "id": "ce295fdd-57a5-4503-8cce-683d59c7744e",
   "metadata": {},
   "source": [
    "2. [M] Did you read the syllabus? All of it? Do you understand and agree to abide by the cheating rules? Write a sentence clearly indicating your commitment to not cheating.\n",
    "\n",
    "I understand and agree to abide by the cheating rules outlined in the syllabus."
   ]
  },
  {
   "cell_type": "markdown",
   "id": "23300fd4-ef72-4ab9-8a0e-0a61d1487341",
   "metadata": {},
   "source": [
    "3.[M] What are you hoping to get out of this course?\n",
    "\n",
    "I'm especially interested in machine learning applications in natural language processing, but I'm hoping to gain a deeper understanding of how ML algorithms work and why certain algorithms are better suited for certain applications. My main goals for the course are to learn to speak intelligently about ML and to develop ideas for projects to explore in grad school (and learn the tools to do so)."
   ]
  },
  {
   "cell_type": "markdown",
   "id": "12b6115c-5ab4-4743-80e4-4571605202b8",
   "metadata": {},
   "source": [
    "4.[P] Print the Python version (available in syspackage)"
   ]
  },
  {
   "cell_type": "code",
   "execution_count": 3,
   "id": "d89280b1-1259-4ca4-a2be-02283a884ac1",
   "metadata": {},
   "outputs": [
    {
     "name": "stdout",
     "output_type": "stream",
     "text": [
      "3.9.16 (main, Jan 11 2023, 16:16:36) [MSC v.1916 64 bit (AMD64)]\n"
     ]
    }
   ],
   "source": [
    "print(sys.version)"
   ]
  },
  {
   "cell_type": "markdown",
   "id": "ad8b2b7f-99b2-445d-91da-484835f95f86",
   "metadata": {},
   "source": [
    "5.[P] Create a Python list of 10000 random integers in the range 1to 100 using the randompackage. Name the list x_list."
   ]
  },
  {
   "cell_type": "code",
   "execution_count": 79,
   "id": "6b169db8-d588-48c8-ae7c-1f9ecbeaa944",
   "metadata": {},
   "outputs": [
    {
     "name": "stdout",
     "output_type": "stream",
     "text": [
      "[57, 29, 66, 66, 1, 35, 34, 54, 28, 81, 39, 68, 46, 31, 11, 75, 38, 32, 17, 50, 43, 51, 31, 26, 23, 47, 76, 66, 12, 59, 57, 28, 66, 55, 13, 7, 22, 68, 90, 67, 53, 30, 63, 37, 49, 39, 10, 90, 77, 82, 29, 2, 29, 5, 96, 59, 38, 6, 96, 86, 72, 42, 32, 36, 47, 49, 17, 82, 19, 7, 62, 62, 79, 73, 78, 50, 79, 16, 97, 94, 29, 64, 32, 90, 25, 55, 14, 25, 63, 11, 78, 35, 66, 60, 36, 75, 22, 24, 29, 93, 48, 82, 26, 46, 91, 27, 39, 86, 79, 41, 54, 89, 2, 72, 34, 14, 90, 29, 31, 41, 61, 12, 18, 46, 37, 44, 32, 98, 17, 9, 22, 82, 41, 66, 35, 66, 100, 64, 88, 55, 97, 46, 42, 62, 24, 39, 34, 91, 37, 35, 84, 22, 69, 68, 46, 33, 51, 83, 94, 54, 77, 50, 3, 96, 22, 40, 14, 74, 2, 49, 25, 42, 92, 48, 24, 77, 71, 92, 4, 83, 65, 43, 93, 38, 95, 59, 89, 10, 66, 74, 31, 73, 93, 52, 18, 20, 3, 22, 42, 4, 58, 73, 22, 78, 28, 8, 78, 31, 8, 78, 65, 97, 90, 5, 88, 19, 63, 48, 90, 4, 74, 68, 29, 72, 86, 99, 21, 81, 95, 94, 54, 58, 76, 16, 12, 58, 87, 79, 69, 28, 43, 63, 76, 74, 2, 20, 15, 31, 9, 25, 13, 41, 13, 81, 27, 73, 67, 44, 61, 17, 69, 8, 81, 26, 58, 92, 13, 20, 53, 25, 48, 24, 53, 6, 22, 5, 38, 74, 61, 91, 25, 54, 49, 31, 45, 94, 78, 99, 42, 46, 69, 24, 9, 51, 36, 24, 29, 55, 92, 53, 57, 84, 80, 20, 98, 24, 13, 11, 68, 31, 92, 88, 95, 92, 45, 26, 26, 68, 12, 63, 8, 100, 95, 62, 61, 43, 83, 23, 36, 4, 65, 71, 15, 3, 48, 38, 36, 97, 86, 97, 90, 15, 95, 59, 56, 87, 82, 66, 98, 26, 68, 98, 31, 80, 87, 13, 57, 53, 86, 83, 35, 12, 47, 86, 41, 6, 73, 2, 49, 81, 67, 75, 2, 82, 9, 41, 18, 89, 73, 56, 27, 34, 80, 11, 44, 14, 95, 95, 24, 29, 1, 71, 43, 49, 98, 19, 24, 4, 32, 59, 81, 86, 43, 40, 18, 14, 24, 60, 90, 88, 88, 26, 72, 61, 11, 15, 65, 63, 88, 66, 70, 26, 97, 31, 94, 93, 13, 79, 59, 32, 6, 85, 64, 46, 15, 55, 31, 16, 56, 29, 24, 43, 16, 22, 72, 66, 83, 21, 74, 36, 35, 65, 27, 43, 20, 54, 81, 31, 39, 55, 96, 20, 86, 72, 94, 57, 93, 49, 16, 28, 26, 14, 5, 99, 40, 45, 51, 77, 20, 18, 51, 66, 78, 79, 17, 86, 66, 11, 45, 7, 27, 69, 64, 51, 65, 65, 48, 11, 34, 67, 75, 75, 34, 57, 26, 29, 53, 49, 44, 8, 96, 64, 79, 49, 24, 45, 33, 100, 21, 54, 72, 5, 47, 95, 55, 30, 85, 86, 39, 50, 34, 37, 59, 29, 23, 29, 16, 52, 59, 41, 89, 39, 86, 62, 64, 50, 93, 85, 74, 9, 38, 23, 5, 90, 97, 4, 22, 22, 33, 62, 79, 75, 18, 16, 99, 41, 22, 39, 19, 7, 92, 57, 41, 77, 21, 34, 38, 52, 81, 59, 5, 41, 2, 57, 94, 75, 87, 61, 13, 69, 65, 10, 84, 20, 82, 9, 75, 92, 3, 81, 30, 55, 15, 81, 99, 1, 48, 53, 13, 72, 33, 66, 1, 9, 100, 40, 2, 30, 32, 48, 100, 63, 6, 16, 96, 48, 66, 35, 28, 43, 81, 17, 15, 39, 20, 78, 79, 96, 59, 36, 18, 69, 36, 85, 78, 54, 27, 55, 10, 5, 36, 76, 39, 45, 36, 83, 44, 22, 30, 79, 76, 32, 83, 34, 85, 99, 47, 49, 74, 27, 53, 7, 70, 86, 4, 66, 64, 85, 29, 4, 22, 75, 49, 58, 95, 81, 78, 33, 44, 5, 6, 10, 34, 92, 18, 38, 66, 34, 35, 55, 69, 3, 66, 25, 77, 70, 91, 26, 5, 11, 46, 52, 69, 53, 33, 88, 32, 4, 1, 3, 87, 48, 67, 1, 44, 92, 8, 93, 22, 54, 23, 63, 19, 10, 1, 56, 5, 30, 59, 83, 36, 50, 10, 3, 99, 75, 68, 67, 67, 40, 40, 43, 43, 49, 2, 35, 40, 81, 86, 25, 100, 68, 95, 63, 30, 5, 72, 51, 84, 57, 79, 43, 86, 96, 54, 89, 74, 15, 80, 50, 47, 99, 87, 19, 85, 46, 9, 21, 95, 21, 95, 90, 64, 34, 67, 26, 90, 41, 7, 68, 33, 56, 42, 73, 71, 62, 66, 61, 74, 72, 100, 73, 39, 28, 20, 28, 55, 13, 27, 66, 84, 96, 3, 32, 58, 37, 49, 6, 47, 74, 55, 63, 19, 76, 3, 94, 4, 94, 18, 30, 13, 12, 14, 69, 73, 51, 42, 69, 2, 83, 64, 42, 18, 49, 72, 13, 86, 36, 56, 76, 86, 22, 22, 39, 53, 98, 92, 35, 48, 47, 49, 73, 23, 37, 20, 94, 25, 95, 26, 55, 2, 54, 100, 23, 100, 67, 95, 69, 18, 37, 67, 5, 32, 37, 95, 21, 13, 8, 83, 8, 47, 79, 89, 78, 67, 16, 19, 81, 20, 7, 86, 40, 92, 52, 4, 91, 30, 30, 78, 47, 57, 14, 91, 71, 5, 53, 9, 46, 22, 71, 33, 80, 96, 17, 11, 26, 85, 38, 42, 95, 17, 100, 36, 64, 64, 100, 23, 8, 3, 1, 69, 51, 27, 76, 76, 59, 72, 37, 57, 81, 14, 92, 31, 99, 77, 22, 99, 98, 93, 31, 39, 68, 53, 88, 4, 39, 39, 33, 45, 91, 75, 48, 2, 46, 28, 32, 50, 40, 91, 94, 53, 8, 57, 51, 22, 14, 67, 57, 16, 35]\n"
     ]
    }
   ],
   "source": [
    "import random\n",
    "\n",
    "x_list = []\n",
    "i=0\n",
    "while i<1000:\n",
    "    x_list.append(random.randint(1,100));\n",
    "    i+=1\n",
    "print(x_list)"
   ]
  },
  {
   "cell_type": "markdown",
   "id": "15f87019-4c00-4fef-957c-0dcb39f5115c",
   "metadata": {},
   "source": [
    "6.[P] What is the minimum valueof x_list? What is the maxvalue? What is the mode? "
   ]
  },
  {
   "cell_type": "code",
   "execution_count": 80,
   "id": "ed0238e8-d9d7-4ebc-a290-319194ee54f6",
   "metadata": {},
   "outputs": [
    {
     "name": "stdout",
     "output_type": "stream",
     "text": [
      "The minimum value of x_list is 1.\n",
      "The maximum value of x_list is 100.\n",
      "The mode of x_list is 66.\n"
     ]
    }
   ],
   "source": [
    "from statistics import mode\n",
    "\n",
    "print(\"The minimum value of x_list is {}.\".format(min(x_list)))\n",
    "print(\"The maximum value of x_list is {}.\".format(max(x_list)))\n",
    "print(\"The mode of x_list is {}.\".format(mode(x_list)))"
   ]
  },
  {
   "cell_type": "markdown",
   "id": "4eb7e7fb-daa8-498c-b295-1d5eca09b4ac",
   "metadata": {},
   "source": [
    "7.[P] Write a function to take a list of numbersas a parameter, and return the average of the list. Then, use your function to report the average valueof x_list,printed as a float with 2 places of precision."
   ]
  },
  {
   "cell_type": "code",
   "execution_count": 81,
   "id": "fac000b3-fa61-4f22-8cfd-f9bed66a1e1f",
   "metadata": {},
   "outputs": [
    {
     "name": "stdout",
     "output_type": "stream",
     "text": [
      "49.94\n"
     ]
    }
   ],
   "source": [
    "def avgList(num_list):\n",
    "    sum = 0.0\n",
    "    for item in num_list:\n",
    "        sum+=item\n",
    "    return (sum/len(num_list))\n",
    "print(\"%.2f\"%avgList(x_list));"
   ]
  },
  {
   "cell_type": "markdown",
   "id": "0b24b04a-69c2-4b36-b1e8-c40a856a89b1",
   "metadata": {},
   "source": [
    "8.[P] Create a list called x_hist that represents a histogram, i.e. a distribution of the numerical data, of x_list. Each entry in x_hist should contain the frequency of data over a bin width of 10. So,for example,x_hist[0]represents the frequency of numbers between 1-10, x_hist[1]is the frequency of numbers between 11-20, and so on.Be sure to print x_histat the end.(Do NOT use numpy!)"
   ]
  },
  {
   "cell_type": "code",
   "execution_count": 82,
   "id": "1253c329-59c9-45b7-9498-bed5a0f71f5b",
   "metadata": {},
   "outputs": [
    {
     "name": "stdout",
     "output_type": "stream",
     "text": [
      "[96, 95, 112, 113, 102, 91, 102, 95, 93, 101]\n"
     ]
    }
   ],
   "source": [
    "x_hist = []\n",
    "for i in range(1,11):\n",
    "    bin_max = i*10\n",
    "    bin_width = 10\n",
    "    x_hist.append(len([num for num in x_list if (num <= bin_max and num > bin_max-bin_width)]))\n",
    "print(x_hist)"
   ]
  },
  {
   "cell_type": "markdown",
   "id": "d81c7c78-3f7b-4eec-808c-8ff4c07fb56e",
   "metadata": {},
   "source": [
    "9.[M] What is numpy? What are its strengths? Does it have any weaknesses?\n",
    "\n",
    "Numpy is a Python library optimized for data science. It works well with large amounts of dense data due to its support of multi-dimensional arrays. Numpy arrays are useful when you have a large amount of data of all the same type. If you are looking to analyze a mixed dataset, a regular python list will work better, since ndarray hold data of all the same type."
   ]
  },
  {
   "cell_type": "markdown",
   "id": "c0d21c81-de9c-4e72-a2ee-6600aea13ffe",
   "metadata": {},
   "source": [
    "10.[P] Import the numpypackage as np and print the numpyversion"
   ]
  },
  {
   "cell_type": "code",
   "execution_count": 83,
   "id": "76028fea-79bd-496a-8cf2-ffd3f9c1d468",
   "metadata": {},
   "outputs": [
    {
     "name": "stdout",
     "output_type": "stream",
     "text": [
      "1.23.5\n"
     ]
    }
   ],
   "source": [
    "import numpy as np\n",
    "print(np.__version__)"
   ]
  },
  {
   "cell_type": "markdown",
   "id": "1a842ab0-f47c-4194-bb9d-228f31ae6333",
   "metadata": {},
   "source": [
    "11.[M] What is the primary object type in numpy? Can it store data of different types? Discuss.\n",
    "\n",
    "The primary object type in numpy is the homogenous multidimensional array (or ndArray). The data in the array must all be the same type."
   ]
  },
  {
   "cell_type": "markdown",
   "id": "ec6356c9-f2de-4aa1-a7b1-8d6ba9c6614f",
   "metadata": {},
   "source": [
    "12.[M] Discuss the types of data available in numpy. You need not list every type. Just generalize, and discuss how the type system is different than the built-in types intand floatin Python.\n",
    "\n",
    "Numpy can handle standard Python data types in addition to its own types such as numpy.int32, numpy.int16, and numpy.float64."
   ]
  },
  {
   "cell_type": "markdown",
   "id": "71177851-46a7-4386-9db7-0d88b4b05564",
   "metadata": {},
   "source": [
    "13.[P] Research how to use numpyto compute the same resultas problem 8 above. (HINT: np.histogram)"
   ]
  },
  {
   "cell_type": "code",
   "execution_count": 84,
   "id": "31208f09-0472-4c1b-98e1-c75f55441e01",
   "metadata": {},
   "outputs": [
    {
     "name": "stdout",
     "output_type": "stream",
     "text": [
      "[ 96  95 112 113 102  91 102  95  93 101]\n"
     ]
    }
   ],
   "source": [
    "np_hist, bin_edges = (np.histogram(x_list))\n",
    "print(np_hist)"
   ]
  },
  {
   "cell_type": "markdown",
   "id": "011c23dd-de43-42e0-b3d5-67149a758a3c",
   "metadata": {},
   "source": [
    "14.[P]Create a numpyarray from x_list. Reassign it as x_list. Show the contentsof the first 20 entries."
   ]
  },
  {
   "cell_type": "code",
   "execution_count": 85,
   "id": "247f7ab4-08dd-4789-bb06-63af46bbfcef",
   "metadata": {},
   "outputs": [
    {
     "name": "stdout",
     "output_type": "stream",
     "text": [
      "[57 29 66 66  1 35 34 54 28 81 39 68 46 31 11 75 38 32 17 50]\n"
     ]
    }
   ],
   "source": [
    "x_list = np.asarray(x_list)\n",
    "print(x_list[:20])"
   ]
  },
  {
   "cell_type": "markdown",
   "id": "4c728847-40ed-45dc-9915-70245526d0a3",
   "metadata": {},
   "source": [
    "15.[P] Redo the previous exercise, but set the data type of each value to 'float32'"
   ]
  },
  {
   "cell_type": "code",
   "execution_count": 86,
   "id": "ccc314f7-18ee-4b8a-8397-e2bc2cbae1cd",
   "metadata": {},
   "outputs": [
    {
     "name": "stdout",
     "output_type": "stream",
     "text": [
      "[57. 29. 66. 66.  1. 35. 34. 54. 28. 81. 39. 68. 46. 31. 11. 75. 38. 32.\n",
      " 17. 50.]\n"
     ]
    }
   ],
   "source": [
    "x_list = np.asarray(x_list,dtype=np.float32)\n",
    "print(x_list[:20])"
   ]
  },
  {
   "cell_type": "markdown",
   "id": "17841953-50b5-4a6e-b644-908a7bf15bd3",
   "metadata": {},
   "source": [
    "16.[P] Create a length 10 integer array filled with zeros"
   ]
  },
  {
   "cell_type": "code",
   "execution_count": 87,
   "id": "a0139fad-0d06-4ab7-841c-c37677e0e49f",
   "metadata": {},
   "outputs": [
    {
     "name": "stdout",
     "output_type": "stream",
     "text": [
      "[0 0 0 0 0 0 0 0 0 0]\n"
     ]
    }
   ],
   "source": [
    "zero_array = np.zeros(10).astype(int)\n",
    "print(zero_array)"
   ]
  },
  {
   "cell_type": "markdown",
   "id": "76484f7a-6e08-4b96-98b0-966d6da66ec9",
   "metadata": {},
   "source": [
    "17.[P] Create a float array of 3 rows and 4 columns, all initialized to one."
   ]
  },
  {
   "cell_type": "code",
   "execution_count": 88,
   "id": "693a268a-5837-4277-b7c4-adbc9545de34",
   "metadata": {},
   "outputs": [
    {
     "name": "stdout",
     "output_type": "stream",
     "text": [
      "[[1. 1. 1. 1.]\n",
      " [1. 1. 1. 1.]\n",
      " [1. 1. 1. 1.]]\n"
     ]
    }
   ],
   "source": [
    "one_array = np.ones((3,4),float)\n",
    "print(one_array)"
   ]
  },
  {
   "cell_type": "markdown",
   "id": "1c154e0f-26b2-4480-876e-614ed4b180fd",
   "metadata": {},
   "source": [
    "18.[P] Create an array of 20 values, evenly spaced between 1 and 3 (HINT –look at np.linspace)"
   ]
  },
  {
   "cell_type": "code",
   "execution_count": 89,
   "id": "c2208b6a-8f9d-4561-b675-7eed9558860f",
   "metadata": {},
   "outputs": [
    {
     "name": "stdout",
     "output_type": "stream",
     "text": [
      "[1.         1.10526316 1.21052632 1.31578947 1.42105263 1.52631579\n",
      " 1.63157895 1.73684211 1.84210526 1.94736842 2.05263158 2.15789474\n",
      " 2.26315789 2.36842105 2.47368421 2.57894737 2.68421053 2.78947368\n",
      " 2.89473684 3.        ]\n"
     ]
    }
   ],
   "source": [
    "print(np.linspace(1,3,20))"
   ]
  },
  {
   "cell_type": "markdown",
   "id": "03c29f79-0791-4ac0-b512-2fcb1fca6188",
   "metadata": {},
   "source": [
    "19.[P] Set the numpyrandom seed to the value 12345, then create a 10x5 array of random integers on the interval [10, 50), assigned to x_mat"
   ]
  },
  {
   "cell_type": "code",
   "execution_count": 90,
   "id": "e5fa8c15-72aa-4109-a978-1314083724f4",
   "metadata": {},
   "outputs": [
    {
     "name": "stdout",
     "output_type": "stream",
     "text": [
      "[[44 47 39 11 46]\n",
      " [47 44 39 11 24]\n",
      " [37 26 19 21 23]\n",
      " [20 27 28 48 17]\n",
      " [49 33 39 41 43]\n",
      " [37 33 46 10 13]\n",
      " [15 25 21 24 27]\n",
      " [15 44 18 15 44]\n",
      " [15 29 22 24 26]\n",
      " [37 48 34 42 15]]\n"
     ]
    }
   ],
   "source": [
    "np.random.seed(12345)\n",
    "x_mat=np.random.randint(10,50, size=(10, 5))\n",
    "print(x_mat)"
   ]
  },
  {
   "cell_type": "markdown",
   "id": "cf96c166-8533-408e-916a-6749b24d090b",
   "metadata": {},
   "source": [
    "20.[P] Use slicing to select and show the first and last row of x_mat"
   ]
  },
  {
   "cell_type": "code",
   "execution_count": 91,
   "id": "7a8ab63b-1f23-40fa-b486-d02b1bee49b8",
   "metadata": {},
   "outputs": [
    {
     "name": "stdout",
     "output_type": "stream",
     "text": [
      "[[44 47 39 11 46]\n",
      " [37 48 34 42 15]]\n"
     ]
    }
   ],
   "source": [
    "print(x_mat[0:10:9])"
   ]
  },
  {
   "cell_type": "markdown",
   "id": "6807de72-3b85-4b2e-82e5-d40fbf80a12f",
   "metadata": {},
   "source": [
    "21.[P] Now, show the first, third and fifth column of x_mat"
   ]
  },
  {
   "cell_type": "code",
   "execution_count": 92,
   "id": "fc6c3d76-1805-43b0-ae3a-02e811dcfa6e",
   "metadata": {},
   "outputs": [
    {
     "name": "stdout",
     "output_type": "stream",
     "text": [
      "[[44 39 46]\n",
      " [47 39 24]\n",
      " [37 19 23]\n",
      " [20 28 17]\n",
      " [49 39 43]\n",
      " [37 46 13]\n",
      " [15 21 27]\n",
      " [15 18 44]\n",
      " [15 22 26]\n",
      " [37 34 15]]\n"
     ]
    }
   ],
   "source": [
    "print(x_mat[:,0:5:2])"
   ]
  },
  {
   "cell_type": "markdown",
   "id": "61c25127-e4c6-4ea2-ba19-8f5a0fd1a12e",
   "metadata": {},
   "source": [
    "22.[P] Show the sum of each row. Your output should appear like this:"
   ]
  },
  {
   "cell_type": "code",
   "execution_count": 93,
   "id": "060bf158-e727-4f34-b2ae-4342d029c905",
   "metadata": {},
   "outputs": [
    {
     "name": "stdout",
     "output_type": "stream",
     "text": [
      "0 187\n",
      "1 165\n",
      "2 126\n",
      "3 140\n",
      "4 205\n",
      "5 139\n",
      "6 112\n",
      "7 136\n",
      "8 116\n",
      "9 176\n"
     ]
    }
   ],
   "source": [
    "for i in range(0,10):\n",
    "    print(\"{} {}\".format(i,x_mat[i].sum()))"
   ]
  },
  {
   "cell_type": "code",
   "execution_count": null,
   "id": "3480c4e6-5be3-4c16-ba28-146d4f59d37f",
   "metadata": {},
   "outputs": [],
   "source": []
  }
 ],
 "metadata": {
  "kernelspec": {
   "display_name": "Python 3 (ipykernel)",
   "language": "python",
   "name": "python3"
  },
  "language_info": {
   "codemirror_mode": {
    "name": "ipython",
    "version": 3
   },
   "file_extension": ".py",
   "mimetype": "text/x-python",
   "name": "python",
   "nbconvert_exporter": "python",
   "pygments_lexer": "ipython3",
   "version": "3.9.16"
  }
 },
 "nbformat": 4,
 "nbformat_minor": 5
}
