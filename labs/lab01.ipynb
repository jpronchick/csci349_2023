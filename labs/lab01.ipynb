{
 "cells": [
  {
   "cell_type": "markdown",
   "id": "843cc7f0-8e84-4e4e-8411-8dc834d541ee",
   "metadata": {},
   "source": [
    "# Lab 01 - Getting Started\n",
    "\n",
    "Name: Jimmy Pronchick  \n",
    "Class: CSCI349 2023SP - Intro to Data Mining  \n",
    "Instructor: Brian King"
   ]
  },
  {
   "cell_type": "code",
   "execution_count": 1,
   "id": "9ae15326-c63a-4abb-bf0e-aa57fa2bdfad",
   "metadata": {},
   "outputs": [],
   "source": [
    "import sys"
   ]
  },
  {
   "cell_type": "markdown",
   "id": "ce295fdd-57a5-4503-8cce-683d59c7744e",
   "metadata": {},
   "source": [
    "2. [M] Did you read the syllabus? All of it? Do you understand and agree to abide by the cheating rules? Write a sentence clearly indicating your commitment to not cheating.\n",
    "\n",
    "I understand and agree to abide by the cheating rules outlined in the syllabus."
   ]
  },
  {
   "cell_type": "markdown",
   "id": "23300fd4-ef72-4ab9-8a0e-0a61d1487341",
   "metadata": {},
   "source": [
    "3.[M] What are you hoping to get out of this course?\n",
    "\n",
    "I'm especially interested in machine learning applications in natural language processing, but I'm hoping to gain a deeper understanding of how ML algorithms work and why certain algorithms are better suited for certain applications. My main goals for the course are to learn to speak intelligently about ML and to develop ideas for projects to explore in grad school (and learn the tools to do so)."
   ]
  },
  {
   "cell_type": "markdown",
   "id": "12b6115c-5ab4-4743-80e4-4571605202b8",
   "metadata": {},
   "source": [
    "4.[P] Print the Python version (available in syspackage)"
   ]
  },
  {
   "cell_type": "code",
   "execution_count": 2,
   "id": "d89280b1-1259-4ca4-a2be-02283a884ac1",
   "metadata": {},
   "outputs": [
    {
     "name": "stdout",
     "output_type": "stream",
     "text": [
      "3.9.16 (main, Jan 11 2023, 16:16:36) [MSC v.1916 64 bit (AMD64)]\n"
     ]
    }
   ],
   "source": [
    "print(sys.version)"
   ]
  },
  {
   "cell_type": "markdown",
   "id": "ad8b2b7f-99b2-445d-91da-484835f95f86",
   "metadata": {},
   "source": [
    "5.[P] Create a Python list of 10000 random integers in the range 1to 100 using the randompackage. Name the list x_list."
   ]
  },
  {
   "cell_type": "code",
   "execution_count": 3,
   "id": "6b169db8-d588-48c8-ae7c-1f9ecbeaa944",
   "metadata": {},
   "outputs": [
    {
     "name": "stdout",
     "output_type": "stream",
     "text": [
      "[31, 56, 97, 84, 12, 78, 90, 99, 16, 81, 68, 27, 70, 75, 19, 93, 5, 45, 65, 99, 94, 51, 7, 38, 2, 93, 76, 67, 8, 35, 66, 90, 29, 67, 95, 77, 29, 65, 76, 83, 62, 14, 75, 89, 13, 23, 6, 24, 62, 35, 57, 19, 18, 83, 4, 59, 28, 20, 16, 10, 18, 44, 96, 8, 18, 21, 20, 17, 81, 88, 4, 41, 84, 41, 72, 62, 69, 15, 74, 40, 51, 93, 62, 7, 67, 58, 23, 37, 4, 68, 3, 55, 62, 9, 31, 28, 20, 39, 15, 79, 91, 31, 10, 29, 72, 49, 76, 33, 3, 3, 68, 62, 58, 20, 28, 89, 63, 46, 51, 36, 99, 24, 3, 72, 27, 19, 96, 100, 91, 76, 51, 22, 80, 69, 88, 15, 14, 80, 46, 5, 57, 49, 31, 55, 93, 56, 15, 99, 69, 48, 8, 83, 43, 66, 87, 5, 40, 84, 44, 74, 99, 80, 36, 88, 91, 10, 96, 25, 49, 44, 60, 42, 76, 80, 48, 58, 18, 67, 74, 22, 95, 73, 62, 75, 61, 52, 82, 83, 17, 78, 34, 1, 15, 30, 68, 22, 65, 93, 56, 93, 8, 90, 85, 13, 31, 77, 82, 38, 38, 60, 39, 46, 10, 14, 24, 28, 9, 73, 31, 86, 10, 88, 93, 82, 71, 25, 61, 9, 1, 35, 54, 16, 4, 9, 7, 33, 53, 42, 28, 42, 49, 62, 95, 29, 68, 61, 56, 11, 1, 98, 35, 23, 45, 98, 22, 100, 86, 16, 26, 32, 92, 63, 77, 90, 68, 31, 59, 12, 7, 31, 70, 2, 13, 16, 50, 100, 22, 71, 66, 69, 86, 60, 22, 34, 8, 49, 90, 66, 61, 87, 36, 54, 17, 22, 9, 97, 62, 50, 80, 3, 12, 42, 16, 28, 24, 78, 98, 96, 76, 35, 73, 48, 74, 52, 41, 45, 37, 12, 50, 89, 43, 86, 31, 48, 4, 31, 84, 50, 40, 76, 9, 35, 35, 40, 41, 12, 64, 90, 49, 36, 91, 38, 21, 15, 2, 44, 92, 88, 89, 65, 71, 42, 4, 27, 67, 69, 78, 71, 52, 78, 62, 34, 70, 70, 94, 72, 58, 94, 4, 67, 80, 11, 80, 73, 95, 42, 59, 69, 19, 8, 24, 95, 29, 1, 24, 49, 1, 62, 57, 24, 51, 19, 29, 47, 48, 26, 95, 59, 94, 46, 27, 67, 59, 6, 66, 40, 51, 53, 46, 46, 30, 19, 64, 77, 94, 65, 50, 96, 2, 67, 72, 90, 42, 45, 24, 33, 40, 9, 30, 68, 66, 68, 26, 44, 22, 22, 29, 13, 67, 25, 7, 60, 70, 21, 26, 41, 1, 84, 14, 78, 51, 57, 99, 70, 89, 65, 69, 50, 19, 67, 59, 75, 50, 68, 1, 58, 1, 81, 25, 72, 1, 24, 13, 89, 87, 80, 71, 49, 77, 52, 100, 2, 48, 12, 27, 97, 40, 36, 34, 10, 54, 54, 38, 45, 45, 12, 80, 55, 55, 10, 36, 98, 28, 54, 1, 23, 29, 3, 97, 13, 3, 87, 52, 69, 98, 79, 55, 93, 96, 42, 16, 66, 75, 30, 86, 45, 64, 95, 13, 74, 38, 47, 80, 7, 3, 79, 57, 70, 77, 91, 77, 43, 36, 37, 76, 49, 49, 5, 38, 56, 1, 97, 37, 22, 89, 56, 52, 98, 37, 11, 66, 62, 61, 33, 88, 44, 46, 45, 55, 23, 19, 75, 47, 22, 41, 2, 61, 82, 92, 80, 61, 12, 49, 52, 33, 30, 75, 51, 69, 31, 51, 24, 91, 94, 35, 8, 5, 51, 19, 81, 37, 62, 93, 39, 78, 61, 81, 28, 73, 30, 71, 6, 49, 37, 81, 31, 57, 92, 88, 34, 55, 67, 98, 27, 48, 68, 92, 52, 100, 15, 67, 5, 18, 76, 99, 64, 5, 27, 30, 16, 2, 60, 12, 82, 15, 99, 97, 16, 12, 31, 48, 3, 12, 15, 54, 79, 48, 29, 68, 92, 18, 32, 84, 89, 64, 2, 88, 95, 11, 38, 40, 61, 96, 55, 18, 38, 9, 31, 72, 94, 72, 78, 22, 83, 100, 64, 47, 98, 94, 91, 20, 62, 97, 89, 62, 91, 84, 25, 28, 10, 48, 40, 97, 50, 64, 99, 27, 34, 18, 40, 17, 78, 95, 41, 10, 92, 23, 21, 28, 30, 11, 95, 7, 1, 28, 1, 6, 82, 82, 39, 11, 11, 32, 48, 43, 3, 84, 56, 84, 74, 86, 49, 56, 64, 100, 5, 37, 67, 31, 32, 27, 87, 42, 9, 97, 16, 37, 51, 33, 57, 6, 23, 31, 85, 97, 62, 17, 13, 55, 47, 40, 81, 80, 18, 76, 52, 89, 4, 24, 38, 79, 72, 11, 15, 18, 6, 54, 10, 79, 28, 36, 87, 43, 72, 66, 20, 59, 32, 58, 65, 41, 10, 48, 17, 58, 90, 34, 43, 53, 52, 53, 11, 12, 19, 4, 95, 96, 74, 16, 73, 42, 32, 2, 64, 40, 27, 54, 94, 37, 32, 12, 46, 17, 4, 28, 70, 7, 77, 73, 72, 87, 81, 25, 54, 94, 57, 88, 18, 29, 38, 45, 74, 12, 90, 98, 31, 55, 60, 72, 42, 28, 64, 28, 50, 68, 72, 98, 26, 78, 22, 28, 2, 36, 8, 63, 23, 4, 92, 45, 10, 7, 12, 77, 5, 35, 45, 48, 31, 46, 67, 15, 97, 22, 48, 56, 96, 22, 74, 26, 53, 28, 46, 43, 26, 98, 3, 42, 39, 56, 61, 26, 71, 8, 55, 82, 14, 44, 51, 20, 39, 50, 61, 36, 40, 49, 69, 73, 59, 78, 15, 44, 94, 13, 27, 13, 2, 54, 43, 61, 77, 43, 26, 29, 28, 61, 94, 30, 43, 59, 40, 44, 17, 21, 89, 13, 19, 19, 61, 82, 54, 94, 55, 47, 80, 2, 17, 32, 53, 50, 11, 64, 13, 90, 92, 42, 78, 92, 3, 35, 18, 52, 26, 62, 9, 25, 15, 97, 19, 56, 13, 35, 51, 33, 77, 29, 43, 68, 21, 70, 4]\n"
     ]
    }
   ],
   "source": [
    "import random\n",
    "\n",
    "x_list = []\n",
    "i=0\n",
    "while i<1000:\n",
    "    x_list.append(random.randint(1,100));\n",
    "    i+=1\n",
    "print(x_list)"
   ]
  },
  {
   "cell_type": "markdown",
   "id": "15f87019-4c00-4fef-957c-0dcb39f5115c",
   "metadata": {},
   "source": [
    "6.[P] What is the minimum valueof x_list? What is the maxvalue? What is the mode? "
   ]
  },
  {
   "cell_type": "code",
   "execution_count": 4,
   "id": "ed0238e8-d9d7-4ebc-a290-319194ee54f6",
   "metadata": {},
   "outputs": [
    {
     "name": "stdout",
     "output_type": "stream",
     "text": [
      "The minimum value of x_list is 1.\n",
      "The maximum value of x_list is 100.\n",
      "The mode of x_list is 31.\n"
     ]
    }
   ],
   "source": [
    "from statistics import mode\n",
    "\n",
    "print(\"The minimum value of x_list is {}.\".format(min(x_list)))\n",
    "print(\"The maximum value of x_list is {}.\".format(max(x_list)))\n",
    "print(\"The mode of x_list is {}.\".format(mode(x_list)))"
   ]
  },
  {
   "cell_type": "markdown",
   "id": "4eb7e7fb-daa8-498c-b295-1d5eca09b4ac",
   "metadata": {},
   "source": [
    "7.[P] Write a function to take a list of numbersas a parameter, and return the average of the list. Then, use your function to report the average valueof x_list,printed as a float with 2 places of precision."
   ]
  },
  {
   "cell_type": "code",
   "execution_count": 5,
   "id": "fac000b3-fa61-4f22-8cfd-f9bed66a1e1f",
   "metadata": {},
   "outputs": [
    {
     "name": "stdout",
     "output_type": "stream",
     "text": [
      "48.86\n"
     ]
    }
   ],
   "source": [
    "def avgList(num_list):\n",
    "    sum = 0.0\n",
    "    for item in num_list:\n",
    "        sum+=item\n",
    "    return (sum/len(num_list))\n",
    "print(\"%.2f\"%avgList(x_list));"
   ]
  },
  {
   "cell_type": "markdown",
   "id": "0b24b04a-69c2-4b36-b1e8-c40a856a89b1",
   "metadata": {},
   "source": [
    "8.[P] Create a list called x_hist that represents a histogram, i.e. a distribution of the numerical data, of x_list. Each entry in x_hist should contain the frequency of data over a bin width of 10. So,for example,x_hist[0]represents the frequency of numbers between 1-10, x_hist[1]is the frequency of numbers between 11-20, and so on.Be sure to print x_histat the end.(Do NOT use numpy!)"
   ]
  },
  {
   "cell_type": "code",
   "execution_count": 6,
   "id": "1253c329-59c9-45b7-9498-bed5a0f71f5b",
   "metadata": {},
   "outputs": [
    {
     "name": "stdout",
     "output_type": "stream",
     "text": [
      "[104, 108, 107, 102, 107, 94, 107, 96, 76, 99]\n"
     ]
    }
   ],
   "source": [
    "x_hist = []\n",
    "for i in range(1,11):\n",
    "    bin_max = i*10\n",
    "    bin_width = 10\n",
    "    x_hist.append(len([num for num in x_list if (num <= bin_max and num > bin_max-bin_width)]))\n",
    "print(x_hist)"
   ]
  },
  {
   "cell_type": "markdown",
   "id": "d81c7c78-3f7b-4eec-808c-8ff4c07fb56e",
   "metadata": {},
   "source": [
    "9.[M] What is numpy? What are its strengths? Does it have any weaknesses?\n",
    "\n",
    "Numpy is a Python library optimized for data science. It works well with large amounts of dense data due to its support of multi-dimensional arrays. Numpy arrays are useful when you have a large amount of data of all the same type. If you are looking to analyze a mixed dataset, a regular python list will work better, since ndarrays hold data of all the same type."
   ]
  },
  {
   "cell_type": "markdown",
   "id": "c0d21c81-de9c-4e72-a2ee-6600aea13ffe",
   "metadata": {},
   "source": [
    "10.[P] Import the numpypackage as np and print the numpyversion"
   ]
  },
  {
   "cell_type": "code",
   "execution_count": 7,
   "id": "76028fea-79bd-496a-8cf2-ffd3f9c1d468",
   "metadata": {},
   "outputs": [
    {
     "name": "stdout",
     "output_type": "stream",
     "text": [
      "1.23.5\n"
     ]
    }
   ],
   "source": [
    "import numpy as np\n",
    "print(np.__version__)"
   ]
  },
  {
   "cell_type": "markdown",
   "id": "1a842ab0-f47c-4194-bb9d-228f31ae6333",
   "metadata": {},
   "source": [
    "11.[M] What is the primary object type in numpy? Can it store data of different types? Discuss.\n",
    "\n",
    "The primary object type in numpy is the homogenous multidimensional array (or ndarray). The data in the array must all be the same type."
   ]
  },
  {
   "cell_type": "markdown",
   "id": "ec6356c9-f2de-4aa1-a7b1-8d6ba9c6614f",
   "metadata": {},
   "source": [
    "12.[M] Discuss the types of data available in numpy. You need not list every type. Just generalize, and discuss how the type system is different than the built-in types intand floatin Python.\n",
    "\n",
    "Numpy can handle standard Python data types in addition to its own types such as numpy.int32, numpy.int16, uint8, and numpy.float64. With numpy, you can specify the bit depth of the data type an ndarray contains, which will cap the elements of the array to that depth. Whereas python ints use variable bit depth which increase as the values exceed 16, 32, 64 etc. bit depths. I read about this in the numpy documentation and referenced these pages: https://www.pythontutorial.net/advanced-python/python-integers/ , https://stackoverflow.com/questions/27780878/python-confusion-between-types-and-dtypes#:~:text=The%20type%20of%20a%20NumPy,(e.g.%20int%20%2F%20float%20)."
   ]
  },
  {
   "cell_type": "markdown",
   "id": "71177851-46a7-4386-9db7-0d88b4b05564",
   "metadata": {},
   "source": [
    "13.[P] Research how to use numpyto compute the same resultas problem 8 above. (HINT: np.histogram)"
   ]
  },
  {
   "cell_type": "code",
   "execution_count": 8,
   "id": "31208f09-0472-4c1b-98e1-c75f55441e01",
   "metadata": {},
   "outputs": [
    {
     "name": "stdout",
     "output_type": "stream",
     "text": [
      "[104 108 107 102 107  94 107  96  76  99]\n"
     ]
    }
   ],
   "source": [
    "np_hist, bin_edges = (np.histogram(x_list))\n",
    "print(np_hist)"
   ]
  },
  {
   "cell_type": "markdown",
   "id": "011c23dd-de43-42e0-b3d5-67149a758a3c",
   "metadata": {},
   "source": [
    "14.[P]Create a numpyarray from x_list. Reassign it as x_list. Show the contentsof the first 20 entries."
   ]
  },
  {
   "cell_type": "code",
   "execution_count": 9,
   "id": "247f7ab4-08dd-4789-bb06-63af46bbfcef",
   "metadata": {},
   "outputs": [
    {
     "name": "stdout",
     "output_type": "stream",
     "text": [
      "[31 56 97 84 12 78 90 99 16 81 68 27 70 75 19 93  5 45 65 99]\n"
     ]
    }
   ],
   "source": [
    "x_list = np.asarray(x_list)\n",
    "print(x_list[:20])"
   ]
  },
  {
   "cell_type": "markdown",
   "id": "4c728847-40ed-45dc-9915-70245526d0a3",
   "metadata": {},
   "source": [
    "15.[P] Redo the previous exercise, but set the data type of each value to 'float32'"
   ]
  },
  {
   "cell_type": "code",
   "execution_count": 10,
   "id": "ccc314f7-18ee-4b8a-8397-e2bc2cbae1cd",
   "metadata": {},
   "outputs": [
    {
     "name": "stdout",
     "output_type": "stream",
     "text": [
      "[31. 56. 97. 84. 12. 78. 90. 99. 16. 81. 68. 27. 70. 75. 19. 93.  5. 45.\n",
      " 65. 99.]\n"
     ]
    }
   ],
   "source": [
    "x_list = np.asarray(x_list,dtype=np.float32)\n",
    "print(x_list[:20])"
   ]
  },
  {
   "cell_type": "markdown",
   "id": "17841953-50b5-4a6e-b644-908a7bf15bd3",
   "metadata": {},
   "source": [
    "16.[P] Create a length 10 integer array filled with zeros"
   ]
  },
  {
   "cell_type": "code",
   "execution_count": 11,
   "id": "a0139fad-0d06-4ab7-841c-c37677e0e49f",
   "metadata": {},
   "outputs": [
    {
     "name": "stdout",
     "output_type": "stream",
     "text": [
      "[0 0 0 0 0 0 0 0 0 0]\n"
     ]
    }
   ],
   "source": [
    "zero_array = np.zeros(10).astype(int)\n",
    "print(zero_array)"
   ]
  },
  {
   "cell_type": "markdown",
   "id": "76484f7a-6e08-4b96-98b0-966d6da66ec9",
   "metadata": {},
   "source": [
    "17.[P] Create a float array of 3 rows and 4 columns, all initialized to one."
   ]
  },
  {
   "cell_type": "code",
   "execution_count": 12,
   "id": "693a268a-5837-4277-b7c4-adbc9545de34",
   "metadata": {},
   "outputs": [
    {
     "name": "stdout",
     "output_type": "stream",
     "text": [
      "[[1. 1. 1. 1.]\n",
      " [1. 1. 1. 1.]\n",
      " [1. 1. 1. 1.]]\n"
     ]
    }
   ],
   "source": [
    "one_array = np.ones((3,4),float)\n",
    "print(one_array)"
   ]
  },
  {
   "cell_type": "markdown",
   "id": "1c154e0f-26b2-4480-876e-614ed4b180fd",
   "metadata": {},
   "source": [
    "18.[P] Create an array of 20 values, evenly spaced between 1 and 3 (HINT –look at np.linspace)"
   ]
  },
  {
   "cell_type": "code",
   "execution_count": 13,
   "id": "c2208b6a-8f9d-4561-b675-7eed9558860f",
   "metadata": {},
   "outputs": [
    {
     "name": "stdout",
     "output_type": "stream",
     "text": [
      "[1.         1.10526316 1.21052632 1.31578947 1.42105263 1.52631579\n",
      " 1.63157895 1.73684211 1.84210526 1.94736842 2.05263158 2.15789474\n",
      " 2.26315789 2.36842105 2.47368421 2.57894737 2.68421053 2.78947368\n",
      " 2.89473684 3.        ]\n"
     ]
    }
   ],
   "source": [
    "print(np.linspace(1,3,20))"
   ]
  },
  {
   "cell_type": "markdown",
   "id": "03c29f79-0791-4ac0-b512-2fcb1fca6188",
   "metadata": {},
   "source": [
    "19.[P] Set the numpyrandom seed to the value 12345, then create a 10x5 array of random integers on the interval [10, 50), assigned to x_mat"
   ]
  },
  {
   "cell_type": "code",
   "execution_count": 14,
   "id": "e5fa8c15-72aa-4109-a978-1314083724f4",
   "metadata": {},
   "outputs": [
    {
     "name": "stdout",
     "output_type": "stream",
     "text": [
      "[[44 47 39 11 46]\n",
      " [47 44 39 11 24]\n",
      " [37 26 19 21 23]\n",
      " [20 27 28 48 17]\n",
      " [49 33 39 41 43]\n",
      " [37 33 46 10 13]\n",
      " [15 25 21 24 27]\n",
      " [15 44 18 15 44]\n",
      " [15 29 22 24 26]\n",
      " [37 48 34 42 15]]\n"
     ]
    }
   ],
   "source": [
    "np.random.seed(12345)\n",
    "x_mat=np.random.randint(10,50, size=(10, 5))\n",
    "print(x_mat)"
   ]
  },
  {
   "cell_type": "markdown",
   "id": "cf96c166-8533-408e-916a-6749b24d090b",
   "metadata": {},
   "source": [
    "20.[P] Use slicing to select and show the first and last row of x_mat"
   ]
  },
  {
   "cell_type": "code",
   "execution_count": 15,
   "id": "7a8ab63b-1f23-40fa-b486-d02b1bee49b8",
   "metadata": {},
   "outputs": [
    {
     "name": "stdout",
     "output_type": "stream",
     "text": [
      "[[44 47 39 11 46]\n",
      " [37 48 34 42 15]]\n"
     ]
    }
   ],
   "source": [
    "print(x_mat[0:10:9])"
   ]
  },
  {
   "cell_type": "markdown",
   "id": "6807de72-3b85-4b2e-82e5-d40fbf80a12f",
   "metadata": {},
   "source": [
    "21.[P] Now, show the first, third and fifth column of x_mat"
   ]
  },
  {
   "cell_type": "code",
   "execution_count": 16,
   "id": "fc6c3d76-1805-43b0-ae3a-02e811dcfa6e",
   "metadata": {},
   "outputs": [
    {
     "name": "stdout",
     "output_type": "stream",
     "text": [
      "[[44 39 46]\n",
      " [47 39 24]\n",
      " [37 19 23]\n",
      " [20 28 17]\n",
      " [49 39 43]\n",
      " [37 46 13]\n",
      " [15 21 27]\n",
      " [15 18 44]\n",
      " [15 22 26]\n",
      " [37 34 15]]\n"
     ]
    }
   ],
   "source": [
    "print(x_mat[:,0:5:2])"
   ]
  },
  {
   "cell_type": "markdown",
   "id": "61c25127-e4c6-4ea2-ba19-8f5a0fd1a12e",
   "metadata": {},
   "source": [
    "22.[P] Show the sum of each row. Your output should appear like this:"
   ]
  },
  {
   "cell_type": "code",
   "execution_count": 17,
   "id": "060bf158-e727-4f34-b2ae-4342d029c905",
   "metadata": {},
   "outputs": [
    {
     "name": "stdout",
     "output_type": "stream",
     "text": [
      "0 187\n",
      "1 165\n",
      "2 126\n",
      "3 140\n",
      "4 205\n",
      "5 139\n",
      "6 112\n",
      "7 136\n",
      "8 116\n",
      "9 176\n"
     ]
    }
   ],
   "source": [
    "for i in range(0,10):\n",
    "    print(\"{} {}\".format(i,x_mat[i].sum()))"
   ]
  },
  {
   "cell_type": "code",
   "execution_count": null,
   "id": "3480c4e6-5be3-4c16-ba28-146d4f59d37f",
   "metadata": {},
   "outputs": [],
   "source": []
  }
 ],
 "metadata": {
  "kernelspec": {
   "display_name": "Python 3 (ipykernel)",
   "language": "python",
   "name": "python3"
  },
  "language_info": {
   "codemirror_mode": {
    "name": "ipython",
    "version": 3
   },
   "file_extension": ".py",
   "mimetype": "text/x-python",
   "name": "python",
   "nbconvert_exporter": "python",
   "pygments_lexer": "ipython3",
   "version": "3.9.16"
  }
 },
 "nbformat": 4,
 "nbformat_minor": 5
}
