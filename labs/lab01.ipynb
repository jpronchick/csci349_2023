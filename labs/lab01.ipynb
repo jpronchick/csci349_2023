{
 "cells": [
  {
   "cell_type": "markdown",
   "id": "843cc7f0-8e84-4e4e-8411-8dc834d541ee",
   "metadata": {},
   "source": [
    "# Lab 01 - Getting Started\n",
    "\n",
    "Name: Jimmy Pronchick  \n",
    "Class: CSCI349 2023SP - Intro to Data Mining  \n",
    "Instructor: Brian King"
   ]
  },
  {
   "cell_type": "code",
   "execution_count": 3,
   "id": "9ae15326-c63a-4abb-bf0e-aa57fa2bdfad",
   "metadata": {},
   "outputs": [
    {
     "name": "stdout",
     "output_type": "stream",
     "text": [
      "3.9.16 (main, Jan 11 2023, 16:16:36) [MSC v.1916 64 bit (AMD64)]\n"
     ]
    }
   ],
   "source": [
    "import sys"
   ]
  },
  {
   "cell_type": "markdown",
   "id": "ce295fdd-57a5-4503-8cce-683d59c7744e",
   "metadata": {},
   "source": [
    "2. [M] Did you read the syllabus? All of it? Do you understand and agree to abide by the cheating rules? Write a sentence clearly indicating your commitment to not cheating.\n",
    "\n",
    "I understand and agree to abide by the cheating rules outlined in the syllabus."
   ]
  },
  {
   "cell_type": "markdown",
   "id": "23300fd4-ef72-4ab9-8a0e-0a61d1487341",
   "metadata": {},
   "source": [
    "3.[M] What are you hoping to get out of this course?\n",
    "\n",
    "I'm especially interested in machine learning applications in natural language processing, but I'm hoping to gain a deeper understanding of how ML algorithms work and why certain algorithms are better suited for certain applications. My main goals for the course are to learn to speak intelligently about ML and to develop ideas for projects to explore in grad school (and learn the tools to do so)."
   ]
  },
  {
   "cell_type": "markdown",
   "id": "12b6115c-5ab4-4743-80e4-4571605202b8",
   "metadata": {},
   "source": [
    "4.[P] Print the Python version (available in syspackage)"
   ]
  },
  {
   "cell_type": "code",
   "execution_count": null,
   "id": "d89280b1-1259-4ca4-a2be-02283a884ac1",
   "metadata": {},
   "outputs": [],
   "source": [
    "print(sys.version)"
   ]
  },
  {
   "cell_type": "markdown",
   "id": "ad8b2b7f-99b2-445d-91da-484835f95f86",
   "metadata": {},
   "source": [
    "5.[P] Create a Python list of 10000 random integers in the range 1to 100 using the randompackage. Name the list x_list."
   ]
  },
  {
   "cell_type": "code",
   "execution_count": 8,
   "id": "6b169db8-d588-48c8-ae7c-1f9ecbeaa944",
   "metadata": {},
   "outputs": [
    {
     "name": "stdout",
     "output_type": "stream",
     "text": [
      "1000\n"
     ]
    }
   ],
   "source": [
    "import random\n",
    "x_list = []\n",
    "i=0\n",
    "while i<1000:\n",
    "    x_list.append(random.randint(1,101));\n",
    "    i+=1\n",
    "print(len(x_list))"
   ]
  },
  {
   "cell_type": "markdown",
   "id": "15f87019-4c00-4fef-957c-0dcb39f5115c",
   "metadata": {},
   "source": [
    "6.[P] What is theminimum valueof x_list? What is the maxvalue? What is the mode? "
   ]
  }
 ],
 "metadata": {
  "kernelspec": {
   "display_name": "Python 3 (ipykernel)",
   "language": "python",
   "name": "python3"
  },
  "language_info": {
   "codemirror_mode": {
    "name": "ipython",
    "version": 3
   },
   "file_extension": ".py",
   "mimetype": "text/x-python",
   "name": "python",
   "nbconvert_exporter": "python",
   "pygments_lexer": "ipython3",
   "version": "3.9.16"
  }
 },
 "nbformat": 4,
 "nbformat_minor": 5
}
