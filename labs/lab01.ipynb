{
 "cells": [
  {
   "cell_type": "markdown",
   "id": "843cc7f0-8e84-4e4e-8411-8dc834d541ee",
   "metadata": {},
   "source": [
    "# Lab 01 - Getting Started\n",
    "\n",
    "Name: Jimmy Pronchick  \n",
    "Class: CSCI349 2023SP - Intro to Data Mining  \n",
    "Instructor: Brian King"
   ]
  },
  {
   "cell_type": "code",
   "execution_count": 3,
   "id": "9ae15326-c63a-4abb-bf0e-aa57fa2bdfad",
   "metadata": {},
   "outputs": [
    {
     "name": "stdout",
     "output_type": "stream",
     "text": [
      "3.9.16 (main, Jan 11 2023, 16:16:36) [MSC v.1916 64 bit (AMD64)]\n"
     ]
    }
   ],
   "source": [
    "import sys"
   ]
  },
  {
   "cell_type": "markdown",
   "id": "ce295fdd-57a5-4503-8cce-683d59c7744e",
   "metadata": {},
   "source": [
    "2. [M] Did you read the syllabus? All of it? Do you understand and agree to abide by the cheating rules? Write a sentence clearly indicating your commitment to not cheating.\n",
    "\n",
    "I understand and agree to abide by the cheating rules outlined in the syllabus."
   ]
  },
  {
   "cell_type": "markdown",
   "id": "23300fd4-ef72-4ab9-8a0e-0a61d1487341",
   "metadata": {},
   "source": [
    "3.[M] What are you hoping to get out of this course?\n",
    "\n",
    "I'm especially interested in machine learning applications in natural language processing, but I'm hoping to gain a deeper understanding of how ML algorithms work and why certain algorithms are better suited for certain applications. My main goals for the course are to learn to speak intelligently about ML and to develop ideas for projects to explore in grad school (and learn the tools to do so)."
   ]
  },
  {
   "cell_type": "markdown",
   "id": "12b6115c-5ab4-4743-80e4-4571605202b8",
   "metadata": {},
   "source": [
    "4.[P] Print the Python version (available in syspackage)"
   ]
  },
  {
   "cell_type": "code",
   "execution_count": null,
   "id": "d89280b1-1259-4ca4-a2be-02283a884ac1",
   "metadata": {},
   "outputs": [],
   "source": [
    "print(sys.version)"
   ]
  },
  {
   "cell_type": "markdown",
   "id": "ad8b2b7f-99b2-445d-91da-484835f95f86",
   "metadata": {},
   "source": [
    "5.[P] Create a Python list of 10000 random integers in the range 1to 100 using the randompackage. Name the list x_list."
   ]
  },
  {
   "cell_type": "code",
   "execution_count": 15,
   "id": "6b169db8-d588-48c8-ae7c-1f9ecbeaa944",
   "metadata": {},
   "outputs": [],
   "source": [
    "import random\n",
    "\n",
    "x_list = []\n",
    "i=0\n",
    "while i<1000:\n",
    "    x_list.append(random.randint(1,100));\n",
    "    i+=1"
   ]
  },
  {
   "cell_type": "markdown",
   "id": "15f87019-4c00-4fef-957c-0dcb39f5115c",
   "metadata": {},
   "source": [
    "6.[P] What is the minimum valueof x_list? What is the maxvalue? What is the mode? "
   ]
  },
  {
   "cell_type": "code",
   "execution_count": 16,
   "id": "ed0238e8-d9d7-4ebc-a290-319194ee54f6",
   "metadata": {},
   "outputs": [
    {
     "name": "stdout",
     "output_type": "stream",
     "text": [
      "The minimum value of x_list is 1.\n",
      "The maximum value of x_list is 100.\n",
      "The mode of x_list is 64.\n"
     ]
    }
   ],
   "source": [
    "from statistics import mode\n",
    "\n",
    "print(\"The minimum value of x_list is {}.\".format(min(x_list)))\n",
    "print(\"The maximum value of x_list is {}.\".format(max(x_list)))\n",
    "print(\"The mode of x_list is {}.\".format(mode(x_list)))"
   ]
  },
  {
   "cell_type": "markdown",
   "id": "4eb7e7fb-daa8-498c-b295-1d5eca09b4ac",
   "metadata": {},
   "source": [
    "7.[P] Write a function to take a list of numbersas a parameter, and return the average of the list. Then, use your function to report the average valueof x_list,printed as a float with 2 places of precision."
   ]
  },
  {
   "cell_type": "code",
   "execution_count": 25,
   "id": "fac000b3-fa61-4f22-8cfd-f9bed66a1e1f",
   "metadata": {},
   "outputs": [
    {
     "name": "stdout",
     "output_type": "stream",
     "text": [
      "52.00\n"
     ]
    }
   ],
   "source": [
    "def avgList(num_list):\n",
    "    sum = 0.0\n",
    "    for item in num_list:\n",
    "        sum+=item\n",
    "    return (sum/len(num_list))\n",
    "print(\"%.2f\"%avgList(x_list));"
   ]
  },
  {
   "cell_type": "markdown",
   "id": "0b24b04a-69c2-4b36-b1e8-c40a856a89b1",
   "metadata": {},
   "source": [
    "8.[P] Create a list called x_hist that represents a histogram, i.e. a distribution of the numerical data, of x_list. Each entry in x_hist should contain the frequency of data over a bin width of 10. So,for example,x_hist[0]represents the frequency of numbers between 1-10, x_hist[1]is the frequency of numbers between 11-20, and so on.Be sure to print x_histat the end.(Do NOT use numpy!)"
   ]
  },
  {
   "cell_type": "code",
   "execution_count": 52,
   "id": "1253c329-59c9-45b7-9498-bed5a0f71f5b",
   "metadata": {},
   "outputs": [
    {
     "name": "stdout",
     "output_type": "stream",
     "text": [
      "[85, 98, 106, 106, 86, 99, 106, 97, 103, 114]\n"
     ]
    }
   ],
   "source": [
    "x_hist = []\n",
    "for i in range(1,11):\n",
    "    bin_max = i*10\n",
    "    bin_width = 10\n",
    "    x_hist.append(len([num for num in x_list if (num <= bin_max and num > bin_max-bin_width)]))\n",
    "print(x_hist)"
   ]
  },
  {
   "cell_type": "markdown",
   "id": "d81c7c78-3f7b-4eec-808c-8ff4c07fb56e",
   "metadata": {},
   "source": [
    "9.[M] What is numpy? What are its strengths? Does it have any weaknesses?\n",
    "\n",
    "Numpy is "
   ]
  },
  {
   "cell_type": "markdown",
   "id": "c0d21c81-de9c-4e72-a2ee-6600aea13ffe",
   "metadata": {},
   "source": [
    "10.[P] Import the numpypackage as np and print the numpyversion"
   ]
  },
  {
   "cell_type": "code",
   "execution_count": 54,
   "id": "76028fea-79bd-496a-8cf2-ffd3f9c1d468",
   "metadata": {},
   "outputs": [
    {
     "name": "stdout",
     "output_type": "stream",
     "text": [
      "1.23.5\n"
     ]
    }
   ],
   "source": [
    "import numpy as np\n",
    "print(numpy.__version__)"
   ]
  },
  {
   "cell_type": "code",
   "execution_count": null,
   "id": "1502cd51-5226-45fb-b691-0fcca3f0a948",
   "metadata": {},
   "outputs": [],
   "source": []
  }
 ],
 "metadata": {
  "kernelspec": {
   "display_name": "Python 3 (ipykernel)",
   "language": "python",
   "name": "python3"
  },
  "language_info": {
   "codemirror_mode": {
    "name": "ipython",
    "version": 3
   },
   "file_extension": ".py",
   "mimetype": "text/x-python",
   "name": "python",
   "nbconvert_exporter": "python",
   "pygments_lexer": "ipython3",
   "version": "3.9.16"
  }
 },
 "nbformat": 4,
 "nbformat_minor": 5
}
