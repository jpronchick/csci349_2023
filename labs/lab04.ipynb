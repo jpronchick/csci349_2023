{
 "cells": [
  {
   "cell_type": "markdown",
   "id": "3cf406b0-f3dd-4012-858b-e17ae2ae63c3",
   "metadata": {},
   "source": [
    "# Lab 04 - Pandas II\n",
    "\n",
    "Name: Jimmy Pronchick  \n",
    "Class: CSCI349 2023SP - Intro to Data Mining  \n",
    "Instructor: Brian King"
   ]
  },
  {
   "cell_type": "code",
   "execution_count": 138,
   "id": "9dc04e33-5d30-4d4e-84cc-a322274d11f3",
   "metadata": {},
   "outputs": [],
   "source": [
    "import sys\n",
    "import numpy as np\n",
    "import pandas as pd"
   ]
  },
  {
   "cell_type": "code",
   "execution_count": 139,
   "id": "9e11e1db-905c-458d-8805-b2ed56ca61ec",
   "metadata": {},
   "outputs": [
    {
     "data": {
      "text/plain": [
       "'3.9.16 (main, Jan 11 2023, 16:16:36) [MSC v.1916 64 bit (AMD64)]'"
      ]
     },
     "execution_count": 139,
     "metadata": {},
     "output_type": "execute_result"
    }
   ],
   "source": [
    "sys.version"
   ]
  },
  {
   "cell_type": "code",
   "execution_count": 140,
   "id": "d7a7bb38-f5e8-4728-a06f-4445c4f6db74",
   "metadata": {},
   "outputs": [
    {
     "data": {
      "text/plain": [
       "'1.23.5'"
      ]
     },
     "execution_count": 140,
     "metadata": {},
     "output_type": "execute_result"
    }
   ],
   "source": [
    "np.__version__"
   ]
  },
  {
   "cell_type": "code",
   "execution_count": 141,
   "id": "da9b1bc4-78cf-4462-a611-7d8ca204dffa",
   "metadata": {},
   "outputs": [
    {
     "data": {
      "text/plain": [
       "'1.5.2'"
      ]
     },
     "execution_count": 141,
     "metadata": {},
     "output_type": "execute_result"
    }
   ],
   "source": [
    "pd.__version__"
   ]
  },
  {
   "cell_type": "code",
   "execution_count": 142,
   "id": "f42e17c1-e6f5-4faf-a9f7-3655c3249ee5",
   "metadata": {},
   "outputs": [],
   "source": [
    "days = [\"Mon\",\"Tues\",\"Wed\",\"Thu\",\"Fri\",\"Student\"]"
   ]
  },
  {
   "cell_type": "code",
   "execution_count": 219,
   "id": "c7c1ef0f-328c-4335-9b90-d999dab5cd9f",
   "metadata": {
    "scrolled": true,
    "tags": []
   },
   "outputs": [
    {
     "data": {
      "text/html": [
       "<div>\n",
       "<style scoped>\n",
       "    .dataframe tbody tr th:only-of-type {\n",
       "        vertical-align: middle;\n",
       "    }\n",
       "\n",
       "    .dataframe tbody tr th {\n",
       "        vertical-align: top;\n",
       "    }\n",
       "\n",
       "    .dataframe thead th {\n",
       "        text-align: right;\n",
       "    }\n",
       "</style>\n",
       "<table border=\"1\" class=\"dataframe\">\n",
       "  <thead>\n",
       "    <tr style=\"text-align: right;\">\n",
       "      <th></th>\n",
       "      <th>Mon</th>\n",
       "      <th>Tues</th>\n",
       "      <th>Wed</th>\n",
       "      <th>Thu</th>\n",
       "      <th>Fri</th>\n",
       "      <th>Student</th>\n",
       "    </tr>\n",
       "  </thead>\n",
       "  <tbody>\n",
       "    <tr>\n",
       "      <th>week_1</th>\n",
       "      <td>8.75</td>\n",
       "      <td>9.50</td>\n",
       "      <td>8.00</td>\n",
       "      <td>10.00</td>\n",
       "      <td>7.75</td>\n",
       "      <td>Bob</td>\n",
       "    </tr>\n",
       "    <tr>\n",
       "      <th>week_1</th>\n",
       "      <td>8.00</td>\n",
       "      <td>9.00</td>\n",
       "      <td>10.00</td>\n",
       "      <td>8.75</td>\n",
       "      <td>7.25</td>\n",
       "      <td>Jane</td>\n",
       "    </tr>\n",
       "    <tr>\n",
       "      <th>week_2</th>\n",
       "      <td>0.00</td>\n",
       "      <td>8.00</td>\n",
       "      <td>9.75</td>\n",
       "      <td>9.00</td>\n",
       "      <td>6.00</td>\n",
       "      <td>Bob</td>\n",
       "    </tr>\n",
       "    <tr>\n",
       "      <th>week_2</th>\n",
       "      <td>8.25</td>\n",
       "      <td>7.00</td>\n",
       "      <td>0.00</td>\n",
       "      <td>9.25</td>\n",
       "      <td>8.00</td>\n",
       "      <td>Jane</td>\n",
       "    </tr>\n",
       "    <tr>\n",
       "      <th>week_3</th>\n",
       "      <td>8.50</td>\n",
       "      <td>7.00</td>\n",
       "      <td>9.25</td>\n",
       "      <td>0.00</td>\n",
       "      <td>0.00</td>\n",
       "      <td>Bob</td>\n",
       "    </tr>\n",
       "    <tr>\n",
       "      <th>week_3</th>\n",
       "      <td>8.25</td>\n",
       "      <td>8.25</td>\n",
       "      <td>0.00</td>\n",
       "      <td>8.00</td>\n",
       "      <td>7.50</td>\n",
       "      <td>Jane</td>\n",
       "    </tr>\n",
       "    <tr>\n",
       "      <th>week_4</th>\n",
       "      <td>6.50</td>\n",
       "      <td>8.75</td>\n",
       "      <td>8.50</td>\n",
       "      <td>8.00</td>\n",
       "      <td>6.00</td>\n",
       "      <td>Bob</td>\n",
       "    </tr>\n",
       "    <tr>\n",
       "      <th>week_4</th>\n",
       "      <td>10.00</td>\n",
       "      <td>9.25</td>\n",
       "      <td>8.50</td>\n",
       "      <td>7.75</td>\n",
       "      <td>7.50</td>\n",
       "      <td>Jane</td>\n",
       "    </tr>\n",
       "  </tbody>\n",
       "</table>\n",
       "</div>"
      ],
      "text/plain": [
       "          Mon  Tues    Wed    Thu   Fri Student\n",
       "week_1   8.75  9.50   8.00  10.00  7.75     Bob\n",
       "week_1   8.00  9.00  10.00   8.75  7.25    Jane\n",
       "week_2   0.00  8.00   9.75   9.00  6.00     Bob\n",
       "week_2   8.25  7.00   0.00   9.25  8.00    Jane\n",
       "week_3   8.50  7.00   9.25   0.00  0.00     Bob\n",
       "week_3   8.25  8.25   0.00   8.00  7.50    Jane\n",
       "week_4   6.50  8.75   8.50   8.00  6.00     Bob\n",
       "week_4  10.00  9.25   8.50   7.75  7.50    Jane"
      ]
     },
     "execution_count": 219,
     "metadata": {},
     "output_type": "execute_result"
    }
   ],
   "source": [
    "scores = pd.DataFrame([pd.Series([8.75, 9.5, 8, 10, 7.75, \"Bob\"], index=days, name=\"week_1\"),pd.Series([8, 9, 10, 8.75, 7.25, \"Jane\"], index=days, name=\"week_1\"),pd.Series([0, 8, 9.75, 9, 6, \"Bob\"], index=days, name=\"week_2\"),pd.Series([8.25, 7, 0, 9.25, 8, \"Jane\"], index=days, name=\"week_2\"),pd.Series([8.5, 7, 9.25, 0, 0, \"Bob\"], index=days, name=\"week_3\"),pd.Series([8.25, 8.25, 0, 8,7.5, \"Jane\"], index=days, name=\"week_3\"),pd.Series([6.5, 8.75, 8.5, 8, 6, \"Bob\"], index=days, name=\"week_4\"),pd.Series([10, 9.25, 8.5, 7.75, 7.5, \"Jane\"], index=days, name=\"week_4\"),])\n",
    "#missing scores are noted with a 0\n",
    "scores"
   ]
  },
  {
   "cell_type": "markdown",
   "id": "92997e5a-6406-4cfc-836d-a4be59e54e6d",
   "metadata": {},
   "source": [
    "1)[P]Report the shape, the number of dimensions, the size of the data, and the data types of each column. Print each separately. Then create an additional code cell that shows the results of scores.info().Comment on what the info()method does on data frames."
   ]
  },
  {
   "cell_type": "code",
   "execution_count": 144,
   "id": "cc99b60f-3cca-490e-b94d-b8ec84f2e688",
   "metadata": {},
   "outputs": [
    {
     "data": {
      "text/plain": [
       "(8, 6)"
      ]
     },
     "execution_count": 144,
     "metadata": {},
     "output_type": "execute_result"
    }
   ],
   "source": [
    "scores.shape"
   ]
  },
  {
   "cell_type": "code",
   "execution_count": 145,
   "id": "7806a37c-5a2f-4a1f-affe-0f32033a347e",
   "metadata": {},
   "outputs": [
    {
     "data": {
      "text/plain": [
       "48"
      ]
     },
     "execution_count": 145,
     "metadata": {},
     "output_type": "execute_result"
    }
   ],
   "source": [
    "scores.size"
   ]
  },
  {
   "cell_type": "code",
   "execution_count": 146,
   "id": "e469dc31-4a3d-4aa0-8b91-9e1071277bbf",
   "metadata": {},
   "outputs": [
    {
     "data": {
      "text/plain": [
       "Mon        float64\n",
       "Tues       float64\n",
       "Wed        float64\n",
       "Thu        float64\n",
       "Fri        float64\n",
       "Student     object\n",
       "dtype: object"
      ]
     },
     "execution_count": 146,
     "metadata": {},
     "output_type": "execute_result"
    }
   ],
   "source": [
    "scores.dtypes"
   ]
  },
  {
   "cell_type": "code",
   "execution_count": 147,
   "id": "2e4f7c1d-5ee6-4f38-ae82-6ae275a1a6eb",
   "metadata": {},
   "outputs": [
    {
     "name": "stdout",
     "output_type": "stream",
     "text": [
      "<class 'pandas.core.frame.DataFrame'>\n",
      "Index: 8 entries, week_1 to week_4\n",
      "Data columns (total 6 columns):\n",
      " #   Column   Non-Null Count  Dtype  \n",
      "---  ------   --------------  -----  \n",
      " 0   Mon      8 non-null      float64\n",
      " 1   Tues     8 non-null      float64\n",
      " 2   Wed      8 non-null      float64\n",
      " 3   Thu      8 non-null      float64\n",
      " 4   Fri      8 non-null      float64\n",
      " 5   Student  8 non-null      object \n",
      "dtypes: float64(5), object(1)\n",
      "memory usage: 448.0+ bytes\n"
     ]
    }
   ],
   "source": [
    "#dataframe.info() prints out the indexing of the columns, the data types of the cols, col names, memory usage, range\n",
    "scores.info()"
   ]
  },
  {
   "cell_type": "markdown",
   "id": "af5cb6bc-e454-4e7c-8e53-c7252f3ce902",
   "metadata": {},
   "source": [
    "2)[P] Show two different ways to report the number of observations in scores."
   ]
  },
  {
   "cell_type": "code",
   "execution_count": 148,
   "id": "ab91ff58-5f8e-40c9-8d70-579b6d791c37",
   "metadata": {},
   "outputs": [
    {
     "data": {
      "text/plain": [
       "8"
      ]
     },
     "execution_count": 148,
     "metadata": {},
     "output_type": "execute_result"
    }
   ],
   "source": [
    "len(scores)"
   ]
  },
  {
   "cell_type": "code",
   "execution_count": 149,
   "id": "23b3b541-e85f-490c-b15c-b0e10603c0d7",
   "metadata": {},
   "outputs": [
    {
     "data": {
      "text/plain": [
       "Mon        8\n",
       "Tues       8\n",
       "Wed        8\n",
       "Thu        8\n",
       "Fri        8\n",
       "Student    8\n",
       "dtype: int64"
      ]
     },
     "execution_count": 149,
     "metadata": {},
     "output_type": "execute_result"
    }
   ],
   "source": [
    "scores.count()"
   ]
  },
  {
   "cell_type": "markdown",
   "id": "df7e259a-5034-45df-8fab-2ce2b359b42d",
   "metadata": {},
   "source": [
    "3)[P] Show the variables (i.e. columns) in scores"
   ]
  },
  {
   "cell_type": "code",
   "execution_count": 150,
   "id": "1f96b445-5943-466f-b1a4-951fb4e8d14a",
   "metadata": {},
   "outputs": [
    {
     "data": {
      "text/plain": [
       "Index(['Mon', 'Tues', 'Wed', 'Thu', 'Fri', 'Student'], dtype='object')"
      ]
     },
     "execution_count": 150,
     "metadata": {},
     "output_type": "execute_result"
    }
   ],
   "source": [
    "scores.columns"
   ]
  },
  {
   "cell_type": "markdown",
   "id": "19e4b268-c925-44fe-9cbc-a4e2aa3818e5",
   "metadata": {},
   "source": [
    "4)[P] There are repetitive names in the index. This happens quite a bit, depending on how thedata is organized. For now. printthe uniqueindex namesin scores"
   ]
  },
  {
   "cell_type": "code",
   "execution_count": 151,
   "id": "21f1ca9a-9aac-4244-91a1-fb47f7eb8ed1",
   "metadata": {},
   "outputs": [
    {
     "data": {
      "text/plain": [
       "Index(['week_1', 'week_2', 'week_3', 'week_4'], dtype='object')"
      ]
     },
     "execution_count": 151,
     "metadata": {},
     "output_type": "execute_result"
    }
   ],
   "source": [
    "scores.index.unique()"
   ]
  },
  {
   "cell_type": "markdown",
   "id": "72360b3c-b0b2-46c0-b920-bca716a34868",
   "metadata": {},
   "source": [
    "5)[P] Rename the 'Tues'column header to be 'Tue'. (Hint: Changing scores.columns[1]directly will not work, not to mention it would be a poor approach to hard code a location this way!Magic numbers arenever a good idea when referencing index or column locations.They may change!) Show the new scoresdata frame. This should be the same, except with Tueschanged to Tue."
   ]
  },
  {
   "cell_type": "code",
   "execution_count": 152,
   "id": "4dc8cf2b-8823-400d-b99b-1d936508b8e6",
   "metadata": {},
   "outputs": [
    {
     "data": {
      "text/html": [
       "<div>\n",
       "<style scoped>\n",
       "    .dataframe tbody tr th:only-of-type {\n",
       "        vertical-align: middle;\n",
       "    }\n",
       "\n",
       "    .dataframe tbody tr th {\n",
       "        vertical-align: top;\n",
       "    }\n",
       "\n",
       "    .dataframe thead th {\n",
       "        text-align: right;\n",
       "    }\n",
       "</style>\n",
       "<table border=\"1\" class=\"dataframe\">\n",
       "  <thead>\n",
       "    <tr style=\"text-align: right;\">\n",
       "      <th></th>\n",
       "      <th>Mon</th>\n",
       "      <th>Tue</th>\n",
       "      <th>Wed</th>\n",
       "      <th>Thu</th>\n",
       "      <th>Fri</th>\n",
       "      <th>Student</th>\n",
       "    </tr>\n",
       "  </thead>\n",
       "  <tbody>\n",
       "    <tr>\n",
       "      <th>week_1</th>\n",
       "      <td>8.75</td>\n",
       "      <td>9.50</td>\n",
       "      <td>8.00</td>\n",
       "      <td>10.00</td>\n",
       "      <td>7.75</td>\n",
       "      <td>Bob</td>\n",
       "    </tr>\n",
       "    <tr>\n",
       "      <th>week_1</th>\n",
       "      <td>8.00</td>\n",
       "      <td>9.00</td>\n",
       "      <td>10.00</td>\n",
       "      <td>8.75</td>\n",
       "      <td>7.25</td>\n",
       "      <td>Jane</td>\n",
       "    </tr>\n",
       "    <tr>\n",
       "      <th>week_2</th>\n",
       "      <td>0.00</td>\n",
       "      <td>8.00</td>\n",
       "      <td>9.75</td>\n",
       "      <td>9.00</td>\n",
       "      <td>6.00</td>\n",
       "      <td>Bob</td>\n",
       "    </tr>\n",
       "    <tr>\n",
       "      <th>week_2</th>\n",
       "      <td>8.25</td>\n",
       "      <td>7.00</td>\n",
       "      <td>0.00</td>\n",
       "      <td>9.25</td>\n",
       "      <td>8.00</td>\n",
       "      <td>Jane</td>\n",
       "    </tr>\n",
       "    <tr>\n",
       "      <th>week_3</th>\n",
       "      <td>8.50</td>\n",
       "      <td>7.00</td>\n",
       "      <td>9.25</td>\n",
       "      <td>0.00</td>\n",
       "      <td>0.00</td>\n",
       "      <td>Bob</td>\n",
       "    </tr>\n",
       "    <tr>\n",
       "      <th>week_3</th>\n",
       "      <td>8.25</td>\n",
       "      <td>8.25</td>\n",
       "      <td>0.00</td>\n",
       "      <td>8.00</td>\n",
       "      <td>7.50</td>\n",
       "      <td>Jane</td>\n",
       "    </tr>\n",
       "    <tr>\n",
       "      <th>week_4</th>\n",
       "      <td>6.50</td>\n",
       "      <td>8.75</td>\n",
       "      <td>8.50</td>\n",
       "      <td>8.00</td>\n",
       "      <td>6.00</td>\n",
       "      <td>Bob</td>\n",
       "    </tr>\n",
       "    <tr>\n",
       "      <th>week_4</th>\n",
       "      <td>10.00</td>\n",
       "      <td>9.25</td>\n",
       "      <td>8.50</td>\n",
       "      <td>7.75</td>\n",
       "      <td>7.50</td>\n",
       "      <td>Jane</td>\n",
       "    </tr>\n",
       "  </tbody>\n",
       "</table>\n",
       "</div>"
      ],
      "text/plain": [
       "          Mon   Tue    Wed    Thu   Fri Student\n",
       "week_1   8.75  9.50   8.00  10.00  7.75     Bob\n",
       "week_1   8.00  9.00  10.00   8.75  7.25    Jane\n",
       "week_2   0.00  8.00   9.75   9.00  6.00     Bob\n",
       "week_2   8.25  7.00   0.00   9.25  8.00    Jane\n",
       "week_3   8.50  7.00   9.25   0.00  0.00     Bob\n",
       "week_3   8.25  8.25   0.00   8.00  7.50    Jane\n",
       "week_4   6.50  8.75   8.50   8.00  6.00     Bob\n",
       "week_4  10.00  9.25   8.50   7.75  7.50    Jane"
      ]
     },
     "execution_count": 152,
     "metadata": {},
     "output_type": "execute_result"
    }
   ],
   "source": [
    "scores=scores.rename(columns={\"Tues\":\"Tue\"})\n",
    "scores"
   ]
  },
  {
   "cell_type": "markdown",
   "id": "41dfaf20-d3df-48aa-b5c8-c62defce6809",
   "metadata": {},
   "source": [
    "6)[P] Now, make a bigger change. Let'srename 'week_1'to be 'w1', 'week_2'to be 'w2', and so on. Also, suppose you decide to useonly 2 letter abbreviations for the days. Rename thedays in thecolumn namesto be 'Mo', 'Tu', 'We', 'Th', 'Fr'.Show the updated scoresdataframe. It should appearas follows:"
   ]
  },
  {
   "cell_type": "code",
   "execution_count": 153,
   "id": "a8abebd8-7357-49a4-b78d-369cc83cb55c",
   "metadata": {},
   "outputs": [
    {
     "data": {
      "text/html": [
       "<div>\n",
       "<style scoped>\n",
       "    .dataframe tbody tr th:only-of-type {\n",
       "        vertical-align: middle;\n",
       "    }\n",
       "\n",
       "    .dataframe tbody tr th {\n",
       "        vertical-align: top;\n",
       "    }\n",
       "\n",
       "    .dataframe thead th {\n",
       "        text-align: right;\n",
       "    }\n",
       "</style>\n",
       "<table border=\"1\" class=\"dataframe\">\n",
       "  <thead>\n",
       "    <tr style=\"text-align: right;\">\n",
       "      <th></th>\n",
       "      <th>Mo</th>\n",
       "      <th>Tu</th>\n",
       "      <th>We</th>\n",
       "      <th>Th</th>\n",
       "      <th>Fr</th>\n",
       "      <th>St</th>\n",
       "    </tr>\n",
       "  </thead>\n",
       "  <tbody>\n",
       "    <tr>\n",
       "      <th>w1</th>\n",
       "      <td>8.75</td>\n",
       "      <td>9.50</td>\n",
       "      <td>8.00</td>\n",
       "      <td>10.00</td>\n",
       "      <td>7.75</td>\n",
       "      <td>Bob</td>\n",
       "    </tr>\n",
       "    <tr>\n",
       "      <th>w1</th>\n",
       "      <td>8.00</td>\n",
       "      <td>9.00</td>\n",
       "      <td>10.00</td>\n",
       "      <td>8.75</td>\n",
       "      <td>7.25</td>\n",
       "      <td>Jane</td>\n",
       "    </tr>\n",
       "    <tr>\n",
       "      <th>w2</th>\n",
       "      <td>0.00</td>\n",
       "      <td>8.00</td>\n",
       "      <td>9.75</td>\n",
       "      <td>9.00</td>\n",
       "      <td>6.00</td>\n",
       "      <td>Bob</td>\n",
       "    </tr>\n",
       "    <tr>\n",
       "      <th>w2</th>\n",
       "      <td>8.25</td>\n",
       "      <td>7.00</td>\n",
       "      <td>0.00</td>\n",
       "      <td>9.25</td>\n",
       "      <td>8.00</td>\n",
       "      <td>Jane</td>\n",
       "    </tr>\n",
       "    <tr>\n",
       "      <th>w3</th>\n",
       "      <td>8.50</td>\n",
       "      <td>7.00</td>\n",
       "      <td>9.25</td>\n",
       "      <td>0.00</td>\n",
       "      <td>0.00</td>\n",
       "      <td>Bob</td>\n",
       "    </tr>\n",
       "    <tr>\n",
       "      <th>w3</th>\n",
       "      <td>8.25</td>\n",
       "      <td>8.25</td>\n",
       "      <td>0.00</td>\n",
       "      <td>8.00</td>\n",
       "      <td>7.50</td>\n",
       "      <td>Jane</td>\n",
       "    </tr>\n",
       "    <tr>\n",
       "      <th>w4</th>\n",
       "      <td>6.50</td>\n",
       "      <td>8.75</td>\n",
       "      <td>8.50</td>\n",
       "      <td>8.00</td>\n",
       "      <td>6.00</td>\n",
       "      <td>Bob</td>\n",
       "    </tr>\n",
       "    <tr>\n",
       "      <th>w4</th>\n",
       "      <td>10.00</td>\n",
       "      <td>9.25</td>\n",
       "      <td>8.50</td>\n",
       "      <td>7.75</td>\n",
       "      <td>7.50</td>\n",
       "      <td>Jane</td>\n",
       "    </tr>\n",
       "  </tbody>\n",
       "</table>\n",
       "</div>"
      ],
      "text/plain": [
       "       Mo    Tu     We     Th    Fr    St\n",
       "w1   8.75  9.50   8.00  10.00  7.75   Bob\n",
       "w1   8.00  9.00  10.00   8.75  7.25  Jane\n",
       "w2   0.00  8.00   9.75   9.00  6.00   Bob\n",
       "w2   8.25  7.00   0.00   9.25  8.00  Jane\n",
       "w3   8.50  7.00   9.25   0.00  0.00   Bob\n",
       "w3   8.25  8.25   0.00   8.00  7.50  Jane\n",
       "w4   6.50  8.75   8.50   8.00  6.00   Bob\n",
       "w4  10.00  9.25   8.50   7.75  7.50  Jane"
      ]
     },
     "execution_count": 153,
     "metadata": {},
     "output_type": "execute_result"
    }
   ],
   "source": [
    "scores.rename(columns=(lambda x: x[0:2]),index=lambda x: x[::5], inplace=True)\n",
    "scores"
   ]
  },
  {
   "cell_type": "markdown",
   "id": "f60dc912-1ab0-4088-980c-143ac380ce91",
   "metadata": {},
   "source": [
    "7)[PM] Compare the typeof the expression scores['Mo'] vs. scores[['Mo']]. What is the difference? (HINT: use the type()Python function on both.)"
   ]
  },
  {
   "cell_type": "code",
   "execution_count": 154,
   "id": "145b7603-3261-4dbd-b5a5-25e804703fee",
   "metadata": {},
   "outputs": [
    {
     "data": {
      "text/plain": [
       "pandas.core.series.Series"
      ]
     },
     "execution_count": 154,
     "metadata": {},
     "output_type": "execute_result"
    }
   ],
   "source": [
    "type(scores['Mo'])"
   ]
  },
  {
   "cell_type": "code",
   "execution_count": 155,
   "id": "78ef6aeb-ed66-469c-9971-3d85dd46e1f5",
   "metadata": {},
   "outputs": [
    {
     "data": {
      "text/plain": [
       "pandas.core.frame.DataFrame"
      ]
     },
     "execution_count": 155,
     "metadata": {},
     "output_type": "execute_result"
    }
   ],
   "source": [
    "type(scores[['Mo']])"
   ]
  },
  {
   "cell_type": "markdown",
   "id": "902532b8-f60f-4c0d-b8c4-21a3e95cd3c2",
   "metadata": {},
   "source": [
    "['Mo'] selects just the column for the attr 'Mo', which is a one dimensional series. [['Mo']] selects the container around the column ['Mo'], the dataframe. "
   ]
  },
  {
   "cell_type": "code",
   "execution_count": 156,
   "id": "0e00e313-9c81-408a-8e3b-98a52f634d7c",
   "metadata": {},
   "outputs": [],
   "source": [
    "# Read about the describe()method of data frames. (FYI -This is essentially the equivalent to the summary()function in R.)  "
   ]
  },
  {
   "cell_type": "markdown",
   "id": "9b35bbe1-2b9d-4c22-b5e9-9b29d63cb947",
   "metadata": {},
   "source": [
    "8)[P] Demonstrate the describe()method onscores. What type does it return?"
   ]
  },
  {
   "cell_type": "code",
   "execution_count": 157,
   "id": "63fefddb-5e10-4037-b7a4-5213ab535860",
   "metadata": {},
   "outputs": [
    {
     "data": {
      "text/html": [
       "<div>\n",
       "<style scoped>\n",
       "    .dataframe tbody tr th:only-of-type {\n",
       "        vertical-align: middle;\n",
       "    }\n",
       "\n",
       "    .dataframe tbody tr th {\n",
       "        vertical-align: top;\n",
       "    }\n",
       "\n",
       "    .dataframe thead th {\n",
       "        text-align: right;\n",
       "    }\n",
       "</style>\n",
       "<table border=\"1\" class=\"dataframe\">\n",
       "  <thead>\n",
       "    <tr style=\"text-align: right;\">\n",
       "      <th></th>\n",
       "      <th>Mo</th>\n",
       "      <th>Tu</th>\n",
       "      <th>We</th>\n",
       "      <th>Th</th>\n",
       "      <th>Fr</th>\n",
       "    </tr>\n",
       "  </thead>\n",
       "  <tbody>\n",
       "    <tr>\n",
       "      <th>count</th>\n",
       "      <td>8.000000</td>\n",
       "      <td>8.000000</td>\n",
       "      <td>8.000000</td>\n",
       "      <td>8.000000</td>\n",
       "      <td>8.000000</td>\n",
       "    </tr>\n",
       "    <tr>\n",
       "      <th>mean</th>\n",
       "      <td>7.281250</td>\n",
       "      <td>8.343750</td>\n",
       "      <td>6.750000</td>\n",
       "      <td>7.593750</td>\n",
       "      <td>6.250000</td>\n",
       "    </tr>\n",
       "    <tr>\n",
       "      <th>std</th>\n",
       "      <td>3.095035</td>\n",
       "      <td>0.963045</td>\n",
       "      <td>4.219428</td>\n",
       "      <td>3.159276</td>\n",
       "      <td>2.635608</td>\n",
       "    </tr>\n",
       "    <tr>\n",
       "      <th>min</th>\n",
       "      <td>0.000000</td>\n",
       "      <td>7.000000</td>\n",
       "      <td>0.000000</td>\n",
       "      <td>0.000000</td>\n",
       "      <td>0.000000</td>\n",
       "    </tr>\n",
       "    <tr>\n",
       "      <th>25%</th>\n",
       "      <td>7.625000</td>\n",
       "      <td>7.750000</td>\n",
       "      <td>6.000000</td>\n",
       "      <td>7.937500</td>\n",
       "      <td>6.000000</td>\n",
       "    </tr>\n",
       "    <tr>\n",
       "      <th>50%</th>\n",
       "      <td>8.250000</td>\n",
       "      <td>8.500000</td>\n",
       "      <td>8.500000</td>\n",
       "      <td>8.375000</td>\n",
       "      <td>7.375000</td>\n",
       "    </tr>\n",
       "    <tr>\n",
       "      <th>75%</th>\n",
       "      <td>8.562500</td>\n",
       "      <td>9.062500</td>\n",
       "      <td>9.375000</td>\n",
       "      <td>9.062500</td>\n",
       "      <td>7.562500</td>\n",
       "    </tr>\n",
       "    <tr>\n",
       "      <th>max</th>\n",
       "      <td>10.000000</td>\n",
       "      <td>9.500000</td>\n",
       "      <td>10.000000</td>\n",
       "      <td>10.000000</td>\n",
       "      <td>8.000000</td>\n",
       "    </tr>\n",
       "  </tbody>\n",
       "</table>\n",
       "</div>"
      ],
      "text/plain": [
       "              Mo        Tu         We         Th        Fr\n",
       "count   8.000000  8.000000   8.000000   8.000000  8.000000\n",
       "mean    7.281250  8.343750   6.750000   7.593750  6.250000\n",
       "std     3.095035  0.963045   4.219428   3.159276  2.635608\n",
       "min     0.000000  7.000000   0.000000   0.000000  0.000000\n",
       "25%     7.625000  7.750000   6.000000   7.937500  6.000000\n",
       "50%     8.250000  8.500000   8.500000   8.375000  7.375000\n",
       "75%     8.562500  9.062500   9.375000   9.062500  7.562500\n",
       "max    10.000000  9.500000  10.000000  10.000000  8.000000"
      ]
     },
     "execution_count": 157,
     "metadata": {},
     "output_type": "execute_result"
    }
   ],
   "source": [
    "scores.describe()"
   ]
  },
  {
   "cell_type": "markdown",
   "id": "7d61ea53-c636-464e-bc53-ebf1ee8c0c9f",
   "metadata": {},
   "source": [
    "9)[P] Storethe output of describe()as a variable. Then, using this data frame,report the day that had the largest standard deviation in quiz scores and its value.Clean your temporary variables when complete (i.e. use del)"
   ]
  },
  {
   "cell_type": "code",
   "execution_count": 179,
   "id": "e57c00d5-6a2f-464d-b65a-0d2fe657b71d",
   "metadata": {},
   "outputs": [
    {
     "name": "stdout",
     "output_type": "stream",
     "text": [
      "We had the largest standard deviation: 4.219\n"
     ]
    }
   ],
   "source": [
    "stats = scores.describe()\n",
    "maxS = (stats.loc['std'].max())\n",
    "day = stats.loc['std'].idxmax()\n",
    "print('{} had the largest standard deviation: {:.3f}'.format(day,maxS))"
   ]
  },
  {
   "cell_type": "code",
   "execution_count": 180,
   "id": "099f66a4-b9e9-418b-81ad-bca98f0cdd1f",
   "metadata": {},
   "outputs": [],
   "source": [
    "del stats\n",
    "del maxS\n",
    "del day"
   ]
  },
  {
   "cell_type": "markdown",
   "id": "82c67975-19a1-4823-935c-147201c9403d",
   "metadata": {},
   "source": [
    "10)[P] Knowing that describe()is nothing more than another data frame is interesting. However, it's moreimportantto write code to output the specific results you are looking for. Write the Python code to repeat the previous exercise withoutusing describe()."
   ]
  },
  {
   "cell_type": "code",
   "execution_count": 213,
   "id": "050582ef-b4d7-4947-890a-a5a86e5d71d8",
   "metadata": {},
   "outputs": [
    {
     "data": {
      "text/html": [
       "<div>\n",
       "<style scoped>\n",
       "    .dataframe tbody tr th:only-of-type {\n",
       "        vertical-align: middle;\n",
       "    }\n",
       "\n",
       "    .dataframe tbody tr th {\n",
       "        vertical-align: top;\n",
       "    }\n",
       "\n",
       "    .dataframe thead th {\n",
       "        text-align: right;\n",
       "    }\n",
       "</style>\n",
       "<table border=\"1\" class=\"dataframe\">\n",
       "  <thead>\n",
       "    <tr style=\"text-align: right;\">\n",
       "      <th></th>\n",
       "      <th>Mo</th>\n",
       "      <th>Tu</th>\n",
       "      <th>We</th>\n",
       "      <th>Th</th>\n",
       "      <th>Fr</th>\n",
       "    </tr>\n",
       "  </thead>\n",
       "  <tbody>\n",
       "    <tr>\n",
       "      <th>count</th>\n",
       "      <td>8.000000</td>\n",
       "      <td>8.000000</td>\n",
       "      <td>8.000000</td>\n",
       "      <td>8.000000</td>\n",
       "      <td>8.000000</td>\n",
       "    </tr>\n",
       "    <tr>\n",
       "      <th>mean</th>\n",
       "      <td>7.281250</td>\n",
       "      <td>8.343750</td>\n",
       "      <td>6.750000</td>\n",
       "      <td>7.593750</td>\n",
       "      <td>6.250000</td>\n",
       "    </tr>\n",
       "    <tr>\n",
       "      <th>std</th>\n",
       "      <td>3.095035</td>\n",
       "      <td>0.963045</td>\n",
       "      <td>4.219428</td>\n",
       "      <td>3.159276</td>\n",
       "      <td>2.635608</td>\n",
       "    </tr>\n",
       "    <tr>\n",
       "      <th>min</th>\n",
       "      <td>0.000000</td>\n",
       "      <td>7.000000</td>\n",
       "      <td>0.000000</td>\n",
       "      <td>0.000000</td>\n",
       "      <td>0.000000</td>\n",
       "    </tr>\n",
       "    <tr>\n",
       "      <th>25%</th>\n",
       "      <td>7.625000</td>\n",
       "      <td>7.750000</td>\n",
       "      <td>6.000000</td>\n",
       "      <td>7.937500</td>\n",
       "      <td>6.000000</td>\n",
       "    </tr>\n",
       "    <tr>\n",
       "      <th>50%</th>\n",
       "      <td>8.250000</td>\n",
       "      <td>8.500000</td>\n",
       "      <td>8.500000</td>\n",
       "      <td>8.375000</td>\n",
       "      <td>7.375000</td>\n",
       "    </tr>\n",
       "    <tr>\n",
       "      <th>75%</th>\n",
       "      <td>8.562500</td>\n",
       "      <td>9.062500</td>\n",
       "      <td>9.375000</td>\n",
       "      <td>9.062500</td>\n",
       "      <td>7.562500</td>\n",
       "    </tr>\n",
       "    <tr>\n",
       "      <th>max</th>\n",
       "      <td>10.000000</td>\n",
       "      <td>9.500000</td>\n",
       "      <td>10.000000</td>\n",
       "      <td>10.000000</td>\n",
       "      <td>8.000000</td>\n",
       "    </tr>\n",
       "  </tbody>\n",
       "</table>\n",
       "</div>"
      ],
      "text/plain": [
       "              Mo        Tu         We         Th        Fr\n",
       "count   8.000000  8.000000   8.000000   8.000000  8.000000\n",
       "mean    7.281250  8.343750   6.750000   7.593750  6.250000\n",
       "std     3.095035  0.963045   4.219428   3.159276  2.635608\n",
       "min     0.000000  7.000000   0.000000   0.000000  0.000000\n",
       "25%     7.625000  7.750000   6.000000   7.937500  6.000000\n",
       "50%     8.250000  8.500000   8.500000   8.375000  7.375000\n",
       "75%     8.562500  9.062500   9.375000   9.062500  7.562500\n",
       "max    10.000000  9.500000  10.000000  10.000000  8.000000"
      ]
     },
     "execution_count": 213,
     "metadata": {},
     "output_type": "execute_result"
    }
   ],
   "source": [
    "stats=pd.DataFrame({'count':scores.count(numeric_only=True),'mean':scores.mean(numeric_only=True),\n",
    "                    'std':scores.std(numeric_only=True), 'min':scores.min(numeric_only=True),\n",
    "                    '25%':scores.quantile(.25,numeric_only=True),'50%':scores.quantile(.5,numeric_only=True),\n",
    "                     '75%':scores.quantile(.75,numeric_only=True),'max':scores.max(numeric_only=True)})\n",
    "stats.T"
   ]
  },
  {
   "cell_type": "markdown",
   "id": "318e880a-48bc-4a2b-91aa-d81fc25ebfc2",
   "metadata": {},
   "source": [
    "11)[P] Write the code that changes all 0.0entries to np.nan.  (NOTE: You should be able to do this with just one line of code using pandasselection techniques!) Then, show scores. All 0.0 entries should be replaced with NaNin the output."
   ]
  },
  {
   "cell_type": "code",
   "execution_count": 220,
   "id": "e1521ce5-3f22-4b10-a020-88616b78d971",
   "metadata": {},
   "outputs": [
    {
     "data": {
      "text/html": [
       "<div>\n",
       "<style scoped>\n",
       "    .dataframe tbody tr th:only-of-type {\n",
       "        vertical-align: middle;\n",
       "    }\n",
       "\n",
       "    .dataframe tbody tr th {\n",
       "        vertical-align: top;\n",
       "    }\n",
       "\n",
       "    .dataframe thead th {\n",
       "        text-align: right;\n",
       "    }\n",
       "</style>\n",
       "<table border=\"1\" class=\"dataframe\">\n",
       "  <thead>\n",
       "    <tr style=\"text-align: right;\">\n",
       "      <th></th>\n",
       "      <th>Mon</th>\n",
       "      <th>Tues</th>\n",
       "      <th>Wed</th>\n",
       "      <th>Thu</th>\n",
       "      <th>Fri</th>\n",
       "      <th>Student</th>\n",
       "    </tr>\n",
       "  </thead>\n",
       "  <tbody>\n",
       "    <tr>\n",
       "      <th>week_1</th>\n",
       "      <td>8.75</td>\n",
       "      <td>9.50</td>\n",
       "      <td>8.00</td>\n",
       "      <td>10.00</td>\n",
       "      <td>7.75</td>\n",
       "      <td>Bob</td>\n",
       "    </tr>\n",
       "    <tr>\n",
       "      <th>week_1</th>\n",
       "      <td>8.00</td>\n",
       "      <td>9.00</td>\n",
       "      <td>10.00</td>\n",
       "      <td>8.75</td>\n",
       "      <td>7.25</td>\n",
       "      <td>Jane</td>\n",
       "    </tr>\n",
       "    <tr>\n",
       "      <th>week_2</th>\n",
       "      <td>NaN</td>\n",
       "      <td>8.00</td>\n",
       "      <td>9.75</td>\n",
       "      <td>9.00</td>\n",
       "      <td>6.00</td>\n",
       "      <td>Bob</td>\n",
       "    </tr>\n",
       "    <tr>\n",
       "      <th>week_2</th>\n",
       "      <td>8.25</td>\n",
       "      <td>7.00</td>\n",
       "      <td>NaN</td>\n",
       "      <td>9.25</td>\n",
       "      <td>8.00</td>\n",
       "      <td>Jane</td>\n",
       "    </tr>\n",
       "    <tr>\n",
       "      <th>week_3</th>\n",
       "      <td>8.50</td>\n",
       "      <td>7.00</td>\n",
       "      <td>9.25</td>\n",
       "      <td>NaN</td>\n",
       "      <td>NaN</td>\n",
       "      <td>Bob</td>\n",
       "    </tr>\n",
       "    <tr>\n",
       "      <th>week_3</th>\n",
       "      <td>8.25</td>\n",
       "      <td>8.25</td>\n",
       "      <td>NaN</td>\n",
       "      <td>8.00</td>\n",
       "      <td>7.50</td>\n",
       "      <td>Jane</td>\n",
       "    </tr>\n",
       "    <tr>\n",
       "      <th>week_4</th>\n",
       "      <td>6.50</td>\n",
       "      <td>8.75</td>\n",
       "      <td>8.50</td>\n",
       "      <td>8.00</td>\n",
       "      <td>6.00</td>\n",
       "      <td>Bob</td>\n",
       "    </tr>\n",
       "    <tr>\n",
       "      <th>week_4</th>\n",
       "      <td>10.00</td>\n",
       "      <td>9.25</td>\n",
       "      <td>8.50</td>\n",
       "      <td>7.75</td>\n",
       "      <td>7.50</td>\n",
       "      <td>Jane</td>\n",
       "    </tr>\n",
       "  </tbody>\n",
       "</table>\n",
       "</div>"
      ],
      "text/plain": [
       "          Mon  Tues    Wed    Thu   Fri Student\n",
       "week_1   8.75  9.50   8.00  10.00  7.75     Bob\n",
       "week_1   8.00  9.00  10.00   8.75  7.25    Jane\n",
       "week_2    NaN  8.00   9.75   9.00  6.00     Bob\n",
       "week_2   8.25  7.00    NaN   9.25  8.00    Jane\n",
       "week_3   8.50  7.00   9.25    NaN   NaN     Bob\n",
       "week_3   8.25  8.25    NaN   8.00  7.50    Jane\n",
       "week_4   6.50  8.75   8.50   8.00  6.00     Bob\n",
       "week_4  10.00  9.25   8.50   7.75  7.50    Jane"
      ]
     },
     "execution_count": 220,
     "metadata": {},
     "output_type": "execute_result"
    }
   ],
   "source": [
    "scores.where(scores!=0, other=np.nan, inplace=True)\n",
    "scores"
   ]
  },
  {
   "cell_type": "markdown",
   "id": "a0d94d3c-a9ef-4a94-ad11-d5458f9d814e",
   "metadata": {},
   "source": [
    "12)[P]Show the output of describe()again. You should notice much more reasonable SD values.Note how much more informative this output is when properly dealing with missing data. Then, copyyour code from above to output the day with the largest standard deviation in quiz scores.You should have a substantially different result than you did before."
   ]
  },
  {
   "cell_type": "code",
   "execution_count": 221,
   "id": "bae120c7-cea7-4156-88e8-7a012d2ded9d",
   "metadata": {},
   "outputs": [
    {
     "data": {
      "text/html": [
       "<div>\n",
       "<style scoped>\n",
       "    .dataframe tbody tr th:only-of-type {\n",
       "        vertical-align: middle;\n",
       "    }\n",
       "\n",
       "    .dataframe tbody tr th {\n",
       "        vertical-align: top;\n",
       "    }\n",
       "\n",
       "    .dataframe thead th {\n",
       "        text-align: right;\n",
       "    }\n",
       "</style>\n",
       "<table border=\"1\" class=\"dataframe\">\n",
       "  <thead>\n",
       "    <tr style=\"text-align: right;\">\n",
       "      <th></th>\n",
       "      <th>Mon</th>\n",
       "      <th>Tues</th>\n",
       "      <th>Wed</th>\n",
       "      <th>Thu</th>\n",
       "      <th>Fri</th>\n",
       "    </tr>\n",
       "  </thead>\n",
       "  <tbody>\n",
       "    <tr>\n",
       "      <th>count</th>\n",
       "      <td>7.000000</td>\n",
       "      <td>8.000000</td>\n",
       "      <td>6.000000</td>\n",
       "      <td>7.000000</td>\n",
       "      <td>7.000000</td>\n",
       "    </tr>\n",
       "    <tr>\n",
       "      <th>mean</th>\n",
       "      <td>8.321429</td>\n",
       "      <td>8.343750</td>\n",
       "      <td>9.000000</td>\n",
       "      <td>8.678571</td>\n",
       "      <td>7.142857</td>\n",
       "    </tr>\n",
       "    <tr>\n",
       "      <th>std</th>\n",
       "      <td>1.037970</td>\n",
       "      <td>0.963045</td>\n",
       "      <td>0.790569</td>\n",
       "      <td>0.812843</td>\n",
       "      <td>0.814672</td>\n",
       "    </tr>\n",
       "    <tr>\n",
       "      <th>min</th>\n",
       "      <td>6.500000</td>\n",
       "      <td>7.000000</td>\n",
       "      <td>8.000000</td>\n",
       "      <td>7.750000</td>\n",
       "      <td>6.000000</td>\n",
       "    </tr>\n",
       "    <tr>\n",
       "      <th>25%</th>\n",
       "      <td>8.125000</td>\n",
       "      <td>7.750000</td>\n",
       "      <td>8.500000</td>\n",
       "      <td>8.000000</td>\n",
       "      <td>6.625000</td>\n",
       "    </tr>\n",
       "    <tr>\n",
       "      <th>50%</th>\n",
       "      <td>8.250000</td>\n",
       "      <td>8.500000</td>\n",
       "      <td>8.875000</td>\n",
       "      <td>8.750000</td>\n",
       "      <td>7.500000</td>\n",
       "    </tr>\n",
       "    <tr>\n",
       "      <th>75%</th>\n",
       "      <td>8.625000</td>\n",
       "      <td>9.062500</td>\n",
       "      <td>9.625000</td>\n",
       "      <td>9.125000</td>\n",
       "      <td>7.625000</td>\n",
       "    </tr>\n",
       "    <tr>\n",
       "      <th>max</th>\n",
       "      <td>10.000000</td>\n",
       "      <td>9.500000</td>\n",
       "      <td>10.000000</td>\n",
       "      <td>10.000000</td>\n",
       "      <td>8.000000</td>\n",
       "    </tr>\n",
       "  </tbody>\n",
       "</table>\n",
       "</div>"
      ],
      "text/plain": [
       "             Mon      Tues        Wed        Thu       Fri\n",
       "count   7.000000  8.000000   6.000000   7.000000  7.000000\n",
       "mean    8.321429  8.343750   9.000000   8.678571  7.142857\n",
       "std     1.037970  0.963045   0.790569   0.812843  0.814672\n",
       "min     6.500000  7.000000   8.000000   7.750000  6.000000\n",
       "25%     8.125000  7.750000   8.500000   8.000000  6.625000\n",
       "50%     8.250000  8.500000   8.875000   8.750000  7.500000\n",
       "75%     8.625000  9.062500   9.625000   9.125000  7.625000\n",
       "max    10.000000  9.500000  10.000000  10.000000  8.000000"
      ]
     },
     "execution_count": 221,
     "metadata": {},
     "output_type": "execute_result"
    }
   ],
   "source": [
    "scores.describe()"
   ]
  },
  {
   "cell_type": "code",
   "execution_count": 222,
   "id": "2bf9e8fb-4986-49c7-a381-64b13dd1a106",
   "metadata": {},
   "outputs": [
    {
     "name": "stdout",
     "output_type": "stream",
     "text": [
      "Mon had the largest standard deviation: 1.038\n"
     ]
    }
   ],
   "source": [
    "stats = scores.describe()\n",
    "maxS = (stats.loc['std'].max())\n",
    "day = stats.loc['std'].idxmax()\n",
    "print('{} had the largest standard deviation: {:.3f}'.format(day,maxS))"
   ]
  },
  {
   "cell_type": "markdown",
   "id": "69114cba-a531-44ef-928e-deb07e53ab59",
   "metadata": {},
   "source": [
    "13)[PM] Show the output of scores.values. What does the .valuesattribute do? "
   ]
  },
  {
   "cell_type": "code",
   "execution_count": 225,
   "id": "58696ad2-e938-4a28-8e8e-af2685285d71",
   "metadata": {},
   "outputs": [
    {
     "data": {
      "text/plain": [
       "array([[8.75, 9.5, 8.0, 10.0, 7.75, 'Bob'],\n",
       "       [8.0, 9.0, 10.0, 8.75, 7.25, 'Jane'],\n",
       "       [nan, 8.0, 9.75, 9.0, 6.0, 'Bob'],\n",
       "       [8.25, 7.0, nan, 9.25, 8.0, 'Jane'],\n",
       "       [8.5, 7.0, 9.25, nan, nan, 'Bob'],\n",
       "       [8.25, 8.25, nan, 8.0, 7.5, 'Jane'],\n",
       "       [6.5, 8.75, 8.5, 8.0, 6.0, 'Bob'],\n",
       "       [10.0, 9.25, 8.5, 7.75, 7.5, 'Jane']], dtype=object)"
      ]
     },
     "execution_count": 225,
     "metadata": {},
     "output_type": "execute_result"
    }
   ],
   "source": [
    "scores.values"
   ]
  },
  {
   "cell_type": "markdown",
   "id": "3c62449d-c133-4c85-8586-04b63bc63381",
   "metadata": {},
   "source": [
    "dataframe.values returns the dataframe as an ndarray."
   ]
  },
  {
   "cell_type": "markdown",
   "id": "028d6b7c-62f2-4697-8edc-ebffd3b305d3",
   "metadata": {},
   "source": [
    "14)[P] What is the mean quiz score for each day? Do not use describe()"
   ]
  },
  {
   "cell_type": "code",
   "execution_count": 230,
   "id": "c5629936-ad7c-473d-a8aa-38ca14a120f9",
   "metadata": {},
   "outputs": [
    {
     "data": {
      "text/plain": [
       "Mon     8.321429\n",
       "Tues    8.343750\n",
       "Wed     9.000000\n",
       "Thu     8.678571\n",
       "Fri     7.142857\n",
       "dtype: float64"
      ]
     },
     "execution_count": 230,
     "metadata": {},
     "output_type": "execute_result"
    }
   ],
   "source": [
    "scores.mean(numeric_only=True)"
   ]
  },
  {
   "cell_type": "markdown",
   "id": "71580e9f-fce5-463f-a7f9-773c18c7f6dc",
   "metadata": {},
   "source": [
    "15)[P] What is the mean quiz score over the entiredataset, ignoringall missing values?"
   ]
  },
  {
   "cell_type": "code",
   "execution_count": 260,
   "id": "ba20b24b-ddcd-4f62-be21-8df3a0b15ef8",
   "metadata": {},
   "outputs": [
    {
     "data": {
      "text/plain": [
       "8.278571428571428"
      ]
     },
     "execution_count": 260,
     "metadata": {},
     "output_type": "execute_result"
    }
   ],
   "source": [
    "(scores.sum(numeric_only=True, skipna=True).sum()) / scores.count(numeric_only=True).sum()\n"
   ]
  },
  {
   "cell_type": "markdown",
   "id": "51ebfce6-74e3-423d-b4cf-819951e6830f",
   "metadata": {},
   "source": [
    "16)[P] Showthe mean for each week over all students. Again, you are not counting missing quizzes into the average. (Yes, technically you could write a loop to compute this exhaustively. However, you should rarely need to do that. Use pandas!)"
   ]
  },
  {
   "cell_type": "code",
   "execution_count": 306,
   "id": "36b316b7-78af-4ee3-8bdf-34058517e290",
   "metadata": {},
   "outputs": [
    {
     "ename": "ValueError",
     "evalue": "Grouper and axis must be same length",
     "output_type": "error",
     "traceback": [
      "\u001b[1;31m---------------------------------------------------------------------------\u001b[0m",
      "\u001b[1;31mValueError\u001b[0m                                Traceback (most recent call last)",
      "Cell \u001b[1;32mIn[306], line 1\u001b[0m\n\u001b[1;32m----> 1\u001b[0m \u001b[43mscores\u001b[49m\u001b[38;5;241;43m.\u001b[39;49m\u001b[43mmean\u001b[49m\u001b[43m(\u001b[49m\u001b[38;5;241;43m1\u001b[39;49m\u001b[43m,\u001b[49m\u001b[43mnumeric_only\u001b[49m\u001b[38;5;241;43m=\u001b[39;49m\u001b[38;5;28;43;01mTrue\u001b[39;49;00m\u001b[43m)\u001b[49m\u001b[38;5;241;43m.\u001b[39;49m\u001b[43mgroupby\u001b[49m\u001b[43m(\u001b[49m\u001b[43mscores\u001b[49m\u001b[38;5;241;43m.\u001b[39;49m\u001b[43mindex\u001b[49m\u001b[38;5;241;43m.\u001b[39;49m\u001b[43munique\u001b[49m\u001b[43m(\u001b[49m\u001b[43m)\u001b[49m\u001b[43m)\u001b[49m\n",
      "File \u001b[1;32m~\\anaconda3\\envs\\csci349\\lib\\site-packages\\pandas\\core\\series.py:2076\u001b[0m, in \u001b[0;36mSeries.groupby\u001b[1;34m(self, by, axis, level, as_index, sort, group_keys, squeeze, observed, dropna)\u001b[0m\n\u001b[0;32m   2073\u001b[0m     \u001b[38;5;28;01mraise\u001b[39;00m \u001b[38;5;167;01mTypeError\u001b[39;00m(\u001b[38;5;124m\"\u001b[39m\u001b[38;5;124mYou have to supply one of \u001b[39m\u001b[38;5;124m'\u001b[39m\u001b[38;5;124mby\u001b[39m\u001b[38;5;124m'\u001b[39m\u001b[38;5;124m and \u001b[39m\u001b[38;5;124m'\u001b[39m\u001b[38;5;124mlevel\u001b[39m\u001b[38;5;124m'\u001b[39m\u001b[38;5;124m\"\u001b[39m)\n\u001b[0;32m   2074\u001b[0m axis \u001b[38;5;241m=\u001b[39m \u001b[38;5;28mself\u001b[39m\u001b[38;5;241m.\u001b[39m_get_axis_number(axis)\n\u001b[1;32m-> 2076\u001b[0m \u001b[38;5;28;01mreturn\u001b[39;00m \u001b[43mSeriesGroupBy\u001b[49m\u001b[43m(\u001b[49m\n\u001b[0;32m   2077\u001b[0m \u001b[43m    \u001b[49m\u001b[43mobj\u001b[49m\u001b[38;5;241;43m=\u001b[39;49m\u001b[38;5;28;43mself\u001b[39;49m\u001b[43m,\u001b[49m\n\u001b[0;32m   2078\u001b[0m \u001b[43m    \u001b[49m\u001b[43mkeys\u001b[49m\u001b[38;5;241;43m=\u001b[39;49m\u001b[43mby\u001b[49m\u001b[43m,\u001b[49m\n\u001b[0;32m   2079\u001b[0m \u001b[43m    \u001b[49m\u001b[43maxis\u001b[49m\u001b[38;5;241;43m=\u001b[39;49m\u001b[43maxis\u001b[49m\u001b[43m,\u001b[49m\n\u001b[0;32m   2080\u001b[0m \u001b[43m    \u001b[49m\u001b[43mlevel\u001b[49m\u001b[38;5;241;43m=\u001b[39;49m\u001b[43mlevel\u001b[49m\u001b[43m,\u001b[49m\n\u001b[0;32m   2081\u001b[0m \u001b[43m    \u001b[49m\u001b[43mas_index\u001b[49m\u001b[38;5;241;43m=\u001b[39;49m\u001b[43mas_index\u001b[49m\u001b[43m,\u001b[49m\n\u001b[0;32m   2082\u001b[0m \u001b[43m    \u001b[49m\u001b[43msort\u001b[49m\u001b[38;5;241;43m=\u001b[39;49m\u001b[43msort\u001b[49m\u001b[43m,\u001b[49m\n\u001b[0;32m   2083\u001b[0m \u001b[43m    \u001b[49m\u001b[43mgroup_keys\u001b[49m\u001b[38;5;241;43m=\u001b[39;49m\u001b[43mgroup_keys\u001b[49m\u001b[43m,\u001b[49m\n\u001b[0;32m   2084\u001b[0m \u001b[43m    \u001b[49m\u001b[43msqueeze\u001b[49m\u001b[38;5;241;43m=\u001b[39;49m\u001b[43msqueeze\u001b[49m\u001b[43m,\u001b[49m\n\u001b[0;32m   2085\u001b[0m \u001b[43m    \u001b[49m\u001b[43mobserved\u001b[49m\u001b[38;5;241;43m=\u001b[39;49m\u001b[43mobserved\u001b[49m\u001b[43m,\u001b[49m\n\u001b[0;32m   2086\u001b[0m \u001b[43m    \u001b[49m\u001b[43mdropna\u001b[49m\u001b[38;5;241;43m=\u001b[39;49m\u001b[43mdropna\u001b[49m\u001b[43m,\u001b[49m\n\u001b[0;32m   2087\u001b[0m \u001b[43m\u001b[49m\u001b[43m)\u001b[49m\n",
      "File \u001b[1;32m~\\anaconda3\\envs\\csci349\\lib\\site-packages\\pandas\\core\\groupby\\groupby.py:959\u001b[0m, in \u001b[0;36mGroupBy.__init__\u001b[1;34m(self, obj, keys, axis, level, grouper, exclusions, selection, as_index, sort, group_keys, squeeze, observed, mutated, dropna)\u001b[0m\n\u001b[0;32m    956\u001b[0m \u001b[38;5;28;01mif\u001b[39;00m grouper \u001b[38;5;129;01mis\u001b[39;00m \u001b[38;5;28;01mNone\u001b[39;00m:\n\u001b[0;32m    957\u001b[0m     \u001b[38;5;28;01mfrom\u001b[39;00m \u001b[38;5;21;01mpandas\u001b[39;00m\u001b[38;5;21;01m.\u001b[39;00m\u001b[38;5;21;01mcore\u001b[39;00m\u001b[38;5;21;01m.\u001b[39;00m\u001b[38;5;21;01mgroupby\u001b[39;00m\u001b[38;5;21;01m.\u001b[39;00m\u001b[38;5;21;01mgrouper\u001b[39;00m \u001b[38;5;28;01mimport\u001b[39;00m get_grouper\n\u001b[1;32m--> 959\u001b[0m     grouper, exclusions, obj \u001b[38;5;241m=\u001b[39m \u001b[43mget_grouper\u001b[49m\u001b[43m(\u001b[49m\n\u001b[0;32m    960\u001b[0m \u001b[43m        \u001b[49m\u001b[43mobj\u001b[49m\u001b[43m,\u001b[49m\n\u001b[0;32m    961\u001b[0m \u001b[43m        \u001b[49m\u001b[43mkeys\u001b[49m\u001b[43m,\u001b[49m\n\u001b[0;32m    962\u001b[0m \u001b[43m        \u001b[49m\u001b[43maxis\u001b[49m\u001b[38;5;241;43m=\u001b[39;49m\u001b[43maxis\u001b[49m\u001b[43m,\u001b[49m\n\u001b[0;32m    963\u001b[0m \u001b[43m        \u001b[49m\u001b[43mlevel\u001b[49m\u001b[38;5;241;43m=\u001b[39;49m\u001b[43mlevel\u001b[49m\u001b[43m,\u001b[49m\n\u001b[0;32m    964\u001b[0m \u001b[43m        \u001b[49m\u001b[43msort\u001b[49m\u001b[38;5;241;43m=\u001b[39;49m\u001b[43msort\u001b[49m\u001b[43m,\u001b[49m\n\u001b[0;32m    965\u001b[0m \u001b[43m        \u001b[49m\u001b[43mobserved\u001b[49m\u001b[38;5;241;43m=\u001b[39;49m\u001b[43mobserved\u001b[49m\u001b[43m,\u001b[49m\n\u001b[0;32m    966\u001b[0m \u001b[43m        \u001b[49m\u001b[43mmutated\u001b[49m\u001b[38;5;241;43m=\u001b[39;49m\u001b[38;5;28;43mself\u001b[39;49m\u001b[38;5;241;43m.\u001b[39;49m\u001b[43mmutated\u001b[49m\u001b[43m,\u001b[49m\n\u001b[0;32m    967\u001b[0m \u001b[43m        \u001b[49m\u001b[43mdropna\u001b[49m\u001b[38;5;241;43m=\u001b[39;49m\u001b[38;5;28;43mself\u001b[39;49m\u001b[38;5;241;43m.\u001b[39;49m\u001b[43mdropna\u001b[49m\u001b[43m,\u001b[49m\n\u001b[0;32m    968\u001b[0m \u001b[43m    \u001b[49m\u001b[43m)\u001b[49m\n\u001b[0;32m    970\u001b[0m \u001b[38;5;28mself\u001b[39m\u001b[38;5;241m.\u001b[39mobj \u001b[38;5;241m=\u001b[39m obj\n\u001b[0;32m    971\u001b[0m \u001b[38;5;28mself\u001b[39m\u001b[38;5;241m.\u001b[39maxis \u001b[38;5;241m=\u001b[39m obj\u001b[38;5;241m.\u001b[39m_get_axis_number(axis)\n",
      "File \u001b[1;32m~\\anaconda3\\envs\\csci349\\lib\\site-packages\\pandas\\core\\groupby\\grouper.py:899\u001b[0m, in \u001b[0;36mget_grouper\u001b[1;34m(obj, key, axis, level, sort, observed, mutated, validate, dropna)\u001b[0m\n\u001b[0;32m    894\u001b[0m         in_axis \u001b[38;5;241m=\u001b[39m \u001b[38;5;28;01mFalse\u001b[39;00m\n\u001b[0;32m    896\u001b[0m     \u001b[38;5;66;03m# create the Grouping\u001b[39;00m\n\u001b[0;32m    897\u001b[0m     \u001b[38;5;66;03m# allow us to passing the actual Grouping as the gpr\u001b[39;00m\n\u001b[0;32m    898\u001b[0m     ping \u001b[38;5;241m=\u001b[39m (\n\u001b[1;32m--> 899\u001b[0m         \u001b[43mGrouping\u001b[49m\u001b[43m(\u001b[49m\n\u001b[0;32m    900\u001b[0m \u001b[43m            \u001b[49m\u001b[43mgroup_axis\u001b[49m\u001b[43m,\u001b[49m\n\u001b[0;32m    901\u001b[0m \u001b[43m            \u001b[49m\u001b[43mgpr\u001b[49m\u001b[43m,\u001b[49m\n\u001b[0;32m    902\u001b[0m \u001b[43m            \u001b[49m\u001b[43mobj\u001b[49m\u001b[38;5;241;43m=\u001b[39;49m\u001b[43mobj\u001b[49m\u001b[43m,\u001b[49m\n\u001b[0;32m    903\u001b[0m \u001b[43m            \u001b[49m\u001b[43mlevel\u001b[49m\u001b[38;5;241;43m=\u001b[39;49m\u001b[43mlevel\u001b[49m\u001b[43m,\u001b[49m\n\u001b[0;32m    904\u001b[0m \u001b[43m            \u001b[49m\u001b[43msort\u001b[49m\u001b[38;5;241;43m=\u001b[39;49m\u001b[43msort\u001b[49m\u001b[43m,\u001b[49m\n\u001b[0;32m    905\u001b[0m \u001b[43m            \u001b[49m\u001b[43mobserved\u001b[49m\u001b[38;5;241;43m=\u001b[39;49m\u001b[43mobserved\u001b[49m\u001b[43m,\u001b[49m\n\u001b[0;32m    906\u001b[0m \u001b[43m            \u001b[49m\u001b[43min_axis\u001b[49m\u001b[38;5;241;43m=\u001b[39;49m\u001b[43min_axis\u001b[49m\u001b[43m,\u001b[49m\n\u001b[0;32m    907\u001b[0m \u001b[43m            \u001b[49m\u001b[43mdropna\u001b[49m\u001b[38;5;241;43m=\u001b[39;49m\u001b[43mdropna\u001b[49m\u001b[43m,\u001b[49m\n\u001b[0;32m    908\u001b[0m \u001b[43m        \u001b[49m\u001b[43m)\u001b[49m\n\u001b[0;32m    909\u001b[0m         \u001b[38;5;28;01mif\u001b[39;00m \u001b[38;5;129;01mnot\u001b[39;00m \u001b[38;5;28misinstance\u001b[39m(gpr, Grouping)\n\u001b[0;32m    910\u001b[0m         \u001b[38;5;28;01melse\u001b[39;00m gpr\n\u001b[0;32m    911\u001b[0m     )\n\u001b[0;32m    913\u001b[0m     groupings\u001b[38;5;241m.\u001b[39mappend(ping)\n\u001b[0;32m    915\u001b[0m \u001b[38;5;28;01mif\u001b[39;00m \u001b[38;5;28mlen\u001b[39m(groupings) \u001b[38;5;241m==\u001b[39m \u001b[38;5;241m0\u001b[39m \u001b[38;5;129;01mand\u001b[39;00m \u001b[38;5;28mlen\u001b[39m(obj):\n",
      "File \u001b[1;32m~\\anaconda3\\envs\\csci349\\lib\\site-packages\\pandas\\core\\groupby\\grouper.py:480\u001b[0m, in \u001b[0;36mGrouping.__init__\u001b[1;34m(self, index, grouper, obj, level, sort, observed, in_axis, dropna)\u001b[0m\n\u001b[0;32m    478\u001b[0m \u001b[38;5;28mself\u001b[39m\u001b[38;5;241m.\u001b[39mlevel \u001b[38;5;241m=\u001b[39m level\n\u001b[0;32m    479\u001b[0m \u001b[38;5;28mself\u001b[39m\u001b[38;5;241m.\u001b[39m_orig_grouper \u001b[38;5;241m=\u001b[39m grouper\n\u001b[1;32m--> 480\u001b[0m \u001b[38;5;28mself\u001b[39m\u001b[38;5;241m.\u001b[39mgrouping_vector \u001b[38;5;241m=\u001b[39m \u001b[43m_convert_grouper\u001b[49m\u001b[43m(\u001b[49m\u001b[43mindex\u001b[49m\u001b[43m,\u001b[49m\u001b[43m \u001b[49m\u001b[43mgrouper\u001b[49m\u001b[43m)\u001b[49m\n\u001b[0;32m    481\u001b[0m \u001b[38;5;28mself\u001b[39m\u001b[38;5;241m.\u001b[39m_all_grouper \u001b[38;5;241m=\u001b[39m \u001b[38;5;28;01mNone\u001b[39;00m\n\u001b[0;32m    482\u001b[0m \u001b[38;5;28mself\u001b[39m\u001b[38;5;241m.\u001b[39m_index \u001b[38;5;241m=\u001b[39m index\n",
      "File \u001b[1;32m~\\anaconda3\\envs\\csci349\\lib\\site-packages\\pandas\\core\\groupby\\grouper.py:943\u001b[0m, in \u001b[0;36m_convert_grouper\u001b[1;34m(axis, grouper)\u001b[0m\n\u001b[0;32m    941\u001b[0m \u001b[38;5;28;01melif\u001b[39;00m \u001b[38;5;28misinstance\u001b[39m(grouper, (\u001b[38;5;28mlist\u001b[39m, \u001b[38;5;28mtuple\u001b[39m, Index, Categorical, np\u001b[38;5;241m.\u001b[39mndarray)):\n\u001b[0;32m    942\u001b[0m     \u001b[38;5;28;01mif\u001b[39;00m \u001b[38;5;28mlen\u001b[39m(grouper) \u001b[38;5;241m!=\u001b[39m \u001b[38;5;28mlen\u001b[39m(axis):\n\u001b[1;32m--> 943\u001b[0m         \u001b[38;5;28;01mraise\u001b[39;00m \u001b[38;5;167;01mValueError\u001b[39;00m(\u001b[38;5;124m\"\u001b[39m\u001b[38;5;124mGrouper and axis must be same length\u001b[39m\u001b[38;5;124m\"\u001b[39m)\n\u001b[0;32m    945\u001b[0m     \u001b[38;5;28;01mif\u001b[39;00m \u001b[38;5;28misinstance\u001b[39m(grouper, (\u001b[38;5;28mlist\u001b[39m, \u001b[38;5;28mtuple\u001b[39m)):\n\u001b[0;32m    946\u001b[0m         grouper \u001b[38;5;241m=\u001b[39m com\u001b[38;5;241m.\u001b[39masarray_tuplesafe(grouper)\n",
      "\u001b[1;31mValueError\u001b[0m: Grouper and axis must be same length"
     ]
    }
   ],
   "source": [
    "scores.mean(1,numeric_only=True).groupby(scores.index.unique())\n",
    "# scores.groupby(scores.index.unique()).mean()\n",
    "# scores.index.unique()\n"
   ]
  },
  {
   "cell_type": "markdown",
   "id": "4276bae3-cf01-4a85-8893-99e82521ad6c",
   "metadata": {},
   "source": [
    "17)[P] Show the mean score for each student. Again, ignore all missing values."
   ]
  },
  {
   "cell_type": "code",
   "execution_count": 283,
   "id": "e9b296d5-0d04-4190-8f3a-3a10ed092fab",
   "metadata": {},
   "outputs": [
    {
     "data": {
      "text/plain": [
       "week_1    8.8000\n",
       "week_1    8.6000\n",
       "week_2    8.1875\n",
       "week_2    8.1250\n",
       "week_3    8.2500\n",
       "week_3    8.0000\n",
       "week_4    7.5500\n",
       "week_4    8.6000\n",
       "dtype: float64"
      ]
     },
     "execution_count": 283,
     "metadata": {},
     "output_type": "execute_result"
    }
   ],
   "source": [
    "scores.mean(1,numeric_only=True)"
   ]
  },
  {
   "cell_type": "code",
   "execution_count": null,
   "id": "e6b68eec-6a94-4c40-9354-a56d2f228930",
   "metadata": {},
   "outputs": [],
   "source": []
  }
 ],
 "metadata": {
  "kernelspec": {
   "display_name": "Python 3 (ipykernel)",
   "language": "python",
   "name": "python3"
  },
  "language_info": {
   "codemirror_mode": {
    "name": "ipython",
    "version": 3
   },
   "file_extension": ".py",
   "mimetype": "text/x-python",
   "name": "python",
   "nbconvert_exporter": "python",
   "pygments_lexer": "ipython3",
   "version": "3.9.16"
  }
 },
 "nbformat": 4,
 "nbformat_minor": 5
}
